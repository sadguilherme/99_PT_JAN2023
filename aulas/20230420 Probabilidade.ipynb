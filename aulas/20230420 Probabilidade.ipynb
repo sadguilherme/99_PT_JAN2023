{
 "cells": [
  {
   "cell_type": "markdown",
   "id": "0326173d",
   "metadata": {
    "toc": true
   },
   "source": [
    "<h1>Table of Contents<span class=\"tocSkip\"></span></h1>\n",
    "<div class=\"toc\"><ul class=\"toc-item\"><li><span><a href=\"#Probabilidade\" data-toc-modified-id=\"Probabilidade-1\"><span class=\"toc-item-num\">1&nbsp;&nbsp;</span>Probabilidade</a></span><ul class=\"toc-item\"><li><span><a href=\"#V.A.-e-Espaço-Amostral\" data-toc-modified-id=\"V.A.-e-Espaço-Amostral-1.1\"><span class=\"toc-item-num\">1.1&nbsp;&nbsp;</span>V.A. e Espaço Amostral</a></span></li><li><span><a href=\"#Função-de-Probabilidade\" data-toc-modified-id=\"Função-de-Probabilidade-1.2\"><span class=\"toc-item-num\">1.2&nbsp;&nbsp;</span>Função de Probabilidade</a></span></li><li><span><a href=\"#Amostragem\" data-toc-modified-id=\"Amostragem-1.3\"><span class=\"toc-item-num\">1.3&nbsp;&nbsp;</span>Amostragem</a></span></li><li><span><a href=\"#Amostra\" data-toc-modified-id=\"Amostra-1.4\"><span class=\"toc-item-num\">1.4&nbsp;&nbsp;</span>Amostra</a></span></li><li><span><a href=\"#Extendendo-Variáveis-Aleatórias\" data-toc-modified-id=\"Extendendo-Variáveis-Aleatórias-1.5\"><span class=\"toc-item-num\">1.5&nbsp;&nbsp;</span>Extendendo Variáveis Aleatórias</a></span></li><li><span><a href=\"#Distribuições-de-Probabilidade\" data-toc-modified-id=\"Distribuições-de-Probabilidade-1.6\"><span class=\"toc-item-num\">1.6&nbsp;&nbsp;</span>Distribuições de Probabilidade</a></span><ul class=\"toc-item\"><li><span><a href=\"#Distribuição-de-Bernoulli\" data-toc-modified-id=\"Distribuição-de-Bernoulli-1.6.1\"><span class=\"toc-item-num\">1.6.1&nbsp;&nbsp;</span>Distribuição de Bernoulli</a></span></li><li><span><a href=\"#Distribuição-Binomial\" data-toc-modified-id=\"Distribuição-Binomial-1.6.2\"><span class=\"toc-item-num\">1.6.2&nbsp;&nbsp;</span>Distribuição Binomial</a></span></li><li><span><a href=\"#Distribuição-Geométrica\" data-toc-modified-id=\"Distribuição-Geométrica-1.6.3\"><span class=\"toc-item-num\">1.6.3&nbsp;&nbsp;</span>Distribuição Geométrica</a></span></li><li><span><a href=\"#Distribuição-de-Poisson\" data-toc-modified-id=\"Distribuição-de-Poisson-1.6.4\"><span class=\"toc-item-num\">1.6.4&nbsp;&nbsp;</span>Distribuição de Poisson</a></span><ul class=\"toc-item\"><li><span><a href=\"#Aplicação-I---Call-Center\" data-toc-modified-id=\"Aplicação-I---Call-Center-1.6.4.1\"><span class=\"toc-item-num\">1.6.4.1&nbsp;&nbsp;</span>Aplicação I - Call Center</a></span></li></ul></li><li><span><a href=\"#Distribuição-Exponencial\" data-toc-modified-id=\"Distribuição-Exponencial-1.6.5\"><span class=\"toc-item-num\">1.6.5&nbsp;&nbsp;</span>Distribuição Exponencial</a></span></li><li><span><a href=\"#Distribuição-Normal\" data-toc-modified-id=\"Distribuição-Normal-1.6.6\"><span class=\"toc-item-num\">1.6.6&nbsp;&nbsp;</span>Distribuição Normal</a></span></li></ul></li></ul></li><li><span><a href=\"#Intervalos-de-Confiança\" data-toc-modified-id=\"Intervalos-de-Confiança-2\"><span class=\"toc-item-num\">2&nbsp;&nbsp;</span>Intervalos de Confiança</a></span></li></ul></div>"
   ]
  },
  {
   "cell_type": "code",
   "execution_count": 1,
   "id": "9bbd534b",
   "metadata": {
    "ExecuteTime": {
     "end_time": "2022-03-11T00:33:42.171820Z",
     "start_time": "2022-03-11T00:33:42.160867Z"
    }
   },
   "outputs": [],
   "source": [
    "import numpy as np\n",
    "import scipy as sp\n",
    "import pandas as pd\n",
    "import seaborn as sns\n",
    "import matplotlib.pyplot as plt\n",
    "from collections import Counter\n",
    "\n",
    "sns.set_theme(context=\"notebook\", style=\"darkgrid\", palette=sns.color_palette(\"Set2\"))\n",
    "bc = sns.color_palette(\"Set2\")[0]\n"
   ]
  },
  {
   "cell_type": "markdown",
   "id": "18589366",
   "metadata": {},
   "source": [
    "# Probabilidade\n",
    "\n",
    "Como vimos na aula de estatíticas descritivas, probabilidade é o estudo de fenômenos aleatórios a partir da construção de modelos probabilísticos (no sentido contrário da estatística, que estima modelos probabílisticos a partir de observações/dados).\n",
    "\n",
    "Mas o que são **modelos probabilísticos**? Para entender este conceito, vamos olhar primeiro para alguns conceitos fundamentais em probabilidade: **variáveis aleatórias**, **espaço amostral** e **função de probabilidade**.\n",
    "\n",
    "## V.A. e Espaço Amostral\n",
    "\n",
    "*Uma variável aleatória é uma variável quantitativa, cujo resultado (valor) depende de fatores aleatórios*. Por exemplo, o **resultado** do lance de uma moeda é uma variável aleatória. O espaço amostral é o conjunto de valores que nossa variável aleatória pode assumir: no exemplo da moeda, o espaço amostral é o conjunto `{cara, coroa}`.\n",
    "\n",
    "Vamos representar o espaço amostral acima através de uma lista:"
   ]
  },
  {
   "cell_type": "code",
   "execution_count": 2,
   "id": "ead06f29",
   "metadata": {
    "ExecuteTime": {
     "end_time": "2022-03-10T22:41:12.131999Z",
     "start_time": "2022-03-10T22:41:12.123998Z"
    }
   },
   "outputs": [],
   "source": [
    "moeda = [\"cara\", \"coroa\"]\n"
   ]
  },
  {
   "cell_type": "markdown",
   "id": "5436d93e",
   "metadata": {},
   "source": [
    "## Função de Probabilidade\n",
    "\n",
    "A segunda parte de um modelo probabilístico é a **função de probabilidade**: esta função **atribui** à cada elemento do nosso **espaço amostral** uma probabilidade tal que a somatória da probabilidade de todos os eventos de nosso espaço amostra é sempre 1.\n",
    "\n",
    "No nosso exemplo da moeda, caso esta seja justa, a função de probabilidade atribuirá 0,5 ao elemento `cara` e 0,5 ao elemento `coroa`. Vamos utilizar a função `choice()` do submódulo `random` da biblioteca `numpy` para representar nossa função de probabilidade. Esta função nos permite mapear um vetor de probabilidades, através do argumento `p = [...]`, à um espaço amostral:"
   ]
  },
  {
   "cell_type": "code",
   "execution_count": 9,
   "id": "a796daca",
   "metadata": {},
   "outputs": [
    {
     "data": {
      "text/plain": [
       "'coroa'"
      ]
     },
     "execution_count": 9,
     "metadata": {},
     "output_type": "execute_result"
    }
   ],
   "source": [
    "np.random.choice(moeda, p=[0.1, 0.9])\n"
   ]
  },
  {
   "cell_type": "markdown",
   "id": "a994712d",
   "metadata": {},
   "source": [
    "## Amostragem\n",
    "\n",
    "Toda vez que executamos a função acima estamos **amostrando** nossa variável aleatória, ou seja, estamos *criando* uma observação a partir do nosso modelo probabilístico. Vamos definir duas funções de probabilidade (dois modelos distintos descrevendo duas variáveis aleatórias diferentes): uma para uma moeda justa e outra para uma moeda injusta:"
   ]
  },
  {
   "cell_type": "code",
   "execution_count": 10,
   "id": "26d12bc5",
   "metadata": {
    "ExecuteTime": {
     "end_time": "2022-03-10T22:42:21.333929Z",
     "start_time": "2022-03-10T22:42:21.320961Z"
    }
   },
   "outputs": [],
   "source": [
    "def jogar_moeda_justa():\n",
    "    moeda = [\"cara\", \"coroa\"]\n",
    "    return np.random.choice(moeda)\n"
   ]
  },
  {
   "cell_type": "code",
   "execution_count": 13,
   "id": "83347a1c",
   "metadata": {
    "ExecuteTime": {
     "end_time": "2022-03-10T22:42:29.971373Z",
     "start_time": "2022-03-10T22:42:29.951426Z"
    }
   },
   "outputs": [
    {
     "data": {
      "text/plain": [
       "'coroa'"
      ]
     },
     "execution_count": 13,
     "metadata": {},
     "output_type": "execute_result"
    }
   ],
   "source": [
    "jogar_moeda_justa()\n"
   ]
  },
  {
   "cell_type": "code",
   "execution_count": 14,
   "id": "9942ec6c",
   "metadata": {
    "ExecuteTime": {
     "end_time": "2022-03-10T22:43:50.393011Z",
     "start_time": "2022-03-10T22:43:50.390018Z"
    }
   },
   "outputs": [],
   "source": [
    "def jogar_moeda_injusta():\n",
    "    return np.random.choice(moeda, p=[0.1, 0.9])\n"
   ]
  },
  {
   "cell_type": "code",
   "execution_count": 16,
   "id": "d0cbdb86",
   "metadata": {
    "ExecuteTime": {
     "end_time": "2022-03-10T22:43:59.783148Z",
     "start_time": "2022-03-10T22:43:59.772179Z"
    }
   },
   "outputs": [
    {
     "data": {
      "text/plain": [
       "'coroa'"
      ]
     },
     "execution_count": 16,
     "metadata": {},
     "output_type": "execute_result"
    }
   ],
   "source": [
    "jogar_moeda_injusta()\n"
   ]
  },
  {
   "cell_type": "markdown",
   "id": "6e080910",
   "metadata": {},
   "source": [
    "## Amostra\n",
    "\n",
    "Uma **amostra** é um conjunto de observações da nossa variável aleatória. Por exemplo, se lançarmos 100 moedas justas, teremos uma amostra de tamanho 100 da nossa variável. Vamos utilizar um `list comprehesion` para simular este processo:"
   ]
  },
  {
   "cell_type": "code",
   "execution_count": 17,
   "id": "8b79083b",
   "metadata": {
    "ExecuteTime": {
     "end_time": "2022-03-10T22:45:49.006880Z",
     "start_time": "2022-03-10T22:45:48.985937Z"
    }
   },
   "outputs": [],
   "source": [
    "amostra_100 = [jogar_moeda_injusta() for i in range(100)]\n"
   ]
  },
  {
   "cell_type": "code",
   "execution_count": 20,
   "id": "86d8f9f5",
   "metadata": {
    "ExecuteTime": {
     "end_time": "2022-03-10T22:45:53.432948Z",
     "start_time": "2022-03-10T22:45:53.419986Z"
    }
   },
   "outputs": [
    {
     "data": {
      "text/plain": [
       "['coroa',\n",
       " 'coroa',\n",
       " 'coroa',\n",
       " 'coroa',\n",
       " 'coroa',\n",
       " 'coroa',\n",
       " 'coroa',\n",
       " 'coroa',\n",
       " 'coroa',\n",
       " 'coroa',\n",
       " 'coroa',\n",
       " 'coroa',\n",
       " 'cara',\n",
       " 'coroa',\n",
       " 'coroa',\n",
       " 'coroa',\n",
       " 'coroa',\n",
       " 'coroa',\n",
       " 'coroa',\n",
       " 'cara']"
      ]
     },
     "execution_count": 20,
     "metadata": {},
     "output_type": "execute_result"
    }
   ],
   "source": [
    "amostra_100[0:20]\n"
   ]
  },
  {
   "cell_type": "code",
   "execution_count": 21,
   "id": "6564d8e4",
   "metadata": {
    "ExecuteTime": {
     "end_time": "2022-03-10T22:45:57.227886Z",
     "start_time": "2022-03-10T22:45:57.209912Z"
    }
   },
   "outputs": [],
   "source": [
    "from collections import Counter\n"
   ]
  },
  {
   "cell_type": "code",
   "execution_count": 22,
   "id": "1bf0062b",
   "metadata": {
    "ExecuteTime": {
     "end_time": "2022-03-10T22:46:01.448612Z",
     "start_time": "2022-03-10T22:46:01.442636Z"
    }
   },
   "outputs": [
    {
     "data": {
      "text/plain": [
       "Counter({'coroa': 86, 'cara': 14})"
      ]
     },
     "execution_count": 22,
     "metadata": {},
     "output_type": "execute_result"
    }
   ],
   "source": [
    "Counter(amostra_100)\n"
   ]
  },
  {
   "cell_type": "markdown",
   "id": "952c34ad",
   "metadata": {},
   "source": [
    "## Extendendo Variáveis Aleatórias\n",
    "\n",
    "O exemplo acima trata um tipo de fenômeno aleatório extremamente simples: um lance de moeda. No entanto, podemos construir variáveis aleatórias mais complexas a partir da realização do processo de amostragem. Por exemplo, podemos definir uma variável aleatória para mensurar a probabilidade de ter **N caras** em **M lances de uma moeda justa**.\n",
    "\n",
    "Esta nova função tem um espaço amostral composto por vetores de cara e coroa com **comprimento M** e nos permite medir a probabilidade de observarmos **2 caras em 3 lances de uma moeda justa**. O espaço amostral dessa variável aleatória:\n",
    "\n",
    "```\n",
    "['cara', 'cara', 'cara']\n",
    "\n",
    "['cara', 'cara', 'coroa']\n",
    "['cara', 'coroa', 'cara']\n",
    "['coroa', 'cara', 'cara']\n",
    "\n",
    "['cara', 'coroa', 'coroa']\n",
    "['coroa', 'cara', 'coroa']\n",
    "['coroa', 'coroa', 'cara']\n",
    "\n",
    "['coroa', 'coroa', 'coroa']\n",
    "```\n",
    "\n",
    "Ou seja, nosso espaço amostral contém todos os resultados possíveis de 3 lances de uma moeda justa - e a probabilidade de observar 2 caras em 3 lances de uma moeda justa é 3/8. No exemplo acima fica claro que a construção manual do espaço amostral, mesmo quando ele é simples, é inviável! Temos duas formas de contornar este problema:\n",
    "\n",
    "1. Diversos problemas, como o descrito acima, tem equações que nos permitem calcular, a partir da formulação do problema, a probabilidade de um certo tipo de evento;\n",
    "1. Utilizando amostragem e a **lei dos grandes números**!\n",
    "\n",
    "\n",
    "A **lei dos grandes números** é um teorema fundamental da probabilidade que garante que conforme aumentamos o tamanho de uma amostra a **% de eventos observada converge para a probabilidade daquele evento**!\n",
    "\n",
    "Vamos alavancar o poder computacional e utilizar a função `jogar_moeda_justa()` para ver a **lei dos grandes números** em operação. Primeiro, vamos definir uma nova função de amostragem para nosso novo espaço amostral:"
   ]
  },
  {
   "cell_type": "code",
   "execution_count": 23,
   "id": "d5fede8d",
   "metadata": {},
   "outputs": [],
   "source": [
    "def jogar_3_moedas():\n",
    "    evento = [jogar_moeda_justa() for i in range(3)]\n",
    "    return evento\n"
   ]
  },
  {
   "cell_type": "code",
   "execution_count": 27,
   "id": "286fbede",
   "metadata": {},
   "outputs": [
    {
     "data": {
      "text/plain": [
       "['cara', 'cara', 'cara']"
      ]
     },
     "execution_count": 27,
     "metadata": {},
     "output_type": "execute_result"
    }
   ],
   "source": [
    "jogar_3_moedas()\n"
   ]
  },
  {
   "cell_type": "markdown",
   "id": "a9efdad9",
   "metadata": {},
   "source": [
    "Agora, vamos criar uma função para construir amostras de tamanho fixo:"
   ]
  },
  {
   "cell_type": "code",
   "execution_count": 28,
   "id": "72881175",
   "metadata": {},
   "outputs": [],
   "source": [
    "def amostrar_3_moedas(n_amostras):\n",
    "    amostra = [jogar_3_moedas() for i in range(n_amostras)]\n",
    "    return amostra\n"
   ]
  },
  {
   "cell_type": "code",
   "execution_count": 29,
   "id": "d74e926a",
   "metadata": {},
   "outputs": [
    {
     "data": {
      "text/plain": [
       "[['cara', 'coroa', 'coroa'],\n",
       " ['coroa', 'cara', 'coroa'],\n",
       " ['coroa', 'coroa', 'cara'],\n",
       " ['cara', 'coroa', 'coroa'],\n",
       " ['cara', 'coroa', 'cara'],\n",
       " ['cara', 'coroa', 'coroa'],\n",
       " ['cara', 'coroa', 'cara'],\n",
       " ['cara', 'cara', 'cara'],\n",
       " ['cara', 'cara', 'coroa'],\n",
       " ['cara', 'cara', 'cara']]"
      ]
     },
     "execution_count": 29,
     "metadata": {},
     "output_type": "execute_result"
    }
   ],
   "source": [
    "amostrar_3_moedas(10)\n"
   ]
  },
  {
   "cell_type": "markdown",
   "id": "754073de",
   "metadata": {},
   "source": [
    "Agora vamos construir uma função para calcular a **% de observações com duas caras** para uma dada amostra:"
   ]
  },
  {
   "cell_type": "code",
   "execution_count": 32,
   "id": "cf38a95e",
   "metadata": {
    "hide_input": false
   },
   "outputs": [
    {
     "data": {
      "text/plain": [
       "[['cara', 'cara', 'coroa'],\n",
       " ['cara', 'cara', 'cara'],\n",
       " ['cara', 'coroa', 'cara'],\n",
       " ['cara', 'coroa', 'cara'],\n",
       " ['coroa', 'cara', 'cara'],\n",
       " ['coroa', 'cara', 'coroa'],\n",
       " ['cara', 'cara', 'cara'],\n",
       " ['coroa', 'coroa', 'cara'],\n",
       " ['cara', 'coroa', 'cara'],\n",
       " ['cara', 'cara', 'cara']]"
      ]
     },
     "execution_count": 32,
     "metadata": {},
     "output_type": "execute_result"
    }
   ],
   "source": [
    "a = amostrar_3_moedas(10)\n",
    "a"
   ]
  },
  {
   "cell_type": "code",
   "execution_count": 37,
   "id": "0c226467",
   "metadata": {},
   "outputs": [
    {
     "data": {
      "text/plain": [
       "0.5"
      ]
     },
     "execution_count": 37,
     "metadata": {},
     "output_type": "execute_result"
    }
   ],
   "source": [
    "contagem_caras = [evento.count(\"cara\") for evento in a]\n",
    "contagem_caras.count(2)/len(a)"
   ]
  },
  {
   "cell_type": "code",
   "execution_count": 38,
   "id": "dfe642f5",
   "metadata": {},
   "outputs": [],
   "source": [
    "def per_2_caras(amostra):\n",
    "    contagem_caras = [evento.count(\"cara\") for evento in amostra]\n",
    "    return contagem_caras.count(2) / len(amostra)\n"
   ]
  },
  {
   "cell_type": "code",
   "execution_count": 39,
   "id": "be8368c8",
   "metadata": {},
   "outputs": [
    {
     "data": {
      "text/plain": [
       "0.5"
      ]
     },
     "execution_count": 39,
     "metadata": {},
     "output_type": "execute_result"
    }
   ],
   "source": [
    "per_2_caras(a)\n"
   ]
  },
  {
   "cell_type": "markdown",
   "id": "49529fe9",
   "metadata": {},
   "source": [
    "Agora vamos criar um loop para calcular **% de observações com duas caras** para amostras de tamanho de 1 à 1000:"
   ]
  },
  {
   "cell_type": "code",
   "execution_count": 52,
   "id": "c7f3d47e",
   "metadata": {},
   "outputs": [
    {
     "data": {
      "text/plain": [
       "[['cara', 'cara', 'cara'],\n",
       " ['cara', 'cara', 'coroa'],\n",
       " ['coroa', 'coroa', 'cara'],\n",
       " ['coroa', 'coroa', 'cara'],\n",
       " ['coroa', 'coroa', 'cara'],\n",
       " ['coroa', 'coroa', 'coroa'],\n",
       " ['coroa', 'cara', 'cara'],\n",
       " ['coroa', 'coroa', 'coroa'],\n",
       " ['coroa', 'coroa', 'cara'],\n",
       " ['coroa', 'coroa', 'cara'],\n",
       " ['cara', 'coroa', 'cara'],\n",
       " ['cara', 'coroa', 'cara'],\n",
       " ['cara', 'coroa', 'coroa'],\n",
       " ['coroa', 'coroa', 'coroa'],\n",
       " ['coroa', 'cara', 'coroa'],\n",
       " ['cara', 'coroa', 'cara'],\n",
       " ['cara', 'coroa', 'coroa'],\n",
       " ['cara', 'coroa', 'coroa'],\n",
       " ['cara', 'cara', 'cara'],\n",
       " ['cara', 'coroa', 'cara'],\n",
       " ['cara', 'coroa', 'coroa'],\n",
       " ['cara', 'coroa', 'coroa'],\n",
       " ['coroa', 'cara', 'coroa'],\n",
       " ['cara', 'cara', 'cara'],\n",
       " ['coroa', 'coroa', 'coroa'],\n",
       " ['cara', 'cara', 'coroa'],\n",
       " ['cara', 'cara', 'coroa'],\n",
       " ['cara', 'coroa', 'cara'],\n",
       " ['cara', 'cara', 'cara'],\n",
       " ['cara', 'cara', 'cara'],\n",
       " ['coroa', 'coroa', 'coroa'],\n",
       " ['cara', 'coroa', 'coroa'],\n",
       " ['coroa', 'coroa', 'coroa'],\n",
       " ['cara', 'coroa', 'coroa'],\n",
       " ['coroa', 'coroa', 'cara'],\n",
       " ['cara', 'coroa', 'cara'],\n",
       " ['cara', 'cara', 'cara'],\n",
       " ['cara', 'coroa', 'cara'],\n",
       " ['cara', 'coroa', 'coroa'],\n",
       " ['coroa', 'coroa', 'coroa'],\n",
       " ['coroa', 'coroa', 'coroa'],\n",
       " ['cara', 'cara', 'cara'],\n",
       " ['coroa', 'coroa', 'coroa'],\n",
       " ['coroa', 'cara', 'coroa'],\n",
       " ['coroa', 'coroa', 'coroa'],\n",
       " ['coroa', 'coroa', 'coroa'],\n",
       " ['cara', 'coroa', 'coroa'],\n",
       " ['coroa', 'cara', 'coroa'],\n",
       " ['cara', 'coroa', 'coroa'],\n",
       " ['coroa', 'coroa', 'cara'],\n",
       " ['cara', 'cara', 'coroa']]"
      ]
     },
     "execution_count": 52,
     "metadata": {},
     "output_type": "execute_result"
    }
   ],
   "source": [
    "amostrar_3_moedas(51)"
   ]
  },
  {
   "cell_type": "code",
   "execution_count": 40,
   "id": "351fd767",
   "metadata": {},
   "outputs": [],
   "source": [
    "per_observada = []\n",
    "for i in range(1, 2001):\n",
    "    per_observada.append(per_2_caras(amostrar_3_moedas(i)))\n"
   ]
  },
  {
   "cell_type": "code",
   "execution_count": null,
   "id": "8335cab5",
   "metadata": {},
   "outputs": [],
   "source": [
    "[per_2_caras(amostrar_3_moedas(i)) for i in range(1, 2001)]"
   ]
  },
  {
   "cell_type": "code",
   "execution_count": 41,
   "id": "c008102e",
   "metadata": {},
   "outputs": [
    {
     "data": {
      "text/plain": [
       "[0.0,\n",
       " 1.0,\n",
       " 0.6666666666666666,\n",
       " 0.25,\n",
       " 0.6,\n",
       " 0.16666666666666666,\n",
       " 0.2857142857142857,\n",
       " 0.125,\n",
       " 0.2222222222222222,\n",
       " 0.1]"
      ]
     },
     "execution_count": 41,
     "metadata": {},
     "output_type": "execute_result"
    }
   ],
   "source": [
    "per_observada[0:10]"
   ]
  },
  {
   "cell_type": "markdown",
   "id": "df5c7b60",
   "metadata": {},
   "source": [
    "Agora vamos comparar a **% de observações com 2 caras** com a **probabilidade que calculamos** a partir do espaço amostral:"
   ]
  },
  {
   "cell_type": "code",
   "execution_count": 42,
   "id": "c863d89f",
   "metadata": {},
   "outputs": [],
   "source": [
    "tb_simul_moeda = pd.DataFrame({\"tx_obs\": per_observada})\n",
    "tb_simul_moeda[\"tam_amostra\"] = range(1, 2001)\n",
    "tb_simul_moeda[\"desvio\"] = np.abs(3 / 8 - tb_simul_moeda[\"tx_obs\"])\n",
    "tb_simul_moeda[\"mm_desvio\"] = tb_simul_moeda[\"desvio\"].rolling(10).mean()\n"
   ]
  },
  {
   "cell_type": "code",
   "execution_count": 43,
   "id": "1faea70e",
   "metadata": {},
   "outputs": [
    {
     "data": {
      "text/html": [
       "<div>\n",
       "<style scoped>\n",
       "    .dataframe tbody tr th:only-of-type {\n",
       "        vertical-align: middle;\n",
       "    }\n",
       "\n",
       "    .dataframe tbody tr th {\n",
       "        vertical-align: top;\n",
       "    }\n",
       "\n",
       "    .dataframe thead th {\n",
       "        text-align: right;\n",
       "    }\n",
       "</style>\n",
       "<table border=\"1\" class=\"dataframe\">\n",
       "  <thead>\n",
       "    <tr style=\"text-align: right;\">\n",
       "      <th></th>\n",
       "      <th>tx_obs</th>\n",
       "      <th>tam_amostra</th>\n",
       "      <th>desvio</th>\n",
       "      <th>mm_desvio</th>\n",
       "    </tr>\n",
       "  </thead>\n",
       "  <tbody>\n",
       "    <tr>\n",
       "      <th>0</th>\n",
       "      <td>0.000000</td>\n",
       "      <td>1</td>\n",
       "      <td>0.375000</td>\n",
       "      <td>NaN</td>\n",
       "    </tr>\n",
       "    <tr>\n",
       "      <th>1</th>\n",
       "      <td>1.000000</td>\n",
       "      <td>2</td>\n",
       "      <td>0.625000</td>\n",
       "      <td>NaN</td>\n",
       "    </tr>\n",
       "    <tr>\n",
       "      <th>2</th>\n",
       "      <td>0.666667</td>\n",
       "      <td>3</td>\n",
       "      <td>0.291667</td>\n",
       "      <td>NaN</td>\n",
       "    </tr>\n",
       "    <tr>\n",
       "      <th>3</th>\n",
       "      <td>0.250000</td>\n",
       "      <td>4</td>\n",
       "      <td>0.125000</td>\n",
       "      <td>NaN</td>\n",
       "    </tr>\n",
       "    <tr>\n",
       "      <th>4</th>\n",
       "      <td>0.600000</td>\n",
       "      <td>5</td>\n",
       "      <td>0.225000</td>\n",
       "      <td>NaN</td>\n",
       "    </tr>\n",
       "    <tr>\n",
       "      <th>5</th>\n",
       "      <td>0.166667</td>\n",
       "      <td>6</td>\n",
       "      <td>0.208333</td>\n",
       "      <td>NaN</td>\n",
       "    </tr>\n",
       "    <tr>\n",
       "      <th>6</th>\n",
       "      <td>0.285714</td>\n",
       "      <td>7</td>\n",
       "      <td>0.089286</td>\n",
       "      <td>NaN</td>\n",
       "    </tr>\n",
       "    <tr>\n",
       "      <th>7</th>\n",
       "      <td>0.125000</td>\n",
       "      <td>8</td>\n",
       "      <td>0.250000</td>\n",
       "      <td>NaN</td>\n",
       "    </tr>\n",
       "    <tr>\n",
       "      <th>8</th>\n",
       "      <td>0.222222</td>\n",
       "      <td>9</td>\n",
       "      <td>0.152778</td>\n",
       "      <td>NaN</td>\n",
       "    </tr>\n",
       "    <tr>\n",
       "      <th>9</th>\n",
       "      <td>0.100000</td>\n",
       "      <td>10</td>\n",
       "      <td>0.275000</td>\n",
       "      <td>0.261706</td>\n",
       "    </tr>\n",
       "  </tbody>\n",
       "</table>\n",
       "</div>"
      ],
      "text/plain": [
       "     tx_obs  tam_amostra    desvio  mm_desvio\n",
       "0  0.000000            1  0.375000        NaN\n",
       "1  1.000000            2  0.625000        NaN\n",
       "2  0.666667            3  0.291667        NaN\n",
       "3  0.250000            4  0.125000        NaN\n",
       "4  0.600000            5  0.225000        NaN\n",
       "5  0.166667            6  0.208333        NaN\n",
       "6  0.285714            7  0.089286        NaN\n",
       "7  0.125000            8  0.250000        NaN\n",
       "8  0.222222            9  0.152778        NaN\n",
       "9  0.100000           10  0.275000   0.261706"
      ]
     },
     "execution_count": 43,
     "metadata": {},
     "output_type": "execute_result"
    }
   ],
   "source": [
    "tb_simul_moeda.head(10)"
   ]
  },
  {
   "cell_type": "code",
   "execution_count": 44,
   "id": "6daa1630",
   "metadata": {},
   "outputs": [
    {
     "data": {
      "text/plain": [
       "Text(0.5, 0.98, 'Lei dos Grandes Números')"
      ]
     },
     "execution_count": 44,
     "metadata": {},
     "output_type": "execute_result"
    },
    {
     "data": {
      "image/png": "[encoded data removed]",
      "text/plain": [
       "<Figure size 1000x800 with 2 Axes>"
      ]
     },
     "metadata": {},
     "output_type": "display_data"
    }
   ],
   "source": [
    "fig, ax = plt.subplots(2, 1, figsize=(10, 8))\n",
    "sns.scatterplot(\n",
    "    data=tb_simul_moeda,\n",
    "    x=\"tam_amostra\",\n",
    "    y=\"desvio\",\n",
    "    alpha=0.8,\n",
    "    s=2,\n",
    "    color=\"black\",\n",
    "    ax=ax[1],\n",
    ")\n",
    "sns.lineplot(data=tb_simul_moeda, x=\"tam_amostra\", y=\"mm_desvio\", color=\"red\", ax=ax[1])\n",
    "sns.scatterplot(\n",
    "    data=tb_simul_moeda,\n",
    "    x=\"tam_amostra\",\n",
    "    y=\"tx_obs\",\n",
    "    alpha=0.8,\n",
    "    s=2,\n",
    "    color=\"black\",\n",
    "    ax=ax[0],\n",
    ")\n",
    "ax[0].axhline(3 / 8, color=\"red\")\n",
    "ax[1].set_ylim(0, 0.3)\n",
    "fig.suptitle(\"Lei dos Grandes Números\")\n"
   ]
  },
  {
   "cell_type": "markdown",
   "id": "077c87eb",
   "metadata": {},
   "source": [
    "## Distribuições de Probabilidade\n",
    "\n",
    "No problema acima, do lance de 3 moedas, poderíamos construir um modelo mais genérico se considerassemos outro espaço amostral: **o # de caras obtidas**. Neste caso nossa variável aleatória teria como espaço amostral os números `0, 1, 2 e 3` e nossa função de probabilidade teria que ser redefinida a partir deste espaço amostral. Neste caso teríamos construído uma **distribuição de probabilidade** bem conhecida!\n",
    "\n",
    "Vários processos analogos ao que construímos acima já foram estudados pela probabilidade. Vamos conhecer algumas **distribuições probabílisticas** famosas, assim como o processo que ela modelam e seu espaço amostral."
   ]
  },
  {
   "cell_type": "markdown",
   "id": "da22084f",
   "metadata": {},
   "source": [
    "### Distribuição de Bernoulli\n",
    "\n",
    "<img src=\"images/bernoulli.jpg\" alt=\"Drawing\" style=\"width: 200px;\"/>\n",
    "\n",
    "**Espaço amostral**: *Booleano*\n",
    "\n",
    "**Parâmetros**: \n",
    "1. *p*: probabilidade de sucesso.\n",
    "\n",
    "A distribuição de Bernoulli é a distribuição de probabilidade mais simples que existe: ela representa o resultado de um **teste binário**, sua função de probabilidade **atribui a cada resultado, uma probabilidade**. O nosso lance de moedas é uma distribuição de Bernoulli!\n",
    "\n",
    "Vamos utilizar a lei dos grandes números para construir amostras representativas de um variável aleatório seguindo uma distribuição de Bernoulli."
   ]
  },
  {
   "cell_type": "code",
   "execution_count": 56,
   "id": "f15efde4",
   "metadata": {},
   "outputs": [
    {
     "data": {
      "text/html": [
       "<div>\n",
       "<style scoped>\n",
       "    .dataframe tbody tr th:only-of-type {\n",
       "        vertical-align: middle;\n",
       "    }\n",
       "\n",
       "    .dataframe tbody tr th {\n",
       "        vertical-align: top;\n",
       "    }\n",
       "\n",
       "    .dataframe thead th {\n",
       "        text-align: right;\n",
       "    }\n",
       "</style>\n",
       "<table border=\"1\" class=\"dataframe\">\n",
       "  <thead>\n",
       "    <tr style=\"text-align: right;\">\n",
       "      <th></th>\n",
       "      <th>justa</th>\n",
       "    </tr>\n",
       "  </thead>\n",
       "  <tbody>\n",
       "    <tr>\n",
       "      <th>cara</th>\n",
       "      <td>0.57</td>\n",
       "    </tr>\n",
       "    <tr>\n",
       "      <th>coroa</th>\n",
       "      <td>0.43</td>\n",
       "    </tr>\n",
       "  </tbody>\n",
       "</table>\n",
       "</div>"
      ],
      "text/plain": [
       "       justa\n",
       "cara    0.57\n",
       "coroa   0.43"
      ]
     },
     "execution_count": 56,
     "metadata": {},
     "output_type": "execute_result"
    }
   ],
   "source": [
    "pd.DataFrame({\"justa\": dict(Counter(amostra_justa))})/ TAMANHO_AMOSTRA"
   ]
  },
  {
   "cell_type": "code",
   "execution_count": 61,
   "id": "02b7979c",
   "metadata": {
    "ExecuteTime": {
     "end_time": "2022-03-10T22:48:08.159798Z",
     "start_time": "2022-03-10T22:48:07.988275Z"
    }
   },
   "outputs": [],
   "source": [
    "TAMANHO_AMOSTRA = 10000\n",
    "\n",
    "amostra_justa = [jogar_moeda_justa() for i in range(TAMANHO_AMOSTRA)]\n",
    "amostra_injusta = [jogar_moeda_injusta() for i in range(TAMANHO_AMOSTRA)]\n",
    "\n",
    "tb_justa = pd.DataFrame({\"justa\": dict(Counter(amostra_justa))}) / TAMANHO_AMOSTRA\n",
    "tb_injusta = pd.DataFrame({\"injusta\": dict(Counter(amostra_injusta))}) / TAMANHO_AMOSTRA\n"
   ]
  },
  {
   "cell_type": "code",
   "execution_count": 62,
   "id": "6fc708c5",
   "metadata": {},
   "outputs": [
    {
     "data": {
      "text/html": [
       "<div>\n",
       "<style scoped>\n",
       "    .dataframe tbody tr th:only-of-type {\n",
       "        vertical-align: middle;\n",
       "    }\n",
       "\n",
       "    .dataframe tbody tr th {\n",
       "        vertical-align: top;\n",
       "    }\n",
       "\n",
       "    .dataframe thead th {\n",
       "        text-align: right;\n",
       "    }\n",
       "</style>\n",
       "<table border=\"1\" class=\"dataframe\">\n",
       "  <thead>\n",
       "    <tr style=\"text-align: right;\">\n",
       "      <th></th>\n",
       "      <th>injusta</th>\n",
       "    </tr>\n",
       "  </thead>\n",
       "  <tbody>\n",
       "    <tr>\n",
       "      <th>cara</th>\n",
       "      <td>0.0966</td>\n",
       "    </tr>\n",
       "    <tr>\n",
       "      <th>coroa</th>\n",
       "      <td>0.9034</td>\n",
       "    </tr>\n",
       "  </tbody>\n",
       "</table>\n",
       "</div>"
      ],
      "text/plain": [
       "       injusta\n",
       "cara    0.0966\n",
       "coroa   0.9034"
      ]
     },
     "execution_count": 62,
     "metadata": {},
     "output_type": "execute_result"
    }
   ],
   "source": [
    "tb_injusta"
   ]
  },
  {
   "cell_type": "code",
   "execution_count": 63,
   "id": "64ae0fc0",
   "metadata": {
    "ExecuteTime": {
     "end_time": "2022-03-10T22:48:33.454281Z",
     "start_time": "2022-03-10T22:48:33.326936Z"
    }
   },
   "outputs": [
    {
     "data": {
      "text/plain": [
       "Text(0.5, 1.0, 'Moeda Injusta')"
      ]
     },
     "execution_count": 63,
     "metadata": {},
     "output_type": "execute_result"
    },
    {
     "data": {
      "image/png": "[encoded data removed]",
      "text/plain": [
       "<Figure size 1000x500 with 2 Axes>"
      ]
     },
     "metadata": {},
     "output_type": "display_data"
    }
   ],
   "source": [
    "fig, ax = plt.subplots(1, 2, figsize=(10, 5))\n",
    "sns.barplot(data=tb_justa, x=tb_justa.index, y=\"justa\", ax=ax[0])\n",
    "ax[0].set_title(\"Moeda Justa\")\n",
    "sns.barplot(data=tb_injusta, x=tb_injusta.index, y=\"injusta\", ax=ax[1])\n",
    "ax[1].set_title(\"Moeda Injusta\")\n"
   ]
  },
  {
   "cell_type": "markdown",
   "id": "7c925586",
   "metadata": {},
   "source": [
    "### Distribuição Binomial\n",
    "\n",
    "**Espaço amostral**: *Números Inteiros >= 0* e *<= n*\n",
    "\n",
    "**Parâmetros**: \n",
    "1. *n*: número de testes;\n",
    "1. *p*: probabilidade de sucesso.\n",
    "\n",
    "**Estatísticas Descritivas**:\n",
    "* *Média* $$\\mu = p*n$$\n",
    "* *Desvio Padrão* $$\\sigma = \\sqrt{n * p * (1-p)}$$\n",
    "\n",
    "A distribuição Binomial (inventada pelo mesmo Jacob Bernoulli...) representa a generalização segunda distribuição que simulamos na primeira parte da aula: dada uma série de ***n*** testes de Bernoulli, com probabilidade de sucesso igual à ***p***, qual a chance de observamos ***k*** sucessos?\n",
    "\n",
    "Vamos construir uma função de amostragem para essa generalização:\n",
    "\n"
   ]
  },
  {
   "cell_type": "code",
   "execution_count": 64,
   "id": "1c2c2946",
   "metadata": {
    "ExecuteTime": {
     "end_time": "2022-03-10T22:51:20.315674Z",
     "start_time": "2022-03-10T22:51:20.309739Z"
    }
   },
   "outputs": [],
   "source": [
    "def numero_coroa_justa(amostras):\n",
    "    amostra = [jogar_moeda_justa() for i in range(amostras)]\n",
    "    return Counter(amostra)[\"coroa\"]\n"
   ]
  },
  {
   "cell_type": "code",
   "execution_count": 68,
   "id": "d4bd23ab",
   "metadata": {
    "ExecuteTime": {
     "end_time": "2022-03-10T22:52:06.791031Z",
     "start_time": "2022-03-10T22:52:06.780048Z"
    }
   },
   "outputs": [
    {
     "data": {
      "text/plain": [
       "4"
      ]
     },
     "execution_count": 68,
     "metadata": {},
     "output_type": "execute_result"
    }
   ],
   "source": [
    "numero_coroa_justa(10)\n"
   ]
  },
  {
   "cell_type": "markdown",
   "id": "dd8e55bf",
   "metadata": {},
   "source": [
    "A função acima retorna o **número de coroas**, *N*, em *M* lances de uma moeda justa. Vamos utilizar essa função para amostrar a distribuição Binomial através de uma `list comprehension`:"
   ]
  },
  {
   "cell_type": "code",
   "execution_count": 87,
   "id": "00b62760",
   "metadata": {
    "ExecuteTime": {
     "end_time": "2022-03-10T23:01:51.140250Z",
     "start_time": "2022-03-10T23:01:49.607772Z"
    }
   },
   "outputs": [],
   "source": [
    "amostra_binomial = [numero_coroa_justa(10) for i in range(10000)]\n"
   ]
  },
  {
   "cell_type": "code",
   "execution_count": 88,
   "id": "8bc40fa8",
   "metadata": {
    "ExecuteTime": {
     "end_time": "2022-03-10T23:01:52.518068Z",
     "start_time": "2022-03-10T23:01:52.514078Z"
    }
   },
   "outputs": [
    {
     "data": {
      "text/plain": [
       "[7, 5, 6, 3, 5, 5]"
      ]
     },
     "execution_count": 88,
     "metadata": {},
     "output_type": "execute_result"
    }
   ],
   "source": [
    "amostra_binomial[0:6]\n"
   ]
  },
  {
   "cell_type": "code",
   "execution_count": 89,
   "id": "85ce3235",
   "metadata": {
    "ExecuteTime": {
     "end_time": "2022-03-10T23:01:53.107676Z",
     "start_time": "2022-03-10T23:01:53.101692Z"
    }
   },
   "outputs": [
    {
     "data": {
      "text/plain": [
       "Counter({7: 1115,\n",
       "         5: 2463,\n",
       "         6: 2051,\n",
       "         3: 1204,\n",
       "         4: 2058,\n",
       "         8: 425,\n",
       "         2: 464,\n",
       "         9: 108,\n",
       "         1: 95,\n",
       "         0: 6,\n",
       "         10: 11})"
      ]
     },
     "execution_count": 89,
     "metadata": {},
     "output_type": "execute_result"
    }
   ],
   "source": [
    "contagem_amostra = Counter(amostra_binomial)\n",
    "contagem_amostra\n"
   ]
  },
  {
   "cell_type": "code",
   "execution_count": 90,
   "id": "bb0ea3a1",
   "metadata": {},
   "outputs": [],
   "source": [
    "contagem_amostra = Counter(amostra_binomial)\n",
    "tb_binom = pd.DataFrame(\n",
    "    {\"num_coroas\": contagem_amostra.keys(), \n",
    "     \"num_eventos\": contagem_amostra.values()}\n",
    ")"
   ]
  },
  {
   "cell_type": "code",
   "execution_count": 91,
   "id": "032f1657",
   "metadata": {},
   "outputs": [
    {
     "data": {
      "text/html": [
       "<div>\n",
       "<style scoped>\n",
       "    .dataframe tbody tr th:only-of-type {\n",
       "        vertical-align: middle;\n",
       "    }\n",
       "\n",
       "    .dataframe tbody tr th {\n",
       "        vertical-align: top;\n",
       "    }\n",
       "\n",
       "    .dataframe thead th {\n",
       "        text-align: right;\n",
       "    }\n",
       "</style>\n",
       "<table border=\"1\" class=\"dataframe\">\n",
       "  <thead>\n",
       "    <tr style=\"text-align: right;\">\n",
       "      <th></th>\n",
       "      <th>num_coroas</th>\n",
       "      <th>num_eventos</th>\n",
       "    </tr>\n",
       "  </thead>\n",
       "  <tbody>\n",
       "    <tr>\n",
       "      <th>0</th>\n",
       "      <td>7</td>\n",
       "      <td>1115</td>\n",
       "    </tr>\n",
       "    <tr>\n",
       "      <th>1</th>\n",
       "      <td>5</td>\n",
       "      <td>2463</td>\n",
       "    </tr>\n",
       "    <tr>\n",
       "      <th>2</th>\n",
       "      <td>6</td>\n",
       "      <td>2051</td>\n",
       "    </tr>\n",
       "    <tr>\n",
       "      <th>3</th>\n",
       "      <td>3</td>\n",
       "      <td>1204</td>\n",
       "    </tr>\n",
       "    <tr>\n",
       "      <th>4</th>\n",
       "      <td>4</td>\n",
       "      <td>2058</td>\n",
       "    </tr>\n",
       "    <tr>\n",
       "      <th>5</th>\n",
       "      <td>8</td>\n",
       "      <td>425</td>\n",
       "    </tr>\n",
       "    <tr>\n",
       "      <th>6</th>\n",
       "      <td>2</td>\n",
       "      <td>464</td>\n",
       "    </tr>\n",
       "    <tr>\n",
       "      <th>7</th>\n",
       "      <td>9</td>\n",
       "      <td>108</td>\n",
       "    </tr>\n",
       "    <tr>\n",
       "      <th>8</th>\n",
       "      <td>1</td>\n",
       "      <td>95</td>\n",
       "    </tr>\n",
       "    <tr>\n",
       "      <th>9</th>\n",
       "      <td>0</td>\n",
       "      <td>6</td>\n",
       "    </tr>\n",
       "    <tr>\n",
       "      <th>10</th>\n",
       "      <td>10</td>\n",
       "      <td>11</td>\n",
       "    </tr>\n",
       "  </tbody>\n",
       "</table>\n",
       "</div>"
      ],
      "text/plain": [
       "    num_coroas  num_eventos\n",
       "0            7         1115\n",
       "1            5         2463\n",
       "2            6         2051\n",
       "3            3         1204\n",
       "4            4         2058\n",
       "5            8          425\n",
       "6            2          464\n",
       "7            9          108\n",
       "8            1           95\n",
       "9            0            6\n",
       "10          10           11"
      ]
     },
     "execution_count": 91,
     "metadata": {},
     "output_type": "execute_result"
    }
   ],
   "source": [
    "tb_binom"
   ]
  },
  {
   "cell_type": "code",
   "execution_count": 92,
   "id": "26902a34",
   "metadata": {
    "ExecuteTime": {
     "end_time": "2022-03-10T23:01:53.652762Z",
     "start_time": "2022-03-10T23:01:53.642758Z"
    }
   },
   "outputs": [
    {
     "data": {
      "text/html": [
       "<div>\n",
       "<style scoped>\n",
       "    .dataframe tbody tr th:only-of-type {\n",
       "        vertical-align: middle;\n",
       "    }\n",
       "\n",
       "    .dataframe tbody tr th {\n",
       "        vertical-align: top;\n",
       "    }\n",
       "\n",
       "    .dataframe thead th {\n",
       "        text-align: right;\n",
       "    }\n",
       "</style>\n",
       "<table border=\"1\" class=\"dataframe\">\n",
       "  <thead>\n",
       "    <tr style=\"text-align: right;\">\n",
       "      <th></th>\n",
       "      <th>num_coroas</th>\n",
       "      <th>num_eventos</th>\n",
       "      <th>prob_medida</th>\n",
       "    </tr>\n",
       "  </thead>\n",
       "  <tbody>\n",
       "    <tr>\n",
       "      <th>0</th>\n",
       "      <td>0</td>\n",
       "      <td>6</td>\n",
       "      <td>0.0006</td>\n",
       "    </tr>\n",
       "    <tr>\n",
       "      <th>1</th>\n",
       "      <td>1</td>\n",
       "      <td>95</td>\n",
       "      <td>0.0095</td>\n",
       "    </tr>\n",
       "    <tr>\n",
       "      <th>2</th>\n",
       "      <td>2</td>\n",
       "      <td>464</td>\n",
       "      <td>0.0464</td>\n",
       "    </tr>\n",
       "    <tr>\n",
       "      <th>3</th>\n",
       "      <td>3</td>\n",
       "      <td>1204</td>\n",
       "      <td>0.1204</td>\n",
       "    </tr>\n",
       "    <tr>\n",
       "      <th>4</th>\n",
       "      <td>4</td>\n",
       "      <td>2058</td>\n",
       "      <td>0.2058</td>\n",
       "    </tr>\n",
       "    <tr>\n",
       "      <th>5</th>\n",
       "      <td>5</td>\n",
       "      <td>2463</td>\n",
       "      <td>0.2463</td>\n",
       "    </tr>\n",
       "    <tr>\n",
       "      <th>6</th>\n",
       "      <td>6</td>\n",
       "      <td>2051</td>\n",
       "      <td>0.2051</td>\n",
       "    </tr>\n",
       "    <tr>\n",
       "      <th>7</th>\n",
       "      <td>7</td>\n",
       "      <td>1115</td>\n",
       "      <td>0.1115</td>\n",
       "    </tr>\n",
       "    <tr>\n",
       "      <th>8</th>\n",
       "      <td>8</td>\n",
       "      <td>425</td>\n",
       "      <td>0.0425</td>\n",
       "    </tr>\n",
       "    <tr>\n",
       "      <th>9</th>\n",
       "      <td>9</td>\n",
       "      <td>108</td>\n",
       "      <td>0.0108</td>\n",
       "    </tr>\n",
       "    <tr>\n",
       "      <th>10</th>\n",
       "      <td>10</td>\n",
       "      <td>11</td>\n",
       "      <td>0.0011</td>\n",
       "    </tr>\n",
       "  </tbody>\n",
       "</table>\n",
       "</div>"
      ],
      "text/plain": [
       "    num_coroas  num_eventos  prob_medida\n",
       "0            0            6       0.0006\n",
       "1            1           95       0.0095\n",
       "2            2          464       0.0464\n",
       "3            3         1204       0.1204\n",
       "4            4         2058       0.2058\n",
       "5            5         2463       0.2463\n",
       "6            6         2051       0.2051\n",
       "7            7         1115       0.1115\n",
       "8            8          425       0.0425\n",
       "9            9          108       0.0108\n",
       "10          10           11       0.0011"
      ]
     },
     "execution_count": 92,
     "metadata": {},
     "output_type": "execute_result"
    }
   ],
   "source": [
    "\n",
    "tb_binom[\"prob_medida\"] = tb_binom[\"num_eventos\"] / sum(tb_binom[\"num_eventos\"])\n",
    "tb_binom = tb_binom.sort_values(\"num_coroas\").reset_index(drop=True)\n",
    "tb_binom\n"
   ]
  },
  {
   "cell_type": "code",
   "execution_count": 93,
   "id": "0de16c0f",
   "metadata": {
    "ExecuteTime": {
     "end_time": "2022-03-10T23:01:55.556127Z",
     "start_time": "2022-03-10T23:01:55.346103Z"
    }
   },
   "outputs": [
    {
     "data": {
      "text/plain": [
       "<AxesSubplot: xlabel='num_coroas', ylabel='prob_medida'>"
      ]
     },
     "execution_count": 93,
     "metadata": {},
     "output_type": "execute_result"
    },
    {
     "data": {
      "image/png": "[encoded data removed]",
      "text/plain": [
       "<Figure size 640x480 with 1 Axes>"
      ]
     },
     "metadata": {},
     "output_type": "display_data"
    }
   ],
   "source": [
    "sns.barplot(data=tb_binom, x=\"num_coroas\", y=\"prob_medida\", color=bc)\n"
   ]
  },
  {
   "cell_type": "markdown",
   "id": "87d89be6",
   "metadata": {},
   "source": [
    "Qual a média de uma distribuição **Binomial**, ou seja, em *n* lances de moeda (*p* = 0,5), quantas **coroas** observaremos em **média**?\n",
    "\n",
    "Uma das grandes vantagem de utilizarmos distribuições de probabilidade conhecidas é que suas **funções de probabilidade** são determinadas. Por exemplo, a função de probabilidade de uma Distribuição Binomial é:\n",
    "\n",
    "$$P(k)   = {n \\choose k} p^k (1-p)^{ n-k} \\$$\n",
    "\n",
    "onde \n",
    "\n",
    "$${n \\choose k} = \\frac{n!}{n! (n! - k!)}$$\n",
    "\n",
    "Essa equação nos permite calcular a probabilida precisa (sem efeitos de amostragem) de observar ***k*** sucessos em ***n*** testes de Bernoulli com probabilidade de sucesso igual à ***p***.\n",
    "\n",
    "O nome desta função é **PMF** - *probability mass function*. A **PMF** nos permite, em distribuições discretas, calcular a **função de probabilidade** a partir dos parâmetros da nossa distribuição.\n",
    "\n",
    "Vamos utilizar o submódulo `stats` da biblioteca `scipy` para acessar diretamente funções pré-programadas para diferentes distribuições."
   ]
  },
  {
   "cell_type": "code",
   "execution_count": 94,
   "id": "f60cf26b",
   "metadata": {},
   "outputs": [],
   "source": [
    "import scipy as sp\n"
   ]
  },
  {
   "cell_type": "markdown",
   "id": "8bdff046",
   "metadata": {},
   "source": [
    "A função `binom()` nos permite construir uma distribuição binomial dentro do Python. Seus dois argumentos são os parâmetros da Distribuição Binomial (*n* e *p*):"
   ]
  },
  {
   "cell_type": "code",
   "execution_count": 95,
   "id": "f5d18317",
   "metadata": {
    "ExecuteTime": {
     "end_time": "2022-03-10T23:01:56.346281Z",
     "start_time": "2022-03-10T23:01:56.329330Z"
    }
   },
   "outputs": [],
   "source": [
    "dist_binomial = sp.stats.binom(10, 0.5)\n"
   ]
  },
  {
   "cell_type": "code",
   "execution_count": 96,
   "id": "fedb88ee",
   "metadata": {},
   "outputs": [
    {
     "data": {
      "text/plain": [
       "<scipy.stats._distn_infrastructure.rv_frozen at 0x7fb6026d5f10>"
      ]
     },
     "execution_count": 96,
     "metadata": {},
     "output_type": "execute_result"
    }
   ],
   "source": [
    "dist_binomial\n"
   ]
  },
  {
   "cell_type": "markdown",
   "id": "2a75ff03",
   "metadata": {},
   "source": [
    "A função `binom()` retorna uma objeto do tipo `rv_frozen`: uma variável aleatória (r.v. = *random variable*) com parâmetros (*n* e *p*) fixos ('congelados').\n",
    "\n",
    "Através desse objeto podemos acessar a **PMF** de nossa variável aleatória:"
   ]
  },
  {
   "cell_type": "code",
   "execution_count": 97,
   "id": "7ea03332",
   "metadata": {},
   "outputs": [
    {
     "data": {
      "text/plain": [
       "0.04394531250000004"
      ]
     },
     "execution_count": 97,
     "metadata": {},
     "output_type": "execute_result"
    }
   ],
   "source": [
    "dist_binomial.pmf(2)\n"
   ]
  },
  {
   "cell_type": "markdown",
   "id": "ddb75625",
   "metadata": {},
   "source": [
    "Vamos utilizar nossa **PMF** para construir um gráfico da nossa distribuição:"
   ]
  },
  {
   "cell_type": "code",
   "execution_count": 98,
   "id": "97385df7",
   "metadata": {
    "ExecuteTime": {
     "end_time": "2022-03-10T23:01:57.171494Z",
     "start_time": "2022-03-10T23:01:56.977151Z"
    }
   },
   "outputs": [
    {
     "data": {
      "text/plain": [
       "<AxesSubplot: >"
      ]
     },
     "execution_count": 98,
     "metadata": {},
     "output_type": "execute_result"
    },
    {
     "data": {
      "image/png": "[encoded data removed]",
      "text/plain": [
       "<Figure size 640x480 with 1 Axes>"
      ]
     },
     "metadata": {},
     "output_type": "display_data"
    }
   ],
   "source": [
    "x = np.arange(0, 11)\n",
    "y = dist_binomial.pmf(x)\n",
    "sns.barplot(x=x, y=y, color=bc)\n"
   ]
  },
  {
   "cell_type": "markdown",
   "id": "61229c3b",
   "metadata": {},
   "source": [
    "Utilizando a **PMF** podemos comparar como nossa amostra construída acima se compara com a distribuição teórica:"
   ]
  },
  {
   "cell_type": "code",
   "execution_count": 99,
   "id": "e54a6a26",
   "metadata": {},
   "outputs": [
    {
     "data": {
      "text/html": [
       "<div>\n",
       "<style scoped>\n",
       "    .dataframe tbody tr th:only-of-type {\n",
       "        vertical-align: middle;\n",
       "    }\n",
       "\n",
       "    .dataframe tbody tr th {\n",
       "        vertical-align: top;\n",
       "    }\n",
       "\n",
       "    .dataframe thead th {\n",
       "        text-align: right;\n",
       "    }\n",
       "</style>\n",
       "<table border=\"1\" class=\"dataframe\">\n",
       "  <thead>\n",
       "    <tr style=\"text-align: right;\">\n",
       "      <th></th>\n",
       "      <th>num_coroas</th>\n",
       "      <th>num_eventos</th>\n",
       "      <th>prob_medida</th>\n",
       "    </tr>\n",
       "  </thead>\n",
       "  <tbody>\n",
       "    <tr>\n",
       "      <th>0</th>\n",
       "      <td>0</td>\n",
       "      <td>6</td>\n",
       "      <td>0.0006</td>\n",
       "    </tr>\n",
       "    <tr>\n",
       "      <th>1</th>\n",
       "      <td>1</td>\n",
       "      <td>95</td>\n",
       "      <td>0.0095</td>\n",
       "    </tr>\n",
       "    <tr>\n",
       "      <th>2</th>\n",
       "      <td>2</td>\n",
       "      <td>464</td>\n",
       "      <td>0.0464</td>\n",
       "    </tr>\n",
       "    <tr>\n",
       "      <th>3</th>\n",
       "      <td>3</td>\n",
       "      <td>1204</td>\n",
       "      <td>0.1204</td>\n",
       "    </tr>\n",
       "    <tr>\n",
       "      <th>4</th>\n",
       "      <td>4</td>\n",
       "      <td>2058</td>\n",
       "      <td>0.2058</td>\n",
       "    </tr>\n",
       "    <tr>\n",
       "      <th>5</th>\n",
       "      <td>5</td>\n",
       "      <td>2463</td>\n",
       "      <td>0.2463</td>\n",
       "    </tr>\n",
       "    <tr>\n",
       "      <th>6</th>\n",
       "      <td>6</td>\n",
       "      <td>2051</td>\n",
       "      <td>0.2051</td>\n",
       "    </tr>\n",
       "    <tr>\n",
       "      <th>7</th>\n",
       "      <td>7</td>\n",
       "      <td>1115</td>\n",
       "      <td>0.1115</td>\n",
       "    </tr>\n",
       "    <tr>\n",
       "      <th>8</th>\n",
       "      <td>8</td>\n",
       "      <td>425</td>\n",
       "      <td>0.0425</td>\n",
       "    </tr>\n",
       "    <tr>\n",
       "      <th>9</th>\n",
       "      <td>9</td>\n",
       "      <td>108</td>\n",
       "      <td>0.0108</td>\n",
       "    </tr>\n",
       "    <tr>\n",
       "      <th>10</th>\n",
       "      <td>10</td>\n",
       "      <td>11</td>\n",
       "      <td>0.0011</td>\n",
       "    </tr>\n",
       "  </tbody>\n",
       "</table>\n",
       "</div>"
      ],
      "text/plain": [
       "    num_coroas  num_eventos  prob_medida\n",
       "0            0            6       0.0006\n",
       "1            1           95       0.0095\n",
       "2            2          464       0.0464\n",
       "3            3         1204       0.1204\n",
       "4            4         2058       0.2058\n",
       "5            5         2463       0.2463\n",
       "6            6         2051       0.2051\n",
       "7            7         1115       0.1115\n",
       "8            8          425       0.0425\n",
       "9            9          108       0.0108\n",
       "10          10           11       0.0011"
      ]
     },
     "execution_count": 99,
     "metadata": {},
     "output_type": "execute_result"
    }
   ],
   "source": [
    "tb_binom"
   ]
  },
  {
   "cell_type": "code",
   "execution_count": 100,
   "id": "dde799fd",
   "metadata": {},
   "outputs": [],
   "source": [
    "tb_binom[\"prob_real\"] = tb_binom[\"num_coroas\"].map(dist_binomial.pmf)\n"
   ]
  },
  {
   "cell_type": "code",
   "execution_count": 101,
   "id": "0f9ed28b",
   "metadata": {},
   "outputs": [
    {
     "data": {
      "text/plain": [
       "<AxesSubplot: xlabel='num_coroas', ylabel='prob_real'>"
      ]
     },
     "execution_count": 101,
     "metadata": {},
     "output_type": "execute_result"
    },
    {
     "data": {
      "image/png": "[encoded data removed]",
      "text/plain": [
       "<Figure size 640x480 with 1 Axes>"
      ]
     },
     "metadata": {},
     "output_type": "display_data"
    }
   ],
   "source": [
    "sns.barplot(data=tb_binom, x=\"num_coroas\", y=\"prob_medida\", color=bc)\n",
    "sns.pointplot(data=tb_binom, x=\"num_coroas\", y=\"prob_real\", color=\"red\")\n"
   ]
  },
  {
   "cell_type": "markdown",
   "id": "cf209b37",
   "metadata": {},
   "source": [
    "Por fim, podemos utilizar a **PMF** para calcular a **probabilidade cumulativa**: qual a chance de observamos 2 ou menos coroas em 10 lances de uma moeda justa?"
   ]
  },
  {
   "cell_type": "code",
   "execution_count": 103,
   "id": "ec3e493a",
   "metadata": {
    "ExecuteTime": {
     "end_time": "2022-03-10T23:01:59.377707Z",
     "start_time": "2022-03-10T23:01:59.365741Z"
    }
   },
   "outputs": [
    {
     "data": {
      "text/plain": [
       "0.05468750000000004"
      ]
     },
     "execution_count": 103,
     "metadata": {},
     "output_type": "execute_result"
    }
   ],
   "source": [
    "sum([dist_binomial.pmf(i) for i in [0, 1, 2]])\n"
   ]
  },
  {
   "cell_type": "markdown",
   "id": "df752522",
   "metadata": {},
   "source": [
    "Essa operação é tão comum que temos um nome para esta função: **CDF**, *cumulative distribution function*. Podemos utilizar o método `.cdf()` da nossa variável aleatória para calcular isto:"
   ]
  },
  {
   "cell_type": "code",
   "execution_count": 106,
   "id": "839ed474",
   "metadata": {
    "ExecuteTime": {
     "end_time": "2022-03-10T23:02:00.163109Z",
     "start_time": "2022-03-10T23:02:00.146170Z"
    }
   },
   "outputs": [
    {
     "data": {
      "text/plain": [
       "1.0"
      ]
     },
     "execution_count": 106,
     "metadata": {},
     "output_type": "execute_result"
    }
   ],
   "source": [
    "dist_binomial.cdf(10)\n"
   ]
  },
  {
   "cell_type": "code",
   "execution_count": 107,
   "id": "c9298540",
   "metadata": {
    "ExecuteTime": {
     "end_time": "2022-03-10T23:02:00.665765Z",
     "start_time": "2022-03-10T23:02:00.465300Z"
    }
   },
   "outputs": [
    {
     "data": {
      "text/plain": [
       "<AxesSubplot: >"
      ]
     },
     "execution_count": 107,
     "metadata": {},
     "output_type": "execute_result"
    },
    {
     "data": {
      "image/png": "[encoded data removed]",
      "text/plain": [
       "<Figure size 640x480 with 1 Axes>"
      ]
     },
     "metadata": {},
     "output_type": "display_data"
    }
   ],
   "source": [
    "x = np.arange(0, 11)\n",
    "y = dist_binomial.cdf(x)\n",
    "sns.barplot(x=x, y=y, color=bc)\n"
   ]
  },
  {
   "cell_type": "code",
   "execution_count": 108,
   "id": "8cced6a6",
   "metadata": {},
   "outputs": [
    {
     "data": {
      "text/plain": [
       "[0, 1, 2, 3, 4, 5, 6, 7, 8, 9]"
      ]
     },
     "execution_count": 108,
     "metadata": {},
     "output_type": "execute_result"
    }
   ],
   "source": [
    "list(range(0, 10))"
   ]
  },
  {
   "cell_type": "code",
   "execution_count": 112,
   "id": "a38696d0",
   "metadata": {},
   "outputs": [
    {
     "data": {
      "text/plain": [
       "array([0. , 0.1, 0.2, 0.3, 0.4, 0.5, 0.6, 0.7, 0.8, 0.9, 1. , 1.1, 1.2,\n",
       "       1.3, 1.4, 1.5, 1.6, 1.7, 1.8, 1.9, 2. , 2.1, 2.2, 2.3, 2.4, 2.5,\n",
       "       2.6, 2.7, 2.8, 2.9, 3. , 3.1, 3.2, 3.3, 3.4, 3.5, 3.6, 3.7, 3.8,\n",
       "       3.9, 4. , 4.1, 4.2, 4.3, 4.4, 4.5, 4.6, 4.7, 4.8, 4.9, 5. , 5.1,\n",
       "       5.2, 5.3, 5.4, 5.5, 5.6, 5.7, 5.8, 5.9, 6. , 6.1, 6.2, 6.3, 6.4,\n",
       "       6.5, 6.6, 6.7, 6.8, 6.9, 7. , 7.1, 7.2, 7.3, 7.4, 7.5, 7.6, 7.7,\n",
       "       7.8, 7.9, 8. , 8.1, 8.2, 8.3, 8.4, 8.5, 8.6, 8.7, 8.8, 8.9, 9. ,\n",
       "       9.1, 9.2, 9.3, 9.4, 9.5, 9.6, 9.7, 9.8, 9.9])"
      ]
     },
     "execution_count": 112,
     "metadata": {},
     "output_type": "execute_result"
    }
   ],
   "source": [
    "np.arange(0, 10, 0.1)"
   ]
  },
  {
   "cell_type": "markdown",
   "id": "8f539cd6",
   "metadata": {},
   "source": [
    "### Distribuição Geométrica\n",
    "\n",
    "**Espaço amostral**: *Números Inteiros >= 1*\n",
    "\n",
    "**Parâmetros**: \n",
    "1. *p*: probabilidade de sucesso.\n",
    "\n",
    "**Estatísticas Descritivas**:\n",
    "* *Média* $$\\mu = \\frac{1}{p}$$\n",
    "* *Desvio Padrão* $$\\sigma = \\sqrt{\\frac{(1-p)}{p^2}}$$\n",
    "\n",
    "Uma segunda distribuição diretamente ligada à Distribuição de Bernoulli é a **Distribuição Geométrica**. Enquanto a **Binomial** mede a probabilidade de observamos *k* sucessos em *n* testes, a **Geométrica** me a probabilidade de obtermos o *primeiro sucesso* no *k-ésimo* teste.\n",
    "\n",
    "No nosso exemplo da moeda justa, a distribuição **Geométrica** mede a probabilidade de observarmos a primeira *coroa* no primeiro, segundo, terceiro... teste. Vamos construir uma função de amostragem para distribuição geométrica:"
   ]
  },
  {
   "cell_type": "code",
   "execution_count": 113,
   "id": "ef389f67",
   "metadata": {
    "ExecuteTime": {
     "end_time": "2022-03-10T23:05:32.864357Z",
     "start_time": "2022-03-10T23:05:32.858371Z"
    }
   },
   "outputs": [],
   "source": [
    "def primeira_coroa_justa():\n",
    "    i = 0\n",
    "    while True:\n",
    "        if jogar_moeda_justa() == \"coroa\":\n",
    "            i += 1\n",
    "            return i\n",
    "        else:\n",
    "            i += 1\n"
   ]
  },
  {
   "cell_type": "code",
   "execution_count": 117,
   "id": "a76eef08",
   "metadata": {
    "ExecuteTime": {
     "end_time": "2022-03-10T23:05:42.395042Z",
     "start_time": "2022-03-10T23:05:42.377089Z"
    }
   },
   "outputs": [
    {
     "data": {
      "text/plain": [
       "1"
      ]
     },
     "execution_count": 117,
     "metadata": {},
     "output_type": "execute_result"
    }
   ],
   "source": [
    "primeira_coroa_justa()\n"
   ]
  },
  {
   "cell_type": "markdown",
   "id": "6ad93bb7",
   "metadata": {},
   "source": [
    "Agora vamos utilizar uma `list comprehension` para construir uma amostra dessa distribuição:"
   ]
  },
  {
   "cell_type": "code",
   "execution_count": 118,
   "id": "a456ae97",
   "metadata": {
    "ExecuteTime": {
     "end_time": "2022-03-10T23:09:41.695847Z",
     "start_time": "2022-03-10T23:09:41.682882Z"
    }
   },
   "outputs": [],
   "source": [
    "amostra_geo = [primeira_coroa_justa() for i in range(100)]\n"
   ]
  },
  {
   "cell_type": "code",
   "execution_count": 119,
   "id": "60e1c9fc",
   "metadata": {
    "ExecuteTime": {
     "end_time": "2022-03-10T23:09:42.081913Z",
     "start_time": "2022-03-10T23:09:42.070875Z"
    }
   },
   "outputs": [
    {
     "data": {
      "text/plain": [
       "[1, 1, 1, 3, 2, 3, 3, 2, 1]"
      ]
     },
     "execution_count": 119,
     "metadata": {},
     "output_type": "execute_result"
    }
   ],
   "source": [
    "amostra_geo[1:10]\n"
   ]
  },
  {
   "cell_type": "code",
   "execution_count": 120,
   "id": "5c2cbca2",
   "metadata": {
    "ExecuteTime": {
     "end_time": "2022-03-10T23:09:42.456163Z",
     "start_time": "2022-03-10T23:09:42.445188Z"
    }
   },
   "outputs": [
    {
     "data": {
      "text/html": [
       "<div>\n",
       "<style scoped>\n",
       "    .dataframe tbody tr th:only-of-type {\n",
       "        vertical-align: middle;\n",
       "    }\n",
       "\n",
       "    .dataframe tbody tr th {\n",
       "        vertical-align: top;\n",
       "    }\n",
       "\n",
       "    .dataframe thead th {\n",
       "        text-align: right;\n",
       "    }\n",
       "</style>\n",
       "<table border=\"1\" class=\"dataframe\">\n",
       "  <thead>\n",
       "    <tr style=\"text-align: right;\">\n",
       "      <th></th>\n",
       "      <th>num_primeira_coroa</th>\n",
       "      <th>num_eventos</th>\n",
       "      <th>prob_medida</th>\n",
       "    </tr>\n",
       "  </thead>\n",
       "  <tbody>\n",
       "    <tr>\n",
       "      <th>0</th>\n",
       "      <td>1</td>\n",
       "      <td>49</td>\n",
       "      <td>0.49</td>\n",
       "    </tr>\n",
       "    <tr>\n",
       "      <th>2</th>\n",
       "      <td>2</td>\n",
       "      <td>26</td>\n",
       "      <td>0.26</td>\n",
       "    </tr>\n",
       "    <tr>\n",
       "      <th>1</th>\n",
       "      <td>3</td>\n",
       "      <td>13</td>\n",
       "      <td>0.13</td>\n",
       "    </tr>\n",
       "    <tr>\n",
       "      <th>3</th>\n",
       "      <td>4</td>\n",
       "      <td>7</td>\n",
       "      <td>0.07</td>\n",
       "    </tr>\n",
       "    <tr>\n",
       "      <th>4</th>\n",
       "      <td>5</td>\n",
       "      <td>3</td>\n",
       "      <td>0.03</td>\n",
       "    </tr>\n",
       "    <tr>\n",
       "      <th>6</th>\n",
       "      <td>6</td>\n",
       "      <td>1</td>\n",
       "      <td>0.01</td>\n",
       "    </tr>\n",
       "    <tr>\n",
       "      <th>5</th>\n",
       "      <td>9</td>\n",
       "      <td>1</td>\n",
       "      <td>0.01</td>\n",
       "    </tr>\n",
       "  </tbody>\n",
       "</table>\n",
       "</div>"
      ],
      "text/plain": [
       "   num_primeira_coroa  num_eventos  prob_medida\n",
       "0                   1           49         0.49\n",
       "2                   2           26         0.26\n",
       "1                   3           13         0.13\n",
       "3                   4            7         0.07\n",
       "4                   5            3         0.03\n",
       "6                   6            1         0.01\n",
       "5                   9            1         0.01"
      ]
     },
     "execution_count": 120,
     "metadata": {},
     "output_type": "execute_result"
    }
   ],
   "source": [
    "contagem_amostra = Counter(amostra_geo)\n",
    "tb_geo = pd.DataFrame(\n",
    "    {\n",
    "        \"num_primeira_coroa\": contagem_amostra.keys(),\n",
    "        \"num_eventos\": contagem_amostra.values(),\n",
    "    }\n",
    ")\n",
    "tb_geo = tb_geo.sort_values(\"num_primeira_coroa\")\n",
    "tb_geo[\"prob_medida\"] = tb_geo[\"num_eventos\"] / sum(tb_geo[\"num_eventos\"])\n",
    "tb_geo\n"
   ]
  },
  {
   "cell_type": "code",
   "execution_count": 121,
   "id": "474a3086",
   "metadata": {
    "ExecuteTime": {
     "end_time": "2022-03-10T23:09:43.330975Z",
     "start_time": "2022-03-10T23:09:43.167902Z"
    }
   },
   "outputs": [
    {
     "data": {
      "text/plain": [
       "<AxesSubplot: xlabel='num_primeira_coroa', ylabel='prob_medida'>"
      ]
     },
     "execution_count": 121,
     "metadata": {},
     "output_type": "execute_result"
    },
    {
     "data": {
      "image/png": "[encoded data removed]",
      "text/plain": [
       "<Figure size 640x480 with 1 Axes>"
      ]
     },
     "metadata": {},
     "output_type": "display_data"
    }
   ],
   "source": [
    "sns.barplot(data=tb_geo, x=\"num_primeira_coroa\", y=\"prob_medida\", color=bc)\n"
   ]
  },
  {
   "cell_type": "markdown",
   "id": "b16bac10",
   "metadata": {},
   "source": [
    "A **PMF** da distribuição **Geométrica** é:\n",
    "\n",
    "$$P(k) = (1 - p)^{k-1}p$$\n",
    "\n",
    "e podemos acessa-la através da função `geom()` do submódulo `stats` da biblioteca `scipy`:"
   ]
  },
  {
   "cell_type": "code",
   "execution_count": 122,
   "id": "44bf39e4",
   "metadata": {
    "ExecuteTime": {
     "end_time": "2022-03-10T23:09:43.595828Z",
     "start_time": "2022-03-10T23:09:43.585855Z"
    }
   },
   "outputs": [],
   "source": [
    "dist_geom = sp.stats.geom(0.5)\n"
   ]
  },
  {
   "cell_type": "markdown",
   "id": "818f9a7f",
   "metadata": {},
   "source": [
    "Vamos adicionar a coluna `prob_real` a nossa tabela de amostrar para comparar as taxas medidas e as taxas reais:"
   ]
  },
  {
   "cell_type": "code",
   "execution_count": 123,
   "id": "386f83e0",
   "metadata": {
    "ExecuteTime": {
     "end_time": "2022-03-10T23:09:45.109731Z",
     "start_time": "2022-03-10T23:09:45.095771Z"
    }
   },
   "outputs": [],
   "source": [
    "tb_geo[\"prob_real\"] = tb_geo[\"num_primeira_coroa\"].apply(dist_geom.pmf)\n"
   ]
  },
  {
   "cell_type": "code",
   "execution_count": 124,
   "id": "542567de",
   "metadata": {
    "ExecuteTime": {
     "end_time": "2022-03-10T23:09:45.685256Z",
     "start_time": "2022-03-10T23:09:45.515709Z"
    }
   },
   "outputs": [
    {
     "data": {
      "text/plain": [
       "<AxesSubplot: xlabel='num_primeira_coroa', ylabel='prob_real'>"
      ]
     },
     "execution_count": 124,
     "metadata": {},
     "output_type": "execute_result"
    },
    {
     "data": {
      "image/png": "[encoded data removed]",
      "text/plain": [
       "<Figure size 640x480 with 1 Axes>"
      ]
     },
     "metadata": {},
     "output_type": "display_data"
    }
   ],
   "source": [
    "sns.barplot(data=tb_geo, x=\"num_primeira_coroa\", y=\"prob_medida\", color=bc)\n",
    "sns.pointplot(data=tb_geo, x=\"num_primeira_coroa\", y=\"prob_real\", color=\"red\")\n"
   ]
  },
  {
   "cell_type": "markdown",
   "id": "8d0ed8f3",
   "metadata": {},
   "source": [
    "### Distribuição de Poisson\n",
    "**ou Finalmente uma distribuição que não foi inventada por um Bernoulli...**\n",
    "\n",
    "<img src=\"images/poisson.jpg\" alt=\"Drawing\" style=\"width: 200px;\"/>\n",
    "\n",
    "**Espaço amostral**: *Números Inteiros >= 0*\n",
    "\n",
    "**Parâmetros**: \n",
    "1. *lambda*: taxa de eventos.\n",
    "\n",
    "**Estatísticas Descritivas**:\n",
    "* *Média* $$\\mu = \\lambda$$\n",
    "* *Desvio Padrão* $$\\sigma = \\sqrt{\\lambda}$$\n",
    "\n",
    "Simone Poisson foi um matemático francês que estudou, entre outras coisas, a probabilidade de convicções erradas na justiça francesa no séc XVIII.\n",
    "\n",
    "A distribuição que ele inventou é um tipo particular de distribuição **Binomial**: binomiais onde o número de testes é altíssimo e a probabilidade de sucesso baixíssima. Antes da popularização da probabilidade computacional, esse tipo de distribuição era extremamente dificil de se calcular (já que a **PMF** da **Binomial** tem um **n!** em sua fórmula!).\n",
    "\n",
    "Vamos derivar a distribuição de Poisson a partir da distribuição de Bernoulli:"
   ]
  },
  {
   "cell_type": "code",
   "execution_count": 125,
   "id": "9b8b1086",
   "metadata": {
    "ExecuteTime": {
     "end_time": "2022-03-10T23:18:04.093281Z",
     "start_time": "2022-03-10T23:18:04.077332Z"
    }
   },
   "outputs": [
    {
     "data": {
      "text/plain": [
       "'comum'"
      ]
     },
     "execution_count": 125,
     "metadata": {},
     "output_type": "execute_result"
    }
   ],
   "source": [
    "evento_raro = [\"raro\", \"comum\"]\n",
    "p = 1 / 1e05 # 1 em 100,000\n",
    "n = 2e04 # 20,000\n",
    "np.random.choice(evento_raro, p=[p, 1 - p])"
   ]
  },
  {
   "cell_type": "code",
   "execution_count": 126,
   "id": "7ccb3d93",
   "metadata": {
    "ExecuteTime": {
     "end_time": "2022-03-10T23:18:04.482261Z",
     "start_time": "2022-03-10T23:18:04.472286Z"
    }
   },
   "outputs": [],
   "source": [
    "def simular_er(p):\n",
    "    evento_raro = [\"raro\", \"comum\"]\n",
    "    return np.random.choice(evento_raro, p=[p, 1 - p])\n"
   ]
  },
  {
   "cell_type": "code",
   "execution_count": 127,
   "id": "2a97ce49",
   "metadata": {
    "ExecuteTime": {
     "end_time": "2022-03-10T23:18:05.666834Z",
     "start_time": "2022-03-10T23:18:05.651846Z"
    }
   },
   "outputs": [],
   "source": [
    "def numero_eventos_raros(amostras, p):\n",
    "    amostra = [simular_er(p) for i in range(int(amostras))]\n",
    "    return Counter(amostra)[\"raro\"]\n"
   ]
  },
  {
   "cell_type": "code",
   "execution_count": 128,
   "id": "e6039a06",
   "metadata": {
    "ExecuteTime": {
     "end_time": "2022-03-10T23:18:11.536053Z",
     "start_time": "2022-03-10T23:18:07.251222Z"
    }
   },
   "outputs": [
    {
     "data": {
      "text/plain": [
       "0"
      ]
     },
     "execution_count": 128,
     "metadata": {},
     "output_type": "execute_result"
    }
   ],
   "source": [
    "p = 1 / 1e05\n",
    "n = 2e04\n",
    "numero_eventos_raros(n, p)\n"
   ]
  },
  {
   "cell_type": "code",
   "execution_count": 133,
   "id": "96045db8",
   "metadata": {},
   "outputs": [
    {
     "data": {
      "text/plain": [
       "0"
      ]
     },
     "execution_count": 133,
     "metadata": {},
     "output_type": "execute_result"
    }
   ],
   "source": [
    "numero_eventos_raros(n, p)"
   ]
  },
  {
   "cell_type": "code",
   "execution_count": 129,
   "id": "fd9a5d93",
   "metadata": {
    "ExecuteTime": {
     "end_time": "2022-03-10T23:25:21.892476Z",
     "start_time": "2022-03-10T23:18:11.538048Z"
    }
   },
   "outputs": [],
   "source": [
    "amostra_poi = [numero_eventos_raros(n, p) for i in range(100)]\n"
   ]
  },
  {
   "cell_type": "code",
   "execution_count": 135,
   "id": "5d360927",
   "metadata": {},
   "outputs": [
    {
     "data": {
      "text/plain": [
       "[0, 1, 0, 0, 0, 0, 0, 0, 0]"
      ]
     },
     "execution_count": 135,
     "metadata": {},
     "output_type": "execute_result"
    }
   ],
   "source": [
    "amostra_poi[1:10]"
   ]
  },
  {
   "cell_type": "code",
   "execution_count": 136,
   "id": "79dfd93c",
   "metadata": {
    "ExecuteTime": {
     "end_time": "2022-03-10T23:33:37.895932Z",
     "start_time": "2022-03-10T23:33:37.879974Z"
    }
   },
   "outputs": [
    {
     "data": {
      "text/html": [
       "<div>\n",
       "<style scoped>\n",
       "    .dataframe tbody tr th:only-of-type {\n",
       "        vertical-align: middle;\n",
       "    }\n",
       "\n",
       "    .dataframe tbody tr th {\n",
       "        vertical-align: top;\n",
       "    }\n",
       "\n",
       "    .dataframe thead th {\n",
       "        text-align: right;\n",
       "    }\n",
       "</style>\n",
       "<table border=\"1\" class=\"dataframe\">\n",
       "  <thead>\n",
       "    <tr style=\"text-align: right;\">\n",
       "      <th></th>\n",
       "      <th>index</th>\n",
       "      <th>num_raros</th>\n",
       "      <th>num_eventos</th>\n",
       "    </tr>\n",
       "  </thead>\n",
       "  <tbody>\n",
       "    <tr>\n",
       "      <th>0</th>\n",
       "      <td>1</td>\n",
       "      <td>0</td>\n",
       "      <td>79</td>\n",
       "    </tr>\n",
       "    <tr>\n",
       "      <th>1</th>\n",
       "      <td>0</td>\n",
       "      <td>1</td>\n",
       "      <td>20</td>\n",
       "    </tr>\n",
       "    <tr>\n",
       "      <th>2</th>\n",
       "      <td>2</td>\n",
       "      <td>2</td>\n",
       "      <td>1</td>\n",
       "    </tr>\n",
       "  </tbody>\n",
       "</table>\n",
       "</div>"
      ],
      "text/plain": [
       "   index  num_raros  num_eventos\n",
       "0      1          0           79\n",
       "1      0          1           20\n",
       "2      2          2            1"
      ]
     },
     "execution_count": 136,
     "metadata": {},
     "output_type": "execute_result"
    }
   ],
   "source": [
    "contagem_amostra = Counter(amostra_poi)\n",
    "tb_poisson = pd.DataFrame(\n",
    "    {\"num_raros\": contagem_amostra.keys(), \"num_eventos\": contagem_amostra.values()}\n",
    ")\n",
    "tb_poisson = tb_poisson.sort_values(\"num_raros\").reset_index()\n",
    "tb_poisson\n"
   ]
  },
  {
   "cell_type": "code",
   "execution_count": 137,
   "id": "5dd722dc",
   "metadata": {
    "ExecuteTime": {
     "end_time": "2022-03-10T23:33:39.348439Z",
     "start_time": "2022-03-10T23:33:39.163931Z"
    }
   },
   "outputs": [
    {
     "data": {
      "text/plain": [
       "<AxesSubplot: xlabel='num_raros', ylabel='num_eventos'>"
      ]
     },
     "execution_count": 137,
     "metadata": {},
     "output_type": "execute_result"
    },
    {
     "data": {
      "image/png": "[encoded data removed]",
      "text/plain": [
       "<Figure size 640x480 with 1 Axes>"
      ]
     },
     "metadata": {},
     "output_type": "display_data"
    }
   ],
   "source": [
    "sns.barplot(data=tb_poisson, x=\"num_raros\", y=\"num_eventos\", color=bc)\n"
   ]
  },
  {
   "cell_type": "markdown",
   "id": "f772ede0",
   "metadata": {},
   "source": [
    "A distribuição de Poisson não é parametrizada por *n* e *p* mas sim pelo **número médio de sucessos** - chamada de **lambda**:\n",
    "\n",
    "$$\\lambda = p n$$\n",
    "\n",
    "A **PMF** da distribuição de Poisson é calculada através da equação\n",
    "\n",
    "$$P(k) = \\frac{\\lambda^k e^{-\\lambda}}{k!}$$\n",
    "\n",
    "Vamos utilizar a `scipy` para construir a **PMF** da nossa distribuição de **Poisson**:"
   ]
  },
  {
   "cell_type": "code",
   "execution_count": 140,
   "id": "61f0c4b3",
   "metadata": {
    "ExecuteTime": {
     "end_time": "2022-03-10T23:35:09.658068Z",
     "start_time": "2022-03-10T23:35:09.641095Z"
    }
   },
   "outputs": [],
   "source": [
    "lamb = p * n\n",
    "dist_poisson = sp.stats.poisson(p * n)\n"
   ]
  },
  {
   "cell_type": "code",
   "execution_count": 141,
   "id": "f672377b",
   "metadata": {
    "ExecuteTime": {
     "end_time": "2022-03-10T23:35:23.658982Z",
     "start_time": "2022-03-10T23:35:23.643042Z"
    }
   },
   "outputs": [],
   "source": [
    "tb_poisson[\"prob_medida\"] = tb_poisson[\"num_eventos\"] / sum(tb_poisson[\"num_eventos\"])\n",
    "tb_poisson[\"prob_real\"] = tb_poisson[\"num_raros\"].apply(dist_poisson.pmf)\n"
   ]
  },
  {
   "cell_type": "code",
   "execution_count": 142,
   "id": "6767de20",
   "metadata": {
    "ExecuteTime": {
     "end_time": "2022-03-10T23:35:24.454888Z",
     "start_time": "2022-03-10T23:35:24.257415Z"
    }
   },
   "outputs": [
    {
     "data": {
      "text/plain": [
       "<AxesSubplot: xlabel='num_raros', ylabel='prob_real'>"
      ]
     },
     "execution_count": 142,
     "metadata": {},
     "output_type": "execute_result"
    },
    {
     "data": {
      "image/png": "[encoded data removed]",
      "text/plain": [
       "<Figure size 640x480 with 1 Axes>"
      ]
     },
     "metadata": {},
     "output_type": "display_data"
    }
   ],
   "source": [
    "sns.barplot(data=tb_poisson, x=\"num_raros\", y=\"prob_medida\", color=bc)\n",
    "sns.pointplot(data=tb_poisson, x=\"num_raros\", y=\"prob_real\", color=\"red\")\n"
   ]
  },
  {
   "cell_type": "markdown",
   "id": "581e11c0",
   "metadata": {},
   "source": [
    "Embora no exemplo acima tenhamos construído uma função de amostragem para uma distribuição de Poisson através de uma simulação isto foi feito apenas para ilustrar a conexão entre as distribuições.\n",
    "\n",
    "Quando precisamos amostrar uma distribuição de Poisson podemos utilizar o método `.rvs()` da nossa variável aleatória (definida através do `scipy`). Este método recebe como argumento o **# de eventos que queremos amostrar da nossa distribuição**, e retorna esta amostragem como um vetor:"
   ]
  },
  {
   "cell_type": "code",
   "execution_count": 143,
   "id": "f6ba676f",
   "metadata": {},
   "outputs": [
    {
     "data": {
      "text/plain": [
       "array([1, 0, 0, 0, 0, 2, 0, 0, 1, 0, 0, 0, 0, 0, 0, 0, 0, 0, 1, 0, 0, 1,\n",
       "       0, 0, 0, 0, 0, 0, 1, 0, 0, 0, 0, 0, 0, 1, 0, 0, 0, 0, 0, 0, 0, 0,\n",
       "       0, 0, 1, 0, 0, 0, 0, 2, 0, 2, 0, 0, 0, 0, 1, 0, 0, 0, 0, 0, 0, 0,\n",
       "       0, 0, 0, 0, 0, 1, 0, 0, 0, 0, 0, 1, 0, 0, 0, 0, 1, 0, 0, 0, 1, 1,\n",
       "       0, 0, 0, 1, 0, 0, 0, 0, 0, 0, 0, 0])"
      ]
     },
     "execution_count": 143,
     "metadata": {},
     "output_type": "execute_result"
    }
   ],
   "source": [
    "amostra_100 = dist_poisson.rvs(100)\n",
    "amostra_100\n"
   ]
  },
  {
   "cell_type": "markdown",
   "id": "50fe41f7",
   "metadata": {},
   "source": [
    "A distribuição de Poisson é usada habitualmente como uma **distribuição de contagem**: toda vez que noss espaço amostral é composto pelo **# de vezes que algo acontece**. Por exemplo, ela é utilizada para modelar o # de ligações que um call center recebe por hora, ou então o # de clientes que entram em um supermercado por minuto.\n",
    "\n",
    "Em todos estes casos, o parâmetro fundamental da distribuição de Poisson é **lambda**: o número de acontecimentos por *time bucket*. \n",
    "\n",
    "#### Aplicação I - Call Center\n",
    "Vamos utilizar a nossa **PMF** para resolver um problema prático: dado que um call center recebe **4 chamadas em média por minuto** em seu horário de pico, **até quantas ligações ele receberá em 99% dos minutos**?\n",
    "\n",
    "Vamos começar criando os parâmetros de nossa distribuição:"
   ]
  },
  {
   "cell_type": "code",
   "execution_count": 144,
   "id": "1d6167ee",
   "metadata": {},
   "outputs": [],
   "source": [
    "lamb = 4\n"
   ]
  },
  {
   "cell_type": "markdown",
   "id": "da97fcab",
   "metadata": {},
   "source": [
    "Agora, vamos inicializar nossa variável aleatória:"
   ]
  },
  {
   "cell_type": "code",
   "execution_count": 145,
   "id": "7fbf6bb0",
   "metadata": {},
   "outputs": [],
   "source": [
    "dist_ligacoes = sp.stats.poisson(lamb)\n"
   ]
  },
  {
   "cell_type": "markdown",
   "id": "65114ae7",
   "metadata": {},
   "source": [
    "Podemos utilizar a nossa **PMF** para visualizar a probabilidade do call center receber *k* chamadas em cada minuto:"
   ]
  },
  {
   "cell_type": "code",
   "execution_count": 146,
   "id": "859f0a72",
   "metadata": {},
   "outputs": [
    {
     "data": {
      "text/plain": [
       "<AxesSubplot: xlabel='num_ligacoes', ylabel='prob'>"
      ]
     },
     "execution_count": 146,
     "metadata": {},
     "output_type": "execute_result"
    },
    {
     "data": {
      "image/png": "[encoded data removed]",
      "text/plain": [
       "<Figure size 640x480 with 1 Axes>"
      ]
     },
     "metadata": {},
     "output_type": "display_data"
    }
   ],
   "source": [
    "tb_ligacoes = pd.DataFrame({\"num_ligacoes\": range(20)})\n",
    "tb_ligacoes[\"prob\"] = tb_ligacoes[\"num_ligacoes\"].map(dist_ligacoes.pmf)\n",
    "sns.barplot(data=tb_ligacoes, x=\"num_ligacoes\", y=\"prob\", color=bc)\n"
   ]
  },
  {
   "cell_type": "markdown",
   "id": "8dfb5dfb",
   "metadata": {},
   "source": [
    "A PMF nos permite calcula a **probabilidade de receber *k* ligações em um minuto** mas o problema nos pede **qual o número *k* de ligações tal que 99% dos minutos recebem menos que *k* ligações**. Podemos utilizar a **CDF** para visualizar a curva acumulada:"
   ]
  },
  {
   "cell_type": "code",
   "execution_count": 147,
   "id": "11c7d21a",
   "metadata": {},
   "outputs": [
    {
     "data": {
      "text/plain": [
       "<AxesSubplot: xlabel='num_ligacoes', ylabel='prob_acum'>"
      ]
     },
     "execution_count": 147,
     "metadata": {},
     "output_type": "execute_result"
    },
    {
     "data": {
      "image/png": "[encoded data removed]",
      "text/plain": [
       "<Figure size 640x480 with 1 Axes>"
      ]
     },
     "metadata": {},
     "output_type": "display_data"
    }
   ],
   "source": [
    "tb_ligacoes = pd.DataFrame({\"num_ligacoes\": range(20)})\n",
    "tb_ligacoes[\"prob_acum\"] = tb_ligacoes[\"num_ligacoes\"].map(dist_ligacoes.cdf)\n",
    "sns.barplot(data=tb_ligacoes, x=\"num_ligacoes\", y=\"prob_acum\", color=bc)\n"
   ]
  },
  {
   "cell_type": "code",
   "execution_count": 148,
   "id": "72dea4cb",
   "metadata": {},
   "outputs": [
    {
     "data": {
      "text/html": [
       "<div>\n",
       "<style scoped>\n",
       "    .dataframe tbody tr th:only-of-type {\n",
       "        vertical-align: middle;\n",
       "    }\n",
       "\n",
       "    .dataframe tbody tr th {\n",
       "        vertical-align: top;\n",
       "    }\n",
       "\n",
       "    .dataframe thead th {\n",
       "        text-align: right;\n",
       "    }\n",
       "</style>\n",
       "<table border=\"1\" class=\"dataframe\">\n",
       "  <thead>\n",
       "    <tr style=\"text-align: right;\">\n",
       "      <th></th>\n",
       "      <th>num_ligacoes</th>\n",
       "      <th>prob_acum</th>\n",
       "    </tr>\n",
       "  </thead>\n",
       "  <tbody>\n",
       "    <tr>\n",
       "      <th>0</th>\n",
       "      <td>0</td>\n",
       "      <td>0.018316</td>\n",
       "    </tr>\n",
       "    <tr>\n",
       "      <th>1</th>\n",
       "      <td>1</td>\n",
       "      <td>0.091578</td>\n",
       "    </tr>\n",
       "    <tr>\n",
       "      <th>2</th>\n",
       "      <td>2</td>\n",
       "      <td>0.238103</td>\n",
       "    </tr>\n",
       "    <tr>\n",
       "      <th>3</th>\n",
       "      <td>3</td>\n",
       "      <td>0.433470</td>\n",
       "    </tr>\n",
       "    <tr>\n",
       "      <th>4</th>\n",
       "      <td>4</td>\n",
       "      <td>0.628837</td>\n",
       "    </tr>\n",
       "    <tr>\n",
       "      <th>5</th>\n",
       "      <td>5</td>\n",
       "      <td>0.785130</td>\n",
       "    </tr>\n",
       "    <tr>\n",
       "      <th>6</th>\n",
       "      <td>6</td>\n",
       "      <td>0.889326</td>\n",
       "    </tr>\n",
       "    <tr>\n",
       "      <th>7</th>\n",
       "      <td>7</td>\n",
       "      <td>0.948866</td>\n",
       "    </tr>\n",
       "    <tr>\n",
       "      <th>8</th>\n",
       "      <td>8</td>\n",
       "      <td>0.978637</td>\n",
       "    </tr>\n",
       "    <tr>\n",
       "      <th>9</th>\n",
       "      <td>9</td>\n",
       "      <td>0.991868</td>\n",
       "    </tr>\n",
       "    <tr>\n",
       "      <th>10</th>\n",
       "      <td>10</td>\n",
       "      <td>0.997160</td>\n",
       "    </tr>\n",
       "    <tr>\n",
       "      <th>11</th>\n",
       "      <td>11</td>\n",
       "      <td>0.999085</td>\n",
       "    </tr>\n",
       "    <tr>\n",
       "      <th>12</th>\n",
       "      <td>12</td>\n",
       "      <td>0.999726</td>\n",
       "    </tr>\n",
       "    <tr>\n",
       "      <th>13</th>\n",
       "      <td>13</td>\n",
       "      <td>0.999924</td>\n",
       "    </tr>\n",
       "    <tr>\n",
       "      <th>14</th>\n",
       "      <td>14</td>\n",
       "      <td>0.999980</td>\n",
       "    </tr>\n",
       "    <tr>\n",
       "      <th>15</th>\n",
       "      <td>15</td>\n",
       "      <td>0.999995</td>\n",
       "    </tr>\n",
       "    <tr>\n",
       "      <th>16</th>\n",
       "      <td>16</td>\n",
       "      <td>0.999999</td>\n",
       "    </tr>\n",
       "    <tr>\n",
       "      <th>17</th>\n",
       "      <td>17</td>\n",
       "      <td>1.000000</td>\n",
       "    </tr>\n",
       "    <tr>\n",
       "      <th>18</th>\n",
       "      <td>18</td>\n",
       "      <td>1.000000</td>\n",
       "    </tr>\n",
       "    <tr>\n",
       "      <th>19</th>\n",
       "      <td>19</td>\n",
       "      <td>1.000000</td>\n",
       "    </tr>\n",
       "  </tbody>\n",
       "</table>\n",
       "</div>"
      ],
      "text/plain": [
       "    num_ligacoes  prob_acum\n",
       "0              0   0.018316\n",
       "1              1   0.091578\n",
       "2              2   0.238103\n",
       "3              3   0.433470\n",
       "4              4   0.628837\n",
       "5              5   0.785130\n",
       "6              6   0.889326\n",
       "7              7   0.948866\n",
       "8              8   0.978637\n",
       "9              9   0.991868\n",
       "10            10   0.997160\n",
       "11            11   0.999085\n",
       "12            12   0.999726\n",
       "13            13   0.999924\n",
       "14            14   0.999980\n",
       "15            15   0.999995\n",
       "16            16   0.999999\n",
       "17            17   1.000000\n",
       "18            18   1.000000\n",
       "19            19   1.000000"
      ]
     },
     "execution_count": 148,
     "metadata": {},
     "output_type": "execute_result"
    }
   ],
   "source": [
    "tb_ligacoes\n"
   ]
  },
  {
   "cell_type": "markdown",
   "id": "a30fc911",
   "metadata": {},
   "source": [
    "Uma outra forma mais simples é utilizar a **PPF** (*percent point function*) que nos permite calcular a partir de uma **probabilidade** o **k** tal que:\n",
    "\n",
    "$$P(x) < k = p$$"
   ]
  },
  {
   "cell_type": "code",
   "execution_count": 149,
   "id": "4b8e62ee",
   "metadata": {},
   "outputs": [
    {
     "data": {
      "text/plain": [
       "9.0"
      ]
     },
     "execution_count": 149,
     "metadata": {},
     "output_type": "execute_result"
    }
   ],
   "source": [
    "dist_ligacoes.ppf(0.99)\n"
   ]
  },
  {
   "cell_type": "markdown",
   "id": "b338f3d8",
   "metadata": {},
   "source": [
    "### Distribuição Exponencial\n",
    "\n",
    "**Espaço amostral**: *Números Reais >= 0*\n",
    "\n",
    "**Parâmetros**: \n",
    "1. *lambda*: taxa.\n",
    "\n",
    "**Estatísticas Descritivas**:\n",
    "* *Média* $$\\mu = \\frac{1}{\\lambda}$$\n",
    "* *Desvio Padrão* $$\\sigma = \\frac{1}{\\lambda}$$\n",
    "\n",
    "Até agora as variáveis aleatória que vimos são todas **discretas**, ou seja, o seu espaço amostral é composto por um número pequeno de eventos possíveis (`['cara', 'coroa']` por exemplo) ou por um número inteiro.\n",
    "\n",
    "A distribuição exponencial é **contínua**, o que significa que **não podemos calcular a probabilidade em um evento em particular**, apenas de conjuntos de eventos:\n",
    "\n",
    "1. Se uma variável aleatória tem uma distribuição exponencial, não conseguimos calcular a probabilidade de um número *x* (**P**(*x*));\n",
    "1. Para calcular a probabilidade de conjunto de eventos, calculamos a probabilide de intervalos, por exemplo: \n",
    "    * **P**(*x* < *A*) (probabilidade de um evento ter valor menor que A);\n",
    "    * **P**(*x* > *A*) (probabilidade de um evento ter valor maior que A);\n",
    "    * **P**(*A* < *x* < *B*) (probabilidade de um evento ter valor maior que A e menor que B);\n",
    "\n",
    "Vamos inicializar uma variável aleatória com distribuição **Exponencial** através da função `expon()`. \n",
    "\n",
    "Um detalhe **importante** é que essa função não é **parametrizada por lambda** e sim por `scale = 1/lambda` (ou seja, pela média da distribuição)!"
   ]
  },
  {
   "cell_type": "code",
   "execution_count": 150,
   "id": "7ccfb456",
   "metadata": {
    "ExecuteTime": {
     "end_time": "2022-03-10T23:38:46.515055Z",
     "start_time": "2022-03-10T23:38:46.508074Z"
    }
   },
   "outputs": [],
   "source": [
    "dist_exp = sp.stats.expon(scale=1 / lamb)\n"
   ]
  },
  {
   "cell_type": "markdown",
   "id": "4845c4de",
   "metadata": {},
   "source": [
    "Como uma distribuição contínua não possui probabilidade associadas à cada evento, precisamos utilizar outra função para `visualizar` a distribuição: a **PDF** ou *probability density function*:"
   ]
  },
  {
   "cell_type": "code",
   "execution_count": 151,
   "id": "2c125fc5",
   "metadata": {
    "ExecuteTime": {
     "end_time": "2022-03-10T23:44:56.792986Z",
     "start_time": "2022-03-10T23:44:56.554625Z"
    }
   },
   "outputs": [
    {
     "data": {
      "text/plain": [
       "<AxesSubplot: xlabel='x', ylabel='PDF'>"
      ]
     },
     "execution_count": 151,
     "metadata": {},
     "output_type": "execute_result"
    },
    {
     "data": {
      "image/png": "[encoded data removed]",
      "text/plain": [
       "<Figure size 640x480 with 1 Axes>"
      ]
     },
     "metadata": {},
     "output_type": "display_data"
    }
   ],
   "source": [
    "tb_expon = pd.DataFrame({\"x\": np.linspace(0.01, 2, 100)})\n",
    "tb_expon[\"PDF\"] = tb_expon[\"x\"].map(dist_exp.pdf)\n",
    "sns.lineplot(data = tb_expon, x='x', y='PDF', color=\"red\")\n"
   ]
  },
  {
   "cell_type": "markdown",
   "id": "05ac19d8",
   "metadata": {},
   "source": [
    "Note que a **PDF** tem valores **ACIMA DE 1**! Ela não é uma função de probabilidade!\n",
    "\n",
    "Para calcular a probabilidade de um intervalo devemos utilizar a **CDF**:"
   ]
  },
  {
   "cell_type": "code",
   "execution_count": 153,
   "id": "d4f6508b",
   "metadata": {
    "ExecuteTime": {
     "end_time": "2022-03-10T23:42:00.777184Z",
     "start_time": "2022-03-10T23:42:00.568751Z"
    }
   },
   "outputs": [
    {
     "data": {
      "text/html": [
       "<div>\n",
       "<style scoped>\n",
       "    .dataframe tbody tr th:only-of-type {\n",
       "        vertical-align: middle;\n",
       "    }\n",
       "\n",
       "    .dataframe tbody tr th {\n",
       "        vertical-align: top;\n",
       "    }\n",
       "\n",
       "    .dataframe thead th {\n",
       "        text-align: right;\n",
       "    }\n",
       "</style>\n",
       "<table border=\"1\" class=\"dataframe\">\n",
       "  <thead>\n",
       "    <tr style=\"text-align: right;\">\n",
       "      <th></th>\n",
       "      <th>x</th>\n",
       "      <th>PDF</th>\n",
       "      <th>CDF</th>\n",
       "    </tr>\n",
       "  </thead>\n",
       "  <tbody>\n",
       "    <tr>\n",
       "      <th>0</th>\n",
       "      <td>0.010000</td>\n",
       "      <td>3.843158</td>\n",
       "      <td>0.039211</td>\n",
       "    </tr>\n",
       "    <tr>\n",
       "      <th>1</th>\n",
       "      <td>0.030101</td>\n",
       "      <td>3.546249</td>\n",
       "      <td>0.113438</td>\n",
       "    </tr>\n",
       "    <tr>\n",
       "      <th>2</th>\n",
       "      <td>0.050202</td>\n",
       "      <td>3.272278</td>\n",
       "      <td>0.181931</td>\n",
       "    </tr>\n",
       "    <tr>\n",
       "      <th>3</th>\n",
       "      <td>0.070303</td>\n",
       "      <td>3.019473</td>\n",
       "      <td>0.245132</td>\n",
       "    </tr>\n",
       "    <tr>\n",
       "      <th>4</th>\n",
       "      <td>0.090404</td>\n",
       "      <td>2.786199</td>\n",
       "      <td>0.303450</td>\n",
       "    </tr>\n",
       "    <tr>\n",
       "      <th>5</th>\n",
       "      <td>0.110505</td>\n",
       "      <td>2.570947</td>\n",
       "      <td>0.357263</td>\n",
       "    </tr>\n",
       "    <tr>\n",
       "      <th>6</th>\n",
       "      <td>0.130606</td>\n",
       "      <td>2.372324</td>\n",
       "      <td>0.406919</td>\n",
       "    </tr>\n",
       "    <tr>\n",
       "      <th>7</th>\n",
       "      <td>0.150707</td>\n",
       "      <td>2.189047</td>\n",
       "      <td>0.452738</td>\n",
       "    </tr>\n",
       "    <tr>\n",
       "      <th>8</th>\n",
       "      <td>0.170808</td>\n",
       "      <td>2.019928</td>\n",
       "      <td>0.495018</td>\n",
       "    </tr>\n",
       "    <tr>\n",
       "      <th>9</th>\n",
       "      <td>0.190909</td>\n",
       "      <td>1.863876</td>\n",
       "      <td>0.534031</td>\n",
       "    </tr>\n",
       "  </tbody>\n",
       "</table>\n",
       "</div>"
      ],
      "text/plain": [
       "          x       PDF       CDF\n",
       "0  0.010000  3.843158  0.039211\n",
       "1  0.030101  3.546249  0.113438\n",
       "2  0.050202  3.272278  0.181931\n",
       "3  0.070303  3.019473  0.245132\n",
       "4  0.090404  2.786199  0.303450\n",
       "5  0.110505  2.570947  0.357263\n",
       "6  0.130606  2.372324  0.406919\n",
       "7  0.150707  2.189047  0.452738\n",
       "8  0.170808  2.019928  0.495018\n",
       "9  0.190909  1.863876  0.534031"
      ]
     },
     "execution_count": 153,
     "metadata": {},
     "output_type": "execute_result"
    },
    {
     "data": {
      "image/png": "[encoded data removed]",
      "text/plain": [
       "<Figure size 640x480 with 1 Axes>"
      ]
     },
     "metadata": {},
     "output_type": "display_data"
    }
   ],
   "source": [
    "tb_expon[\"CDF\"] = dist_exp.cdf(tb_expon[\"x\"])\n",
    "sns.lineplot(data = tb_expon, x='x', y='CDF', color=\"red\")\n",
    "tb_expon.head(10)\n"
   ]
  },
  {
   "cell_type": "markdown",
   "id": "d568b51d",
   "metadata": {},
   "source": [
    "A **CDF** de uma distribuição continua nos da a probabilidade de que um evento tenha valor inferior a X (comunmente escrito **P**(*x* < *X*)). Na distribuição acima vemos que a probabilidade de um evento ter valor menor que 0,07 é de 0,245.\n",
    "\n",
    "Para calcular a probabilidade de intervalos podemos utilizar a diferença entre **CDF**s. Vamos calcular a chance de um enveto com valores entre 0,5 e 1,5:"
   ]
  },
  {
   "cell_type": "code",
   "execution_count": 154,
   "id": "eff24762",
   "metadata": {},
   "outputs": [
    {
     "data": {
      "text/plain": [
       "0.13285653105994633"
      ]
     },
     "execution_count": 154,
     "metadata": {},
     "output_type": "execute_result"
    }
   ],
   "source": [
    "dist_exp.cdf(1.5) - dist_exp.cdf(0.5)\n"
   ]
  },
  {
   "cell_type": "markdown",
   "id": "61a3b29b",
   "metadata": {},
   "source": [
    "A distribuição exponencial é utilizada para modelar o **tempo entre eventos independentes**, por exemplo, o tempo entre chamadas chegando em um call center. **Eventos independentes** são eventos cuja probabilidades de ocorrer não são relacionadas - por exemplo, em 2 lances de moedas sequencias, a chance de caras no segunda lance não depende do resultado do primeiro!\n",
    "\n",
    "Utilizaremos a distribuição exponencial para simular o tempo entre ligações chegando em um call center - assumindo o mesmo lambda que utilizamos na nossa simulação de Call Center da distribuição de Poisson. **Assim como a distribuição de Poisson**, a distribuição **Exponencial** é parametrizada por **lambda**, *a taxa de chegada de eventos por unidade de tempo*."
   ]
  },
  {
   "cell_type": "code",
   "execution_count": 157,
   "id": "409ab17a",
   "metadata": {},
   "outputs": [
    {
     "data": {
      "text/plain": [
       "0.25"
      ]
     },
     "execution_count": 157,
     "metadata": {},
     "output_type": "execute_result"
    }
   ],
   "source": [
    "1/lamb"
   ]
  },
  {
   "cell_type": "code",
   "execution_count": 155,
   "id": "3581969d",
   "metadata": {
    "ExecuteTime": {
     "end_time": "2022-03-10T23:49:06.313047Z",
     "start_time": "2022-03-10T23:49:06.305069Z"
    }
   },
   "outputs": [
    {
     "data": {
      "text/plain": [
       "array([3.82920296e-02, 3.17912524e-02, 2.61045584e-01, 1.44629301e-01,\n",
       "       2.46996516e-01, 2.23666835e-01, 1.76250373e-02, 3.78755647e-02,\n",
       "       3.91381680e-01, 1.11224003e+00, 6.86214383e-02, 8.58645824e-02,\n",
       "       2.60697260e-01, 6.93453194e-02, 2.70924832e-01, 5.17465865e-01,\n",
       "       9.03326832e-01, 8.35838280e-01, 7.49342659e-02, 7.54159047e-01,\n",
       "       7.79148195e-02, 2.50819881e-01, 5.75910686e-02, 3.05368440e-01,\n",
       "       2.26941966e-02, 7.53776081e-01, 6.52534988e-01, 7.45993989e-03,\n",
       "       2.54675975e-01, 1.23332716e-01, 4.82377837e-01, 2.31616080e-02,\n",
       "       5.08121737e-01, 1.17018462e+00, 1.47901159e-01, 1.39218005e-02,\n",
       "       1.27402183e-01, 1.77105424e-01, 4.51472844e-02, 8.36012432e-02,\n",
       "       2.90765873e-01, 2.07755445e-01, 8.07087479e-02, 9.69828455e-02,\n",
       "       3.03882603e-01, 2.01820337e-02, 9.00618614e-02, 9.92304253e-04,\n",
       "       9.47996386e-02, 1.30571508e-01, 1.59613021e-02, 5.15238788e-02,\n",
       "       6.24709254e-02, 6.19142902e-02, 1.10385778e-01, 1.75855135e-01,\n",
       "       3.71236038e-02, 1.30779142e-01, 6.54587620e-02, 8.40230841e-02,\n",
       "       3.06594262e-01, 3.20510235e-02, 4.75175615e-01, 7.29848222e-01,\n",
       "       3.61749770e-01, 2.99510162e-01, 1.84318259e-01, 2.99319990e-01,\n",
       "       1.65612645e-02, 3.57683770e-01, 2.37843227e-02, 3.56755119e-01,\n",
       "       4.51458246e-02, 3.23478987e-01, 2.47285627e-01, 8.74540256e-03,\n",
       "       4.20165816e-02, 3.26479236e-01, 3.14363349e-02, 1.88490021e-01,\n",
       "       7.42594549e-02, 3.35804620e-01, 1.43762813e-01, 3.30080115e-01,\n",
       "       2.23395688e-01, 2.67107877e-01, 8.14552116e-02, 9.09224598e-02,\n",
       "       8.16557861e-03, 3.32308324e-02, 1.40750730e-01, 1.96452065e-02,\n",
       "       1.20861494e-02, 3.22872911e-01, 1.62722110e-02, 9.81378150e-02,\n",
       "       7.94877030e-02, 8.96538184e-03, 3.23023406e-01, 2.94683234e-01,\n",
       "       4.57830153e-02, 5.14528326e-01, 8.83487412e-02, 6.77181293e-01,\n",
       "       7.50585035e-02, 6.95894739e-02, 1.88915565e-03, 2.46349408e-01,\n",
       "       2.33575739e-01, 3.11556976e-02, 6.99698295e-01, 5.83228688e-01,\n",
       "       4.45842986e-02, 3.56211642e-02, 2.40339393e-01, 4.96052177e-02,\n",
       "       3.61282791e-01, 3.08928510e-01, 2.83286312e-01, 3.68288650e-02,\n",
       "       6.69265352e-01, 2.65767570e-01, 1.80528104e-01, 2.26213056e-01,\n",
       "       1.28593212e-02, 3.63872939e-01, 2.45873032e-01, 2.56217243e-01,\n",
       "       2.42002720e-01, 6.52875823e-02, 2.87239635e-01, 4.11645096e-02,\n",
       "       2.54441125e-01, 2.93187080e-01, 3.03027886e-01, 5.43177057e-01,\n",
       "       1.25251998e-01, 1.28095656e-02, 6.99704275e-01, 4.20211678e-01,\n",
       "       1.27232383e-02, 1.87858839e-02, 5.26307328e-03, 1.56290350e-01,\n",
       "       1.03983721e-01, 2.70464895e-01, 2.18921593e-02, 4.14203156e-01,\n",
       "       1.60831820e-01, 1.66205932e-02, 7.05116083e-02, 3.86790370e-01,\n",
       "       5.22694690e-02, 2.77787605e-01, 1.25339719e-01, 2.69222326e-01,\n",
       "       2.20059179e-01, 4.80626108e-02, 3.46970821e-01, 1.82314163e-01,\n",
       "       2.49832547e-01, 9.74669206e-02, 9.63492934e-02, 3.69243018e-02,\n",
       "       3.89039481e-01, 2.06449372e-01, 5.24224909e-02, 5.31749834e-01,\n",
       "       9.97132975e-02, 2.78914474e-01, 1.63197523e-02, 9.64094624e-02,\n",
       "       5.63950006e-04, 5.40019364e-01, 4.60715789e-02, 8.78913499e-01,\n",
       "       5.13105452e-01, 8.05060492e-02, 6.74405930e-04, 4.02724528e-02,\n",
       "       2.57112545e-02, 4.53999949e-01, 9.81291868e-02, 2.05162870e-01,\n",
       "       3.07171615e-02, 1.03935595e-01, 4.07888785e-01, 1.74575682e-02,\n",
       "       1.20550742e+00, 5.44355467e-02, 1.97170001e-01, 4.05030446e-01,\n",
       "       2.77462338e-01, 3.92198468e-02, 3.49199772e-02, 9.79696649e-03,\n",
       "       2.45621187e-01, 1.56038267e-02, 2.12346143e-01, 6.52389672e-02,\n",
       "       4.70697691e-01, 1.52354454e-02, 3.41765786e-02, 2.27649327e-01,\n",
       "       8.55416326e-02, 1.11174465e-01, 2.49784876e-02, 4.51242351e-01,\n",
       "       1.49248979e-01, 1.03735144e-01, 5.15423927e-01, 4.21337960e-01,\n",
       "       3.96487363e-02, 1.09968850e-01, 9.47056081e-02, 7.93762961e-02,\n",
       "       4.19767274e-01, 1.01612072e-01, 1.50101618e+00, 2.70531517e-01,\n",
       "       1.86219880e-02, 2.00839537e-01, 1.25861691e-01, 1.53178638e-01,\n",
       "       2.83683743e-01, 7.16785200e-01, 1.99024406e-01, 4.68536395e-02,\n",
       "       6.66993747e-01, 3.16709684e-02, 4.13941054e-01, 5.31383762e-01,\n",
       "       3.32230300e-01, 2.17648749e-01, 3.20624384e-01, 3.74472235e-01,\n",
       "       9.14211373e-02, 1.47079304e-01, 1.33217316e-02, 2.50943841e-01,\n",
       "       1.88689588e-01, 2.13802620e-01, 5.36728513e-02, 9.05971548e-03,\n",
       "       4.46462799e-01, 8.54856720e-02, 2.54749702e-01, 6.20312667e-02,\n",
       "       6.45384243e-01, 8.10009175e-02, 1.81010992e-01, 4.11722691e-01,\n",
       "       2.10717247e-02, 3.24882701e-01, 1.12421779e+00, 8.73719929e-02,\n",
       "       4.65709855e-02, 1.03346899e-01, 5.45176407e-01, 5.21184674e-01,\n",
       "       1.94270247e-02, 1.14235330e-01, 2.00377623e-01, 1.37500132e-01,\n",
       "       7.49786176e-02, 6.39494891e-01, 8.02008311e-02, 3.16195232e-01,\n",
       "       2.38178202e-01, 4.84998882e-02, 1.98981118e-01, 8.08898640e-02,\n",
       "       1.57975378e-01, 4.03760090e-01, 3.67880700e-01, 5.97570672e-01,\n",
       "       1.10392554e-01, 1.21254007e-01, 2.66719764e-01, 1.31500366e-01,\n",
       "       7.62539398e-02, 2.16932604e-01, 4.65766243e-02, 4.62597174e-02,\n",
       "       4.58162970e-02, 1.09584498e-01, 2.99414528e-01, 7.04167744e-01,\n",
       "       7.13257799e-01, 6.83363905e-03, 8.82797090e-01, 1.00812376e-01,\n",
       "       1.25186538e-01, 2.58025984e-01, 2.32362493e-01, 1.05023275e-02,\n",
       "       6.86979086e-02, 6.25733280e-03, 7.12531042e-01, 6.50829294e-01,\n",
       "       2.23844011e-01, 1.64386383e-01, 1.42000256e+00, 7.70454628e-01,\n",
       "       2.54921330e-01, 4.95363493e-01, 7.54537203e-02, 1.13437835e-01,\n",
       "       4.23633224e-02, 4.31897782e-02, 9.89961191e-02, 3.01968836e-01,\n",
       "       1.25470807e-01, 2.09485375e-01, 1.56411405e-01, 2.36154984e-01,\n",
       "       1.88451486e-01, 3.98145676e-01, 8.03652475e-02, 5.11757093e-01,\n",
       "       4.26757859e-01, 8.76316097e-02, 6.18167014e-01, 2.31412798e-01,\n",
       "       5.86055487e-01, 3.05033847e-01, 2.12476020e-01, 3.07403651e-01,\n",
       "       1.60733254e-01, 3.01378600e-01, 1.68436261e-01, 1.00065246e-01,\n",
       "       2.02905051e-01, 3.17396918e-01, 2.37546654e-01, 1.71288064e-01,\n",
       "       1.39237140e-01, 6.22027852e-02, 7.32876321e-02, 1.56486507e-01,\n",
       "       1.06159607e-01, 4.10658039e-03, 6.09540458e-02, 3.61634635e-02,\n",
       "       1.21132222e-01, 7.64726709e-02, 2.08378493e-02, 1.13645424e-01,\n",
       "       1.07073751e-02, 3.55315064e-01, 1.00800068e-01, 8.26499910e-02,\n",
       "       1.58274553e-01, 1.81395795e-01, 1.44162575e-01, 1.12369766e-01,\n",
       "       1.18194789e-01, 7.51076817e-02, 3.54677496e-01, 3.72590754e-01,\n",
       "       2.67297917e-02, 7.10570465e-02, 3.33524618e-01, 1.98534033e-01,\n",
       "       5.06293996e-01, 7.68581242e-02, 2.30494810e-01, 5.48962958e-01,\n",
       "       7.18973782e-01, 5.38072333e-04, 2.62871618e-01, 1.30462360e-01,\n",
       "       4.12304107e-01, 5.52556966e-02, 7.51273015e-01, 1.06624837e-02,\n",
       "       2.49596450e-02, 1.21753399e-01, 1.15155256e-01, 9.61258018e-03,\n",
       "       3.76352964e-01, 1.10230225e-01, 2.87322283e-01, 1.14779959e+00,\n",
       "       1.08430707e-02, 4.18859167e-01, 8.70952396e-01, 5.22377978e-01,\n",
       "       8.78925901e-02, 3.14738077e-01, 4.81202345e-02, 2.29756620e-01,\n",
       "       7.37416798e-02, 2.96537397e-02, 1.83411559e-05, 7.33742491e-01,\n",
       "       3.16098978e-01, 1.80919312e-01, 1.16530575e-01, 9.03615914e-02,\n",
       "       1.11383127e-01, 2.62548630e-01, 2.85848894e-02, 8.56149966e-01,\n",
       "       9.37364441e-02, 9.00498110e-02, 2.08402173e-01, 2.12043980e-01,\n",
       "       6.24732727e-03, 8.88819830e-02, 1.12186193e-01, 1.51785954e-01,\n",
       "       3.27088517e-02, 3.44503584e-01, 1.27838919e-02, 2.35940002e-02,\n",
       "       3.21098063e-01, 8.15370143e-02, 5.06891787e-01, 2.16513615e-01,\n",
       "       1.17650404e-01, 8.68735681e-02, 2.28285037e-03, 2.24502324e-01,\n",
       "       6.76744494e-01, 4.34271747e-01, 2.22238024e-01, 4.50103010e-01,\n",
       "       5.87786798e-01, 2.39662753e-02, 7.10369112e-02, 4.66297941e-01,\n",
       "       1.90138346e-01, 7.64564786e-03, 8.47069014e-02, 4.79325332e-02,\n",
       "       6.04739523e-01, 3.89199379e-01, 1.20642125e-03, 4.08133114e-01,\n",
       "       1.57174070e-01, 2.19203958e-02, 6.71866854e-02, 1.35389922e-01,\n",
       "       5.99926121e-03, 2.41975019e-01, 6.85833192e-02, 4.85899591e-01,\n",
       "       2.10989232e-02, 1.05705295e-01, 1.08183896e-01, 4.45614344e-02,\n",
       "       1.31722285e-01, 4.80640932e-03, 2.15787010e-01, 3.16024792e-01,\n",
       "       1.32670812e-01, 4.23705674e-02, 2.86972633e-01, 2.23678935e-02,\n",
       "       1.54647169e-01, 1.08208012e-01, 6.99127780e-02, 6.73657948e-02,\n",
       "       8.31423922e-02, 2.54331654e-01, 6.56645139e-02, 8.56323444e-02,\n",
       "       3.60245898e-01, 3.35495739e-02, 1.27372028e-01, 2.40460097e-01,\n",
       "       1.35779778e-01, 2.91315469e-01, 4.34331470e-02, 4.65463274e-02,\n",
       "       2.64527291e-01, 5.42645040e-01, 4.10958524e-01, 2.78018259e-01,\n",
       "       3.46239939e-01, 1.94963477e-01, 1.42709425e-02, 1.82362974e-01,\n",
       "       1.39120701e-01, 2.25662801e-01, 4.09136846e-02, 1.57841103e-01,\n",
       "       2.49386509e-01, 6.90620945e-03, 1.48710819e-01, 2.51904229e-01,\n",
       "       3.86165828e-01, 1.37877726e-01, 2.26856866e-01, 5.46968186e-01,\n",
       "       1.41282364e-01, 1.73918340e-02, 4.67876990e-01, 5.22466251e-01,\n",
       "       3.02381387e-01, 1.92599432e-01, 1.76694866e-01, 1.50191279e-01,\n",
       "       1.88911387e-01, 1.52689274e-01, 8.61942661e-01, 4.53352816e-03,\n",
       "       2.83997421e-01, 1.39263569e-01, 5.29661400e-01, 9.83973859e-02,\n",
       "       4.13602484e-02, 3.01847209e-02, 5.19298281e-02, 4.91473681e-01,\n",
       "       1.66813401e-02, 2.04156671e-01, 5.02937723e-01, 5.98292338e-01,\n",
       "       3.16084896e-01, 4.95042226e-01, 1.52190440e-01, 6.26658047e-01,\n",
       "       1.04179562e+00, 9.46808178e-01, 1.80526825e-01, 1.97247828e-01,\n",
       "       1.02190849e-01, 8.36856834e-01, 2.53132895e-01, 1.07622402e-01,\n",
       "       2.71168115e-01, 2.99426173e-01, 5.08651882e-02, 1.29510202e-01,\n",
       "       2.86875369e-01, 8.53124720e-02, 3.56979076e-02, 5.53533161e-02,\n",
       "       2.92965482e-01, 1.03865174e-01, 4.34566505e-01, 2.55029753e-01,\n",
       "       1.12249241e+00, 6.24187994e-02, 4.09974496e-02, 1.67626336e-01,\n",
       "       4.66153989e-01, 2.67305915e-01, 1.77628418e-02, 1.10291648e-01,\n",
       "       1.12049153e-01, 6.68876746e-01, 1.19689787e-01, 7.33909586e-02,\n",
       "       4.05458717e-02, 2.36606030e-02, 1.11864593e-01, 6.05223051e-03,\n",
       "       3.92508447e-02, 4.02552827e-02, 2.31088028e-02, 5.20300931e-02,\n",
       "       4.89529352e-02, 8.25913489e-01, 2.65521982e-01, 1.91624924e-01,\n",
       "       1.64140565e+00, 9.08231144e-02, 4.23874491e-01, 6.40729215e-01,\n",
       "       7.63307620e-02, 7.61774385e-02, 1.88215953e-02, 1.92543906e-02,\n",
       "       4.55946039e-01, 7.56261925e-01, 4.11246534e-02, 2.25555610e-01,\n",
       "       2.68222279e-01, 1.48725934e-01, 2.64275590e-01, 1.87585339e-01,\n",
       "       9.83813678e-02, 3.37661938e-01, 5.46004043e-02, 4.98274014e-02,\n",
       "       1.12098695e+00, 1.96699938e-01, 4.15403127e-02, 2.21304893e-01,\n",
       "       5.81077438e-01, 3.93300852e-01, 6.57324103e-02, 4.47012563e-01,\n",
       "       2.40641572e-01, 1.81719937e-01, 2.22176962e-01, 2.52832993e-01,\n",
       "       1.91976997e-01, 1.47638714e-01, 9.43096765e-05, 9.18657734e-03,\n",
       "       2.49054804e-01, 3.90907093e-02, 9.33001342e-02, 3.03310797e-01,\n",
       "       1.00015344e-01, 6.35794328e-01, 2.19582297e-01, 3.01619050e-01,\n",
       "       5.04853508e-01, 1.75335188e-01, 4.49096998e-01, 7.42849017e-03,\n",
       "       9.26866930e-02, 1.48782699e-01, 3.63790505e-01, 4.66774488e-01,\n",
       "       5.85130461e-02, 2.42244287e-01, 2.61141883e-01, 4.00131923e-01,\n",
       "       4.55547534e-01, 4.58234151e-01, 2.86723002e-01, 2.40567926e-01,\n",
       "       4.47734248e-01, 1.88848345e-01, 3.54821195e-01, 3.99740842e-03,\n",
       "       4.31259029e-01, 1.47386316e-02, 1.80575860e-01, 4.03680786e-01,\n",
       "       7.00077880e-02, 6.53083380e-02, 1.18940006e-01, 5.83159675e-02,\n",
       "       8.73282407e-03, 3.12238645e-01, 1.36457399e-01, 4.10851915e-01,\n",
       "       2.37675466e-01, 3.76730206e-02, 2.66703218e-01, 5.10284648e-02,\n",
       "       4.69355211e-03, 1.71256597e-01, 3.65501818e-02, 8.58044673e-02,\n",
       "       4.76334352e-01, 1.38404467e-01, 1.55014137e-02, 7.11210211e-01,\n",
       "       2.46098388e-01, 9.23691864e-01, 7.47550134e-01, 6.25548955e-01,\n",
       "       9.47482361e-03, 7.93502394e-02, 2.35755136e-01, 2.61212356e-01,\n",
       "       2.60281847e-01, 1.41490430e-01, 1.18062967e+00, 4.50685289e-01,\n",
       "       1.55340380e-01, 4.33397256e-01, 2.44928862e-01, 1.39419596e-02,\n",
       "       7.27842556e-02, 2.14791649e-01, 3.24183806e-01, 4.93318103e-02,\n",
       "       1.33181763e-01, 6.39640022e-01, 2.05371997e-01, 4.87123632e-03,\n",
       "       2.50161510e-01, 1.35771153e-01, 2.86396541e-02, 3.46611871e-02,\n",
       "       3.10052208e-01, 2.03467611e-01, 2.13644538e-02, 1.08360724e-01,\n",
       "       2.78727857e-03, 2.31440147e-02, 6.49233960e-01, 5.76358024e-01,\n",
       "       4.22299288e-01, 6.78327829e-01, 4.27493826e-02, 5.70205207e-02,\n",
       "       1.25160058e-02, 5.72749282e-02, 5.05062757e-01, 2.94816338e-01,\n",
       "       2.76847321e-01, 1.75525071e-01, 3.50722728e-01, 3.82345532e-03,\n",
       "       3.71136178e-01, 7.80714206e-02, 3.74589939e-01, 1.98980787e-01,\n",
       "       1.03536559e-01, 5.31763123e-02, 1.93717022e-02, 3.64319205e-02,\n",
       "       1.34394680e-01, 1.41476395e-01, 1.47908175e-01, 1.26996915e-01,\n",
       "       2.67545691e-01, 1.39228320e-01, 1.28088057e-03, 1.18918127e-01,\n",
       "       1.01324265e+00, 1.12563122e-01, 1.12287398e-01, 3.97426286e-02,\n",
       "       8.21556357e-02, 7.39051693e-01, 1.45227560e-01, 1.78411565e-02,\n",
       "       9.01390069e-02, 1.96506619e-02, 1.00342602e-02, 5.61718206e-01,\n",
       "       3.35805118e-02, 1.33672895e-02, 5.01098087e-02, 6.51343561e-01,\n",
       "       1.12875036e-01, 4.79119164e-02, 1.07398076e-01, 8.52723148e-03,\n",
       "       1.05954140e+00, 4.99593446e-01, 8.26852940e-03, 6.18896064e-02,\n",
       "       7.10178494e-02, 2.25946538e-01, 4.13821432e-02, 9.75976652e-02,\n",
       "       6.37849126e-02, 1.15167070e-01, 2.71899126e-01, 3.01168034e-02,\n",
       "       1.04530828e-01, 2.60647037e-01, 1.03800490e-01, 1.63705541e-02,\n",
       "       2.88010114e-01, 1.65288298e-01, 5.92616345e-02, 1.67761204e-01,\n",
       "       2.57177687e-01, 8.21188735e-01, 2.34945416e-01, 3.00106145e-01,\n",
       "       1.69229731e-01, 1.41722442e-01, 4.12014999e-01, 2.80125741e-01,\n",
       "       6.45831936e-01, 3.88643269e-01, 2.26470424e-01, 1.63932882e-01,\n",
       "       6.08013296e-01, 3.32283624e-03, 1.03313936e-01, 7.91227371e-02,\n",
       "       2.51984563e-01, 6.33383641e-01, 5.58690505e-01, 1.76789146e-01,\n",
       "       7.24064363e-01, 5.00987518e-01, 2.20793055e-01, 8.75062739e-02,\n",
       "       3.24705638e-01, 2.44826672e-01, 3.71808699e-01, 2.77296821e-03,\n",
       "       3.16994797e-01, 2.71970117e-01, 4.59787991e-01, 3.12231421e-02,\n",
       "       8.31859798e-02, 7.80791109e-01, 1.16551628e-01, 1.99051208e-01,\n",
       "       8.91511235e-02, 6.85487479e-01, 1.11497590e-01, 1.16195232e-02,\n",
       "       1.71112886e-01, 8.36516037e-02, 4.33446161e-01, 5.24969037e-04,\n",
       "       2.08293781e-01, 3.55906245e-02, 8.45910425e-01, 2.55851234e-01,\n",
       "       6.25760209e-02, 1.05397005e-01, 1.41908897e-01, 1.27175708e-01,\n",
       "       8.69298895e-02, 4.18934604e-02, 1.37202865e-01, 1.31652520e-01,\n",
       "       9.08544862e-02, 3.75024463e-01, 3.37577106e-01, 1.04990609e-01,\n",
       "       2.88911176e-01, 2.45914145e-01, 3.52496700e-01, 1.04447712e-01,\n",
       "       6.34718236e-01, 2.97146477e-02, 3.66269199e-02, 1.23459827e-01,\n",
       "       7.53032819e-01, 1.64434156e-01, 1.62467660e-01, 1.46430392e-02,\n",
       "       2.11461571e-01, 1.31342380e-01, 4.81228869e-02, 7.77937923e-02,\n",
       "       1.05608065e-01, 9.13362965e-02, 1.99158974e-01, 5.85171115e-01,\n",
       "       8.94080971e-01, 5.72589469e-01, 5.55694543e-02, 2.85699502e-02,\n",
       "       4.41239207e-02, 1.27603356e-01, 1.99430837e-01, 5.54951203e-02,\n",
       "       2.39145545e-01, 3.19234173e-01, 3.27969405e-01, 3.21946863e-01,\n",
       "       3.55747660e-01, 1.13193944e-01, 1.22362519e-01, 3.19857919e-01,\n",
       "       3.27941267e-01, 1.22748933e+00, 8.71323500e-02, 4.72686289e-01,\n",
       "       2.70447890e-01, 1.55256010e-01, 1.52587252e-01, 2.12009241e-02,\n",
       "       4.82312318e-01, 3.64594668e-01, 6.70423262e-03, 2.47715596e-02,\n",
       "       3.65598051e-01, 2.18069340e-02, 3.49681162e-01, 4.19022972e-01,\n",
       "       1.60605247e-01, 7.60734628e-02, 1.66257574e-02, 8.20959002e-02,\n",
       "       3.54278851e-01, 7.84027189e-02, 3.17443974e-01, 9.49992673e-02,\n",
       "       6.33972407e-03, 2.18398990e-01, 1.96204536e-01, 5.57634297e-01,\n",
       "       2.44177632e-02, 7.90360927e-01, 5.73787122e-02, 2.79382884e-01,\n",
       "       2.22005824e-01, 4.89895107e-01, 5.69303280e-02, 1.70141972e-01,\n",
       "       1.73632396e-02, 1.30142622e-01, 8.95355690e-01, 1.59484042e-01,\n",
       "       7.37449004e-02, 7.99560367e-03, 6.99392199e-01, 1.11840876e-02,\n",
       "       4.16227098e-02, 3.06599881e-01, 4.45957189e-01, 2.88059739e-02,\n",
       "       3.29164422e-01, 8.02338924e-02, 1.91399294e-01, 1.02524393e-01,\n",
       "       3.37980730e-01, 1.01920548e+00, 1.68234965e-01, 4.29351126e-02,\n",
       "       3.21202212e-01, 1.20486583e-01, 2.01869035e-02, 1.34632537e-01,\n",
       "       5.32394562e-02, 2.24254223e-01, 3.07846162e-02, 8.43451084e-03,\n",
       "       2.46391918e-01, 1.79804768e+00, 6.98445743e-03, 1.11604905e-01,\n",
       "       1.45043339e-01, 8.05067852e-01, 2.36945215e-01, 1.14233813e+00,\n",
       "       6.48266257e-02, 8.60753162e-02, 1.12079704e-01, 3.46503666e-01,\n",
       "       1.08322349e-01, 9.69114677e-02, 2.62498322e-01, 7.64852531e-03,\n",
       "       1.66468836e-01, 3.03292033e-01, 1.52869336e-01, 1.04758188e+00,\n",
       "       5.58575619e-01, 1.52203197e-01, 1.75159608e-01, 1.21497736e-01,\n",
       "       2.21372381e-01, 1.85577445e-02, 3.41422070e-02, 2.92406868e-01,\n",
       "       2.02226241e-01, 2.57449117e-01, 2.00120520e-01, 3.15630731e-02,\n",
       "       1.13523911e-01, 1.83094734e-02, 1.83274538e-01, 1.86414423e-01,\n",
       "       2.04601296e-01, 6.04765152e-01, 1.73980631e-01, 1.20782577e-01,\n",
       "       1.74892312e-01, 1.43576194e-01, 1.07509968e+00, 7.63744282e-03,\n",
       "       1.10397729e-01, 2.19556981e-01, 9.56234487e-01, 2.34375463e-02,\n",
       "       3.53470214e-01, 1.11065900e-01, 8.66138471e-01, 3.34335227e-01,\n",
       "       3.59463660e-01, 7.87860174e-01, 8.62003021e-02, 5.15902757e-02,\n",
       "       3.15119694e-01, 6.03934396e-02, 1.56007739e-01, 1.16485520e-01,\n",
       "       1.31580887e-01, 1.48169765e-01, 4.77020489e-01, 4.25577651e-02,\n",
       "       1.44909174e-03, 5.66606264e-03, 9.06940991e-02, 2.01505342e-01,\n",
       "       1.56814571e-02, 4.50657122e-01, 1.84571131e-02, 3.09921311e-02,\n",
       "       3.23044808e-01, 2.02262783e-01, 7.87684961e-01, 2.74872090e-02,\n",
       "       4.01914067e-01, 9.71451045e-02, 2.92153157e-01, 6.09032363e-02])"
      ]
     },
     "execution_count": 155,
     "metadata": {},
     "output_type": "execute_result"
    }
   ],
   "source": [
    "amostra_exp = dist_exp.rvs(size=1000)\n",
    "amostra_exp\n"
   ]
  },
  {
   "cell_type": "markdown",
   "id": "58db2e54",
   "metadata": {},
   "source": [
    "Agora vamos transformar essa amostra em um `DataFrame` e criar duas colunas:\n",
    "\n",
    "1. `t_acumulado`: quanto tempo passou desde o começo da coleta de dados;\n",
    "1. `minuto`: em qual minuto aconteceu cada evento."
   ]
  },
  {
   "cell_type": "code",
   "execution_count": 158,
   "id": "9feee2ca",
   "metadata": {},
   "outputs": [
    {
     "data": {
      "text/html": [
       "<div>\n",
       "<style scoped>\n",
       "    .dataframe tbody tr th:only-of-type {\n",
       "        vertical-align: middle;\n",
       "    }\n",
       "\n",
       "    .dataframe tbody tr th {\n",
       "        vertical-align: top;\n",
       "    }\n",
       "\n",
       "    .dataframe thead th {\n",
       "        text-align: right;\n",
       "    }\n",
       "</style>\n",
       "<table border=\"1\" class=\"dataframe\">\n",
       "  <thead>\n",
       "    <tr style=\"text-align: right;\">\n",
       "      <th></th>\n",
       "      <th>t</th>\n",
       "      <th>t_acumulado</th>\n",
       "      <th>minuto</th>\n",
       "    </tr>\n",
       "  </thead>\n",
       "  <tbody>\n",
       "    <tr>\n",
       "      <th>0</th>\n",
       "      <td>0.038292</td>\n",
       "      <td>0.038292</td>\n",
       "      <td>0.0</td>\n",
       "    </tr>\n",
       "    <tr>\n",
       "      <th>1</th>\n",
       "      <td>0.031791</td>\n",
       "      <td>0.070083</td>\n",
       "      <td>0.0</td>\n",
       "    </tr>\n",
       "    <tr>\n",
       "      <th>2</th>\n",
       "      <td>0.261046</td>\n",
       "      <td>0.331129</td>\n",
       "      <td>0.0</td>\n",
       "    </tr>\n",
       "    <tr>\n",
       "      <th>3</th>\n",
       "      <td>0.144629</td>\n",
       "      <td>0.475758</td>\n",
       "      <td>0.0</td>\n",
       "    </tr>\n",
       "    <tr>\n",
       "      <th>4</th>\n",
       "      <td>0.246997</td>\n",
       "      <td>0.722755</td>\n",
       "      <td>0.0</td>\n",
       "    </tr>\n",
       "    <tr>\n",
       "      <th>5</th>\n",
       "      <td>0.223667</td>\n",
       "      <td>0.946422</td>\n",
       "      <td>0.0</td>\n",
       "    </tr>\n",
       "    <tr>\n",
       "      <th>6</th>\n",
       "      <td>0.017625</td>\n",
       "      <td>0.964047</td>\n",
       "      <td>0.0</td>\n",
       "    </tr>\n",
       "    <tr>\n",
       "      <th>7</th>\n",
       "      <td>0.037876</td>\n",
       "      <td>1.001922</td>\n",
       "      <td>1.0</td>\n",
       "    </tr>\n",
       "    <tr>\n",
       "      <th>8</th>\n",
       "      <td>0.391382</td>\n",
       "      <td>1.393304</td>\n",
       "      <td>1.0</td>\n",
       "    </tr>\n",
       "    <tr>\n",
       "      <th>9</th>\n",
       "      <td>1.112240</td>\n",
       "      <td>2.505544</td>\n",
       "      <td>2.0</td>\n",
       "    </tr>\n",
       "  </tbody>\n",
       "</table>\n",
       "</div>"
      ],
      "text/plain": [
       "          t  t_acumulado  minuto\n",
       "0  0.038292     0.038292     0.0\n",
       "1  0.031791     0.070083     0.0\n",
       "2  0.261046     0.331129     0.0\n",
       "3  0.144629     0.475758     0.0\n",
       "4  0.246997     0.722755     0.0\n",
       "5  0.223667     0.946422     0.0\n",
       "6  0.017625     0.964047     0.0\n",
       "7  0.037876     1.001922     1.0\n",
       "8  0.391382     1.393304     1.0\n",
       "9  1.112240     2.505544     2.0"
      ]
     },
     "execution_count": 158,
     "metadata": {},
     "output_type": "execute_result"
    }
   ],
   "source": [
    "tb_expon = pd.DataFrame({\"t\": amostra_exp})\n",
    "tb_expon[\"t_acumulado\"] = tb_expon[\"t\"].cumsum()\n",
    "tb_expon[\"minuto\"] = np.floor(tb_expon[\"t_acumulado\"])\n",
    "tb_expon.head(10)\n"
   ]
  },
  {
   "cell_type": "markdown",
   "id": "26eb716c",
   "metadata": {},
   "source": [
    "Agora vamos agrupar nossa tabela de eventos para saber quantos eventos foram observados em cada `minuto`."
   ]
  },
  {
   "cell_type": "code",
   "execution_count": 160,
   "id": "6432757b",
   "metadata": {},
   "outputs": [
    {
     "data": {
      "text/html": [
       "<div>\n",
       "<style scoped>\n",
       "    .dataframe tbody tr th:only-of-type {\n",
       "        vertical-align: middle;\n",
       "    }\n",
       "\n",
       "    .dataframe tbody tr th {\n",
       "        vertical-align: top;\n",
       "    }\n",
       "\n",
       "    .dataframe thead th {\n",
       "        text-align: right;\n",
       "    }\n",
       "</style>\n",
       "<table border=\"1\" class=\"dataframe\">\n",
       "  <thead>\n",
       "    <tr style=\"text-align: right;\">\n",
       "      <th></th>\n",
       "      <th>t</th>\n",
       "      <th>t_acumulado</th>\n",
       "      <th>minuto</th>\n",
       "    </tr>\n",
       "  </thead>\n",
       "  <tbody>\n",
       "    <tr>\n",
       "      <th>0</th>\n",
       "      <td>0.038292</td>\n",
       "      <td>0.038292</td>\n",
       "      <td>0.0</td>\n",
       "    </tr>\n",
       "    <tr>\n",
       "      <th>1</th>\n",
       "      <td>0.031791</td>\n",
       "      <td>0.070083</td>\n",
       "      <td>0.0</td>\n",
       "    </tr>\n",
       "    <tr>\n",
       "      <th>2</th>\n",
       "      <td>0.261046</td>\n",
       "      <td>0.331129</td>\n",
       "      <td>0.0</td>\n",
       "    </tr>\n",
       "    <tr>\n",
       "      <th>3</th>\n",
       "      <td>0.144629</td>\n",
       "      <td>0.475758</td>\n",
       "      <td>0.0</td>\n",
       "    </tr>\n",
       "    <tr>\n",
       "      <th>4</th>\n",
       "      <td>0.246997</td>\n",
       "      <td>0.722755</td>\n",
       "      <td>0.0</td>\n",
       "    </tr>\n",
       "    <tr>\n",
       "      <th>...</th>\n",
       "      <td>...</td>\n",
       "      <td>...</td>\n",
       "      <td>...</td>\n",
       "    </tr>\n",
       "    <tr>\n",
       "      <th>995</th>\n",
       "      <td>0.027487</td>\n",
       "      <td>234.079305</td>\n",
       "      <td>234.0</td>\n",
       "    </tr>\n",
       "    <tr>\n",
       "      <th>996</th>\n",
       "      <td>0.401914</td>\n",
       "      <td>234.481219</td>\n",
       "      <td>234.0</td>\n",
       "    </tr>\n",
       "    <tr>\n",
       "      <th>997</th>\n",
       "      <td>0.097145</td>\n",
       "      <td>234.578364</td>\n",
       "      <td>234.0</td>\n",
       "    </tr>\n",
       "    <tr>\n",
       "      <th>998</th>\n",
       "      <td>0.292153</td>\n",
       "      <td>234.870517</td>\n",
       "      <td>234.0</td>\n",
       "    </tr>\n",
       "    <tr>\n",
       "      <th>999</th>\n",
       "      <td>0.060903</td>\n",
       "      <td>234.931421</td>\n",
       "      <td>234.0</td>\n",
       "    </tr>\n",
       "  </tbody>\n",
       "</table>\n",
       "<p>1000 rows × 3 columns</p>\n",
       "</div>"
      ],
      "text/plain": [
       "            t  t_acumulado  minuto\n",
       "0    0.038292     0.038292     0.0\n",
       "1    0.031791     0.070083     0.0\n",
       "2    0.261046     0.331129     0.0\n",
       "3    0.144629     0.475758     0.0\n",
       "4    0.246997     0.722755     0.0\n",
       "..        ...          ...     ...\n",
       "995  0.027487   234.079305   234.0\n",
       "996  0.401914   234.481219   234.0\n",
       "997  0.097145   234.578364   234.0\n",
       "998  0.292153   234.870517   234.0\n",
       "999  0.060903   234.931421   234.0\n",
       "\n",
       "[1000 rows x 3 columns]"
      ]
     },
     "execution_count": 160,
     "metadata": {},
     "output_type": "execute_result"
    }
   ],
   "source": [
    "tb_expon"
   ]
  },
  {
   "cell_type": "code",
   "execution_count": 159,
   "id": "5404613a",
   "metadata": {
    "ExecuteTime": {
     "end_time": "2022-03-10T23:50:44.683468Z",
     "start_time": "2022-03-10T23:50:44.675488Z"
    }
   },
   "outputs": [
    {
     "data": {
      "text/html": [
       "<div>\n",
       "<style scoped>\n",
       "    .dataframe tbody tr th:only-of-type {\n",
       "        vertical-align: middle;\n",
       "    }\n",
       "\n",
       "    .dataframe tbody tr th {\n",
       "        vertical-align: top;\n",
       "    }\n",
       "\n",
       "    .dataframe thead th {\n",
       "        text-align: right;\n",
       "    }\n",
       "</style>\n",
       "<table border=\"1\" class=\"dataframe\">\n",
       "  <thead>\n",
       "    <tr style=\"text-align: right;\">\n",
       "      <th></th>\n",
       "      <th>minuto</th>\n",
       "      <th>num_eventos</th>\n",
       "    </tr>\n",
       "  </thead>\n",
       "  <tbody>\n",
       "    <tr>\n",
       "      <th>0</th>\n",
       "      <td>0.0</td>\n",
       "      <td>7</td>\n",
       "    </tr>\n",
       "    <tr>\n",
       "      <th>1</th>\n",
       "      <td>1.0</td>\n",
       "      <td>2</td>\n",
       "    </tr>\n",
       "    <tr>\n",
       "      <th>2</th>\n",
       "      <td>2.0</td>\n",
       "      <td>5</td>\n",
       "    </tr>\n",
       "    <tr>\n",
       "      <th>3</th>\n",
       "      <td>3.0</td>\n",
       "      <td>2</td>\n",
       "    </tr>\n",
       "    <tr>\n",
       "      <th>4</th>\n",
       "      <td>4.0</td>\n",
       "      <td>1</td>\n",
       "    </tr>\n",
       "  </tbody>\n",
       "</table>\n",
       "</div>"
      ],
      "text/plain": [
       "   minuto  num_eventos\n",
       "0     0.0            7\n",
       "1     1.0            2\n",
       "2     2.0            5\n",
       "3     3.0            2\n",
       "4     4.0            1"
      ]
     },
     "execution_count": 159,
     "metadata": {},
     "output_type": "execute_result"
    }
   ],
   "source": [
    "n_eventos_minuto = (\n",
    "    tb_expon\n",
    "    .groupby(\"minuto\")[\"t\"]\n",
    "    .count()\n",
    "    .reset_index()\n",
    "    .rename({\"t\": \"num_eventos\"}, axis=1)\n",
    ")\n",
    "n_eventos_minuto.head()\n"
   ]
  },
  {
   "cell_type": "code",
   "execution_count": 161,
   "id": "f557e35c",
   "metadata": {},
   "outputs": [
    {
     "data": {
      "text/html": [
       "<div>\n",
       "<style scoped>\n",
       "    .dataframe tbody tr th:only-of-type {\n",
       "        vertical-align: middle;\n",
       "    }\n",
       "\n",
       "    .dataframe tbody tr th {\n",
       "        vertical-align: top;\n",
       "    }\n",
       "\n",
       "    .dataframe thead th {\n",
       "        text-align: right;\n",
       "    }\n",
       "</style>\n",
       "<table border=\"1\" class=\"dataframe\">\n",
       "  <thead>\n",
       "    <tr style=\"text-align: right;\">\n",
       "      <th></th>\n",
       "      <th>minuto</th>\n",
       "      <th>num_eventos</th>\n",
       "    </tr>\n",
       "  </thead>\n",
       "  <tbody>\n",
       "    <tr>\n",
       "      <th>0</th>\n",
       "      <td>0.0</td>\n",
       "      <td>7</td>\n",
       "    </tr>\n",
       "    <tr>\n",
       "      <th>1</th>\n",
       "      <td>1.0</td>\n",
       "      <td>2</td>\n",
       "    </tr>\n",
       "    <tr>\n",
       "      <th>2</th>\n",
       "      <td>2.0</td>\n",
       "      <td>5</td>\n",
       "    </tr>\n",
       "    <tr>\n",
       "      <th>3</th>\n",
       "      <td>3.0</td>\n",
       "      <td>2</td>\n",
       "    </tr>\n",
       "    <tr>\n",
       "      <th>4</th>\n",
       "      <td>4.0</td>\n",
       "      <td>1</td>\n",
       "    </tr>\n",
       "    <tr>\n",
       "      <th>5</th>\n",
       "      <td>5.0</td>\n",
       "      <td>2</td>\n",
       "    </tr>\n",
       "    <tr>\n",
       "      <th>6</th>\n",
       "      <td>6.0</td>\n",
       "      <td>4</td>\n",
       "    </tr>\n",
       "    <tr>\n",
       "      <th>7</th>\n",
       "      <td>7.0</td>\n",
       "      <td>3</td>\n",
       "    </tr>\n",
       "    <tr>\n",
       "      <th>8</th>\n",
       "      <td>8.0</td>\n",
       "      <td>4</td>\n",
       "    </tr>\n",
       "    <tr>\n",
       "      <th>9</th>\n",
       "      <td>9.0</td>\n",
       "      <td>3</td>\n",
       "    </tr>\n",
       "  </tbody>\n",
       "</table>\n",
       "</div>"
      ],
      "text/plain": [
       "   minuto  num_eventos\n",
       "0     0.0            7\n",
       "1     1.0            2\n",
       "2     2.0            5\n",
       "3     3.0            2\n",
       "4     4.0            1\n",
       "5     5.0            2\n",
       "6     6.0            4\n",
       "7     7.0            3\n",
       "8     8.0            4\n",
       "9     9.0            3"
      ]
     },
     "execution_count": 161,
     "metadata": {},
     "output_type": "execute_result"
    }
   ],
   "source": [
    "n_eventos_minuto.head(10)"
   ]
  },
  {
   "cell_type": "markdown",
   "id": "911ece79",
   "metadata": {},
   "source": [
    "Como a tabela acima contém apenas os minutos com pelo menos um evento, vamos criar uma tabela auxiliar com todos os minutos possíveis (entre 0 e o máximo da tabela de eventos):"
   ]
  },
  {
   "cell_type": "code",
   "execution_count": 162,
   "id": "72b25e5d",
   "metadata": {},
   "outputs": [
    {
     "data": {
      "text/html": [
       "<div>\n",
       "<style scoped>\n",
       "    .dataframe tbody tr th:only-of-type {\n",
       "        vertical-align: middle;\n",
       "    }\n",
       "\n",
       "    .dataframe tbody tr th {\n",
       "        vertical-align: top;\n",
       "    }\n",
       "\n",
       "    .dataframe thead th {\n",
       "        text-align: right;\n",
       "    }\n",
       "</style>\n",
       "<table border=\"1\" class=\"dataframe\">\n",
       "  <thead>\n",
       "    <tr style=\"text-align: right;\">\n",
       "      <th></th>\n",
       "      <th>minuto</th>\n",
       "    </tr>\n",
       "  </thead>\n",
       "  <tbody>\n",
       "    <tr>\n",
       "      <th>0</th>\n",
       "      <td>0</td>\n",
       "    </tr>\n",
       "    <tr>\n",
       "      <th>1</th>\n",
       "      <td>1</td>\n",
       "    </tr>\n",
       "    <tr>\n",
       "      <th>2</th>\n",
       "      <td>2</td>\n",
       "    </tr>\n",
       "    <tr>\n",
       "      <th>3</th>\n",
       "      <td>3</td>\n",
       "    </tr>\n",
       "    <tr>\n",
       "      <th>4</th>\n",
       "      <td>4</td>\n",
       "    </tr>\n",
       "  </tbody>\n",
       "</table>\n",
       "</div>"
      ],
      "text/plain": [
       "   minuto\n",
       "0       0\n",
       "1       1\n",
       "2       2\n",
       "3       3\n",
       "4       4"
      ]
     },
     "execution_count": 162,
     "metadata": {},
     "output_type": "execute_result"
    }
   ],
   "source": [
    "lista_minutos = range(int(tb_expon[\"minuto\"].min()), int(tb_expon[\"minuto\"].max()))\n",
    "tb_minutos = pd.DataFrame({\"minuto\": lista_minutos})\n",
    "tb_minutos.head()\n"
   ]
  },
  {
   "cell_type": "markdown",
   "id": "06155cda",
   "metadata": {},
   "source": [
    "Vamos juntar as duas tabelas para ter a contagem de eventos em cada minuto da nossa coleta de dados. "
   ]
  },
  {
   "cell_type": "code",
   "execution_count": 163,
   "id": "29259989",
   "metadata": {
    "ExecuteTime": {
     "end_time": "2022-03-10T23:51:29.221152Z",
     "start_time": "2022-03-10T23:51:29.201204Z"
    }
   },
   "outputs": [
    {
     "data": {
      "text/html": [
       "<div>\n",
       "<style scoped>\n",
       "    .dataframe tbody tr th:only-of-type {\n",
       "        vertical-align: middle;\n",
       "    }\n",
       "\n",
       "    .dataframe tbody tr th {\n",
       "        vertical-align: top;\n",
       "    }\n",
       "\n",
       "    .dataframe thead th {\n",
       "        text-align: right;\n",
       "    }\n",
       "</style>\n",
       "<table border=\"1\" class=\"dataframe\">\n",
       "  <thead>\n",
       "    <tr style=\"text-align: right;\">\n",
       "      <th></th>\n",
       "      <th>minuto</th>\n",
       "      <th>num_eventos</th>\n",
       "    </tr>\n",
       "  </thead>\n",
       "  <tbody>\n",
       "    <tr>\n",
       "      <th>0</th>\n",
       "      <td>0</td>\n",
       "      <td>7.0</td>\n",
       "    </tr>\n",
       "    <tr>\n",
       "      <th>1</th>\n",
       "      <td>1</td>\n",
       "      <td>2.0</td>\n",
       "    </tr>\n",
       "    <tr>\n",
       "      <th>2</th>\n",
       "      <td>2</td>\n",
       "      <td>5.0</td>\n",
       "    </tr>\n",
       "    <tr>\n",
       "      <th>3</th>\n",
       "      <td>3</td>\n",
       "      <td>2.0</td>\n",
       "    </tr>\n",
       "    <tr>\n",
       "      <th>4</th>\n",
       "      <td>4</td>\n",
       "      <td>1.0</td>\n",
       "    </tr>\n",
       "    <tr>\n",
       "      <th>...</th>\n",
       "      <td>...</td>\n",
       "      <td>...</td>\n",
       "    </tr>\n",
       "    <tr>\n",
       "      <th>229</th>\n",
       "      <td>229</td>\n",
       "      <td>2.0</td>\n",
       "    </tr>\n",
       "    <tr>\n",
       "      <th>230</th>\n",
       "      <td>230</td>\n",
       "      <td>5.0</td>\n",
       "    </tr>\n",
       "    <tr>\n",
       "      <th>231</th>\n",
       "      <td>231</td>\n",
       "      <td>8.0</td>\n",
       "    </tr>\n",
       "    <tr>\n",
       "      <th>232</th>\n",
       "      <td>232</td>\n",
       "      <td>6.0</td>\n",
       "    </tr>\n",
       "    <tr>\n",
       "      <th>233</th>\n",
       "      <td>233</td>\n",
       "      <td>2.0</td>\n",
       "    </tr>\n",
       "  </tbody>\n",
       "</table>\n",
       "<p>234 rows × 2 columns</p>\n",
       "</div>"
      ],
      "text/plain": [
       "     minuto  num_eventos\n",
       "0         0          7.0\n",
       "1         1          2.0\n",
       "2         2          5.0\n",
       "3         3          2.0\n",
       "4         4          1.0\n",
       "..      ...          ...\n",
       "229     229          2.0\n",
       "230     230          5.0\n",
       "231     231          8.0\n",
       "232     232          6.0\n",
       "233     233          2.0\n",
       "\n",
       "[234 rows x 2 columns]"
      ]
     },
     "execution_count": 163,
     "metadata": {},
     "output_type": "execute_result"
    }
   ],
   "source": [
    "tb_num_eventos = pd.merge(tb_minutos, n_eventos_minuto, how=\"left\", on=\"minuto\")\n",
    "tb_num_eventos = tb_num_eventos.fillna(0)\n",
    "tb_num_eventos\n"
   ]
  },
  {
   "cell_type": "markdown",
   "id": "4cb64aa4",
   "metadata": {},
   "source": [
    "Agora podemos visualizar a distribuição do # de ligações por minuto - e veremos que essa distribuição é uma distribuição de Poisson!"
   ]
  },
  {
   "cell_type": "code",
   "execution_count": 164,
   "id": "99ec9790",
   "metadata": {},
   "outputs": [
    {
     "data": {
      "text/html": [
       "<div>\n",
       "<style scoped>\n",
       "    .dataframe tbody tr th:only-of-type {\n",
       "        vertical-align: middle;\n",
       "    }\n",
       "\n",
       "    .dataframe tbody tr th {\n",
       "        vertical-align: top;\n",
       "    }\n",
       "\n",
       "    .dataframe thead th {\n",
       "        text-align: right;\n",
       "    }\n",
       "</style>\n",
       "<table border=\"1\" class=\"dataframe\">\n",
       "  <thead>\n",
       "    <tr style=\"text-align: right;\">\n",
       "      <th></th>\n",
       "      <th>num_eventos</th>\n",
       "      <th>contagem</th>\n",
       "    </tr>\n",
       "  </thead>\n",
       "  <tbody>\n",
       "    <tr>\n",
       "      <th>0</th>\n",
       "      <td>0.0</td>\n",
       "      <td>3</td>\n",
       "    </tr>\n",
       "    <tr>\n",
       "      <th>1</th>\n",
       "      <td>1.0</td>\n",
       "      <td>23</td>\n",
       "    </tr>\n",
       "    <tr>\n",
       "      <th>2</th>\n",
       "      <td>2.0</td>\n",
       "      <td>28</td>\n",
       "    </tr>\n",
       "    <tr>\n",
       "      <th>3</th>\n",
       "      <td>3.0</td>\n",
       "      <td>41</td>\n",
       "    </tr>\n",
       "    <tr>\n",
       "      <th>4</th>\n",
       "      <td>4.0</td>\n",
       "      <td>39</td>\n",
       "    </tr>\n",
       "    <tr>\n",
       "      <th>5</th>\n",
       "      <td>5.0</td>\n",
       "      <td>35</td>\n",
       "    </tr>\n",
       "    <tr>\n",
       "      <th>6</th>\n",
       "      <td>6.0</td>\n",
       "      <td>30</td>\n",
       "    </tr>\n",
       "    <tr>\n",
       "      <th>7</th>\n",
       "      <td>7.0</td>\n",
       "      <td>11</td>\n",
       "    </tr>\n",
       "    <tr>\n",
       "      <th>8</th>\n",
       "      <td>8.0</td>\n",
       "      <td>16</td>\n",
       "    </tr>\n",
       "    <tr>\n",
       "      <th>9</th>\n",
       "      <td>9.0</td>\n",
       "      <td>5</td>\n",
       "    </tr>\n",
       "    <tr>\n",
       "      <th>10</th>\n",
       "      <td>10.0</td>\n",
       "      <td>2</td>\n",
       "    </tr>\n",
       "    <tr>\n",
       "      <th>11</th>\n",
       "      <td>11.0</td>\n",
       "      <td>1</td>\n",
       "    </tr>\n",
       "  </tbody>\n",
       "</table>\n",
       "</div>"
      ],
      "text/plain": [
       "    num_eventos  contagem\n",
       "0           0.0         3\n",
       "1           1.0        23\n",
       "2           2.0        28\n",
       "3           3.0        41\n",
       "4           4.0        39\n",
       "5           5.0        35\n",
       "6           6.0        30\n",
       "7           7.0        11\n",
       "8           8.0        16\n",
       "9           9.0         5\n",
       "10         10.0         2\n",
       "11         11.0         1"
      ]
     },
     "execution_count": 164,
     "metadata": {},
     "output_type": "execute_result"
    }
   ],
   "source": [
    "tb_poiss_pro = tb_num_eventos.groupby(\"num_eventos\").count().reset_index()\n",
    "tb_poiss_pro = tb_poiss_pro.rename({\"minuto\": \"contagem\"}, axis=1)\n",
    "tb_poiss_pro\n"
   ]
  },
  {
   "cell_type": "code",
   "execution_count": 165,
   "id": "b485c500",
   "metadata": {
    "ExecuteTime": {
     "end_time": "2022-03-10T23:52:07.701158Z",
     "start_time": "2022-03-10T23:52:07.673201Z"
    }
   },
   "outputs": [
    {
     "data": {
      "text/html": [
       "<div>\n",
       "<style scoped>\n",
       "    .dataframe tbody tr th:only-of-type {\n",
       "        vertical-align: middle;\n",
       "    }\n",
       "\n",
       "    .dataframe tbody tr th {\n",
       "        vertical-align: top;\n",
       "    }\n",
       "\n",
       "    .dataframe thead th {\n",
       "        text-align: right;\n",
       "    }\n",
       "</style>\n",
       "<table border=\"1\" class=\"dataframe\">\n",
       "  <thead>\n",
       "    <tr style=\"text-align: right;\">\n",
       "      <th></th>\n",
       "      <th>num_eventos</th>\n",
       "      <th>contagem</th>\n",
       "      <th>prob_real</th>\n",
       "      <th>prob_medida</th>\n",
       "    </tr>\n",
       "  </thead>\n",
       "  <tbody>\n",
       "    <tr>\n",
       "      <th>0</th>\n",
       "      <td>0.0</td>\n",
       "      <td>3</td>\n",
       "      <td>0.018316</td>\n",
       "      <td>0.012821</td>\n",
       "    </tr>\n",
       "    <tr>\n",
       "      <th>1</th>\n",
       "      <td>1.0</td>\n",
       "      <td>23</td>\n",
       "      <td>0.073263</td>\n",
       "      <td>0.098291</td>\n",
       "    </tr>\n",
       "    <tr>\n",
       "      <th>2</th>\n",
       "      <td>2.0</td>\n",
       "      <td>28</td>\n",
       "      <td>0.146525</td>\n",
       "      <td>0.119658</td>\n",
       "    </tr>\n",
       "    <tr>\n",
       "      <th>3</th>\n",
       "      <td>3.0</td>\n",
       "      <td>41</td>\n",
       "      <td>0.195367</td>\n",
       "      <td>0.175214</td>\n",
       "    </tr>\n",
       "    <tr>\n",
       "      <th>4</th>\n",
       "      <td>4.0</td>\n",
       "      <td>39</td>\n",
       "      <td>0.195367</td>\n",
       "      <td>0.166667</td>\n",
       "    </tr>\n",
       "    <tr>\n",
       "      <th>5</th>\n",
       "      <td>5.0</td>\n",
       "      <td>35</td>\n",
       "      <td>0.156293</td>\n",
       "      <td>0.149573</td>\n",
       "    </tr>\n",
       "    <tr>\n",
       "      <th>6</th>\n",
       "      <td>6.0</td>\n",
       "      <td>30</td>\n",
       "      <td>0.104196</td>\n",
       "      <td>0.128205</td>\n",
       "    </tr>\n",
       "    <tr>\n",
       "      <th>7</th>\n",
       "      <td>7.0</td>\n",
       "      <td>11</td>\n",
       "      <td>0.059540</td>\n",
       "      <td>0.047009</td>\n",
       "    </tr>\n",
       "    <tr>\n",
       "      <th>8</th>\n",
       "      <td>8.0</td>\n",
       "      <td>16</td>\n",
       "      <td>0.029770</td>\n",
       "      <td>0.068376</td>\n",
       "    </tr>\n",
       "    <tr>\n",
       "      <th>9</th>\n",
       "      <td>9.0</td>\n",
       "      <td>5</td>\n",
       "      <td>0.013231</td>\n",
       "      <td>0.021368</td>\n",
       "    </tr>\n",
       "    <tr>\n",
       "      <th>10</th>\n",
       "      <td>10.0</td>\n",
       "      <td>2</td>\n",
       "      <td>0.005292</td>\n",
       "      <td>0.008547</td>\n",
       "    </tr>\n",
       "    <tr>\n",
       "      <th>11</th>\n",
       "      <td>11.0</td>\n",
       "      <td>1</td>\n",
       "      <td>0.001925</td>\n",
       "      <td>0.004274</td>\n",
       "    </tr>\n",
       "  </tbody>\n",
       "</table>\n",
       "</div>"
      ],
      "text/plain": [
       "    num_eventos  contagem  prob_real  prob_medida\n",
       "0           0.0         3   0.018316     0.012821\n",
       "1           1.0        23   0.073263     0.098291\n",
       "2           2.0        28   0.146525     0.119658\n",
       "3           3.0        41   0.195367     0.175214\n",
       "4           4.0        39   0.195367     0.166667\n",
       "5           5.0        35   0.156293     0.149573\n",
       "6           6.0        30   0.104196     0.128205\n",
       "7           7.0        11   0.059540     0.047009\n",
       "8           8.0        16   0.029770     0.068376\n",
       "9           9.0         5   0.013231     0.021368\n",
       "10         10.0         2   0.005292     0.008547\n",
       "11         11.0         1   0.001925     0.004274"
      ]
     },
     "execution_count": 165,
     "metadata": {},
     "output_type": "execute_result"
    }
   ],
   "source": [
    "tb_poiss_pro[\"prob_real\"] = tb_poiss_pro[\"num_eventos\"].apply(dist_ligacoes.pmf)\n",
    "tb_poiss_pro[\"prob_medida\"] = tb_poiss_pro[\"contagem\"] / sum(tb_poiss_pro[\"contagem\"])\n",
    "tb_poiss_pro\n"
   ]
  },
  {
   "cell_type": "code",
   "execution_count": 166,
   "id": "1ac1a0ad",
   "metadata": {
    "ExecuteTime": {
     "end_time": "2022-03-10T23:52:08.725846Z",
     "start_time": "2022-03-10T23:52:08.532365Z"
    }
   },
   "outputs": [
    {
     "data": {
      "text/plain": [
       "<AxesSubplot: xlabel='num_eventos', ylabel='prob_real'>"
      ]
     },
     "execution_count": 166,
     "metadata": {},
     "output_type": "execute_result"
    },
    {
     "data": {
      "image/png": "[encoded data removed]",
      "text/plain": [
       "<Figure size 640x480 with 1 Axes>"
      ]
     },
     "metadata": {},
     "output_type": "display_data"
    }
   ],
   "source": [
    "sns.barplot(data=tb_poiss_pro, x=\"num_eventos\", y=\"prob_medida\", color=bc)\n",
    "sns.pointplot(data=tb_poiss_pro, x=\"num_eventos\", y=\"prob_real\", color=\"red\")\n"
   ]
  },
  {
   "cell_type": "markdown",
   "id": "5578e094",
   "metadata": {},
   "source": [
    "O exercício acima nos permite ver como as distribuições de Poisson e Exponencial são conectadas:\n",
    "\n",
    "1. A distribuição de Poisson mede a probabilidade de *x* eventos acontecerem por unidade de tempo;\n",
    "1. A distribuição Exponencial mede a probabilidade do intervalo de tempo entre eventos.\n",
    "\n",
    "### Distribuição Normal \n",
    "**e o Teorema do Limite Central**\n",
    "\n",
    "<img src=\"images/gauss.jpeg\" alt=\"Drawing\" style=\"width: 200px;\"/>\n",
    "\n",
    "**Espaço amostral**: *Números Reais*\n",
    "\n",
    "**Parâmetros**: \n",
    "1. *mu*: média.\n",
    "1. *sigma*: desvio padrão.\n",
    "\n",
    "**Estatísticas Descritivas**:\n",
    "* *Média* $$\\mu$$\n",
    "* *Desvio Padrão* $$\\sigma$$\n",
    "\n",
    "A distribuição **Normal** foi inventada por Carl Gauss (e por isso as vezes é chamada de *Gaussiana*) em 1809 durante seu estudo de erros em medições astronômicas. Gauss descobriou que quando uma variável aleatória é o resultado de muitos processos aleatórios diferentes e independentes ela terá uma distribuição Normal.\n",
    "\n",
    "Essa descoberta, chamada de **Teorema do Limite Central**, é uma das descobertas mais fundamentais na probabilidade. A onipresença da distribuição **Normal** é explicada por este teorema: a maior parte das coisas que mensuramos e quantificamos são resultados de inúmeros processos aleatórios complexos! Uma demonstração do teorema descoberto por Gauss está fora do escopo da aula mas podemos alavancar a probabilidade computacional para *enxergar* este teorema em ação.\n",
    "\n",
    "Até o momento criamos diversas amostras de diferentes distribuições probabilísticas como exemplo. Vamos 'juntar' todas estas amostras em uma amostra única."
   ]
  },
  {
   "cell_type": "code",
   "execution_count": 167,
   "id": "a9d8bdde",
   "metadata": {
    "ExecuteTime": {
     "end_time": "2022-03-11T00:02:34.341885Z",
     "start_time": "2022-03-11T00:02:34.326919Z"
    }
   },
   "outputs": [
    {
     "data": {
      "text/plain": [
       "[7, 5, 6, 3, 5]"
      ]
     },
     "execution_count": 167,
     "metadata": {},
     "output_type": "execute_result"
    }
   ],
   "source": [
    "amostra_binomial_array = np.array(amostra_binomial[0:99])\n",
    "amostra_binomial[0:5]\n"
   ]
  },
  {
   "cell_type": "code",
   "execution_count": 168,
   "id": "af7c8f2a",
   "metadata": {
    "ExecuteTime": {
     "end_time": "2022-03-11T00:02:37.222067Z",
     "start_time": "2022-03-11T00:02:37.211123Z"
    }
   },
   "outputs": [
    {
     "data": {
      "text/plain": [
       "[1, 1, 1, 1, 3]"
      ]
     },
     "execution_count": 168,
     "metadata": {},
     "output_type": "execute_result"
    }
   ],
   "source": [
    "amostra_geo_array = np.array(amostra_geo[0:99])\n",
    "amostra_geo[0:5]\n"
   ]
  },
  {
   "cell_type": "code",
   "execution_count": 169,
   "id": "c6a83c62",
   "metadata": {
    "ExecuteTime": {
     "end_time": "2022-03-11T00:02:37.766822Z",
     "start_time": "2022-03-11T00:02:37.752840Z"
    }
   },
   "outputs": [
    {
     "data": {
      "text/plain": [
       "[1, 0, 1, 0, 0]"
      ]
     },
     "execution_count": 169,
     "metadata": {},
     "output_type": "execute_result"
    }
   ],
   "source": [
    "amostra_poi_array = np.array(amostra_poi[0:99])\n",
    "amostra_poi[0:5]\n"
   ]
  },
  {
   "cell_type": "code",
   "execution_count": 170,
   "id": "2de1ad1e",
   "metadata": {
    "ExecuteTime": {
     "end_time": "2022-03-11T00:02:38.326694Z",
     "start_time": "2022-03-11T00:02:38.315722Z"
    }
   },
   "outputs": [
    {
     "data": {
      "text/plain": [
       "array([0.03829203, 0.03179125, 0.26104558, 0.1446293 , 0.24699652])"
      ]
     },
     "execution_count": 170,
     "metadata": {},
     "output_type": "execute_result"
    }
   ],
   "source": [
    "amostra_exp_array = np.array(amostra_exp[0:99])\n",
    "amostra_exp[0:5]\n"
   ]
  },
  {
   "cell_type": "markdown",
   "id": "c41e6421",
   "metadata": {},
   "source": [
    "Vamos consolidar essas amostras em uma matriz de amostras onde cada linha é uma observação, cada coluna é uma distribuição diferente:"
   ]
  },
  {
   "cell_type": "code",
   "execution_count": 171,
   "id": "1bba89fe",
   "metadata": {},
   "outputs": [
    {
     "data": {
      "text/plain": [
       "array([[7.00000000e+00, 5.00000000e+00, 6.00000000e+00, 3.00000000e+00,\n",
       "        5.00000000e+00, 5.00000000e+00, 3.00000000e+00, 5.00000000e+00,\n",
       "        6.00000000e+00, 7.00000000e+00, 4.00000000e+00, 8.00000000e+00,\n",
       "        7.00000000e+00, 5.00000000e+00, 5.00000000e+00, 6.00000000e+00,\n",
       "        7.00000000e+00, 5.00000000e+00, 8.00000000e+00, 8.00000000e+00,\n",
       "        7.00000000e+00, 2.00000000e+00, 3.00000000e+00, 2.00000000e+00,\n",
       "        4.00000000e+00, 4.00000000e+00, 4.00000000e+00, 3.00000000e+00,\n",
       "        5.00000000e+00, 5.00000000e+00, 6.00000000e+00, 4.00000000e+00,\n",
       "        5.00000000e+00, 5.00000000e+00, 5.00000000e+00, 5.00000000e+00,\n",
       "        2.00000000e+00, 6.00000000e+00, 2.00000000e+00, 3.00000000e+00,\n",
       "        6.00000000e+00, 3.00000000e+00, 6.00000000e+00, 3.00000000e+00,\n",
       "        6.00000000e+00, 5.00000000e+00, 7.00000000e+00, 4.00000000e+00,\n",
       "        3.00000000e+00, 7.00000000e+00, 7.00000000e+00, 6.00000000e+00,\n",
       "        7.00000000e+00, 5.00000000e+00, 7.00000000e+00, 5.00000000e+00,\n",
       "        5.00000000e+00, 4.00000000e+00, 7.00000000e+00, 6.00000000e+00,\n",
       "        3.00000000e+00, 4.00000000e+00, 4.00000000e+00, 7.00000000e+00,\n",
       "        5.00000000e+00, 3.00000000e+00, 5.00000000e+00, 7.00000000e+00,\n",
       "        5.00000000e+00, 8.00000000e+00, 3.00000000e+00, 6.00000000e+00,\n",
       "        3.00000000e+00, 8.00000000e+00, 8.00000000e+00, 5.00000000e+00,\n",
       "        4.00000000e+00, 3.00000000e+00, 7.00000000e+00, 7.00000000e+00,\n",
       "        4.00000000e+00, 4.00000000e+00, 4.00000000e+00, 6.00000000e+00,\n",
       "        4.00000000e+00, 5.00000000e+00, 3.00000000e+00, 5.00000000e+00,\n",
       "        5.00000000e+00, 5.00000000e+00, 4.00000000e+00, 2.00000000e+00,\n",
       "        4.00000000e+00, 7.00000000e+00, 5.00000000e+00, 4.00000000e+00,\n",
       "        7.00000000e+00, 4.00000000e+00, 3.00000000e+00],\n",
       "       [1.00000000e+00, 1.00000000e+00, 1.00000000e+00, 1.00000000e+00,\n",
       "        3.00000000e+00, 2.00000000e+00, 3.00000000e+00, 3.00000000e+00,\n",
       "        2.00000000e+00, 1.00000000e+00, 1.00000000e+00, 1.00000000e+00,\n",
       "        3.00000000e+00, 3.00000000e+00, 1.00000000e+00, 1.00000000e+00,\n",
       "        1.00000000e+00, 2.00000000e+00, 4.00000000e+00, 1.00000000e+00,\n",
       "        5.00000000e+00, 3.00000000e+00, 2.00000000e+00, 1.00000000e+00,\n",
       "        1.00000000e+00, 2.00000000e+00, 3.00000000e+00, 1.00000000e+00,\n",
       "        2.00000000e+00, 1.00000000e+00, 1.00000000e+00, 1.00000000e+00,\n",
       "        2.00000000e+00, 2.00000000e+00, 2.00000000e+00, 2.00000000e+00,\n",
       "        3.00000000e+00, 1.00000000e+00, 1.00000000e+00, 1.00000000e+00,\n",
       "        3.00000000e+00, 1.00000000e+00, 2.00000000e+00, 1.00000000e+00,\n",
       "        2.00000000e+00, 2.00000000e+00, 1.00000000e+00, 1.00000000e+00,\n",
       "        4.00000000e+00, 1.00000000e+00, 1.00000000e+00, 1.00000000e+00,\n",
       "        1.00000000e+00, 4.00000000e+00, 2.00000000e+00, 4.00000000e+00,\n",
       "        2.00000000e+00, 1.00000000e+00, 1.00000000e+00, 1.00000000e+00,\n",
       "        1.00000000e+00, 5.00000000e+00, 1.00000000e+00, 2.00000000e+00,\n",
       "        9.00000000e+00, 2.00000000e+00, 2.00000000e+00, 2.00000000e+00,\n",
       "        6.00000000e+00, 1.00000000e+00, 1.00000000e+00, 2.00000000e+00,\n",
       "        1.00000000e+00, 3.00000000e+00, 4.00000000e+00, 1.00000000e+00,\n",
       "        4.00000000e+00, 2.00000000e+00, 3.00000000e+00, 1.00000000e+00,\n",
       "        1.00000000e+00, 2.00000000e+00, 1.00000000e+00, 4.00000000e+00,\n",
       "        2.00000000e+00, 1.00000000e+00, 1.00000000e+00, 1.00000000e+00,\n",
       "        3.00000000e+00, 2.00000000e+00, 3.00000000e+00, 2.00000000e+00,\n",
       "        1.00000000e+00, 1.00000000e+00, 1.00000000e+00, 1.00000000e+00,\n",
       "        1.00000000e+00, 2.00000000e+00, 5.00000000e+00],\n",
       "       [1.00000000e+00, 0.00000000e+00, 1.00000000e+00, 0.00000000e+00,\n",
       "        0.00000000e+00, 0.00000000e+00, 0.00000000e+00, 0.00000000e+00,\n",
       "        0.00000000e+00, 0.00000000e+00, 0.00000000e+00, 0.00000000e+00,\n",
       "        0.00000000e+00, 0.00000000e+00, 0.00000000e+00, 1.00000000e+00,\n",
       "        0.00000000e+00, 0.00000000e+00, 0.00000000e+00, 0.00000000e+00,\n",
       "        1.00000000e+00, 0.00000000e+00, 0.00000000e+00, 1.00000000e+00,\n",
       "        0.00000000e+00, 0.00000000e+00, 0.00000000e+00, 0.00000000e+00,\n",
       "        1.00000000e+00, 0.00000000e+00, 0.00000000e+00, 0.00000000e+00,\n",
       "        0.00000000e+00, 0.00000000e+00, 0.00000000e+00, 0.00000000e+00,\n",
       "        0.00000000e+00, 0.00000000e+00, 0.00000000e+00, 0.00000000e+00,\n",
       "        0.00000000e+00, 0.00000000e+00, 0.00000000e+00, 1.00000000e+00,\n",
       "        0.00000000e+00, 0.00000000e+00, 0.00000000e+00, 0.00000000e+00,\n",
       "        1.00000000e+00, 0.00000000e+00, 0.00000000e+00, 0.00000000e+00,\n",
       "        0.00000000e+00, 0.00000000e+00, 0.00000000e+00, 0.00000000e+00,\n",
       "        0.00000000e+00, 1.00000000e+00, 2.00000000e+00, 0.00000000e+00,\n",
       "        1.00000000e+00, 0.00000000e+00, 0.00000000e+00, 0.00000000e+00,\n",
       "        0.00000000e+00, 0.00000000e+00, 0.00000000e+00, 0.00000000e+00,\n",
       "        0.00000000e+00, 1.00000000e+00, 1.00000000e+00, 1.00000000e+00,\n",
       "        0.00000000e+00, 0.00000000e+00, 0.00000000e+00, 0.00000000e+00,\n",
       "        1.00000000e+00, 1.00000000e+00, 0.00000000e+00, 0.00000000e+00,\n",
       "        0.00000000e+00, 0.00000000e+00, 0.00000000e+00, 0.00000000e+00,\n",
       "        0.00000000e+00, 0.00000000e+00, 0.00000000e+00, 1.00000000e+00,\n",
       "        0.00000000e+00, 0.00000000e+00, 0.00000000e+00, 1.00000000e+00,\n",
       "        0.00000000e+00, 0.00000000e+00, 1.00000000e+00, 0.00000000e+00,\n",
       "        0.00000000e+00, 1.00000000e+00, 0.00000000e+00],\n",
       "       [3.82920296e-02, 3.17912524e-02, 2.61045584e-01, 1.44629301e-01,\n",
       "        2.46996516e-01, 2.23666835e-01, 1.76250373e-02, 3.78755647e-02,\n",
       "        3.91381680e-01, 1.11224003e+00, 6.86214383e-02, 8.58645824e-02,\n",
       "        2.60697260e-01, 6.93453194e-02, 2.70924832e-01, 5.17465865e-01,\n",
       "        9.03326832e-01, 8.35838280e-01, 7.49342659e-02, 7.54159047e-01,\n",
       "        7.79148195e-02, 2.50819881e-01, 5.75910686e-02, 3.05368440e-01,\n",
       "        2.26941966e-02, 7.53776081e-01, 6.52534988e-01, 7.45993989e-03,\n",
       "        2.54675975e-01, 1.23332716e-01, 4.82377837e-01, 2.31616080e-02,\n",
       "        5.08121737e-01, 1.17018462e+00, 1.47901159e-01, 1.39218005e-02,\n",
       "        1.27402183e-01, 1.77105424e-01, 4.51472844e-02, 8.36012432e-02,\n",
       "        2.90765873e-01, 2.07755445e-01, 8.07087479e-02, 9.69828455e-02,\n",
       "        3.03882603e-01, 2.01820337e-02, 9.00618614e-02, 9.92304253e-04,\n",
       "        9.47996386e-02, 1.30571508e-01, 1.59613021e-02, 5.15238788e-02,\n",
       "        6.24709254e-02, 6.19142902e-02, 1.10385778e-01, 1.75855135e-01,\n",
       "        3.71236038e-02, 1.30779142e-01, 6.54587620e-02, 8.40230841e-02,\n",
       "        3.06594262e-01, 3.20510235e-02, 4.75175615e-01, 7.29848222e-01,\n",
       "        3.61749770e-01, 2.99510162e-01, 1.84318259e-01, 2.99319990e-01,\n",
       "        1.65612645e-02, 3.57683770e-01, 2.37843227e-02, 3.56755119e-01,\n",
       "        4.51458246e-02, 3.23478987e-01, 2.47285627e-01, 8.74540256e-03,\n",
       "        4.20165816e-02, 3.26479236e-01, 3.14363349e-02, 1.88490021e-01,\n",
       "        7.42594549e-02, 3.35804620e-01, 1.43762813e-01, 3.30080115e-01,\n",
       "        2.23395688e-01, 2.67107877e-01, 8.14552116e-02, 9.09224598e-02,\n",
       "        8.16557861e-03, 3.32308324e-02, 1.40750730e-01, 1.96452065e-02,\n",
       "        1.20861494e-02, 3.22872911e-01, 1.62722110e-02, 9.81378150e-02,\n",
       "        7.94877030e-02, 8.96538184e-03, 3.23023406e-01]])"
      ]
     },
     "execution_count": 171,
     "metadata": {},
     "output_type": "execute_result"
    }
   ],
   "source": [
    "matriz_amostras = np.array(\n",
    "    [amostra_binomial_array, amostra_geo_array, amostra_poi_array, amostra_exp_array]\n",
    ")\n",
    "matriz_amostras"
   ]
  },
  {
   "cell_type": "markdown",
   "id": "23dd3665",
   "metadata": {},
   "source": [
    "Agora vamos calcular a média de cada observação, criando um novo vetor de observações:"
   ]
  },
  {
   "cell_type": "code",
   "execution_count": 172,
   "id": "e0d0445b",
   "metadata": {},
   "outputs": [
    {
     "data": {
      "text/plain": [
       "array([2.25957301, 1.50794781, 2.0652614 , 1.03615733, 2.06174913,\n",
       "       1.80591671, 1.50440626, 2.00946889, 2.09784542, 2.27806001,\n",
       "       1.26715536, 2.27146615, 2.56517431, 2.01733633, 1.56773121,\n",
       "       2.12936647, 2.22583171, 1.95895957, 3.01873357, 2.43853976,\n",
       "       3.2694787 , 1.31270497, 1.26439777, 1.07634211, 1.25567355,\n",
       "       1.68844402, 1.91313375, 1.00186498, 2.06366899, 1.53083318,\n",
       "       1.87059446, 1.2557904 , 1.87703043, 2.04254616, 1.78697529,\n",
       "       1.75348045, 1.28185055, 1.79427636, 0.76128682, 1.02090031,\n",
       "       2.32269147, 1.05193886, 2.02017719, 1.27424571, 2.07597065,\n",
       "       1.75504551, 2.02251547, 1.25024808, 2.02369991, 2.03264288,\n",
       "       2.00399033, 1.76288097, 2.01561773, 2.26547857, 2.27759644,\n",
       "       2.29396378, 1.7592809 , 1.53269479, 2.51636469, 1.77100577,\n",
       "       1.32664857, 2.25801276, 1.3687939 , 2.43246206, 3.59043744,\n",
       "       1.32487754, 1.79607956, 2.32483   , 2.75414032, 2.58942094,\n",
       "       1.25594608, 2.33918878, 1.01128646, 2.83086975, 3.06182141,\n",
       "       1.50218635, 2.26050415, 1.58161981, 2.50785908, 2.04712251,\n",
       "       1.26856486, 1.58395116, 1.2859407 , 2.58252003, 1.55584892,\n",
       "       1.56677697, 1.0203638 , 1.77273061, 2.00204139, 1.75830771,\n",
       "       1.78518768, 1.2549113 , 1.25302154, 2.08071823, 1.75406805,\n",
       "       1.27453445, 2.01987193, 1.75224135, 2.08075585])"
      ]
     },
     "execution_count": 172,
     "metadata": {},
     "output_type": "execute_result"
    }
   ],
   "source": [
    "amostra_estranha = matriz_amostras.mean(axis = 0)\n",
    "amostra_estranha"
   ]
  },
  {
   "cell_type": "markdown",
   "id": "49042556",
   "metadata": {},
   "source": [
    "Agora, vamos construir uma variável aleatório com distribuição **Normal** utilizando a função `norm()`. Os parâmetros dessa função são `loc = ` e `scale = `, a média e o desvio padrão respectivamente.\n",
    "\n",
    "Vamos construir nossa R.V. com a média e o desvio padrão do nosso vetor com as médias das outras distribuições."
   ]
  },
  {
   "cell_type": "code",
   "execution_count": 177,
   "id": "3891a256",
   "metadata": {},
   "outputs": [],
   "source": [
    "dist_norm = sp.stats.norm(loc=np.mean(amostra_estranha), scale=np.std(amostra_estranha))"
   ]
  },
  {
   "cell_type": "markdown",
   "id": "39397218",
   "metadata": {},
   "source": [
    "Agora vamos construir um `DataFrame` com nossa `amostra_estranha` e criar uma **CDF** *empírica* dessa amostra:"
   ]
  },
  {
   "cell_type": "code",
   "execution_count": 178,
   "id": "d49f0240",
   "metadata": {},
   "outputs": [
    {
     "data": {
      "text/html": [
       "<div>\n",
       "<style scoped>\n",
       "    .dataframe tbody tr th:only-of-type {\n",
       "        vertical-align: middle;\n",
       "    }\n",
       "\n",
       "    .dataframe tbody tr th {\n",
       "        vertical-align: top;\n",
       "    }\n",
       "\n",
       "    .dataframe thead th {\n",
       "        text-align: right;\n",
       "    }\n",
       "</style>\n",
       "<table border=\"1\" class=\"dataframe\">\n",
       "  <thead>\n",
       "    <tr style=\"text-align: right;\">\n",
       "      <th></th>\n",
       "      <th>amostra</th>\n",
       "      <th>cdf_emp</th>\n",
       "    </tr>\n",
       "  </thead>\n",
       "  <tbody>\n",
       "    <tr>\n",
       "      <th>0</th>\n",
       "      <td>0.761287</td>\n",
       "      <td>0.010101</td>\n",
       "    </tr>\n",
       "    <tr>\n",
       "      <th>1</th>\n",
       "      <td>1.001865</td>\n",
       "      <td>0.020202</td>\n",
       "    </tr>\n",
       "    <tr>\n",
       "      <th>2</th>\n",
       "      <td>1.011286</td>\n",
       "      <td>0.030303</td>\n",
       "    </tr>\n",
       "    <tr>\n",
       "      <th>3</th>\n",
       "      <td>1.020364</td>\n",
       "      <td>0.040404</td>\n",
       "    </tr>\n",
       "    <tr>\n",
       "      <th>4</th>\n",
       "      <td>1.020900</td>\n",
       "      <td>0.050505</td>\n",
       "    </tr>\n",
       "    <tr>\n",
       "      <th>...</th>\n",
       "      <td>...</td>\n",
       "      <td>...</td>\n",
       "    </tr>\n",
       "    <tr>\n",
       "      <th>94</th>\n",
       "      <td>2.830870</td>\n",
       "      <td>0.959596</td>\n",
       "    </tr>\n",
       "    <tr>\n",
       "      <th>95</th>\n",
       "      <td>3.018734</td>\n",
       "      <td>0.969697</td>\n",
       "    </tr>\n",
       "    <tr>\n",
       "      <th>96</th>\n",
       "      <td>3.061821</td>\n",
       "      <td>0.979798</td>\n",
       "    </tr>\n",
       "    <tr>\n",
       "      <th>97</th>\n",
       "      <td>3.269479</td>\n",
       "      <td>0.989899</td>\n",
       "    </tr>\n",
       "    <tr>\n",
       "      <th>98</th>\n",
       "      <td>3.590437</td>\n",
       "      <td>1.000000</td>\n",
       "    </tr>\n",
       "  </tbody>\n",
       "</table>\n",
       "<p>99 rows × 2 columns</p>\n",
       "</div>"
      ],
      "text/plain": [
       "     amostra   cdf_emp\n",
       "0   0.761287  0.010101\n",
       "1   1.001865  0.020202\n",
       "2   1.011286  0.030303\n",
       "3   1.020364  0.040404\n",
       "4   1.020900  0.050505\n",
       "..       ...       ...\n",
       "94  2.830870  0.959596\n",
       "95  3.018734  0.969697\n",
       "96  3.061821  0.979798\n",
       "97  3.269479  0.989899\n",
       "98  3.590437  1.000000\n",
       "\n",
       "[99 rows x 2 columns]"
      ]
     },
     "execution_count": 178,
     "metadata": {},
     "output_type": "execute_result"
    }
   ],
   "source": [
    "tb_estranha = pd.DataFrame({'amostra' : amostra_estranha})\n",
    "tb_estranha = tb_estranha.sort_values('amostra', ascending=True).reset_index(drop = True)\n",
    "tb_estranha['cdf_emp'] = (tb_estranha.index + 1)/tb_estranha.shape[0]\n",
    "tb_estranha"
   ]
  },
  {
   "cell_type": "code",
   "execution_count": 183,
   "id": "3a1c5fba",
   "metadata": {},
   "outputs": [
    {
     "data": {
      "text/plain": [
       "<AxesSubplot: xlabel='amostra', ylabel='Density'>"
      ]
     },
     "execution_count": 183,
     "metadata": {},
     "output_type": "execute_result"
    },
    {
     "data": {
      "image/png": "[encoded data removed]",
      "text/plain": [
       "<Figure size 640x480 with 1 Axes>"
      ]
     },
     "metadata": {},
     "output_type": "display_data"
    }
   ],
   "source": [
    "sns.kdeplot(data = tb_estranha, x = \"amostra\")"
   ]
  },
  {
   "cell_type": "markdown",
   "id": "fbd9a32b",
   "metadata": {},
   "source": [
    "Vamos adicionar a **CDF** de nossa distribuição **Normal** à nossa tabela:"
   ]
  },
  {
   "cell_type": "code",
   "execution_count": 179,
   "id": "fab257d9",
   "metadata": {},
   "outputs": [],
   "source": [
    "tb_estranha['cdf_normal'] = tb_estranha['amostra'].map(dist_norm.cdf)"
   ]
  },
  {
   "cell_type": "code",
   "execution_count": 180,
   "id": "67fdf59e",
   "metadata": {},
   "outputs": [
    {
     "data": {
      "image/png": "[encoded data removed]",
      "text/plain": [
       "<Figure size 640x480 with 1 Axes>"
      ]
     },
     "metadata": {},
     "output_type": "display_data"
    }
   ],
   "source": [
    "sns.scatterplot(data = tb_estranha, x = 'amostra', y = 'cdf_emp', color = 'black')\n",
    "sns.lineplot(data = tb_estranha, x = 'amostra', y = 'cdf_normal', color = 'red');"
   ]
  },
  {
   "cell_type": "markdown",
   "id": "855e03f2",
   "metadata": {},
   "source": [
    "# Intervalos de Confiança\n",
    "\n",
    "O processo de amostragem sempre apresenta desvios em relação à distribuição real. Como vimos ao longo da aula hoje,  a lei dos grandes números garanta que conforme aumentamos uma amostra ela 'converge' para o valor real da distribuição.\n",
    "\n",
    "A estatística utiliza-se de intervalos de confiança para medir a confiabilidade de uma amostra. Vamos aprender como utilizar esses intervalos mais a frente no curso mas podemos utilizar a probabilidade computacional para observar como eles emergem.\n",
    "\n",
    "Vamos simular o pesquisa de intenção de voto entre dois candidatos."
   ]
  },
  {
   "cell_type": "code",
   "execution_count": 2,
   "id": "3ad3cace",
   "metadata": {
    "ExecuteTime": {
     "end_time": "2022-03-11T00:39:36.409850Z",
     "start_time": "2022-03-11T00:39:36.402868Z"
    }
   },
   "outputs": [],
   "source": [
    "candidatos = [\"A\", \"B\"]\n",
    "\n",
    "\n",
    "def intencao_voto():\n",
    "    return np.random.choice(candidatos, p=[0.51, 0.49])\n"
   ]
  },
  {
   "cell_type": "code",
   "execution_count": 5,
   "id": "af5a328c",
   "metadata": {
    "ExecuteTime": {
     "end_time": "2022-03-11T00:39:36.938581Z",
     "start_time": "2022-03-11T00:39:36.928606Z"
    }
   },
   "outputs": [
    {
     "data": {
      "text/plain": [
       "'A'"
      ]
     },
     "execution_count": 5,
     "metadata": {},
     "output_type": "execute_result"
    }
   ],
   "source": [
    "intencao_voto()\n"
   ]
  },
  {
   "cell_type": "markdown",
   "id": "1e4671da",
   "metadata": {},
   "source": [
    "Nossa função de amostragem `intencao_voto()` nos permite amostrar **uma pessoa**. Vamos construir uma segunda função para realizar **amostras com tamanho parametrizável**: "
   ]
  },
  {
   "cell_type": "code",
   "execution_count": 6,
   "id": "a18f365a",
   "metadata": {
    "ExecuteTime": {
     "end_time": "2022-03-11T00:39:37.437147Z",
     "start_time": "2022-03-11T00:39:37.431162Z"
    }
   },
   "outputs": [],
   "source": [
    "def pesquisa_opiniao(tamanho_amostra):\n",
    "    pesquisa = [intencao_voto() for i in range(tamanho_amostra)]\n",
    "    c_pesq = Counter(pesquisa)\n",
    "    return c_pesq[\"A\"] / tamanho_amostra\n"
   ]
  },
  {
   "cell_type": "code",
   "execution_count": 17,
   "id": "71694181",
   "metadata": {
    "ExecuteTime": {
     "end_time": "2022-03-11T00:39:38.023111Z",
     "start_time": "2022-03-11T00:39:37.982221Z"
    }
   },
   "outputs": [
    {
     "data": {
      "text/plain": [
       "0.7"
      ]
     },
     "execution_count": 17,
     "metadata": {},
     "output_type": "execute_result"
    }
   ],
   "source": [
    "pesquisa_opiniao(10)\n"
   ]
  },
  {
   "cell_type": "markdown",
   "id": "4c77fbd6",
   "metadata": {},
   "source": [
    "Com essa função definida, podemos analisar **a distribuição de amostragem** da intenção de voto no candidato *A*. A **distribuição de amostragem** é a distribuição, entre pesquisas amostras de tamanho igual, **de uma estatística de interesse**, no caso, a *% de intenção de votos em A*:"
   ]
  },
  {
   "cell_type": "code",
   "execution_count": 18,
   "id": "2214a10f",
   "metadata": {
    "ExecuteTime": {
     "end_time": "2022-03-11T00:39:55.415480Z",
     "start_time": "2022-03-11T00:39:53.279139Z"
    }
   },
   "outputs": [
    {
     "data": {
      "text/plain": [
       "[0.4, 0.7, 0.6, 0.4, 0.7, 0.7, 0.5, 0.2, 0.7, 0.5]"
      ]
     },
     "execution_count": 18,
     "metadata": {},
     "output_type": "execute_result"
    }
   ],
   "source": [
    "lista_pesquisas = [pesquisa_opiniao(10) for i in range(1000)]\n",
    "lista_pesquisas[0:10]"
   ]
  },
  {
   "cell_type": "code",
   "execution_count": 19,
   "id": "efe6d8d9",
   "metadata": {
    "ExecuteTime": {
     "end_time": "2022-03-11T00:39:55.536663Z",
     "start_time": "2022-03-11T00:39:55.417474Z"
    }
   },
   "outputs": [
    {
     "data": {
      "image/png": "[encoded data removed]",
      "text/plain": [
       "<Figure size 640x480 with 1 Axes>"
      ]
     },
     "metadata": {},
     "output_type": "display_data"
    }
   ],
   "source": [
    "sns.boxplot(lista_pesquisas);\n"
   ]
  },
  {
   "cell_type": "code",
   "execution_count": 20,
   "id": "8a897756",
   "metadata": {},
   "outputs": [
    {
     "data": {
      "text/plain": [
       "0.5136000000000001"
      ]
     },
     "execution_count": 20,
     "metadata": {},
     "output_type": "execute_result"
    }
   ],
   "source": [
    "np.mean(lista_pesquisas)"
   ]
  },
  {
   "cell_type": "code",
   "execution_count": 21,
   "id": "984586db",
   "metadata": {},
   "outputs": [
    {
     "data": {
      "text/plain": [
       "0.1501833546036311"
      ]
     },
     "execution_count": 21,
     "metadata": {},
     "output_type": "execute_result"
    }
   ],
   "source": [
    "np.std(lista_pesquisas)"
   ]
  },
  {
   "cell_type": "markdown",
   "id": "0570c413",
   "metadata": {},
   "source": [
    "Podemos agora comparar o desvio padrão dessa distribuição entre amostras de tamanhos diferentes:"
   ]
  },
  {
   "cell_type": "code",
   "execution_count": 22,
   "id": "e70dfb89",
   "metadata": {},
   "outputs": [],
   "source": [
    "resultado_pesquisa = []\n",
    "for tamanho_amostra in range(10, 561, 50):\n",
    "    lista_pesquisas = [pesquisa_opiniao(tamanho_amostra) for i in range(1000)]\n",
    "    desvpad_amostragem = np.std(lista_pesquisas)\n",
    "    resultado_pesquisa.append({'tam_amostra': tamanho_amostra,'sd_amostragem' : desvpad_amostragem})\n",
    "\n",
    "tb_amostragem = pd.DataFrame(resultado_pesquisa)"
   ]
  },
  {
   "cell_type": "code",
   "execution_count": 23,
   "id": "0f47e9f6",
   "metadata": {},
   "outputs": [
    {
     "data": {
      "text/html": [
       "<div>\n",
       "<style scoped>\n",
       "    .dataframe tbody tr th:only-of-type {\n",
       "        vertical-align: middle;\n",
       "    }\n",
       "\n",
       "    .dataframe tbody tr th {\n",
       "        vertical-align: top;\n",
       "    }\n",
       "\n",
       "    .dataframe thead th {\n",
       "        text-align: right;\n",
       "    }\n",
       "</style>\n",
       "<table border=\"1\" class=\"dataframe\">\n",
       "  <thead>\n",
       "    <tr style=\"text-align: right;\">\n",
       "      <th></th>\n",
       "      <th>tam_amostra</th>\n",
       "      <th>sd_amostragem</th>\n",
       "    </tr>\n",
       "  </thead>\n",
       "  <tbody>\n",
       "    <tr>\n",
       "      <th>0</th>\n",
       "      <td>10</td>\n",
       "      <td>0.156669</td>\n",
       "    </tr>\n",
       "    <tr>\n",
       "      <th>1</th>\n",
       "      <td>60</td>\n",
       "      <td>0.065885</td>\n",
       "    </tr>\n",
       "    <tr>\n",
       "      <th>2</th>\n",
       "      <td>110</td>\n",
       "      <td>0.048259</td>\n",
       "    </tr>\n",
       "    <tr>\n",
       "      <th>3</th>\n",
       "      <td>160</td>\n",
       "      <td>0.038559</td>\n",
       "    </tr>\n",
       "    <tr>\n",
       "      <th>4</th>\n",
       "      <td>210</td>\n",
       "      <td>0.033025</td>\n",
       "    </tr>\n",
       "    <tr>\n",
       "      <th>5</th>\n",
       "      <td>260</td>\n",
       "      <td>0.031716</td>\n",
       "    </tr>\n",
       "    <tr>\n",
       "      <th>6</th>\n",
       "      <td>310</td>\n",
       "      <td>0.028611</td>\n",
       "    </tr>\n",
       "    <tr>\n",
       "      <th>7</th>\n",
       "      <td>360</td>\n",
       "      <td>0.025783</td>\n",
       "    </tr>\n",
       "    <tr>\n",
       "      <th>8</th>\n",
       "      <td>410</td>\n",
       "      <td>0.024432</td>\n",
       "    </tr>\n",
       "    <tr>\n",
       "      <th>9</th>\n",
       "      <td>460</td>\n",
       "      <td>0.023895</td>\n",
       "    </tr>\n",
       "    <tr>\n",
       "      <th>10</th>\n",
       "      <td>510</td>\n",
       "      <td>0.021528</td>\n",
       "    </tr>\n",
       "    <tr>\n",
       "      <th>11</th>\n",
       "      <td>560</td>\n",
       "      <td>0.021264</td>\n",
       "    </tr>\n",
       "  </tbody>\n",
       "</table>\n",
       "</div>"
      ],
      "text/plain": [
       "    tam_amostra  sd_amostragem\n",
       "0            10       0.156669\n",
       "1            60       0.065885\n",
       "2           110       0.048259\n",
       "3           160       0.038559\n",
       "4           210       0.033025\n",
       "5           260       0.031716\n",
       "6           310       0.028611\n",
       "7           360       0.025783\n",
       "8           410       0.024432\n",
       "9           460       0.023895\n",
       "10          510       0.021528\n",
       "11          560       0.021264"
      ]
     },
     "execution_count": 23,
     "metadata": {},
     "output_type": "execute_result"
    }
   ],
   "source": [
    "tb_amostragem"
   ]
  },
  {
   "cell_type": "code",
   "execution_count": 24,
   "id": "2e6dbc71",
   "metadata": {},
   "outputs": [
    {
     "data": {
      "text/plain": [
       "<AxesSubplot: xlabel='tam_amostra', ylabel='sd_amostragem'>"
      ]
     },
     "execution_count": 24,
     "metadata": {},
     "output_type": "execute_result"
    },
    {
     "data": {
      "image/png": "[encoded data removed]",
      "text/plain": [
       "<Figure size 640x480 with 1 Axes>"
      ]
     },
     "metadata": {},
     "output_type": "display_data"
    }
   ],
   "source": [
    "sns.lineplot(data = tb_amostragem, x = 'tam_amostra', y = 'sd_amostragem', color = 'black')"
   ]
  },
  {
   "cell_type": "code",
   "execution_count": 25,
   "id": "5de3373d",
   "metadata": {},
   "outputs": [],
   "source": [
    "candidatos = [\"A\", \"B\"]\n",
    "\n",
    "\n",
    "def intencao_voto():\n",
    "    return np.random.choice(candidatos, p=[0.9, 0.1])\n",
    "\n",
    "def pesquisa_opiniao(tamanho_amostra):\n",
    "    pesquisa = [intencao_voto() for i in range(tamanho_amostra)]\n",
    "    c_pesq = Counter(pesquisa)\n",
    "    return c_pesq[\"A\"] / tamanho_amostra\n",
    "\n",
    "resultado_pesquisa = []\n",
    "for tamanho_amostra in range(10, 561, 50):\n",
    "    lista_pesquisas = [pesquisa_opiniao(tamanho_amostra) for i in range(100)]\n",
    "    desvpad_amostragem = np.std(lista_pesquisas)\n",
    "    resultado_pesquisa.append({'tam_amostra': tamanho_amostra,'sd_amostragem' : desvpad_amostragem})\n",
    "\n",
    "tb_amostragem = pd.DataFrame(resultado_pesquisa)"
   ]
  },
  {
   "cell_type": "code",
   "execution_count": 26,
   "id": "99a5853a",
   "metadata": {},
   "outputs": [
    {
     "data": {
      "text/plain": [
       "<AxesSubplot: xlabel='tam_amostra', ylabel='sd_amostragem'>"
      ]
     },
     "execution_count": 26,
     "metadata": {},
     "output_type": "execute_result"
    },
    {
     "data": {
      "image/png": "[encoded data removed]",
      "text/plain": [
       "<Figure size 640x480 with 1 Axes>"
      ]
     },
     "metadata": {},
     "output_type": "display_data"
    }
   ],
   "source": [
    "sns.lineplot(data = tb_amostragem, x = 'tam_amostra', y = 'sd_amostragem', color = 'black')"
   ]
  },
  {
   "cell_type": "code",
   "execution_count": null,
   "id": "2fd9824a",
   "metadata": {},
   "outputs": [],
   "source": []
  }
 ],
 "metadata": {
  "hide_input": false,
  "kernelspec": {
   "display_name": "Python 3 (ipykernel)",
   "language": "python",
   "name": "python3"
  },
  "language_info": {
   "codemirror_mode": {
    "name": "ipython",
    "version": 3
   },
   "file_extension": ".py",
   "mimetype": "text/x-python",
   "name": "python",
   "nbconvert_exporter": "python",
   "pygments_lexer": "ipython3",
   "version": "3.9.13"
  },
  "toc": {
   "base_numbering": 1,
   "nav_menu": {},
   "number_sections": true,
   "sideBar": true,
   "skip_h1_title": false,
   "title_cell": "Table of Contents",
   "title_sidebar": "Contents",
   "toc_cell": true,
   "toc_position": {
    "height": "calc(100% - 180px)",
    "left": "10px",
    "top": "150px",
    "width": "256px"
   },
   "toc_section_display": true,
   "toc_window_display": true
  },
  "vscode": {
   "interpreter": {
    "hash": "014f4a4a5af8f0104b12c029e500f4146d6d785e8cf714d2a35b7a9514230cd3"
   }
  }
 },
 "nbformat": 4,
 "nbformat_minor": 5
}
