{
 "cells": [
  {
   "cell_type": "code",
   "execution_count": 1,
   "metadata": {},
   "outputs": [],
   "source": [
    "import numpy as np\n",
    "import pandas as pd\n",
    "import seaborn as sns\n",
    "\n",
    "import matplotlib.pyplot as plt\n",
    "sns.set_theme(style=\"darkgrid\")"
   ]
  },
  {
   "cell_type": "code",
   "execution_count": 2,
   "metadata": {},
   "outputs": [],
   "source": [
    "tb_hotel = pd.read_csv(\"data/tb_hotel_aula.csv\")\n",
    "tb_test = pd.read_csv(\"data/tb_hotel_test_clean.csv\")\n",
    "tb_train = pd.read_csv(\"data/tb_hotel_train_clean.csv\")"
   ]
  },
  {
   "cell_type": "code",
   "execution_count": 3,
   "metadata": {},
   "outputs": [
    {
     "data": {
      "text/html": [
       "<div>\n",
       "<style scoped>\n",
       "    .dataframe tbody tr th:only-of-type {\n",
       "        vertical-align: middle;\n",
       "    }\n",
       "\n",
       "    .dataframe tbody tr th {\n",
       "        vertical-align: top;\n",
       "    }\n",
       "\n",
       "    .dataframe thead th {\n",
       "        text-align: right;\n",
       "    }\n",
       "</style>\n",
       "<table border=\"1\" class=\"dataframe\">\n",
       "  <thead>\n",
       "    <tr style=\"text-align: right;\">\n",
       "      <th></th>\n",
       "      <th>lead_time</th>\n",
       "      <th>adults</th>\n",
       "      <th>children_imp</th>\n",
       "      <th>num_meal</th>\n",
       "      <th>adr</th>\n",
       "      <th>country_grp_BEL</th>\n",
       "      <th>country_grp_BRA</th>\n",
       "      <th>country_grp_CHE</th>\n",
       "      <th>country_grp_CN</th>\n",
       "      <th>country_grp_DEU</th>\n",
       "      <th>...</th>\n",
       "      <th>country_grp_FRA</th>\n",
       "      <th>country_grp_GBR</th>\n",
       "      <th>country_grp_IRL</th>\n",
       "      <th>country_grp_ITA</th>\n",
       "      <th>country_grp_NLD</th>\n",
       "      <th>country_grp_Others</th>\n",
       "      <th>country_grp_PRT</th>\n",
       "      <th>country_grp_USA</th>\n",
       "      <th>is_company</th>\n",
       "      <th>is_cancelled</th>\n",
       "    </tr>\n",
       "  </thead>\n",
       "  <tbody>\n",
       "    <tr>\n",
       "      <th>0</th>\n",
       "      <td>-0.619738</td>\n",
       "      <td>0.265892</td>\n",
       "      <td>-0.261362</td>\n",
       "      <td>-0.050467</td>\n",
       "      <td>-0.582983</td>\n",
       "      <td>0.0</td>\n",
       "      <td>0.0</td>\n",
       "      <td>0.0</td>\n",
       "      <td>0.0</td>\n",
       "      <td>0.0</td>\n",
       "      <td>...</td>\n",
       "      <td>0.0</td>\n",
       "      <td>0.0</td>\n",
       "      <td>0.0</td>\n",
       "      <td>0.0</td>\n",
       "      <td>0.0</td>\n",
       "      <td>0.0</td>\n",
       "      <td>1.0</td>\n",
       "      <td>0.0</td>\n",
       "      <td>0.0</td>\n",
       "      <td>0</td>\n",
       "    </tr>\n",
       "    <tr>\n",
       "      <th>1</th>\n",
       "      <td>-0.085516</td>\n",
       "      <td>0.265892</td>\n",
       "      <td>-0.261362</td>\n",
       "      <td>-0.050467</td>\n",
       "      <td>-0.193021</td>\n",
       "      <td>0.0</td>\n",
       "      <td>1.0</td>\n",
       "      <td>0.0</td>\n",
       "      <td>0.0</td>\n",
       "      <td>0.0</td>\n",
       "      <td>...</td>\n",
       "      <td>0.0</td>\n",
       "      <td>0.0</td>\n",
       "      <td>0.0</td>\n",
       "      <td>0.0</td>\n",
       "      <td>0.0</td>\n",
       "      <td>0.0</td>\n",
       "      <td>0.0</td>\n",
       "      <td>0.0</td>\n",
       "      <td>0.0</td>\n",
       "      <td>0</td>\n",
       "    </tr>\n",
       "    <tr>\n",
       "      <th>2</th>\n",
       "      <td>-0.507270</td>\n",
       "      <td>0.265892</td>\n",
       "      <td>-0.261362</td>\n",
       "      <td>-0.050467</td>\n",
       "      <td>-1.183915</td>\n",
       "      <td>0.0</td>\n",
       "      <td>0.0</td>\n",
       "      <td>0.0</td>\n",
       "      <td>0.0</td>\n",
       "      <td>0.0</td>\n",
       "      <td>...</td>\n",
       "      <td>0.0</td>\n",
       "      <td>1.0</td>\n",
       "      <td>0.0</td>\n",
       "      <td>0.0</td>\n",
       "      <td>0.0</td>\n",
       "      <td>0.0</td>\n",
       "      <td>0.0</td>\n",
       "      <td>0.0</td>\n",
       "      <td>0.0</td>\n",
       "      <td>1</td>\n",
       "    </tr>\n",
       "    <tr>\n",
       "      <th>3</th>\n",
       "      <td>-0.554132</td>\n",
       "      <td>0.265892</td>\n",
       "      <td>-0.261362</td>\n",
       "      <td>-0.050467</td>\n",
       "      <td>-0.319759</td>\n",
       "      <td>0.0</td>\n",
       "      <td>0.0</td>\n",
       "      <td>0.0</td>\n",
       "      <td>0.0</td>\n",
       "      <td>0.0</td>\n",
       "      <td>...</td>\n",
       "      <td>0.0</td>\n",
       "      <td>0.0</td>\n",
       "      <td>0.0</td>\n",
       "      <td>0.0</td>\n",
       "      <td>1.0</td>\n",
       "      <td>0.0</td>\n",
       "      <td>0.0</td>\n",
       "      <td>0.0</td>\n",
       "      <td>0.0</td>\n",
       "      <td>0</td>\n",
       "    </tr>\n",
       "    <tr>\n",
       "      <th>4</th>\n",
       "      <td>0.701759</td>\n",
       "      <td>0.265892</td>\n",
       "      <td>-0.261362</td>\n",
       "      <td>1.856256</td>\n",
       "      <td>-0.310010</td>\n",
       "      <td>0.0</td>\n",
       "      <td>0.0</td>\n",
       "      <td>0.0</td>\n",
       "      <td>0.0</td>\n",
       "      <td>0.0</td>\n",
       "      <td>...</td>\n",
       "      <td>0.0</td>\n",
       "      <td>0.0</td>\n",
       "      <td>0.0</td>\n",
       "      <td>0.0</td>\n",
       "      <td>0.0</td>\n",
       "      <td>0.0</td>\n",
       "      <td>1.0</td>\n",
       "      <td>0.0</td>\n",
       "      <td>0.0</td>\n",
       "      <td>1</td>\n",
       "    </tr>\n",
       "  </tbody>\n",
       "</table>\n",
       "<p>5 rows × 21 columns</p>\n",
       "</div>"
      ],
      "text/plain": [
       "   lead_time    adults  children_imp  num_meal       adr  country_grp_BEL   \n",
       "0  -0.619738  0.265892     -0.261362 -0.050467 -0.582983              0.0  \\\n",
       "1  -0.085516  0.265892     -0.261362 -0.050467 -0.193021              0.0   \n",
       "2  -0.507270  0.265892     -0.261362 -0.050467 -1.183915              0.0   \n",
       "3  -0.554132  0.265892     -0.261362 -0.050467 -0.319759              0.0   \n",
       "4   0.701759  0.265892     -0.261362  1.856256 -0.310010              0.0   \n",
       "\n",
       "   country_grp_BRA  country_grp_CHE  country_grp_CN  country_grp_DEU  ...   \n",
       "0              0.0              0.0             0.0              0.0  ...  \\\n",
       "1              1.0              0.0             0.0              0.0  ...   \n",
       "2              0.0              0.0             0.0              0.0  ...   \n",
       "3              0.0              0.0             0.0              0.0  ...   \n",
       "4              0.0              0.0             0.0              0.0  ...   \n",
       "\n",
       "   country_grp_FRA  country_grp_GBR  country_grp_IRL  country_grp_ITA   \n",
       "0              0.0              0.0              0.0              0.0  \\\n",
       "1              0.0              0.0              0.0              0.0   \n",
       "2              0.0              1.0              0.0              0.0   \n",
       "3              0.0              0.0              0.0              0.0   \n",
       "4              0.0              0.0              0.0              0.0   \n",
       "\n",
       "   country_grp_NLD  country_grp_Others  country_grp_PRT  country_grp_USA   \n",
       "0              0.0                 0.0              1.0              0.0  \\\n",
       "1              0.0                 0.0              0.0              0.0   \n",
       "2              0.0                 0.0              0.0              0.0   \n",
       "3              1.0                 0.0              0.0              0.0   \n",
       "4              0.0                 0.0              1.0              0.0   \n",
       "\n",
       "   is_company  is_cancelled  \n",
       "0         0.0             0  \n",
       "1         0.0             0  \n",
       "2         0.0             1  \n",
       "3         0.0             0  \n",
       "4         0.0             1  \n",
       "\n",
       "[5 rows x 21 columns]"
      ]
     },
     "execution_count": 3,
     "metadata": {},
     "output_type": "execute_result"
    }
   ],
   "source": [
    "tb_train.head()"
   ]
  },
  {
   "cell_type": "code",
   "execution_count": 4,
   "metadata": {},
   "outputs": [
    {
     "name": "stdout",
     "output_type": "stream",
     "text": [
      "<class 'pandas.core.frame.DataFrame'>\n",
      "RangeIndex: 83909 entries, 0 to 83908\n",
      "Data columns (total 21 columns):\n",
      " #   Column              Non-Null Count  Dtype  \n",
      "---  ------              --------------  -----  \n",
      " 0   lead_time           83909 non-null  float64\n",
      " 1   adults              83909 non-null  float64\n",
      " 2   children_imp        83909 non-null  float64\n",
      " 3   num_meal            83909 non-null  float64\n",
      " 4   adr                 83909 non-null  float64\n",
      " 5   country_grp_BEL     83909 non-null  float64\n",
      " 6   country_grp_BRA     83909 non-null  float64\n",
      " 7   country_grp_CHE     83909 non-null  float64\n",
      " 8   country_grp_CN      83909 non-null  float64\n",
      " 9   country_grp_DEU     83909 non-null  float64\n",
      " 10  country_grp_ESP     83909 non-null  float64\n",
      " 11  country_grp_FRA     83909 non-null  float64\n",
      " 12  country_grp_GBR     83909 non-null  float64\n",
      " 13  country_grp_IRL     83909 non-null  float64\n",
      " 14  country_grp_ITA     83909 non-null  float64\n",
      " 15  country_grp_NLD     83909 non-null  float64\n",
      " 16  country_grp_Others  83909 non-null  float64\n",
      " 17  country_grp_PRT     83909 non-null  float64\n",
      " 18  country_grp_USA     83909 non-null  float64\n",
      " 19  is_company          83909 non-null  float64\n",
      " 20  is_cancelled        83909 non-null  int64  \n",
      "dtypes: float64(20), int64(1)\n",
      "memory usage: 13.4 MB\n"
     ]
    }
   ],
   "source": [
    "tb_train.info()"
   ]
  },
  {
   "cell_type": "markdown",
   "metadata": {},
   "source": [
    "# Modelos de Classificação\n",
    "\n",
    "**Introdução aos modelos de classificação supervisionada**\n",
    "\n",
    "Modelos de classificação supervisionada são algoritmos usados para prever resultados categóricos com base em dados de entrada. Eles são comumente usados em diversos campos, como finanças, saúde e marketing.\n",
    "\n",
    "O objetivo da classificação supervisionada é construir um modelo que possa **classificar** com precisão novas instâncias em **classes previamente definidas** com base em dados de treinamento conhecidos. Em outras palavras, o algoritmo aprende com exemplos rotulados para fazer previsões sobre novos dados não vistos.\n",
    "\n",
    "Uma das principais características dos modelos de classificação supervisionada é a capacidade de projetar a **probabilidade** de uma instância pertencer a uma determinada classe. Essa informação pode ser muito poderosa em certas aplicações em que é importante não apenas saber a classe prevista, mas também o nível de confiança associado a essa previsão.\n",
    "\n",
    "A **regressão logística**, que você aprenderá nesta aula, é um modelo amplamente usado para problemas de classificação binária em que a variável de resultado é 0 ou 1 (***sucesso*** ou ***fracasso***). Ele funciona estimando a probabilidade do resultado binário dadas as características de entrada e fazendo uma previsão com base nesta probabilidade.\n",
    "\n",
    "Em resumo, modelos de classificação supervisionada são ferramentas poderosas para **prever resultados categóricos** e ajudar na tomada de decisões informadas em uma variedade de campos. Ao projetarem a **probabilidade** de uma classe, esses modelos fornecem informações adicionais que podem ser usadas para melhorar ainda mais os processos de tomada de decisão.\n",
    "\n",
    "**Principais características dos modelos de classificação supervisionada:**\n",
    "\n",
    "- Classificação precisa de novas instâncias em classes previamente definidas com base em dados de treinamento conhecidos.\n",
    "- Projeção da probabilidade de uma instância pertencer a uma determinada classe.\n",
    "- Potencial para fornecer informações adicionais para melhorar os processos de tomada de decisão.\n",
    "\n",
    "## Estimando Probabilidades Condicionais\n",
    "\n",
    "Vamos começar analisando como podemos avaliar a probabilidade de cancelamentos de reserva utilizando estatística descritiva:"
   ]
  },
  {
   "cell_type": "code",
   "execution_count": 7,
   "metadata": {},
   "outputs": [
    {
     "data": {
      "text/plain": [
       "meal\n",
       "BB           34510\n",
       "FB             478\n",
       "HB            4984\n",
       "SC            3966\n",
       "Undefined      286\n",
       "Name: is_cancelled, dtype: int64"
      ]
     },
     "execution_count": 7,
     "metadata": {},
     "output_type": "execute_result"
    }
   ],
   "source": [
    "tb_hotel.groupby(\"meal\")[\"is_cancelled\"].sum()"
   ]
  },
  {
   "cell_type": "code",
   "execution_count": 8,
   "metadata": {},
   "outputs": [
    {
     "data": {
      "text/plain": [
       "meal\n",
       "BB           92310\n",
       "FB             798\n",
       "HB           14463\n",
       "SC           10650\n",
       "Undefined     1169\n",
       "Name: is_cancelled, dtype: int64"
      ]
     },
     "execution_count": 8,
     "metadata": {},
     "output_type": "execute_result"
    }
   ],
   "source": [
    "tb_hotel.groupby(\"meal\")[\"is_cancelled\"].count()"
   ]
  },
  {
   "cell_type": "code",
   "execution_count": 9,
   "metadata": {},
   "outputs": [
    {
     "data": {
      "text/plain": [
       "0.3695652173913043"
      ]
     },
     "execution_count": 9,
     "metadata": {},
     "output_type": "execute_result"
    }
   ],
   "source": [
    "34/92"
   ]
  },
  {
   "cell_type": "code",
   "execution_count": 6,
   "metadata": {},
   "outputs": [
    {
     "data": {
      "text/plain": [
       "0.37041628277075134"
      ]
     },
     "execution_count": 6,
     "metadata": {},
     "output_type": "execute_result"
    }
   ],
   "source": [
    "tb_hotel[\"is_cancelled\"].mean()"
   ]
  },
  {
   "cell_type": "code",
   "execution_count": 11,
   "metadata": {},
   "outputs": [
    {
     "data": {
      "text/html": [
       "<div>\n",
       "<style scoped>\n",
       "    .dataframe tbody tr th:only-of-type {\n",
       "        vertical-align: middle;\n",
       "    }\n",
       "\n",
       "    .dataframe tbody tr th {\n",
       "        vertical-align: top;\n",
       "    }\n",
       "\n",
       "    .dataframe thead th {\n",
       "        text-align: right;\n",
       "    }\n",
       "</style>\n",
       "<table border=\"1\" class=\"dataframe\">\n",
       "  <thead>\n",
       "    <tr style=\"text-align: right;\">\n",
       "      <th></th>\n",
       "      <th>mean</th>\n",
       "      <th>count</th>\n",
       "    </tr>\n",
       "    <tr>\n",
       "      <th>lead_time</th>\n",
       "      <th></th>\n",
       "      <th></th>\n",
       "    </tr>\n",
       "  </thead>\n",
       "  <tbody>\n",
       "    <tr>\n",
       "      <th>0</th>\n",
       "      <td>0.067770</td>\n",
       "      <td>6345</td>\n",
       "    </tr>\n",
       "    <tr>\n",
       "      <th>1</th>\n",
       "      <td>0.092775</td>\n",
       "      <td>3460</td>\n",
       "    </tr>\n",
       "    <tr>\n",
       "      <th>2</th>\n",
       "      <td>0.102948</td>\n",
       "      <td>2069</td>\n",
       "    </tr>\n",
       "    <tr>\n",
       "      <th>3</th>\n",
       "      <td>0.100220</td>\n",
       "      <td>1816</td>\n",
       "    </tr>\n",
       "    <tr>\n",
       "      <th>4</th>\n",
       "      <td>0.102624</td>\n",
       "      <td>1715</td>\n",
       "    </tr>\n",
       "    <tr>\n",
       "      <th>...</th>\n",
       "      <td>...</td>\n",
       "      <td>...</td>\n",
       "    </tr>\n",
       "    <tr>\n",
       "      <th>622</th>\n",
       "      <td>1.000000</td>\n",
       "      <td>17</td>\n",
       "    </tr>\n",
       "    <tr>\n",
       "      <th>626</th>\n",
       "      <td>1.000000</td>\n",
       "      <td>30</td>\n",
       "    </tr>\n",
       "    <tr>\n",
       "      <th>629</th>\n",
       "      <td>1.000000</td>\n",
       "      <td>17</td>\n",
       "    </tr>\n",
       "    <tr>\n",
       "      <th>709</th>\n",
       "      <td>0.000000</td>\n",
       "      <td>1</td>\n",
       "    </tr>\n",
       "    <tr>\n",
       "      <th>737</th>\n",
       "      <td>0.000000</td>\n",
       "      <td>1</td>\n",
       "    </tr>\n",
       "  </tbody>\n",
       "</table>\n",
       "<p>479 rows × 2 columns</p>\n",
       "</div>"
      ],
      "text/plain": [
       "               mean  count\n",
       "lead_time                 \n",
       "0          0.067770   6345\n",
       "1          0.092775   3460\n",
       "2          0.102948   2069\n",
       "3          0.100220   1816\n",
       "4          0.102624   1715\n",
       "...             ...    ...\n",
       "622        1.000000     17\n",
       "626        1.000000     30\n",
       "629        1.000000     17\n",
       "709        0.000000      1\n",
       "737        0.000000      1\n",
       "\n",
       "[479 rows x 2 columns]"
      ]
     },
     "execution_count": 11,
     "metadata": {},
     "output_type": "execute_result"
    }
   ],
   "source": [
    "tb_hotel.groupby(\"lead_time\")[\"is_cancelled\"].agg(['mean', 'count'])"
   ]
  },
  {
   "cell_type": "markdown",
   "metadata": {},
   "source": [
    "Podemos comparar as diferentes taxas de cancelamento facilmente com **outras variáveis categóricas** usando a função `groupby` do Pandas. Mas e se quisermos comparar as taxas de cancelamento com **variáveis numéricas**?"
   ]
  },
  {
   "cell_type": "code",
   "execution_count": 12,
   "metadata": {},
   "outputs": [],
   "source": [
    "tb_hotel[\"grp_lead_time\"] = pd.qcut(tb_hotel[\"lead_time\"], 4)"
   ]
  },
  {
   "cell_type": "code",
   "execution_count": 14,
   "metadata": {},
   "outputs": [
    {
     "data": {
      "text/html": [
       "<div>\n",
       "<style scoped>\n",
       "    .dataframe tbody tr th:only-of-type {\n",
       "        vertical-align: middle;\n",
       "    }\n",
       "\n",
       "    .dataframe tbody tr th {\n",
       "        vertical-align: top;\n",
       "    }\n",
       "\n",
       "    .dataframe thead th {\n",
       "        text-align: right;\n",
       "    }\n",
       "</style>\n",
       "<table border=\"1\" class=\"dataframe\">\n",
       "  <thead>\n",
       "    <tr style=\"text-align: right;\">\n",
       "      <th></th>\n",
       "      <th>mean</th>\n",
       "      <th>count</th>\n",
       "    </tr>\n",
       "    <tr>\n",
       "      <th>grp_lead_time</th>\n",
       "      <th></th>\n",
       "      <th></th>\n",
       "    </tr>\n",
       "  </thead>\n",
       "  <tbody>\n",
       "    <tr>\n",
       "      <th>(-0.001, 18.0]</th>\n",
       "      <td>0.146365</td>\n",
       "      <td>30260</td>\n",
       "    </tr>\n",
       "    <tr>\n",
       "      <th>(18.0, 69.0]</th>\n",
       "      <td>0.358649</td>\n",
       "      <td>29639</td>\n",
       "    </tr>\n",
       "    <tr>\n",
       "      <th>(69.0, 160.0]</th>\n",
       "      <td>0.425764</td>\n",
       "      <td>29669</td>\n",
       "    </tr>\n",
       "    <tr>\n",
       "      <th>(160.0, 737.0]</th>\n",
       "      <td>0.554389</td>\n",
       "      <td>29822</td>\n",
       "    </tr>\n",
       "  </tbody>\n",
       "</table>\n",
       "</div>"
      ],
      "text/plain": [
       "                    mean  count\n",
       "grp_lead_time                  \n",
       "(-0.001, 18.0]  0.146365  30260\n",
       "(18.0, 69.0]    0.358649  29639\n",
       "(69.0, 160.0]   0.425764  29669\n",
       "(160.0, 737.0]  0.554389  29822"
      ]
     },
     "execution_count": 14,
     "metadata": {},
     "output_type": "execute_result"
    }
   ],
   "source": [
    "tb_hotel.groupby(\"grp_lead_time\")[\"is_cancelled\"].agg(['mean', 'count'])"
   ]
  },
  {
   "cell_type": "markdown",
   "metadata": {},
   "source": [
    "o problema dessa abordagem é a sensibilidade às quantidades de observações em cada grupo. Por exemplo, se tivermos apenas uma observação em um grupo, a taxa de cancelamento será 100% ou 0%, dependendo do resultado dessa única observação. Logo, se tentarmos criar muitos grupos, podemos acabar com grupos com poucas observações, o que pode levar a estimativas imprecisas."
   ]
  },
  {
   "cell_type": "code",
   "execution_count": 15,
   "metadata": {},
   "outputs": [
    {
     "data": {
      "text/html": [
       "<div>\n",
       "<style scoped>\n",
       "    .dataframe tbody tr th:only-of-type {\n",
       "        vertical-align: middle;\n",
       "    }\n",
       "\n",
       "    .dataframe tbody tr th {\n",
       "        vertical-align: top;\n",
       "    }\n",
       "\n",
       "    .dataframe thead th {\n",
       "        text-align: right;\n",
       "    }\n",
       "</style>\n",
       "<table border=\"1\" class=\"dataframe\">\n",
       "  <thead>\n",
       "    <tr style=\"text-align: right;\">\n",
       "      <th></th>\n",
       "      <th>grp_lead_time</th>\n",
       "      <th>is_cancelled</th>\n",
       "    </tr>\n",
       "  </thead>\n",
       "  <tbody>\n",
       "    <tr>\n",
       "      <th>0</th>\n",
       "      <td>(-0.001, 18.0]</td>\n",
       "      <td>0.146365</td>\n",
       "    </tr>\n",
       "    <tr>\n",
       "      <th>1</th>\n",
       "      <td>(18.0, 69.0]</td>\n",
       "      <td>0.358649</td>\n",
       "    </tr>\n",
       "    <tr>\n",
       "      <th>2</th>\n",
       "      <td>(69.0, 160.0]</td>\n",
       "      <td>0.425764</td>\n",
       "    </tr>\n",
       "    <tr>\n",
       "      <th>3</th>\n",
       "      <td>(160.0, 737.0]</td>\n",
       "      <td>0.554389</td>\n",
       "    </tr>\n",
       "  </tbody>\n",
       "</table>\n",
       "</div>"
      ],
      "text/plain": [
       "    grp_lead_time  is_cancelled\n",
       "0  (-0.001, 18.0]      0.146365\n",
       "1    (18.0, 69.0]      0.358649\n",
       "2   (69.0, 160.0]      0.425764\n",
       "3  (160.0, 737.0]      0.554389"
      ]
     },
     "execution_count": 15,
     "metadata": {},
     "output_type": "execute_result"
    }
   ],
   "source": [
    "tb_hotel.groupby(\"grp_lead_time\")[\"is_cancelled\"].mean().reset_index()"
   ]
  },
  {
   "cell_type": "code",
   "execution_count": 16,
   "metadata": {},
   "outputs": [
    {
     "data": {
      "text/plain": [
       "<Axes: xlabel='grp_lead_time', ylabel='is_cancelled'>"
      ]
     },
     "execution_count": 16,
     "metadata": {},
     "output_type": "execute_result"
    },
    {
     "data": {
      "image/png": "[encoded data removed]",
      "text/plain": [
       "<Figure size 640x480 with 1 Axes>"
      ]
     },
     "metadata": {},
     "output_type": "display_data"
    }
   ],
   "source": [
    "tb_hotel[\"grp_lead_time\"] = pd.cut(tb_hotel[\"lead_time\"], 100, labels = np.linspace(0, 700, 100))\n",
    "sns.lineplot(\n",
    "    data=tb_hotel.groupby(\"grp_lead_time\")[\"is_cancelled\"].mean().reset_index(),\n",
    "    x=\"grp_lead_time\",\n",
    "    y=\"is_cancelled\",\n",
    ")"
   ]
  },
  {
   "cell_type": "code",
   "execution_count": 17,
   "metadata": {},
   "outputs": [
    {
     "data": {
      "text/html": [
       "<div>\n",
       "<style scoped>\n",
       "    .dataframe tbody tr th:only-of-type {\n",
       "        vertical-align: middle;\n",
       "    }\n",
       "\n",
       "    .dataframe tbody tr th {\n",
       "        vertical-align: top;\n",
       "    }\n",
       "\n",
       "    .dataframe thead th {\n",
       "        text-align: right;\n",
       "    }\n",
       "</style>\n",
       "<table border=\"1\" class=\"dataframe\">\n",
       "  <thead>\n",
       "    <tr style=\"text-align: right;\">\n",
       "      <th></th>\n",
       "      <th>grp_lead_time</th>\n",
       "      <th>count</th>\n",
       "      <th>mean</th>\n",
       "    </tr>\n",
       "  </thead>\n",
       "  <tbody>\n",
       "    <tr>\n",
       "      <th>0</th>\n",
       "      <td>0.000000</td>\n",
       "      <td>19746</td>\n",
       "      <td>0.096323</td>\n",
       "    </tr>\n",
       "    <tr>\n",
       "      <th>1</th>\n",
       "      <td>7.070707</td>\n",
       "      <td>7026</td>\n",
       "      <td>0.220040</td>\n",
       "    </tr>\n",
       "    <tr>\n",
       "      <th>2</th>\n",
       "      <td>14.141414</td>\n",
       "      <td>6462</td>\n",
       "      <td>0.288765</td>\n",
       "    </tr>\n",
       "    <tr>\n",
       "      <th>3</th>\n",
       "      <td>21.212121</td>\n",
       "      <td>4813</td>\n",
       "      <td>0.338251</td>\n",
       "    </tr>\n",
       "    <tr>\n",
       "      <th>4</th>\n",
       "      <td>28.282828</td>\n",
       "      <td>4823</td>\n",
       "      <td>0.338586</td>\n",
       "    </tr>\n",
       "    <tr>\n",
       "      <th>...</th>\n",
       "      <td>...</td>\n",
       "      <td>...</td>\n",
       "      <td>...</td>\n",
       "    </tr>\n",
       "    <tr>\n",
       "      <th>95</th>\n",
       "      <td>671.717172</td>\n",
       "      <td>0</td>\n",
       "      <td>NaN</td>\n",
       "    </tr>\n",
       "    <tr>\n",
       "      <th>96</th>\n",
       "      <td>678.787879</td>\n",
       "      <td>1</td>\n",
       "      <td>0.000000</td>\n",
       "    </tr>\n",
       "    <tr>\n",
       "      <th>97</th>\n",
       "      <td>685.858586</td>\n",
       "      <td>0</td>\n",
       "      <td>NaN</td>\n",
       "    </tr>\n",
       "    <tr>\n",
       "      <th>98</th>\n",
       "      <td>692.929293</td>\n",
       "      <td>0</td>\n",
       "      <td>NaN</td>\n",
       "    </tr>\n",
       "    <tr>\n",
       "      <th>99</th>\n",
       "      <td>700.000000</td>\n",
       "      <td>1</td>\n",
       "      <td>0.000000</td>\n",
       "    </tr>\n",
       "  </tbody>\n",
       "</table>\n",
       "<p>100 rows × 3 columns</p>\n",
       "</div>"
      ],
      "text/plain": [
       "   grp_lead_time  count      mean\n",
       "0       0.000000  19746  0.096323\n",
       "1       7.070707   7026  0.220040\n",
       "2      14.141414   6462  0.288765\n",
       "3      21.212121   4813  0.338251\n",
       "4      28.282828   4823  0.338586\n",
       "..           ...    ...       ...\n",
       "95    671.717172      0       NaN\n",
       "96    678.787879      1  0.000000\n",
       "97    685.858586      0       NaN\n",
       "98    692.929293      0       NaN\n",
       "99    700.000000      1  0.000000\n",
       "\n",
       "[100 rows x 3 columns]"
      ]
     },
     "execution_count": 17,
     "metadata": {},
     "output_type": "execute_result"
    }
   ],
   "source": [
    "tb_hotel.groupby(\"grp_lead_time\")[\"is_cancelled\"].agg([\"count\", \"mean\"]).reset_index()"
   ]
  },
  {
   "cell_type": "markdown",
   "metadata": {},
   "source": [
    "## Regressão Logística Simples\n",
    "\n",
    "A regressão logística é um modelo estatístico usado para prever a probabilidade de um evento binário ocorrer, ou seja, quando a variável dependente tem apenas dois possíveis valores: 0 ou 1. Exemplos comuns disso incluem \"sim\" ou \"não\", \"verdadeiro\" ou \"falso\", ou \"aprovado\" ou \"reprovado\" e \"pago\" ou \"não pago\".\n",
    "\n",
    "O modelo de regressão logística funciona através da relação entre uma variável dependente binária e uma ou mais variáveis independentes (também conhecidas como *features*). A análise é baseada na estimativa das probabilidades de cada valor da variável resposta ocorrer em função dos valores das variáveis independentes.\n",
    "\n",
    "A regressão logística é chamada \"logística\" porque usa a função logística ou sigmoidal para modelar a probabilidade de um determinado resultado. Essa função tem uma forma de \"S\" especial e é usada para transformar qualquer valor linear em uma linha sigmóide que varia de 0 a 1.\n",
    "\n",
    "As aplicações da regressão logística são diversas e incluem áreas como marketing, finanças, medicina e ciências sociais. Este modelo é particularmente útil para prever resultados binários em cenários em que a interpretação da probabilidade da ocorrência do evento é importante.\n",
    "\n",
    "Ao entender os conceitos básicos da regressão logística, você terá uma compreensão mais profunda sobre como os modelos estatísticos são usados para fazer previsões precisas em diversas áreas."
   ]
  },
  {
   "cell_type": "code",
   "execution_count": 18,
   "metadata": {},
   "outputs": [],
   "source": [
    "from sklearn.linear_model import LogisticRegression"
   ]
  },
  {
   "cell_type": "code",
   "execution_count": 19,
   "metadata": {},
   "outputs": [
    {
     "data": {
      "text/html": [
       "<style>#sk-container-id-1 {color: black;background-color: white;}#sk-container-id-1 pre{padding: 0;}#sk-container-id-1 div.sk-toggleable {background-color: white;}#sk-container-id-1 label.sk-toggleable__label {cursor: pointer;display: block;width: 100%;margin-bottom: 0;padding: 0.3em;box-sizing: border-box;text-align: center;}#sk-container-id-1 label.sk-toggleable__label-arrow:before {content: \"▸\";float: left;margin-right: 0.25em;color: #696969;}#sk-container-id-1 label.sk-toggleable__label-arrow:hover:before {color: black;}#sk-container-id-1 div.sk-estimator:hover label.sk-toggleable__label-arrow:before {color: black;}#sk-container-id-1 div.sk-toggleable__content {max-height: 0;max-width: 0;overflow: hidden;text-align: left;background-color: #f0f8ff;}#sk-container-id-1 div.sk-toggleable__content pre {margin: 0.2em;color: black;border-radius: 0.25em;background-color: #f0f8ff;}#sk-container-id-1 input.sk-toggleable__control:checked~div.sk-toggleable__content {max-height: 200px;max-width: 100%;overflow: auto;}#sk-container-id-1 input.sk-toggleable__control:checked~label.sk-toggleable__label-arrow:before {content: \"▾\";}#sk-container-id-1 div.sk-estimator input.sk-toggleable__control:checked~label.sk-toggleable__label {background-color: #d4ebff;}#sk-container-id-1 div.sk-label input.sk-toggleable__control:checked~label.sk-toggleable__label {background-color: #d4ebff;}#sk-container-id-1 input.sk-hidden--visually {border: 0;clip: rect(1px 1px 1px 1px);clip: rect(1px, 1px, 1px, 1px);height: 1px;margin: -1px;overflow: hidden;padding: 0;position: absolute;width: 1px;}#sk-container-id-1 div.sk-estimator {font-family: monospace;background-color: #f0f8ff;border: 1px dotted black;border-radius: 0.25em;box-sizing: border-box;margin-bottom: 0.5em;}#sk-container-id-1 div.sk-estimator:hover {background-color: #d4ebff;}#sk-container-id-1 div.sk-parallel-item::after {content: \"\";width: 100%;border-bottom: 1px solid gray;flex-grow: 1;}#sk-container-id-1 div.sk-label:hover label.sk-toggleable__label {background-color: #d4ebff;}#sk-container-id-1 div.sk-serial::before {content: \"\";position: absolute;border-left: 1px solid gray;box-sizing: border-box;top: 0;bottom: 0;left: 50%;z-index: 0;}#sk-container-id-1 div.sk-serial {display: flex;flex-direction: column;align-items: center;background-color: white;padding-right: 0.2em;padding-left: 0.2em;position: relative;}#sk-container-id-1 div.sk-item {position: relative;z-index: 1;}#sk-container-id-1 div.sk-parallel {display: flex;align-items: stretch;justify-content: center;background-color: white;position: relative;}#sk-container-id-1 div.sk-item::before, #sk-container-id-1 div.sk-parallel-item::before {content: \"\";position: absolute;border-left: 1px solid gray;box-sizing: border-box;top: 0;bottom: 0;left: 50%;z-index: -1;}#sk-container-id-1 div.sk-parallel-item {display: flex;flex-direction: column;z-index: 1;position: relative;background-color: white;}#sk-container-id-1 div.sk-parallel-item:first-child::after {align-self: flex-end;width: 50%;}#sk-container-id-1 div.sk-parallel-item:last-child::after {align-self: flex-start;width: 50%;}#sk-container-id-1 div.sk-parallel-item:only-child::after {width: 0;}#sk-container-id-1 div.sk-dashed-wrapped {border: 1px dashed gray;margin: 0 0.4em 0.5em 0.4em;box-sizing: border-box;padding-bottom: 0.4em;background-color: white;}#sk-container-id-1 div.sk-label label {font-family: monospace;font-weight: bold;display: inline-block;line-height: 1.2em;}#sk-container-id-1 div.sk-label-container {text-align: center;}#sk-container-id-1 div.sk-container {/* jupyter's `normalize.less` sets `[hidden] { display: none; }` but bootstrap.min.css set `[hidden] { display: none !important; }` so we also need the `!important` here to be able to override the default hidden behavior on the sphinx rendered scikit-learn.org. See: https://github.com/scikit-learn/scikit-learn/issues/21755 */display: inline-block !important;position: relative;}#sk-container-id-1 div.sk-text-repr-fallback {display: none;}</style><div id=\"sk-container-id-1\" class=\"sk-top-container\"><div class=\"sk-text-repr-fallback\"><pre>LogisticRegression()</pre><b>In a Jupyter environment, please rerun this cell to show the HTML representation or trust the notebook. <br />On GitHub, the HTML representation is unable to render, please try loading this page with nbviewer.org.</b></div><div class=\"sk-container\" hidden><div class=\"sk-item\"><div class=\"sk-estimator sk-toggleable\"><input class=\"sk-toggleable__control sk-hidden--visually\" id=\"sk-estimator-id-1\" type=\"checkbox\" checked><label for=\"sk-estimator-id-1\" class=\"sk-toggleable__label sk-toggleable__label-arrow\">LogisticRegression</label><div class=\"sk-toggleable__content\"><pre>LogisticRegression()</pre></div></div></div></div></div>"
      ],
      "text/plain": [
       "LogisticRegression()"
      ]
     },
     "execution_count": 19,
     "metadata": {},
     "output_type": "execute_result"
    }
   ],
   "source": [
    "X_train = tb_train[[\"lead_time\"]] # Declarando Matriz de Features\n",
    "y_train = tb_train[\"is_cancelled\"] # Declarando Variável Resposta\n",
    "\n",
    "m1 = LogisticRegression()\n",
    "m1.fit(X_train, y_train)"
   ]
  },
  {
   "cell_type": "markdown",
   "metadata": {},
   "source": [
    "### Visualizando as probabilidades estimadas\n",
    "\n",
    "O método `predict_proba()` da classe LogisticRegression da biblioteca scikit-learn é usado para retornar as probabilidades estimadas por classe. Quando queremos fazer previsões de classes em um modelo de regressão logística, ao utilizarmos o método `predict()` teremos a classe prevista (0 ou 1).\n",
    "\n",
    "No entanto, também é possível utilizar o método `predict_proba()`, que fornece a probabilidade estimada do dado pertencer à classe 0 e à classe 1, respectivamente. Este método retorna uma matriz de forma `(n_samples, 2)`, onde `n_samples` é o número de amostras a serem previstas, sendo que cada linha da matriz corresponde a uma amostra e as duas colunas correspondem às probabilidades da amostra pertencer à classe 0 e classe 1, respectivamente.\n",
    "\n",
    "Por exemplo, se usarmos o método `predict_proba()` em uma amostra e ele retornar `[0.2, 0.8]`, isso significa que a probabilidade estimada dessa amostra pertencer à classe 0 é de 20% e pertencer à classe 1 é de 80%.\n",
    "\n",
    "Esse método é útil quando queremos ter uma ideia mais precisa das probabilidades de uma determinada amostra pertencer a cada classe, especialmente em cenários com ambiguidade nas classificações. Porém, é importante lembrar que a escolha da classe final ainda se dá através da aplicação de um limiar (threshold) para a probabilidade estimada."
   ]
  },
  {
   "cell_type": "code",
   "execution_count": 21,
   "metadata": {},
   "outputs": [
    {
     "data": {
      "text/plain": [
       "array([[0.72657196, 0.27342804],\n",
       "       [0.64719999, 0.35280001],\n",
       "       [0.71080349, 0.28919651],\n",
       "       ...,\n",
       "       [0.52165913, 0.47834087],\n",
       "       [0.46484885, 0.53515115],\n",
       "       [0.77282449, 0.22717551]])"
      ]
     },
     "execution_count": 21,
     "metadata": {},
     "output_type": "execute_result"
    }
   ],
   "source": [
    "m1.predict_proba(X_train)"
   ]
  },
  {
   "cell_type": "markdown",
   "metadata": {},
   "source": [
    "Como em nosso dataset as reservas canceladas são representadas pela classe 1, podemos utilizar o método `predict_proba()` para visualizar as probabilidades estimadas de cancelamento para cada reserva:"
   ]
  },
  {
   "cell_type": "code",
   "execution_count": 27,
   "metadata": {},
   "outputs": [
    {
     "data": {
      "text/plain": [
       "array([0.27342804, 0.35280001, 0.28919651, ..., 0.47834087, 0.53515115,\n",
       "       0.22717551])"
      ]
     },
     "execution_count": 27,
     "metadata": {},
     "output_type": "execute_result"
    }
   ],
   "source": [
    "m1.predict_proba(X_train)[:, 1]"
   ]
  },
  {
   "cell_type": "code",
   "execution_count": 28,
   "metadata": {},
   "outputs": [
    {
     "data": {
      "text/html": [
       "<div>\n",
       "<style scoped>\n",
       "    .dataframe tbody tr th:only-of-type {\n",
       "        vertical-align: middle;\n",
       "    }\n",
       "\n",
       "    .dataframe tbody tr th {\n",
       "        vertical-align: top;\n",
       "    }\n",
       "\n",
       "    .dataframe thead th {\n",
       "        text-align: right;\n",
       "    }\n",
       "</style>\n",
       "<table border=\"1\" class=\"dataframe\">\n",
       "  <thead>\n",
       "    <tr style=\"text-align: right;\">\n",
       "      <th></th>\n",
       "      <th>lead_time</th>\n",
       "      <th>adults</th>\n",
       "      <th>children_imp</th>\n",
       "      <th>num_meal</th>\n",
       "      <th>adr</th>\n",
       "      <th>country_grp_BEL</th>\n",
       "      <th>country_grp_BRA</th>\n",
       "      <th>country_grp_CHE</th>\n",
       "      <th>country_grp_CN</th>\n",
       "      <th>country_grp_DEU</th>\n",
       "      <th>...</th>\n",
       "      <th>country_grp_GBR</th>\n",
       "      <th>country_grp_IRL</th>\n",
       "      <th>country_grp_ITA</th>\n",
       "      <th>country_grp_NLD</th>\n",
       "      <th>country_grp_Others</th>\n",
       "      <th>country_grp_PRT</th>\n",
       "      <th>country_grp_USA</th>\n",
       "      <th>is_company</th>\n",
       "      <th>is_cancelled</th>\n",
       "      <th>pred_prob_m1</th>\n",
       "    </tr>\n",
       "  </thead>\n",
       "  <tbody>\n",
       "    <tr>\n",
       "      <th>0</th>\n",
       "      <td>-0.619738</td>\n",
       "      <td>0.265892</td>\n",
       "      <td>-0.261362</td>\n",
       "      <td>-0.050467</td>\n",
       "      <td>-0.582983</td>\n",
       "      <td>0.0</td>\n",
       "      <td>0.0</td>\n",
       "      <td>0.0</td>\n",
       "      <td>0.0</td>\n",
       "      <td>0.0</td>\n",
       "      <td>...</td>\n",
       "      <td>0.0</td>\n",
       "      <td>0.0</td>\n",
       "      <td>0.0</td>\n",
       "      <td>0.0</td>\n",
       "      <td>0.0</td>\n",
       "      <td>1.0</td>\n",
       "      <td>0.0</td>\n",
       "      <td>0.0</td>\n",
       "      <td>0</td>\n",
       "      <td>0.273428</td>\n",
       "    </tr>\n",
       "    <tr>\n",
       "      <th>1</th>\n",
       "      <td>-0.085516</td>\n",
       "      <td>0.265892</td>\n",
       "      <td>-0.261362</td>\n",
       "      <td>-0.050467</td>\n",
       "      <td>-0.193021</td>\n",
       "      <td>0.0</td>\n",
       "      <td>1.0</td>\n",
       "      <td>0.0</td>\n",
       "      <td>0.0</td>\n",
       "      <td>0.0</td>\n",
       "      <td>...</td>\n",
       "      <td>0.0</td>\n",
       "      <td>0.0</td>\n",
       "      <td>0.0</td>\n",
       "      <td>0.0</td>\n",
       "      <td>0.0</td>\n",
       "      <td>0.0</td>\n",
       "      <td>0.0</td>\n",
       "      <td>0.0</td>\n",
       "      <td>0</td>\n",
       "      <td>0.352800</td>\n",
       "    </tr>\n",
       "    <tr>\n",
       "      <th>2</th>\n",
       "      <td>-0.507270</td>\n",
       "      <td>0.265892</td>\n",
       "      <td>-0.261362</td>\n",
       "      <td>-0.050467</td>\n",
       "      <td>-1.183915</td>\n",
       "      <td>0.0</td>\n",
       "      <td>0.0</td>\n",
       "      <td>0.0</td>\n",
       "      <td>0.0</td>\n",
       "      <td>0.0</td>\n",
       "      <td>...</td>\n",
       "      <td>1.0</td>\n",
       "      <td>0.0</td>\n",
       "      <td>0.0</td>\n",
       "      <td>0.0</td>\n",
       "      <td>0.0</td>\n",
       "      <td>0.0</td>\n",
       "      <td>0.0</td>\n",
       "      <td>0.0</td>\n",
       "      <td>1</td>\n",
       "      <td>0.289197</td>\n",
       "    </tr>\n",
       "    <tr>\n",
       "      <th>3</th>\n",
       "      <td>-0.554132</td>\n",
       "      <td>0.265892</td>\n",
       "      <td>-0.261362</td>\n",
       "      <td>-0.050467</td>\n",
       "      <td>-0.319759</td>\n",
       "      <td>0.0</td>\n",
       "      <td>0.0</td>\n",
       "      <td>0.0</td>\n",
       "      <td>0.0</td>\n",
       "      <td>0.0</td>\n",
       "      <td>...</td>\n",
       "      <td>0.0</td>\n",
       "      <td>0.0</td>\n",
       "      <td>0.0</td>\n",
       "      <td>1.0</td>\n",
       "      <td>0.0</td>\n",
       "      <td>0.0</td>\n",
       "      <td>0.0</td>\n",
       "      <td>0.0</td>\n",
       "      <td>0</td>\n",
       "      <td>0.282561</td>\n",
       "    </tr>\n",
       "    <tr>\n",
       "      <th>4</th>\n",
       "      <td>0.701759</td>\n",
       "      <td>0.265892</td>\n",
       "      <td>-0.261362</td>\n",
       "      <td>1.856256</td>\n",
       "      <td>-0.310010</td>\n",
       "      <td>0.0</td>\n",
       "      <td>0.0</td>\n",
       "      <td>0.0</td>\n",
       "      <td>0.0</td>\n",
       "      <td>0.0</td>\n",
       "      <td>...</td>\n",
       "      <td>0.0</td>\n",
       "      <td>0.0</td>\n",
       "      <td>0.0</td>\n",
       "      <td>0.0</td>\n",
       "      <td>0.0</td>\n",
       "      <td>1.0</td>\n",
       "      <td>0.0</td>\n",
       "      <td>0.0</td>\n",
       "      <td>1</td>\n",
       "      <td>0.484833</td>\n",
       "    </tr>\n",
       "  </tbody>\n",
       "</table>\n",
       "<p>5 rows × 22 columns</p>\n",
       "</div>"
      ],
      "text/plain": [
       "   lead_time    adults  children_imp  num_meal       adr  country_grp_BEL   \n",
       "0  -0.619738  0.265892     -0.261362 -0.050467 -0.582983              0.0  \\\n",
       "1  -0.085516  0.265892     -0.261362 -0.050467 -0.193021              0.0   \n",
       "2  -0.507270  0.265892     -0.261362 -0.050467 -1.183915              0.0   \n",
       "3  -0.554132  0.265892     -0.261362 -0.050467 -0.319759              0.0   \n",
       "4   0.701759  0.265892     -0.261362  1.856256 -0.310010              0.0   \n",
       "\n",
       "   country_grp_BRA  country_grp_CHE  country_grp_CN  country_grp_DEU  ...   \n",
       "0              0.0              0.0             0.0              0.0  ...  \\\n",
       "1              1.0              0.0             0.0              0.0  ...   \n",
       "2              0.0              0.0             0.0              0.0  ...   \n",
       "3              0.0              0.0             0.0              0.0  ...   \n",
       "4              0.0              0.0             0.0              0.0  ...   \n",
       "\n",
       "   country_grp_GBR  country_grp_IRL  country_grp_ITA  country_grp_NLD   \n",
       "0              0.0              0.0              0.0              0.0  \\\n",
       "1              0.0              0.0              0.0              0.0   \n",
       "2              1.0              0.0              0.0              0.0   \n",
       "3              0.0              0.0              0.0              1.0   \n",
       "4              0.0              0.0              0.0              0.0   \n",
       "\n",
       "   country_grp_Others  country_grp_PRT  country_grp_USA  is_company   \n",
       "0                 0.0              1.0              0.0         0.0  \\\n",
       "1                 0.0              0.0              0.0         0.0   \n",
       "2                 0.0              0.0              0.0         0.0   \n",
       "3                 0.0              0.0              0.0         0.0   \n",
       "4                 0.0              1.0              0.0         0.0   \n",
       "\n",
       "   is_cancelled  pred_prob_m1  \n",
       "0             0      0.273428  \n",
       "1             0      0.352800  \n",
       "2             1      0.289197  \n",
       "3             0      0.282561  \n",
       "4             1      0.484833  \n",
       "\n",
       "[5 rows x 22 columns]"
      ]
     },
     "execution_count": 28,
     "metadata": {},
     "output_type": "execute_result"
    }
   ],
   "source": [
    "tb_train[\"pred_prob_m1\"] = m1.predict_proba(X_train)[:, 1]\n",
    "tb_train.head()"
   ]
  },
  {
   "cell_type": "code",
   "execution_count": 32,
   "metadata": {},
   "outputs": [
    {
     "data": {
      "text/html": [
       "<div>\n",
       "<style scoped>\n",
       "    .dataframe tbody tr th:only-of-type {\n",
       "        vertical-align: middle;\n",
       "    }\n",
       "\n",
       "    .dataframe tbody tr th {\n",
       "        vertical-align: top;\n",
       "    }\n",
       "\n",
       "    .dataframe thead th {\n",
       "        text-align: right;\n",
       "    }\n",
       "</style>\n",
       "<table border=\"1\" class=\"dataframe\">\n",
       "  <thead>\n",
       "    <tr style=\"text-align: right;\">\n",
       "      <th></th>\n",
       "      <th>is_cancelled</th>\n",
       "      <th>lead_time</th>\n",
       "      <th>country</th>\n",
       "      <th>company</th>\n",
       "      <th>children</th>\n",
       "      <th>adults</th>\n",
       "      <th>meal</th>\n",
       "      <th>adr</th>\n",
       "      <th>reservation_status_date</th>\n",
       "      <th>booking_changes</th>\n",
       "      <th>grp_lead_time</th>\n",
       "    </tr>\n",
       "  </thead>\n",
       "  <tbody>\n",
       "    <tr>\n",
       "      <th>0</th>\n",
       "      <td>0</td>\n",
       "      <td>342</td>\n",
       "      <td>PRT</td>\n",
       "      <td>NaN</td>\n",
       "      <td>0.0</td>\n",
       "      <td>2</td>\n",
       "      <td>BB</td>\n",
       "      <td>0.0</td>\n",
       "      <td>2015-07-01</td>\n",
       "      <td>3</td>\n",
       "      <td>325.252525</td>\n",
       "    </tr>\n",
       "    <tr>\n",
       "      <th>1</th>\n",
       "      <td>0</td>\n",
       "      <td>737</td>\n",
       "      <td>PRT</td>\n",
       "      <td>NaN</td>\n",
       "      <td>0.0</td>\n",
       "      <td>2</td>\n",
       "      <td>BB</td>\n",
       "      <td>0.0</td>\n",
       "      <td>2015-07-01</td>\n",
       "      <td>4</td>\n",
       "      <td>700.000000</td>\n",
       "    </tr>\n",
       "    <tr>\n",
       "      <th>2</th>\n",
       "      <td>0</td>\n",
       "      <td>7</td>\n",
       "      <td>GBR</td>\n",
       "      <td>NaN</td>\n",
       "      <td>0.0</td>\n",
       "      <td>1</td>\n",
       "      <td>BB</td>\n",
       "      <td>75.0</td>\n",
       "      <td>2015-07-02</td>\n",
       "      <td>0</td>\n",
       "      <td>0.000000</td>\n",
       "    </tr>\n",
       "    <tr>\n",
       "      <th>3</th>\n",
       "      <td>0</td>\n",
       "      <td>13</td>\n",
       "      <td>GBR</td>\n",
       "      <td>NaN</td>\n",
       "      <td>0.0</td>\n",
       "      <td>1</td>\n",
       "      <td>BB</td>\n",
       "      <td>75.0</td>\n",
       "      <td>2015-07-02</td>\n",
       "      <td>0</td>\n",
       "      <td>7.070707</td>\n",
       "    </tr>\n",
       "    <tr>\n",
       "      <th>4</th>\n",
       "      <td>0</td>\n",
       "      <td>14</td>\n",
       "      <td>GBR</td>\n",
       "      <td>NaN</td>\n",
       "      <td>0.0</td>\n",
       "      <td>2</td>\n",
       "      <td>BB</td>\n",
       "      <td>98.0</td>\n",
       "      <td>2015-07-03</td>\n",
       "      <td>0</td>\n",
       "      <td>7.070707</td>\n",
       "    </tr>\n",
       "  </tbody>\n",
       "</table>\n",
       "</div>"
      ],
      "text/plain": [
       "   is_cancelled  lead_time country  company  children  adults meal   adr   \n",
       "0             0        342     PRT      NaN       0.0       2   BB   0.0  \\\n",
       "1             0        737     PRT      NaN       0.0       2   BB   0.0   \n",
       "2             0          7     GBR      NaN       0.0       1   BB  75.0   \n",
       "3             0         13     GBR      NaN       0.0       1   BB  75.0   \n",
       "4             0         14     GBR      NaN       0.0       2   BB  98.0   \n",
       "\n",
       "  reservation_status_date  booking_changes grp_lead_time  \n",
       "0              2015-07-01                3    325.252525  \n",
       "1              2015-07-01                4    700.000000  \n",
       "2              2015-07-02                0      0.000000  \n",
       "3              2015-07-02                0      7.070707  \n",
       "4              2015-07-03                0      7.070707  "
      ]
     },
     "execution_count": 32,
     "metadata": {},
     "output_type": "execute_result"
    }
   ],
   "source": [
    "tb_hotel.head()"
   ]
  },
  {
   "cell_type": "code",
   "execution_count": 31,
   "metadata": {},
   "outputs": [
    {
     "data": {
      "text/plain": [
       "316"
      ]
     },
     "execution_count": 31,
     "metadata": {},
     "output_type": "execute_result"
    }
   ],
   "source": [
    "104 + 2 * 106"
   ]
  },
  {
   "cell_type": "code",
   "execution_count": 29,
   "metadata": {},
   "outputs": [
    {
     "data": {
      "text/plain": [
       "<Axes: xlabel='lead_time', ylabel='pred_prob_m1'>"
      ]
     },
     "execution_count": 29,
     "metadata": {},
     "output_type": "execute_result"
    },
    {
     "data": {
      "image/png": "[encoded data removed]",
      "text/plain": [
       "<Figure size 640x480 with 1 Axes>"
      ]
     },
     "metadata": {},
     "output_type": "display_data"
    }
   ],
   "source": [
    "sns.lineplot(data=tb_train, x=\"lead_time\", y=\"pred_prob_m1\")"
   ]
  },
  {
   "cell_type": "markdown",
   "metadata": {},
   "source": [
    "## Aumentando o # de Variáveis\n",
    "\n",
    "Quando queremos adicionar mais de uma variável em um modelo de regressão logística, chamamos isso de regressão logística múltipla ou regressão logística com múltiplas variáveis. A ideia básica é a mesma da regressão simples, mas incluímos várias variáveis independentes no modelo.\n",
    "\n",
    "Para construir o modelo de regressão logística múltipla na biblioteca `sklearn`, basta passar as variáveis independentes como uma matriz bidimensional para o método `.fit()`."
   ]
  },
  {
   "cell_type": "code",
   "execution_count": 33,
   "metadata": {},
   "outputs": [
    {
     "data": {
      "text/html": [
       "<style>#sk-container-id-2 {color: black;background-color: white;}#sk-container-id-2 pre{padding: 0;}#sk-container-id-2 div.sk-toggleable {background-color: white;}#sk-container-id-2 label.sk-toggleable__label {cursor: pointer;display: block;width: 100%;margin-bottom: 0;padding: 0.3em;box-sizing: border-box;text-align: center;}#sk-container-id-2 label.sk-toggleable__label-arrow:before {content: \"▸\";float: left;margin-right: 0.25em;color: #696969;}#sk-container-id-2 label.sk-toggleable__label-arrow:hover:before {color: black;}#sk-container-id-2 div.sk-estimator:hover label.sk-toggleable__label-arrow:before {color: black;}#sk-container-id-2 div.sk-toggleable__content {max-height: 0;max-width: 0;overflow: hidden;text-align: left;background-color: #f0f8ff;}#sk-container-id-2 div.sk-toggleable__content pre {margin: 0.2em;color: black;border-radius: 0.25em;background-color: #f0f8ff;}#sk-container-id-2 input.sk-toggleable__control:checked~div.sk-toggleable__content {max-height: 200px;max-width: 100%;overflow: auto;}#sk-container-id-2 input.sk-toggleable__control:checked~label.sk-toggleable__label-arrow:before {content: \"▾\";}#sk-container-id-2 div.sk-estimator input.sk-toggleable__control:checked~label.sk-toggleable__label {background-color: #d4ebff;}#sk-container-id-2 div.sk-label input.sk-toggleable__control:checked~label.sk-toggleable__label {background-color: #d4ebff;}#sk-container-id-2 input.sk-hidden--visually {border: 0;clip: rect(1px 1px 1px 1px);clip: rect(1px, 1px, 1px, 1px);height: 1px;margin: -1px;overflow: hidden;padding: 0;position: absolute;width: 1px;}#sk-container-id-2 div.sk-estimator {font-family: monospace;background-color: #f0f8ff;border: 1px dotted black;border-radius: 0.25em;box-sizing: border-box;margin-bottom: 0.5em;}#sk-container-id-2 div.sk-estimator:hover {background-color: #d4ebff;}#sk-container-id-2 div.sk-parallel-item::after {content: \"\";width: 100%;border-bottom: 1px solid gray;flex-grow: 1;}#sk-container-id-2 div.sk-label:hover label.sk-toggleable__label {background-color: #d4ebff;}#sk-container-id-2 div.sk-serial::before {content: \"\";position: absolute;border-left: 1px solid gray;box-sizing: border-box;top: 0;bottom: 0;left: 50%;z-index: 0;}#sk-container-id-2 div.sk-serial {display: flex;flex-direction: column;align-items: center;background-color: white;padding-right: 0.2em;padding-left: 0.2em;position: relative;}#sk-container-id-2 div.sk-item {position: relative;z-index: 1;}#sk-container-id-2 div.sk-parallel {display: flex;align-items: stretch;justify-content: center;background-color: white;position: relative;}#sk-container-id-2 div.sk-item::before, #sk-container-id-2 div.sk-parallel-item::before {content: \"\";position: absolute;border-left: 1px solid gray;box-sizing: border-box;top: 0;bottom: 0;left: 50%;z-index: -1;}#sk-container-id-2 div.sk-parallel-item {display: flex;flex-direction: column;z-index: 1;position: relative;background-color: white;}#sk-container-id-2 div.sk-parallel-item:first-child::after {align-self: flex-end;width: 50%;}#sk-container-id-2 div.sk-parallel-item:last-child::after {align-self: flex-start;width: 50%;}#sk-container-id-2 div.sk-parallel-item:only-child::after {width: 0;}#sk-container-id-2 div.sk-dashed-wrapped {border: 1px dashed gray;margin: 0 0.4em 0.5em 0.4em;box-sizing: border-box;padding-bottom: 0.4em;background-color: white;}#sk-container-id-2 div.sk-label label {font-family: monospace;font-weight: bold;display: inline-block;line-height: 1.2em;}#sk-container-id-2 div.sk-label-container {text-align: center;}#sk-container-id-2 div.sk-container {/* jupyter's `normalize.less` sets `[hidden] { display: none; }` but bootstrap.min.css set `[hidden] { display: none !important; }` so we also need the `!important` here to be able to override the default hidden behavior on the sphinx rendered scikit-learn.org. See: https://github.com/scikit-learn/scikit-learn/issues/21755 */display: inline-block !important;position: relative;}#sk-container-id-2 div.sk-text-repr-fallback {display: none;}</style><div id=\"sk-container-id-2\" class=\"sk-top-container\"><div class=\"sk-text-repr-fallback\"><pre>LogisticRegression()</pre><b>In a Jupyter environment, please rerun this cell to show the HTML representation or trust the notebook. <br />On GitHub, the HTML representation is unable to render, please try loading this page with nbviewer.org.</b></div><div class=\"sk-container\" hidden><div class=\"sk-item\"><div class=\"sk-estimator sk-toggleable\"><input class=\"sk-toggleable__control sk-hidden--visually\" id=\"sk-estimator-id-2\" type=\"checkbox\" checked><label for=\"sk-estimator-id-2\" class=\"sk-toggleable__label sk-toggleable__label-arrow\">LogisticRegression</label><div class=\"sk-toggleable__content\"><pre>LogisticRegression()</pre></div></div></div></div></div>"
      ],
      "text/plain": [
       "LogisticRegression()"
      ]
     },
     "execution_count": 33,
     "metadata": {},
     "output_type": "execute_result"
    }
   ],
   "source": [
    "X_train = tb_train[[\"lead_time\", \"adults\"]]\n",
    "y_train = tb_train[\"is_cancelled\"]\n",
    "m2 = LogisticRegression()\n",
    "m2.fit(X_train, y_train)"
   ]
  },
  {
   "cell_type": "code",
   "execution_count": 34,
   "metadata": {},
   "outputs": [],
   "source": [
    "tb_train[\"pred_prob_m2\"] = m2.predict_proba(X_train)[:, 1]"
   ]
  },
  {
   "cell_type": "code",
   "execution_count": 35,
   "metadata": {},
   "outputs": [
    {
     "data": {
      "text/plain": [
       "<Axes: xlabel='lead_time', ylabel='pred_prob_m2'>"
      ]
     },
     "execution_count": 35,
     "metadata": {},
     "output_type": "execute_result"
    },
    {
     "data": {
      "image/png": "[encoded data removed]",
      "text/plain": [
       "<Figure size 640x480 with 1 Axes>"
      ]
     },
     "metadata": {},
     "output_type": "display_data"
    }
   ],
   "source": [
    "sns.lineplot(\n",
    "    data=tb_train, x=\"lead_time\", y=\"pred_prob_m2\", hue=\"adults\", palette=\"colorblind\"\n",
    ")"
   ]
  },
  {
   "cell_type": "markdown",
   "metadata": {},
   "source": [
    "#### Visualizando através de Simulações\n",
    "\n",
    "Para visualizar os **efeitos marginais** de cada variável em uma regressão logística já estimada, podemos usar simulações para gerar previsões com base em diferentes valores das variáveis independentes. Isso nos permitirá entender o efeito de cada variável na probabilidade de um resultado positivo (ou seja, a classe prevista). \n",
    "\n",
    "Aqui está um exemplo de como poderíamos fazer isso:\n",
    "\n",
    "1. Escolha uma ou mais variáveis independentes que você deseja examinar.\n",
    "\n",
    "2. Para cada variável independente escolhida, defina uma faixa de valores para simular. Por exemplo, se a variável é \"idade\", podemos escolher uma faixa de 18 a 80 anos.\n",
    "\n",
    "3. Use a função `predict_proba()` do modelo já ajustado para prever as probabilidades de resultado positivo para cada valor simulado da variável.\n",
    "\n",
    "4. Plote os resultados. Isso pode ser feito usando uma biblioteca de visualização, como matplotlib ou seaborn. Você pode, por exemplo, plotar o valor simulado da variável na horizontal e a probabilidade de resultado positivo na vertical.\n",
    "\n",
    "5. Repita o processo para todas as variáveis que você deseja examinar.\n",
    "\n",
    "Este tipo de visualização pode ajudar a entender como cada variável afeta a probabilidade de um resultado positivo em uma regressão logística. Ao explorar diferentes valores da variável, podemos ver como o efeito marginal muda conforme a variável aumenta ou diminui. Isso pode nos ajudar a identificar quais variáveis são mais importantes para prever o resultado e como mudanças nessas variáveis podem afetar nossas previsões.\n",
    "\n",
    "Vamos criar uma nova tabela de dados com **dados sintéticos** das variáveis `lead_time` e `adults`:"
   ]
  },
  {
   "cell_type": "code",
   "execution_count": 44,
   "metadata": {},
   "outputs": [
    {
     "data": {
      "text/html": [
       "<div>\n",
       "<style scoped>\n",
       "    .dataframe tbody tr th:only-of-type {\n",
       "        vertical-align: middle;\n",
       "    }\n",
       "\n",
       "    .dataframe tbody tr th {\n",
       "        vertical-align: top;\n",
       "    }\n",
       "\n",
       "    .dataframe thead th {\n",
       "        text-align: right;\n",
       "    }\n",
       "</style>\n",
       "<table border=\"1\" class=\"dataframe\">\n",
       "  <thead>\n",
       "    <tr style=\"text-align: right;\">\n",
       "      <th></th>\n",
       "      <th>lead_time</th>\n",
       "      <th>adults</th>\n",
       "    </tr>\n",
       "  </thead>\n",
       "  <tbody>\n",
       "    <tr>\n",
       "      <th>0</th>\n",
       "      <td>0</td>\n",
       "      <td>-3.398081</td>\n",
       "    </tr>\n",
       "    <tr>\n",
       "      <th>1</th>\n",
       "      <td>0</td>\n",
       "      <td>-3.323353</td>\n",
       "    </tr>\n",
       "    <tr>\n",
       "      <th>2</th>\n",
       "      <td>0</td>\n",
       "      <td>-3.248625</td>\n",
       "    </tr>\n",
       "    <tr>\n",
       "      <th>3</th>\n",
       "      <td>0</td>\n",
       "      <td>-3.173897</td>\n",
       "    </tr>\n",
       "    <tr>\n",
       "      <th>4</th>\n",
       "      <td>0</td>\n",
       "      <td>-3.099169</td>\n",
       "    </tr>\n",
       "    <tr>\n",
       "      <th>...</th>\n",
       "      <td>...</td>\n",
       "      <td>...</td>\n",
       "    </tr>\n",
       "    <tr>\n",
       "      <th>95</th>\n",
       "      <td>0</td>\n",
       "      <td>3.701088</td>\n",
       "    </tr>\n",
       "    <tr>\n",
       "      <th>96</th>\n",
       "      <td>0</td>\n",
       "      <td>3.775816</td>\n",
       "    </tr>\n",
       "    <tr>\n",
       "      <th>97</th>\n",
       "      <td>0</td>\n",
       "      <td>3.850544</td>\n",
       "    </tr>\n",
       "    <tr>\n",
       "      <th>98</th>\n",
       "      <td>0</td>\n",
       "      <td>3.925272</td>\n",
       "    </tr>\n",
       "    <tr>\n",
       "      <th>99</th>\n",
       "      <td>0</td>\n",
       "      <td>4.000000</td>\n",
       "    </tr>\n",
       "  </tbody>\n",
       "</table>\n",
       "<p>100 rows × 2 columns</p>\n",
       "</div>"
      ],
      "text/plain": [
       "    lead_time    adults\n",
       "0           0 -3.398081\n",
       "1           0 -3.323353\n",
       "2           0 -3.248625\n",
       "3           0 -3.173897\n",
       "4           0 -3.099169\n",
       "..        ...       ...\n",
       "95          0  3.701088\n",
       "96          0  3.775816\n",
       "97          0  3.850544\n",
       "98          0  3.925272\n",
       "99          0  4.000000\n",
       "\n",
       "[100 rows x 2 columns]"
      ]
     },
     "execution_count": 44,
     "metadata": {},
     "output_type": "execute_result"
    }
   ],
   "source": [
    "adults_simul = list(np.linspace(tb_train[\"adults\"].min(), 4, 100))\n",
    "lead_time_simul = [0] * 100\n",
    "tb_simul_adults = pd.DataFrame({\"lead_time\": lead_time_simul, \"adults\": adults_simul})\n",
    "tb_simul_adults"
   ]
  },
  {
   "cell_type": "markdown",
   "metadata": {},
   "source": [
    "Agora, vamos utilizar o método `.predict_proba()` para estimar as probabilidades de cancelamento para cada valor simulado da variável `adults`, como `lead_time` fixo:"
   ]
  },
  {
   "cell_type": "code",
   "execution_count": 45,
   "metadata": {},
   "outputs": [],
   "source": [
    "tb_simul_adults[\"prob_cancelled\"] = m2.predict_proba(\n",
    "    tb_simul_adults[[\"lead_time\", \"adults\"]]\n",
    ")[:, 1]"
   ]
  },
  {
   "cell_type": "code",
   "execution_count": 46,
   "metadata": {},
   "outputs": [
    {
     "data": {
      "text/html": [
       "<div>\n",
       "<style scoped>\n",
       "    .dataframe tbody tr th:only-of-type {\n",
       "        vertical-align: middle;\n",
       "    }\n",
       "\n",
       "    .dataframe tbody tr th {\n",
       "        vertical-align: top;\n",
       "    }\n",
       "\n",
       "    .dataframe thead th {\n",
       "        text-align: right;\n",
       "    }\n",
       "</style>\n",
       "<table border=\"1\" class=\"dataframe\">\n",
       "  <thead>\n",
       "    <tr style=\"text-align: right;\">\n",
       "      <th></th>\n",
       "      <th>lead_time</th>\n",
       "      <th>adults</th>\n",
       "      <th>prob_cancelled</th>\n",
       "    </tr>\n",
       "  </thead>\n",
       "  <tbody>\n",
       "    <tr>\n",
       "      <th>0</th>\n",
       "      <td>0</td>\n",
       "      <td>-3.398081</td>\n",
       "      <td>0.321920</td>\n",
       "    </tr>\n",
       "    <tr>\n",
       "      <th>1</th>\n",
       "      <td>0</td>\n",
       "      <td>-3.323353</td>\n",
       "      <td>0.322870</td>\n",
       "    </tr>\n",
       "    <tr>\n",
       "      <th>2</th>\n",
       "      <td>0</td>\n",
       "      <td>-3.248625</td>\n",
       "      <td>0.323822</td>\n",
       "    </tr>\n",
       "    <tr>\n",
       "      <th>3</th>\n",
       "      <td>0</td>\n",
       "      <td>-3.173897</td>\n",
       "      <td>0.324775</td>\n",
       "    </tr>\n",
       "    <tr>\n",
       "      <th>4</th>\n",
       "      <td>0</td>\n",
       "      <td>-3.099169</td>\n",
       "      <td>0.325729</td>\n",
       "    </tr>\n",
       "    <tr>\n",
       "      <th>...</th>\n",
       "      <td>...</td>\n",
       "      <td>...</td>\n",
       "      <td>...</td>\n",
       "    </tr>\n",
       "    <tr>\n",
       "      <th>95</th>\n",
       "      <td>0</td>\n",
       "      <td>3.701088</td>\n",
       "      <td>0.417793</td>\n",
       "    </tr>\n",
       "    <tr>\n",
       "      <th>96</th>\n",
       "      <td>0</td>\n",
       "      <td>3.775816</td>\n",
       "      <td>0.418851</td>\n",
       "    </tr>\n",
       "    <tr>\n",
       "      <th>97</th>\n",
       "      <td>0</td>\n",
       "      <td>3.850544</td>\n",
       "      <td>0.419910</td>\n",
       "    </tr>\n",
       "    <tr>\n",
       "      <th>98</th>\n",
       "      <td>0</td>\n",
       "      <td>3.925272</td>\n",
       "      <td>0.420970</td>\n",
       "    </tr>\n",
       "    <tr>\n",
       "      <th>99</th>\n",
       "      <td>0</td>\n",
       "      <td>4.000000</td>\n",
       "      <td>0.422030</td>\n",
       "    </tr>\n",
       "  </tbody>\n",
       "</table>\n",
       "<p>100 rows × 3 columns</p>\n",
       "</div>"
      ],
      "text/plain": [
       "    lead_time    adults  prob_cancelled\n",
       "0           0 -3.398081        0.321920\n",
       "1           0 -3.323353        0.322870\n",
       "2           0 -3.248625        0.323822\n",
       "3           0 -3.173897        0.324775\n",
       "4           0 -3.099169        0.325729\n",
       "..        ...       ...             ...\n",
       "95          0  3.701088        0.417793\n",
       "96          0  3.775816        0.418851\n",
       "97          0  3.850544        0.419910\n",
       "98          0  3.925272        0.420970\n",
       "99          0  4.000000        0.422030\n",
       "\n",
       "[100 rows x 3 columns]"
      ]
     },
     "execution_count": 46,
     "metadata": {},
     "output_type": "execute_result"
    }
   ],
   "source": [
    "tb_simul_adults"
   ]
  },
  {
   "cell_type": "markdown",
   "metadata": {},
   "source": [
    "Esse é o **efeito marginal** da variável `adults`:"
   ]
  },
  {
   "cell_type": "code",
   "execution_count": 47,
   "metadata": {},
   "outputs": [
    {
     "data": {
      "text/plain": [
       "<Axes: xlabel='adults', ylabel='prob_cancelled'>"
      ]
     },
     "execution_count": 47,
     "metadata": {},
     "output_type": "execute_result"
    },
    {
     "data": {
      "image/png": "[encoded data removed]",
      "text/plain": [
       "<Figure size 640x480 with 1 Axes>"
      ]
     },
     "metadata": {},
     "output_type": "display_data"
    }
   ],
   "source": [
    "sns.lineplot(data=tb_simul_adults, x=\"adults\", y=\"prob_cancelled\")"
   ]
  },
  {
   "cell_type": "markdown",
   "metadata": {},
   "source": [
    "Agora vamos fazer o mesmo para a variável `lead_time`, com `adults` fixo:"
   ]
  },
  {
   "cell_type": "code",
   "execution_count": 49,
   "metadata": {},
   "outputs": [
    {
     "data": {
      "text/html": [
       "<div>\n",
       "<style scoped>\n",
       "    .dataframe tbody tr th:only-of-type {\n",
       "        vertical-align: middle;\n",
       "    }\n",
       "\n",
       "    .dataframe tbody tr th {\n",
       "        vertical-align: top;\n",
       "    }\n",
       "\n",
       "    .dataframe thead th {\n",
       "        text-align: right;\n",
       "    }\n",
       "</style>\n",
       "<table border=\"1\" class=\"dataframe\">\n",
       "  <thead>\n",
       "    <tr style=\"text-align: right;\">\n",
       "      <th></th>\n",
       "      <th>lead_time</th>\n",
       "      <th>adults</th>\n",
       "    </tr>\n",
       "  </thead>\n",
       "  <tbody>\n",
       "    <tr>\n",
       "      <th>0</th>\n",
       "      <td>-0.975886</td>\n",
       "      <td>0</td>\n",
       "    </tr>\n",
       "    <tr>\n",
       "      <th>1</th>\n",
       "      <td>-0.925625</td>\n",
       "      <td>0</td>\n",
       "    </tr>\n",
       "    <tr>\n",
       "      <th>2</th>\n",
       "      <td>-0.875363</td>\n",
       "      <td>0</td>\n",
       "    </tr>\n",
       "    <tr>\n",
       "      <th>3</th>\n",
       "      <td>-0.825102</td>\n",
       "      <td>0</td>\n",
       "    </tr>\n",
       "    <tr>\n",
       "      <th>4</th>\n",
       "      <td>-0.774840</td>\n",
       "      <td>0</td>\n",
       "    </tr>\n",
       "    <tr>\n",
       "      <th>...</th>\n",
       "      <td>...</td>\n",
       "      <td>...</td>\n",
       "    </tr>\n",
       "    <tr>\n",
       "      <th>95</th>\n",
       "      <td>3.798954</td>\n",
       "      <td>0</td>\n",
       "    </tr>\n",
       "    <tr>\n",
       "      <th>96</th>\n",
       "      <td>3.849216</td>\n",
       "      <td>0</td>\n",
       "    </tr>\n",
       "    <tr>\n",
       "      <th>97</th>\n",
       "      <td>3.899477</td>\n",
       "      <td>0</td>\n",
       "    </tr>\n",
       "    <tr>\n",
       "      <th>98</th>\n",
       "      <td>3.949739</td>\n",
       "      <td>0</td>\n",
       "    </tr>\n",
       "    <tr>\n",
       "      <th>99</th>\n",
       "      <td>4.000000</td>\n",
       "      <td>0</td>\n",
       "    </tr>\n",
       "  </tbody>\n",
       "</table>\n",
       "<p>100 rows × 2 columns</p>\n",
       "</div>"
      ],
      "text/plain": [
       "    lead_time  adults\n",
       "0   -0.975886       0\n",
       "1   -0.925625       0\n",
       "2   -0.875363       0\n",
       "3   -0.825102       0\n",
       "4   -0.774840       0\n",
       "..        ...     ...\n",
       "95   3.798954       0\n",
       "96   3.849216       0\n",
       "97   3.899477       0\n",
       "98   3.949739       0\n",
       "99   4.000000       0\n",
       "\n",
       "[100 rows x 2 columns]"
      ]
     },
     "execution_count": 49,
     "metadata": {},
     "output_type": "execute_result"
    }
   ],
   "source": [
    "lead_time_simul = list(np.linspace(tb_train[\"lead_time\"].min(), 4, 100))\n",
    "adults_simul = [0] * 100\n",
    "tb_simul_lead_time = pd.DataFrame(\n",
    "    {\"lead_time\": lead_time_simul, \"adults\": adults_simul}\n",
    ")\n",
    "tb_simul_lead_time"
   ]
  },
  {
   "cell_type": "code",
   "execution_count": 50,
   "metadata": {},
   "outputs": [],
   "source": [
    "tb_simul_lead_time[\"prob_cancelled\"] = m2.predict_proba(\n",
    "    tb_simul_lead_time[[\"lead_time\", \"adults\"]]\n",
    ")[:, 1]"
   ]
  },
  {
   "cell_type": "code",
   "execution_count": 51,
   "metadata": {},
   "outputs": [
    {
     "data": {
      "text/plain": [
       "(0.0, 1.0)"
      ]
     },
     "execution_count": 51,
     "metadata": {},
     "output_type": "execute_result"
    },
    {
     "data": {
      "image/png": "[encoded data removed]",
      "text/plain": [
       "<Figure size 1500x700 with 2 Axes>"
      ]
     },
     "metadata": {},
     "output_type": "display_data"
    }
   ],
   "source": [
    "fig, ax = plt.subplots(1, 2, figsize=(15, 7))\n",
    "sns.lineplot(data=tb_simul_lead_time, x=\"lead_time\", y=\"prob_cancelled\", ax=ax[0])\n",
    "sns.lineplot(data=tb_simul_adults, x=\"adults\", y=\"prob_cancelled\", ax=ax[1])\n",
    "ax[0].set_ylim(0, 1)\n",
    "ax[1].set_ylim(0, 1)"
   ]
  },
  {
   "cell_type": "markdown",
   "metadata": {},
   "source": [
    "Agora, vamos avaliar o efeito de ambas as variáveis entre `-1` e `+1` desvio padrão:"
   ]
  },
  {
   "cell_type": "code",
   "execution_count": 55,
   "metadata": {},
   "outputs": [
    {
     "data": {
      "text/html": [
       "<div>\n",
       "<style scoped>\n",
       "    .dataframe tbody tr th:only-of-type {\n",
       "        vertical-align: middle;\n",
       "    }\n",
       "\n",
       "    .dataframe tbody tr th {\n",
       "        vertical-align: top;\n",
       "    }\n",
       "\n",
       "    .dataframe thead th {\n",
       "        text-align: right;\n",
       "    }\n",
       "</style>\n",
       "<table border=\"1\" class=\"dataframe\">\n",
       "  <thead>\n",
       "    <tr style=\"text-align: right;\">\n",
       "      <th></th>\n",
       "      <th>lead_time</th>\n",
       "      <th>adults</th>\n",
       "    </tr>\n",
       "  </thead>\n",
       "  <tbody>\n",
       "    <tr>\n",
       "      <th>0</th>\n",
       "      <td>-1.000000</td>\n",
       "      <td>-1.0</td>\n",
       "    </tr>\n",
       "    <tr>\n",
       "      <th>1</th>\n",
       "      <td>-0.979798</td>\n",
       "      <td>-1.0</td>\n",
       "    </tr>\n",
       "    <tr>\n",
       "      <th>2</th>\n",
       "      <td>-0.959596</td>\n",
       "      <td>-1.0</td>\n",
       "    </tr>\n",
       "    <tr>\n",
       "      <th>3</th>\n",
       "      <td>-0.939394</td>\n",
       "      <td>-1.0</td>\n",
       "    </tr>\n",
       "    <tr>\n",
       "      <th>4</th>\n",
       "      <td>-0.919192</td>\n",
       "      <td>-1.0</td>\n",
       "    </tr>\n",
       "    <tr>\n",
       "      <th>...</th>\n",
       "      <td>...</td>\n",
       "      <td>...</td>\n",
       "    </tr>\n",
       "    <tr>\n",
       "      <th>495</th>\n",
       "      <td>0.919192</td>\n",
       "      <td>1.0</td>\n",
       "    </tr>\n",
       "    <tr>\n",
       "      <th>496</th>\n",
       "      <td>0.939394</td>\n",
       "      <td>1.0</td>\n",
       "    </tr>\n",
       "    <tr>\n",
       "      <th>497</th>\n",
       "      <td>0.959596</td>\n",
       "      <td>1.0</td>\n",
       "    </tr>\n",
       "    <tr>\n",
       "      <th>498</th>\n",
       "      <td>0.979798</td>\n",
       "      <td>1.0</td>\n",
       "    </tr>\n",
       "    <tr>\n",
       "      <th>499</th>\n",
       "      <td>1.000000</td>\n",
       "      <td>1.0</td>\n",
       "    </tr>\n",
       "  </tbody>\n",
       "</table>\n",
       "<p>500 rows × 2 columns</p>\n",
       "</div>"
      ],
      "text/plain": [
       "     lead_time  adults\n",
       "0    -1.000000    -1.0\n",
       "1    -0.979798    -1.0\n",
       "2    -0.959596    -1.0\n",
       "3    -0.939394    -1.0\n",
       "4    -0.919192    -1.0\n",
       "..         ...     ...\n",
       "495   0.919192     1.0\n",
       "496   0.939394     1.0\n",
       "497   0.959596     1.0\n",
       "498   0.979798     1.0\n",
       "499   1.000000     1.0\n",
       "\n",
       "[500 rows x 2 columns]"
      ]
     },
     "execution_count": 55,
     "metadata": {},
     "output_type": "execute_result"
    }
   ],
   "source": [
    "lead_time_simul = list(np.linspace(-1, 1, 100)) * 5\n",
    "adults_simul = [-1] * 100 + [-0.5] * 100 + [0] * 100 + [0.5] * 100 + [1] * 100\n",
    "tb_simul = pd.DataFrame({\"lead_time\": lead_time_simul, \"adults\": adults_simul})\n",
    "tb_simul"
   ]
  },
  {
   "cell_type": "code",
   "execution_count": 57,
   "metadata": {},
   "outputs": [],
   "source": [
    "tb_simul[\"prob_cancelled\"] = m2.predict_proba(tb_simul[[\"lead_time\", \"adults\"]])[:, 1]"
   ]
  },
  {
   "cell_type": "code",
   "execution_count": 58,
   "metadata": {},
   "outputs": [
    {
     "data": {
      "text/plain": [
       "<Axes: xlabel='lead_time', ylabel='prob_cancelled'>"
      ]
     },
     "execution_count": 58,
     "metadata": {},
     "output_type": "execute_result"
    },
    {
     "data": {
      "image/png": "[encoded data removed]",
      "text/plain": [
       "<Figure size 640x480 with 1 Axes>"
      ]
     },
     "metadata": {},
     "output_type": "display_data"
    }
   ],
   "source": [
    "sns.lineplot(\n",
    "    data=tb_simul, x=\"lead_time\", y=\"prob_cancelled\", hue=\"adults\", palette=\"Spectral\"\n",
    ")"
   ]
  },
  {
   "cell_type": "markdown",
   "metadata": {},
   "source": [
    "## *Thresholding* para Classificação\n",
    "\n",
    "**Thresholding** é o processo de selecionar um valor limite (*threshold*) para converter uma saída contínua em uma saída discreta, como \"positivo\" ou \"negativo\". Na regressão logística, a função sigmóide usada para prever as probabilidades de pertencer a uma determinada classe pode produzir valores contínuos entre 0 e 1.\n",
    "\n",
    "Para transformar essas probabilidades contínuas em classes discretas, podemos escolher um *threshold* e compará-lo com a probabilidade prevista. \n",
    "\n",
    "- Se a probabilidade prevista for maior do que o *threshold*, atribuímos a observação à classe positiva.\n",
    "- Caso contrário, atribuímos a observação à classe negativa.\n",
    "\n",
    "Por exemplo, se escolhermos um *threshold* de 0,5, todas as observações com uma probabilidade prevista maior do que 0,5 serão rotuladas como positivas, enquanto aquelas com uma probabilidade menor do que 0,5 serão rotuladas como negativas. No entanto, a escolha do *threshold* não precisa ser fixa em 0,5 e pode variar dependendo dos requisitos da tarefa e do custo de classificar erroneamente alguns pontos.\n",
    "\n",
    "Podemos usar a função `predict()` do modelo ajustado para gerar previsões de classe usando um determinado *threshold*. A sintaxe geral seria `model.predict(X_test)`, onde `X_test` é uma matriz de dados de teste com as mesmas características das observações utilizadas para treinar o modelo. A função de decisão que foi aprendida durante o treinamento será aplicada a cada observação em `X_test` e a saída será convertida em uma classe com base no *threshold* de 0,5 (por padrão, o método `.predict()` preve a classe mais provável).\n",
    "\n",
    "Em resumo, para usar o *thresholding* da função de decisão (probabilidade) para prever as classes de nossas observações, escolhemos um *threshold* e comparamos a probabilidade prevista para cada observação com esse limite. Se a probabilidade prevista for maior do que o *threshold*, a observação é rotulada como pertencente à classe positiva, caso contrário, é rotulada como pertencente à classe negativa."
   ]
  },
  {
   "cell_type": "code",
   "execution_count": 61,
   "metadata": {},
   "outputs": [
    {
     "data": {
      "text/plain": [
       "array([0, 0, 0, ..., 0, 1, 0])"
      ]
     },
     "execution_count": 61,
     "metadata": {},
     "output_type": "execute_result"
    }
   ],
   "source": [
    "m1.predict(tb_train[[\"lead_time\"]])"
   ]
  },
  {
   "cell_type": "code",
   "execution_count": 59,
   "metadata": {},
   "outputs": [
    {
     "data": {
      "text/html": [
       "<div>\n",
       "<style scoped>\n",
       "    .dataframe tbody tr th:only-of-type {\n",
       "        vertical-align: middle;\n",
       "    }\n",
       "\n",
       "    .dataframe tbody tr th {\n",
       "        vertical-align: top;\n",
       "    }\n",
       "\n",
       "    .dataframe thead th {\n",
       "        text-align: right;\n",
       "    }\n",
       "</style>\n",
       "<table border=\"1\" class=\"dataframe\">\n",
       "  <thead>\n",
       "    <tr style=\"text-align: right;\">\n",
       "      <th></th>\n",
       "      <th>is_cancelled</th>\n",
       "      <th>pred_canc_m1</th>\n",
       "    </tr>\n",
       "  </thead>\n",
       "  <tbody>\n",
       "    <tr>\n",
       "      <th>0</th>\n",
       "      <td>0</td>\n",
       "      <td>0</td>\n",
       "    </tr>\n",
       "    <tr>\n",
       "      <th>1</th>\n",
       "      <td>0</td>\n",
       "      <td>0</td>\n",
       "    </tr>\n",
       "    <tr>\n",
       "      <th>2</th>\n",
       "      <td>1</td>\n",
       "      <td>0</td>\n",
       "    </tr>\n",
       "    <tr>\n",
       "      <th>3</th>\n",
       "      <td>0</td>\n",
       "      <td>0</td>\n",
       "    </tr>\n",
       "    <tr>\n",
       "      <th>4</th>\n",
       "      <td>1</td>\n",
       "      <td>0</td>\n",
       "    </tr>\n",
       "    <tr>\n",
       "      <th>...</th>\n",
       "      <td>...</td>\n",
       "      <td>...</td>\n",
       "    </tr>\n",
       "    <tr>\n",
       "      <th>83904</th>\n",
       "      <td>0</td>\n",
       "      <td>0</td>\n",
       "    </tr>\n",
       "    <tr>\n",
       "      <th>83905</th>\n",
       "      <td>0</td>\n",
       "      <td>1</td>\n",
       "    </tr>\n",
       "    <tr>\n",
       "      <th>83906</th>\n",
       "      <td>1</td>\n",
       "      <td>0</td>\n",
       "    </tr>\n",
       "    <tr>\n",
       "      <th>83907</th>\n",
       "      <td>1</td>\n",
       "      <td>1</td>\n",
       "    </tr>\n",
       "    <tr>\n",
       "      <th>83908</th>\n",
       "      <td>0</td>\n",
       "      <td>0</td>\n",
       "    </tr>\n",
       "  </tbody>\n",
       "</table>\n",
       "<p>83909 rows × 2 columns</p>\n",
       "</div>"
      ],
      "text/plain": [
       "       is_cancelled  pred_canc_m1\n",
       "0                 0             0\n",
       "1                 0             0\n",
       "2                 1             0\n",
       "3                 0             0\n",
       "4                 1             0\n",
       "...             ...           ...\n",
       "83904             0             0\n",
       "83905             0             1\n",
       "83906             1             0\n",
       "83907             1             1\n",
       "83908             0             0\n",
       "\n",
       "[83909 rows x 2 columns]"
      ]
     },
     "execution_count": 59,
     "metadata": {},
     "output_type": "execute_result"
    }
   ],
   "source": [
    "tb_train[\"pred_canc_m1\"] = m1.predict(tb_train[[\"lead_time\"]])\n",
    "tb_train[[\"is_cancelled\", \"pred_canc_m1\"]]"
   ]
  },
  {
   "cell_type": "code",
   "execution_count": 60,
   "metadata": {},
   "outputs": [
    {
     "data": {
      "text/plain": [
       "<matplotlib.lines.Line2D at 0x125c32830>"
      ]
     },
     "execution_count": 60,
     "metadata": {},
     "output_type": "execute_result"
    },
    {
     "data": {
      "image/png": "[encoded data removed]",
      "text/plain": [
       "<Figure size 1000x1000 with 1 Axes>"
      ]
     },
     "metadata": {},
     "output_type": "display_data"
    }
   ],
   "source": [
    "fig, ax = plt.subplots(1, 1, figsize=(10,10))\n",
    "sns.lineplot(data=tb_train, x=\"lead_time\", y=\"pred_prob_m1\", label = \"Função de Probabilidade)\")\n",
    "sns.lineplot(data=tb_train, x=\"lead_time\", y=\"pred_canc_m1\", label = \"Previsão de Classe\")\n",
    "ax.axhline(0.5, ls=\"--\", color=\"black\")"
   ]
  },
  {
   "cell_type": "markdown",
   "metadata": {},
   "source": [
    "## Modelo Completo\n",
    "\n",
    "Agora, vamos adicionar todas as variáves que criamos na última aula ao nosso modelo:"
   ]
  },
  {
   "cell_type": "code",
   "execution_count": 64,
   "metadata": {},
   "outputs": [],
   "source": [
    "X_train = tb_train.drop(\n",
    "    [\"is_cancelled\", \"pred_prob_m1\", \"pred_prob_m2\", \"pred_canc_m1\"], axis=1\n",
    ")\n",
    "y_train = tb_train[\"is_cancelled\"]\n",
    "X_test = tb_test.drop(\"is_cancelled\", axis=1)\n",
    "y_test = tb_test[\"is_cancelled\"]"
   ]
  },
  {
   "cell_type": "code",
   "execution_count": 65,
   "metadata": {},
   "outputs": [
    {
     "data": {
      "text/html": [
       "<div>\n",
       "<style scoped>\n",
       "    .dataframe tbody tr th:only-of-type {\n",
       "        vertical-align: middle;\n",
       "    }\n",
       "\n",
       "    .dataframe tbody tr th {\n",
       "        vertical-align: top;\n",
       "    }\n",
       "\n",
       "    .dataframe thead th {\n",
       "        text-align: right;\n",
       "    }\n",
       "</style>\n",
       "<table border=\"1\" class=\"dataframe\">\n",
       "  <thead>\n",
       "    <tr style=\"text-align: right;\">\n",
       "      <th></th>\n",
       "      <th>lead_time</th>\n",
       "      <th>adults</th>\n",
       "      <th>children_imp</th>\n",
       "      <th>num_meal</th>\n",
       "      <th>adr</th>\n",
       "      <th>country_grp_BEL</th>\n",
       "      <th>country_grp_BRA</th>\n",
       "      <th>country_grp_CHE</th>\n",
       "      <th>country_grp_CN</th>\n",
       "      <th>country_grp_DEU</th>\n",
       "      <th>country_grp_ESP</th>\n",
       "      <th>country_grp_FRA</th>\n",
       "      <th>country_grp_GBR</th>\n",
       "      <th>country_grp_IRL</th>\n",
       "      <th>country_grp_ITA</th>\n",
       "      <th>country_grp_NLD</th>\n",
       "      <th>country_grp_Others</th>\n",
       "      <th>country_grp_PRT</th>\n",
       "      <th>country_grp_USA</th>\n",
       "      <th>is_company</th>\n",
       "    </tr>\n",
       "  </thead>\n",
       "  <tbody>\n",
       "    <tr>\n",
       "      <th>0</th>\n",
       "      <td>-0.619738</td>\n",
       "      <td>0.265892</td>\n",
       "      <td>-0.261362</td>\n",
       "      <td>-0.050467</td>\n",
       "      <td>-0.582983</td>\n",
       "      <td>0.0</td>\n",
       "      <td>0.0</td>\n",
       "      <td>0.0</td>\n",
       "      <td>0.0</td>\n",
       "      <td>0.0</td>\n",
       "      <td>0.0</td>\n",
       "      <td>0.0</td>\n",
       "      <td>0.0</td>\n",
       "      <td>0.0</td>\n",
       "      <td>0.0</td>\n",
       "      <td>0.0</td>\n",
       "      <td>0.0</td>\n",
       "      <td>1.0</td>\n",
       "      <td>0.0</td>\n",
       "      <td>0.0</td>\n",
       "    </tr>\n",
       "    <tr>\n",
       "      <th>1</th>\n",
       "      <td>-0.085516</td>\n",
       "      <td>0.265892</td>\n",
       "      <td>-0.261362</td>\n",
       "      <td>-0.050467</td>\n",
       "      <td>-0.193021</td>\n",
       "      <td>0.0</td>\n",
       "      <td>1.0</td>\n",
       "      <td>0.0</td>\n",
       "      <td>0.0</td>\n",
       "      <td>0.0</td>\n",
       "      <td>0.0</td>\n",
       "      <td>0.0</td>\n",
       "      <td>0.0</td>\n",
       "      <td>0.0</td>\n",
       "      <td>0.0</td>\n",
       "      <td>0.0</td>\n",
       "      <td>0.0</td>\n",
       "      <td>0.0</td>\n",
       "      <td>0.0</td>\n",
       "      <td>0.0</td>\n",
       "    </tr>\n",
       "    <tr>\n",
       "      <th>2</th>\n",
       "      <td>-0.507270</td>\n",
       "      <td>0.265892</td>\n",
       "      <td>-0.261362</td>\n",
       "      <td>-0.050467</td>\n",
       "      <td>-1.183915</td>\n",
       "      <td>0.0</td>\n",
       "      <td>0.0</td>\n",
       "      <td>0.0</td>\n",
       "      <td>0.0</td>\n",
       "      <td>0.0</td>\n",
       "      <td>0.0</td>\n",
       "      <td>0.0</td>\n",
       "      <td>1.0</td>\n",
       "      <td>0.0</td>\n",
       "      <td>0.0</td>\n",
       "      <td>0.0</td>\n",
       "      <td>0.0</td>\n",
       "      <td>0.0</td>\n",
       "      <td>0.0</td>\n",
       "      <td>0.0</td>\n",
       "    </tr>\n",
       "    <tr>\n",
       "      <th>3</th>\n",
       "      <td>-0.554132</td>\n",
       "      <td>0.265892</td>\n",
       "      <td>-0.261362</td>\n",
       "      <td>-0.050467</td>\n",
       "      <td>-0.319759</td>\n",
       "      <td>0.0</td>\n",
       "      <td>0.0</td>\n",
       "      <td>0.0</td>\n",
       "      <td>0.0</td>\n",
       "      <td>0.0</td>\n",
       "      <td>0.0</td>\n",
       "      <td>0.0</td>\n",
       "      <td>0.0</td>\n",
       "      <td>0.0</td>\n",
       "      <td>0.0</td>\n",
       "      <td>1.0</td>\n",
       "      <td>0.0</td>\n",
       "      <td>0.0</td>\n",
       "      <td>0.0</td>\n",
       "      <td>0.0</td>\n",
       "    </tr>\n",
       "    <tr>\n",
       "      <th>4</th>\n",
       "      <td>0.701759</td>\n",
       "      <td>0.265892</td>\n",
       "      <td>-0.261362</td>\n",
       "      <td>1.856256</td>\n",
       "      <td>-0.310010</td>\n",
       "      <td>0.0</td>\n",
       "      <td>0.0</td>\n",
       "      <td>0.0</td>\n",
       "      <td>0.0</td>\n",
       "      <td>0.0</td>\n",
       "      <td>0.0</td>\n",
       "      <td>0.0</td>\n",
       "      <td>0.0</td>\n",
       "      <td>0.0</td>\n",
       "      <td>0.0</td>\n",
       "      <td>0.0</td>\n",
       "      <td>0.0</td>\n",
       "      <td>1.0</td>\n",
       "      <td>0.0</td>\n",
       "      <td>0.0</td>\n",
       "    </tr>\n",
       "    <tr>\n",
       "      <th>...</th>\n",
       "      <td>...</td>\n",
       "      <td>...</td>\n",
       "      <td>...</td>\n",
       "      <td>...</td>\n",
       "      <td>...</td>\n",
       "      <td>...</td>\n",
       "      <td>...</td>\n",
       "      <td>...</td>\n",
       "      <td>...</td>\n",
       "      <td>...</td>\n",
       "      <td>...</td>\n",
       "      <td>...</td>\n",
       "      <td>...</td>\n",
       "      <td>...</td>\n",
       "      <td>...</td>\n",
       "      <td>...</td>\n",
       "      <td>...</td>\n",
       "      <td>...</td>\n",
       "      <td>...</td>\n",
       "      <td>...</td>\n",
       "    </tr>\n",
       "    <tr>\n",
       "      <th>83904</th>\n",
       "      <td>-0.685344</td>\n",
       "      <td>-1.566095</td>\n",
       "      <td>-0.261362</td>\n",
       "      <td>-0.050467</td>\n",
       "      <td>0.898872</td>\n",
       "      <td>0.0</td>\n",
       "      <td>0.0</td>\n",
       "      <td>0.0</td>\n",
       "      <td>0.0</td>\n",
       "      <td>0.0</td>\n",
       "      <td>0.0</td>\n",
       "      <td>0.0</td>\n",
       "      <td>0.0</td>\n",
       "      <td>0.0</td>\n",
       "      <td>0.0</td>\n",
       "      <td>0.0</td>\n",
       "      <td>0.0</td>\n",
       "      <td>1.0</td>\n",
       "      <td>0.0</td>\n",
       "      <td>0.0</td>\n",
       "    </tr>\n",
       "    <tr>\n",
       "      <th>83905</th>\n",
       "      <td>1.057907</td>\n",
       "      <td>0.265892</td>\n",
       "      <td>4.730715</td>\n",
       "      <td>-0.050467</td>\n",
       "      <td>1.470167</td>\n",
       "      <td>0.0</td>\n",
       "      <td>0.0</td>\n",
       "      <td>0.0</td>\n",
       "      <td>0.0</td>\n",
       "      <td>0.0</td>\n",
       "      <td>0.0</td>\n",
       "      <td>1.0</td>\n",
       "      <td>0.0</td>\n",
       "      <td>0.0</td>\n",
       "      <td>0.0</td>\n",
       "      <td>0.0</td>\n",
       "      <td>0.0</td>\n",
       "      <td>0.0</td>\n",
       "      <td>0.0</td>\n",
       "      <td>0.0</td>\n",
       "    </tr>\n",
       "    <tr>\n",
       "      <th>83906</th>\n",
       "      <td>0.664270</td>\n",
       "      <td>0.265892</td>\n",
       "      <td>4.730715</td>\n",
       "      <td>-0.050467</td>\n",
       "      <td>1.698295</td>\n",
       "      <td>0.0</td>\n",
       "      <td>0.0</td>\n",
       "      <td>0.0</td>\n",
       "      <td>0.0</td>\n",
       "      <td>0.0</td>\n",
       "      <td>0.0</td>\n",
       "      <td>0.0</td>\n",
       "      <td>0.0</td>\n",
       "      <td>0.0</td>\n",
       "      <td>0.0</td>\n",
       "      <td>0.0</td>\n",
       "      <td>1.0</td>\n",
       "      <td>0.0</td>\n",
       "      <td>0.0</td>\n",
       "      <td>0.0</td>\n",
       "    </tr>\n",
       "    <tr>\n",
       "      <th>83907</th>\n",
       "      <td>0.992301</td>\n",
       "      <td>0.265892</td>\n",
       "      <td>-0.261362</td>\n",
       "      <td>-0.050467</td>\n",
       "      <td>0.547907</td>\n",
       "      <td>0.0</td>\n",
       "      <td>0.0</td>\n",
       "      <td>0.0</td>\n",
       "      <td>0.0</td>\n",
       "      <td>0.0</td>\n",
       "      <td>0.0</td>\n",
       "      <td>0.0</td>\n",
       "      <td>0.0</td>\n",
       "      <td>0.0</td>\n",
       "      <td>0.0</td>\n",
       "      <td>0.0</td>\n",
       "      <td>0.0</td>\n",
       "      <td>1.0</td>\n",
       "      <td>0.0</td>\n",
       "      <td>0.0</td>\n",
       "    </tr>\n",
       "    <tr>\n",
       "      <th>83908</th>\n",
       "      <td>-0.975886</td>\n",
       "      <td>-1.566095</td>\n",
       "      <td>-0.261362</td>\n",
       "      <td>-0.050467</td>\n",
       "      <td>0.235937</td>\n",
       "      <td>0.0</td>\n",
       "      <td>0.0</td>\n",
       "      <td>0.0</td>\n",
       "      <td>0.0</td>\n",
       "      <td>0.0</td>\n",
       "      <td>0.0</td>\n",
       "      <td>0.0</td>\n",
       "      <td>0.0</td>\n",
       "      <td>0.0</td>\n",
       "      <td>0.0</td>\n",
       "      <td>0.0</td>\n",
       "      <td>0.0</td>\n",
       "      <td>1.0</td>\n",
       "      <td>0.0</td>\n",
       "      <td>0.0</td>\n",
       "    </tr>\n",
       "  </tbody>\n",
       "</table>\n",
       "<p>83909 rows × 20 columns</p>\n",
       "</div>"
      ],
      "text/plain": [
       "       lead_time    adults  children_imp  num_meal       adr  country_grp_BEL   \n",
       "0      -0.619738  0.265892     -0.261362 -0.050467 -0.582983              0.0  \\\n",
       "1      -0.085516  0.265892     -0.261362 -0.050467 -0.193021              0.0   \n",
       "2      -0.507270  0.265892     -0.261362 -0.050467 -1.183915              0.0   \n",
       "3      -0.554132  0.265892     -0.261362 -0.050467 -0.319759              0.0   \n",
       "4       0.701759  0.265892     -0.261362  1.856256 -0.310010              0.0   \n",
       "...          ...       ...           ...       ...       ...              ...   \n",
       "83904  -0.685344 -1.566095     -0.261362 -0.050467  0.898872              0.0   \n",
       "83905   1.057907  0.265892      4.730715 -0.050467  1.470167              0.0   \n",
       "83906   0.664270  0.265892      4.730715 -0.050467  1.698295              0.0   \n",
       "83907   0.992301  0.265892     -0.261362 -0.050467  0.547907              0.0   \n",
       "83908  -0.975886 -1.566095     -0.261362 -0.050467  0.235937              0.0   \n",
       "\n",
       "       country_grp_BRA  country_grp_CHE  country_grp_CN  country_grp_DEU   \n",
       "0                  0.0              0.0             0.0              0.0  \\\n",
       "1                  1.0              0.0             0.0              0.0   \n",
       "2                  0.0              0.0             0.0              0.0   \n",
       "3                  0.0              0.0             0.0              0.0   \n",
       "4                  0.0              0.0             0.0              0.0   \n",
       "...                ...              ...             ...              ...   \n",
       "83904              0.0              0.0             0.0              0.0   \n",
       "83905              0.0              0.0             0.0              0.0   \n",
       "83906              0.0              0.0             0.0              0.0   \n",
       "83907              0.0              0.0             0.0              0.0   \n",
       "83908              0.0              0.0             0.0              0.0   \n",
       "\n",
       "       country_grp_ESP  country_grp_FRA  country_grp_GBR  country_grp_IRL   \n",
       "0                  0.0              0.0              0.0              0.0  \\\n",
       "1                  0.0              0.0              0.0              0.0   \n",
       "2                  0.0              0.0              1.0              0.0   \n",
       "3                  0.0              0.0              0.0              0.0   \n",
       "4                  0.0              0.0              0.0              0.0   \n",
       "...                ...              ...              ...              ...   \n",
       "83904              0.0              0.0              0.0              0.0   \n",
       "83905              0.0              1.0              0.0              0.0   \n",
       "83906              0.0              0.0              0.0              0.0   \n",
       "83907              0.0              0.0              0.0              0.0   \n",
       "83908              0.0              0.0              0.0              0.0   \n",
       "\n",
       "       country_grp_ITA  country_grp_NLD  country_grp_Others  country_grp_PRT   \n",
       "0                  0.0              0.0                 0.0              1.0  \\\n",
       "1                  0.0              0.0                 0.0              0.0   \n",
       "2                  0.0              0.0                 0.0              0.0   \n",
       "3                  0.0              1.0                 0.0              0.0   \n",
       "4                  0.0              0.0                 0.0              1.0   \n",
       "...                ...              ...                 ...              ...   \n",
       "83904              0.0              0.0                 0.0              1.0   \n",
       "83905              0.0              0.0                 0.0              0.0   \n",
       "83906              0.0              0.0                 1.0              0.0   \n",
       "83907              0.0              0.0                 0.0              1.0   \n",
       "83908              0.0              0.0                 0.0              1.0   \n",
       "\n",
       "       country_grp_USA  is_company  \n",
       "0                  0.0         0.0  \n",
       "1                  0.0         0.0  \n",
       "2                  0.0         0.0  \n",
       "3                  0.0         0.0  \n",
       "4                  0.0         0.0  \n",
       "...                ...         ...  \n",
       "83904              0.0         0.0  \n",
       "83905              0.0         0.0  \n",
       "83906              0.0         0.0  \n",
       "83907              0.0         0.0  \n",
       "83908              0.0         0.0  \n",
       "\n",
       "[83909 rows x 20 columns]"
      ]
     },
     "execution_count": 65,
     "metadata": {},
     "output_type": "execute_result"
    }
   ],
   "source": [
    "X_train"
   ]
  },
  {
   "cell_type": "code",
   "execution_count": 66,
   "metadata": {},
   "outputs": [
    {
     "data": {
      "text/html": [
       "<style>#sk-container-id-3 {color: black;background-color: white;}#sk-container-id-3 pre{padding: 0;}#sk-container-id-3 div.sk-toggleable {background-color: white;}#sk-container-id-3 label.sk-toggleable__label {cursor: pointer;display: block;width: 100%;margin-bottom: 0;padding: 0.3em;box-sizing: border-box;text-align: center;}#sk-container-id-3 label.sk-toggleable__label-arrow:before {content: \"▸\";float: left;margin-right: 0.25em;color: #696969;}#sk-container-id-3 label.sk-toggleable__label-arrow:hover:before {color: black;}#sk-container-id-3 div.sk-estimator:hover label.sk-toggleable__label-arrow:before {color: black;}#sk-container-id-3 div.sk-toggleable__content {max-height: 0;max-width: 0;overflow: hidden;text-align: left;background-color: #f0f8ff;}#sk-container-id-3 div.sk-toggleable__content pre {margin: 0.2em;color: black;border-radius: 0.25em;background-color: #f0f8ff;}#sk-container-id-3 input.sk-toggleable__control:checked~div.sk-toggleable__content {max-height: 200px;max-width: 100%;overflow: auto;}#sk-container-id-3 input.sk-toggleable__control:checked~label.sk-toggleable__label-arrow:before {content: \"▾\";}#sk-container-id-3 div.sk-estimator input.sk-toggleable__control:checked~label.sk-toggleable__label {background-color: #d4ebff;}#sk-container-id-3 div.sk-label input.sk-toggleable__control:checked~label.sk-toggleable__label {background-color: #d4ebff;}#sk-container-id-3 input.sk-hidden--visually {border: 0;clip: rect(1px 1px 1px 1px);clip: rect(1px, 1px, 1px, 1px);height: 1px;margin: -1px;overflow: hidden;padding: 0;position: absolute;width: 1px;}#sk-container-id-3 div.sk-estimator {font-family: monospace;background-color: #f0f8ff;border: 1px dotted black;border-radius: 0.25em;box-sizing: border-box;margin-bottom: 0.5em;}#sk-container-id-3 div.sk-estimator:hover {background-color: #d4ebff;}#sk-container-id-3 div.sk-parallel-item::after {content: \"\";width: 100%;border-bottom: 1px solid gray;flex-grow: 1;}#sk-container-id-3 div.sk-label:hover label.sk-toggleable__label {background-color: #d4ebff;}#sk-container-id-3 div.sk-serial::before {content: \"\";position: absolute;border-left: 1px solid gray;box-sizing: border-box;top: 0;bottom: 0;left: 50%;z-index: 0;}#sk-container-id-3 div.sk-serial {display: flex;flex-direction: column;align-items: center;background-color: white;padding-right: 0.2em;padding-left: 0.2em;position: relative;}#sk-container-id-3 div.sk-item {position: relative;z-index: 1;}#sk-container-id-3 div.sk-parallel {display: flex;align-items: stretch;justify-content: center;background-color: white;position: relative;}#sk-container-id-3 div.sk-item::before, #sk-container-id-3 div.sk-parallel-item::before {content: \"\";position: absolute;border-left: 1px solid gray;box-sizing: border-box;top: 0;bottom: 0;left: 50%;z-index: -1;}#sk-container-id-3 div.sk-parallel-item {display: flex;flex-direction: column;z-index: 1;position: relative;background-color: white;}#sk-container-id-3 div.sk-parallel-item:first-child::after {align-self: flex-end;width: 50%;}#sk-container-id-3 div.sk-parallel-item:last-child::after {align-self: flex-start;width: 50%;}#sk-container-id-3 div.sk-parallel-item:only-child::after {width: 0;}#sk-container-id-3 div.sk-dashed-wrapped {border: 1px dashed gray;margin: 0 0.4em 0.5em 0.4em;box-sizing: border-box;padding-bottom: 0.4em;background-color: white;}#sk-container-id-3 div.sk-label label {font-family: monospace;font-weight: bold;display: inline-block;line-height: 1.2em;}#sk-container-id-3 div.sk-label-container {text-align: center;}#sk-container-id-3 div.sk-container {/* jupyter's `normalize.less` sets `[hidden] { display: none; }` but bootstrap.min.css set `[hidden] { display: none !important; }` so we also need the `!important` here to be able to override the default hidden behavior on the sphinx rendered scikit-learn.org. See: https://github.com/scikit-learn/scikit-learn/issues/21755 */display: inline-block !important;position: relative;}#sk-container-id-3 div.sk-text-repr-fallback {display: none;}</style><div id=\"sk-container-id-3\" class=\"sk-top-container\"><div class=\"sk-text-repr-fallback\"><pre>LogisticRegression()</pre><b>In a Jupyter environment, please rerun this cell to show the HTML representation or trust the notebook. <br />On GitHub, the HTML representation is unable to render, please try loading this page with nbviewer.org.</b></div><div class=\"sk-container\" hidden><div class=\"sk-item\"><div class=\"sk-estimator sk-toggleable\"><input class=\"sk-toggleable__control sk-hidden--visually\" id=\"sk-estimator-id-3\" type=\"checkbox\" checked><label for=\"sk-estimator-id-3\" class=\"sk-toggleable__label sk-toggleable__label-arrow\">LogisticRegression</label><div class=\"sk-toggleable__content\"><pre>LogisticRegression()</pre></div></div></div></div></div>"
      ],
      "text/plain": [
       "LogisticRegression()"
      ]
     },
     "execution_count": 66,
     "metadata": {},
     "output_type": "execute_result"
    }
   ],
   "source": [
    "m3 = LogisticRegression()\n",
    "m3.fit(X_train, y_train)"
   ]
  },
  {
   "cell_type": "markdown",
   "metadata": {},
   "source": [
    "### Utilizando valores SHAP para explicar as previsões\n",
    "\n",
    "O **SHAP** (*SHapley Additive exPlanations*) é uma técnica de interpretação que pode ser utilizada para explicar a relação entre as variáveis independentes e dependentes em um modelo de aprendizado de máquina.\n",
    "\n",
    "A ideia central do SHAP é calcular, para cada observação do conjunto de dados, o impacto marginal que cada variável tem na predição do modelo. O cálculo do impacto marginal é baseado na teoria dos jogos, mais especificamente no conceito de valor de Shapley, que é um método para distribuir equitativamente os ganhos obtidos em jogos cooperativos entre seus participantes.\n",
    "\n",
    "Dessa forma, podemos entender como cada variável contribui para a predição do modelo para uma determinada observação. Com isso, o SHAP nos permite analisar a importância relativa das diferentes variáveis para a variável resposta em questão.\n",
    "\n",
    "Uma maneira comum de visualizar as saídas do SHAP é através de um gráfico chamado de *summary plot*. Este gráfico apresenta uma barra horizontal para cada variável independente, ordenadas de acordo com a sua importância para a predição da variável resposta. Em seguida, para cada observação do conjunto de dados, uma seta vertical é traçada a partir da barra correspondente à média da variável e se estende até a posição onde se encontra a contribuição daquela variável para a predição da variável resposta em questão.\n",
    "\n",
    "Com essa informação, podemos entender como as diferentes variáveis independentes interagem para produzir a variável resposta em um determinado ponto no conjunto de dados, bem como avaliar a sensibilidade do modelo a mudanças nas diferentes variáveis.\n",
    "\n",
    "Em resumo, o **SHAP** é uma ferramenta poderosa para ajudar a explicar as relações entre variáveis independentes e dependentes em modelos de aprendizado de máquina, permitindo-nos interpretar de forma mais precisa como o modelo está fazendo suas predições."
   ]
  },
  {
   "cell_type": "code",
   "execution_count": 67,
   "metadata": {},
   "outputs": [],
   "source": [
    "import shap"
   ]
  },
  {
   "cell_type": "code",
   "execution_count": 68,
   "metadata": {},
   "outputs": [],
   "source": [
    "explainer = shap.explainers.Linear(m3, X_train)\n",
    "shap_values = explainer(X_train)"
   ]
  },
  {
   "cell_type": "code",
   "execution_count": 69,
   "metadata": {},
   "outputs": [
    {
     "name": "stderr",
     "output_type": "stream",
     "text": [
      "No data for colormapping provided via 'c'. Parameters 'vmin', 'vmax' will be ignored\n"
     ]
    },
    {
     "data": {
      "image/png": "[encoded data removed]",
      "text/plain": [
       "<Figure size 800x550 with 2 Axes>"
      ]
     },
     "metadata": {},
     "output_type": "display_data"
    }
   ],
   "source": [
    "shap.plots.beeswarm(shap_values)"
   ]
  },
  {
   "cell_type": "code",
   "execution_count": null,
   "metadata": {},
   "outputs": [],
   "source": []
  }
 ],
 "metadata": {
  "kernelspec": {
   "display_name": "Python 3 (ipykernel)",
   "language": "python",
   "name": "python3"
  },
  "language_info": {
   "codemirror_mode": {
    "name": "ipython",
    "version": 3
   },
   "file_extension": ".py",
   "mimetype": "text/x-python",
   "name": "python",
   "nbconvert_exporter": "python",
   "pygments_lexer": "ipython3",
   "version": "3.10.10"
  },
  "vscode": {
   "interpreter": {
    "hash": "014f4a4a5af8f0104b12c029e500f4146d6d785e8cf714d2a35b7a9514230cd3"
   }
  }
 },
 "nbformat": 4,
 "nbformat_minor": 2
}
