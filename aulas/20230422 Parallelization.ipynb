{
 "cells": [
  {
   "cell_type": "markdown",
   "metadata": {},
   "source": [
    "# Paralelização\n",
    "\n",
    "Até agora o código que estamos construindo roda em série em nosso computador. Isso significa que cada instrução em nosso código é processada linearmente, uma após a outra.\n",
    "\n",
    "Por exemplo, no caso de um `loop`, cada **etapa** do loop é executada em série. Vamos ver isso na prática.\n",
    "\n",
    "## Códigos Seriais\n",
    "\n",
    "Vamos começar analisando a **ordem de execução** de um loop simples:"
   ]
  },
  {
   "cell_type": "code",
   "execution_count": 1,
   "metadata": {},
   "outputs": [],
   "source": [
    "import time"
   ]
  },
  {
   "cell_type": "code",
   "execution_count": 2,
   "metadata": {},
   "outputs": [],
   "source": [
    "time.sleep(1)"
   ]
  },
  {
   "cell_type": "code",
   "execution_count": 3,
   "metadata": {
    "ExecuteTime": {
     "end_time": "2022-01-25T22:50:13.065981Z",
     "start_time": "2022-01-25T22:50:13.050029Z"
    }
   },
   "outputs": [],
   "source": [
    "def dormir(x):\n",
    "    '''\n",
    "    Dormir x-segundos e retorna x.\n",
    "    '''\n",
    "    \n",
    "    print(f'Dormindo por {x} segundos.\\n')\n",
    "    time.sleep(x)\n",
    "    print(f'Retornando {x}\\n')\n",
    "    return x"
   ]
  },
  {
   "cell_type": "code",
   "execution_count": 5,
   "metadata": {
    "ExecuteTime": {
     "end_time": "2022-01-25T22:50:27.836941Z",
     "start_time": "2022-01-25T22:50:22.817973Z"
    },
    "tags": []
   },
   "outputs": [
    {
     "name": "stdout",
     "output_type": "stream",
     "text": [
      "Dormindo por 5 segundos.\n",
      "\n",
      "Retornando 5\n",
      "\n",
      "CPU times: user 4.37 ms, sys: 2.89 ms, total: 7.25 ms\n",
      "Wall time: 5 s\n"
     ]
    },
    {
     "data": {
      "text/plain": [
       "5"
      ]
     },
     "execution_count": 5,
     "metadata": {},
     "output_type": "execute_result"
    }
   ],
   "source": [
    "%%time\n",
    "dormir(5)"
   ]
  },
  {
   "cell_type": "markdown",
   "metadata": {},
   "source": [
    "Vamos construir uma lista e utilizar um `loop` para percorrer nossa lista:"
   ]
  },
  {
   "cell_type": "code",
   "execution_count": 6,
   "metadata": {
    "ExecuteTime": {
     "end_time": "2022-01-25T22:51:04.990897Z",
     "start_time": "2022-01-25T22:51:04.976935Z"
    }
   },
   "outputs": [],
   "source": [
    "my_list = [1,2,3,4]"
   ]
  },
  {
   "cell_type": "code",
   "execution_count": 20,
   "metadata": {},
   "outputs": [
    {
     "name": "stdout",
     "output_type": "stream",
     "text": [
      "Dormindo por 1 segundos.\n",
      "\n",
      "Retornando 1\n",
      "\n",
      "Dormindo por 2 segundos.\n",
      "\n",
      "Retornando 2\n",
      "\n",
      "Dormindo por 3 segundos.\n",
      "\n",
      "Retornando 3\n",
      "\n",
      "Dormindo por 4 segundos.\n",
      "\n",
      "Retornando 4\n",
      "\n",
      "CPU times: user 9.85 ms, sys: 3.51 ms, total: 13.4 ms\n",
      "Wall time: 10 s\n"
     ]
    }
   ],
   "source": [
    "%%time\n",
    "for x in my_list:\n",
    "    dormir(x)"
   ]
  },
  {
   "cell_type": "markdown",
   "metadata": {},
   "source": [
    "O `loop` levou 10s para percorrer a lista pois percorreu ela em **série**: elemento a elemento, um após o outro.\n",
    "\n",
    "Mesmo as técnicas de *programação funcional* executam o código da mesma maneira:"
   ]
  },
  {
   "cell_type": "code",
   "execution_count": 8,
   "metadata": {
    "ExecuteTime": {
     "end_time": "2022-01-25T23:00:15.711016Z",
     "start_time": "2022-01-25T23:00:09.667169Z"
    }
   },
   "outputs": [
    {
     "name": "stdout",
     "output_type": "stream",
     "text": [
      "Dormindo por 1 segundos.\n",
      "\n",
      "Retornando 1\n",
      "\n",
      "Dormindo por 2 segundos.\n",
      "\n",
      "Retornando 2\n",
      "\n",
      "Dormindo por 3 segundos.\n",
      "\n",
      "Retornando 3\n",
      "\n",
      "Dormindo por 4 segundos.\n",
      "\n",
      "Retornando 4\n",
      "\n",
      "CPU times: user 12.7 ms, sys: 4.4 ms, total: 17.1 ms\n",
      "Wall time: 10 s\n"
     ]
    },
    {
     "data": {
      "text/plain": [
       "[1, 2, 3, 4]"
      ]
     },
     "execution_count": 8,
     "metadata": {},
     "output_type": "execute_result"
    }
   ],
   "source": [
    "%%time\n",
    "list(map(dormir, [1, 2, 3, 4]))"
   ]
  },
  {
   "cell_type": "markdown",
   "metadata": {},
   "source": [
    "## Códigos Paralelos\n",
    "\n",
    "Uma das principais técnicas para aumentar a velocidade dos processadores no séc. XXI são os processadores com múltiplos *cores* (um processador contém múltiplas CPUs).\n",
    "\n",
    "Cada *core* de um computador é linear: ele executa, em altissíma velocidade, instruções de forma linear - uma após a outra.\n",
    "\n",
    "Os programas que construímos até hoje nas aulas são incapazes de utilizar múltiplos *cores* de processamento pois são lineares! Todos os `loops`, `applies`, `requests` ocorreram em série, de forma que, se nosso processador possui mais de um *core* não alavancamos toda sua capacidade computacional.\n",
    "\n",
    "Vamos aprender agora como podemos converter nossos programas seriais em programas paralelos:"
   ]
  },
  {
   "cell_type": "code",
   "execution_count": null,
   "metadata": {
    "ExecuteTime": {
     "end_time": "2022-01-25T18:43:38.323469Z",
     "start_time": "2022-01-25T18:43:35.563836Z"
    }
   },
   "outputs": [],
   "source": [
    "!pip3 install multiprocess"
   ]
  },
  {
   "cell_type": "code",
   "execution_count": 9,
   "metadata": {
    "ExecuteTime": {
     "end_time": "2022-01-25T23:02:37.285038Z",
     "start_time": "2022-01-25T23:02:37.279054Z"
    }
   },
   "outputs": [],
   "source": [
    "from multiprocess import Pool, cpu_count\n"
   ]
  },
  {
   "cell_type": "code",
   "execution_count": 10,
   "metadata": {},
   "outputs": [
    {
     "data": {
      "text/plain": [
       "8"
      ]
     },
     "execution_count": 10,
     "metadata": {},
     "output_type": "execute_result"
    }
   ],
   "source": [
    "cpu_count()"
   ]
  },
  {
   "cell_type": "markdown",
   "metadata": {},
   "source": [
    "A função `cpu_count()` nos mostra quantos *cores* nosso processador possui. Vamos utilizar a biblioteca `multiprocessing` para parelizar um loop.\n",
    "\n",
    "## Criando um `Pool`\n",
    "\n",
    "Um `Pool` é um objeto que coordena as tarefas que precisam ser executadas (*seu programa*) e como estas são alocadas nos diferentes *cores* do processador (*seu computador*).\n",
    "\n",
    "Antes de mais nada, precisamos criar um `Pool`, determinando quantos *cores* esse *gerente* poderá utilizar."
   ]
  },
  {
   "cell_type": "code",
   "execution_count": 11,
   "metadata": {
    "ExecuteTime": {
     "end_time": "2022-01-25T23:08:05.054402Z",
     "start_time": "2022-01-25T23:08:04.968659Z"
    }
   },
   "outputs": [
    {
     "name": "stdout",
     "output_type": "stream",
     "text": [
      "Dormindo por 4 segundos.\n",
      "Dormindo por 1 segundos.\n",
      "Dormindo por 2 segundos.\n",
      "Dormindo por 3 segundos.\n",
      "\n",
      "\n",
      "\n",
      "\n",
      "Retornando 1\n",
      "\n",
      "Retornando 2\n",
      "\n",
      "Retornando 3\n",
      "\n",
      "Retornando 4\n",
      "\n"
     ]
    }
   ],
   "source": [
    "pool = Pool(processes=cpu_count()-1)"
   ]
  },
  {
   "cell_type": "code",
   "execution_count": 12,
   "metadata": {
    "ExecuteTime": {
     "end_time": "2022-01-25T18:54:41.345183Z",
     "start_time": "2022-01-25T18:54:41.331220Z"
    }
   },
   "outputs": [
    {
     "name": "stdout",
     "output_type": "stream",
     "text": [
      "[1, 2, 3, 4]\n",
      "CPU times: user 23.6 ms, sys: 13.8 ms, total: 37.4 ms\n",
      "Wall time: 4.05 s\n"
     ]
    }
   ],
   "source": [
    "%%time\n",
    "my_list = [1, 2, 3, 4]\n",
    "result = pool.map(dormir, my_list)\n",
    "print(result)\n",
    "pool.terminate()"
   ]
  },
  {
   "cell_type": "markdown",
   "metadata": {
    "ExecuteTime": {
     "end_time": "2022-01-25T23:26:45.849511Z",
     "start_time": "2022-01-25T23:26:45.809627Z"
    }
   },
   "source": [
    "O que aconteceu? O processamento **paralelo terminou em 4s**, comparado aos **10s do processamento em série**! O objeto `Pool` despachou cada uma das aplicações da função para um *core* diferente e as executou simultaneamente:\n",
    "\n",
    "![image](images/parallel_vs_serial.webp)\n",
    "\n",
    "### Nem todos os loops podem ser paralelos...\n",
    "\n",
    "Para que um loop possa ser paralelizado, os resultados de cada *perna* do loop deve ser independente das outras *pernas*. Vamos construir um loop que não pode ser paralelizado:"
   ]
  },
  {
   "cell_type": "code",
   "execution_count": 13,
   "metadata": {},
   "outputs": [
    {
     "name": "stdout",
     "output_type": "stream",
     "text": [
      "120\n"
     ]
    }
   ],
   "source": [
    "minha_lista = [1, 2, 3, 4, 5]\n",
    "fatorial = 1\n",
    "\n",
    "for x in minha_lista:\n",
    "    fatorial = fatorial * x\n",
    "\n",
    "print(fatorial)"
   ]
  },
  {
   "cell_type": "markdown",
   "metadata": {},
   "source": [
    "Cada *perna* do nosso `loop` **DEPENDE** da *perna* anterior! Logo, para executar a segunda etapa do `loop` precisamos executar a primeira, para executar a terceira, precisamos executar a segunda, e assim por diante.\n",
    "\n",
    "Quais `loops` conseguimos paralelizar? Todos aqueles que podem ser escritos através de uma `list comprehensions` ou um `apply`."
   ]
  },
  {
   "cell_type": "markdown",
   "metadata": {},
   "source": [
    "## Utilizando funções `lambda` "
   ]
  },
  {
   "cell_type": "code",
   "execution_count": 14,
   "metadata": {
    "ExecuteTime": {
     "end_time": "2022-01-25T23:28:07.957745Z",
     "start_time": "2022-01-25T23:27:53.668644Z"
    }
   },
   "outputs": [
    {
     "name": "stdout",
     "output_type": "stream",
     "text": [
      "CPU times: user 14.2 s, sys: 77.8 ms, total: 14.3 s\n",
      "Wall time: 14.3 s\n"
     ]
    }
   ],
   "source": [
    "%%time\n",
    "result = list(map(lambda x:x**10000000, [1,2,3,4,5,6]))"
   ]
  },
  {
   "cell_type": "code",
   "execution_count": 18,
   "metadata": {
    "ExecuteTime": {
     "end_time": "2022-01-25T23:31:33.438737Z",
     "start_time": "2022-01-25T23:30:43.006943Z"
    }
   },
   "outputs": [
    {
     "name": "stdout",
     "output_type": "stream",
     "text": [
      "CPU times: user 42.3 ms, sys: 79.6 ms, total: 122 ms\n",
      "Wall time: 5.61 s\n"
     ]
    }
   ],
   "source": [
    "%%time\n",
    "pool = Pool(processes=cpu_count()-1)\n",
    "result = pool.map(lambda x:x**10000000, [1,2,3,4,5,6,7,8])"
   ]
  },
  {
   "cell_type": "code",
   "execution_count": 19,
   "metadata": {
    "ExecuteTime": {
     "end_time": "2022-01-25T23:32:49.972418Z",
     "start_time": "2022-01-25T23:32:49.919561Z"
    }
   },
   "outputs": [],
   "source": [
    "pool.terminate()"
   ]
  },
  {
   "cell_type": "code",
   "execution_count": null,
   "metadata": {},
   "outputs": [],
   "source": []
  }
 ],
 "metadata": {
  "hide_input": false,
  "kernelspec": {
   "display_name": "Python 3 (ipykernel)",
   "language": "python",
   "name": "python3"
  },
  "language_info": {
   "codemirror_mode": {
    "name": "ipython",
    "version": 3
   },
   "file_extension": ".py",
   "mimetype": "text/x-python",
   "name": "python",
   "nbconvert_exporter": "python",
   "pygments_lexer": "ipython3",
   "version": "3.9.13"
  },
  "toc": {
   "base_numbering": 1,
   "nav_menu": {},
   "number_sections": true,
   "sideBar": true,
   "skip_h1_title": false,
   "title_cell": "Table of Contents",
   "title_sidebar": "Contents",
   "toc_cell": false,
   "toc_position": {},
   "toc_section_display": true,
   "toc_window_display": false
  },
  "varInspector": {
   "cols": {
    "lenName": 16,
    "lenType": 16,
    "lenVar": 40
   },
   "kernels_config": {
    "python": {
     "delete_cmd_postfix": "",
     "delete_cmd_prefix": "del ",
     "library": "var_list.py",
     "varRefreshCmd": "print(var_dic_list())"
    },
    "r": {
     "delete_cmd_postfix": ") ",
     "delete_cmd_prefix": "rm(",
     "library": "var_list.r",
     "varRefreshCmd": "cat(var_dic_list()) "
    }
   },
   "types_to_exclude": [
    "module",
    "function",
    "builtin_function_or_method",
    "instance",
    "_Feature"
   ],
   "window_display": false
  },
  "vscode": {
   "interpreter": {
    "hash": "31f2aee4e71d21fbe5cf8b01ff0e069b9275f58929596ceb00d14d90e3e16cd6"
   }
  }
 },
 "nbformat": 4,
 "nbformat_minor": 4
}
