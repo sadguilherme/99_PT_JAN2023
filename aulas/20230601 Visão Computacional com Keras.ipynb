{
 "cells": [
  {
   "cell_type": "code",
   "execution_count": 1,
   "metadata": {},
   "outputs": [],
   "source": [
    "import os\n",
    "import numpy as np\n",
    "import pandas as pd\n",
    "import matplotlib.pyplot as plt\n",
    "import seaborn as sns\n",
    "import tensorflow as tf\n",
    "\n",
    "from tensorflow import keras\n",
    "from PIL import Image\n",
    "from sklearn.metrics import mean_squared_error, f1_score\n",
    "\n",
    "# Pandas options\n",
    "pd.set_option(\"display.max_columns\", 500)\n",
    "# Ignore warnings\n",
    "import warnings\n",
    "warnings.filterwarnings(\"ignore\")"
   ]
  },
  {
   "cell_type": "code",
   "execution_count": 3,
   "metadata": {},
   "outputs": [
    {
     "data": {
      "text/plain": [
       "1166400"
      ]
     },
     "execution_count": 3,
     "metadata": {},
     "output_type": "execute_result"
    }
   ],
   "source": [
    "1080*1080"
   ]
  },
  {
   "cell_type": "markdown",
   "metadata": {},
   "source": [
    "# Redes Neurais Convolucionais (CNNs)\n",
    "\n",
    "Um **convolutional neural network** (CNN) é um tipo de modelo de **deep learning** projetado para processar dados estruturados em forma de grade, como imagens ou séries temporais. Ele é particularmente eficaz em tarefas de visão computacional, como reconhecimento de imagem e detecção de objetos.\n",
    "\n",
    "Aqui está uma breve explicação de como um CNN funciona:\n",
    "\n",
    "1. **Camada de Entrada:** A entrada para um CNN é uma imagem ou uma estrutura de dados em forma de grade, normalmente representada como uma matriz multidimensional de valores de pixel.\n",
    "\n",
    "2. **Camada Convolucional:** A camada convolucional é o bloco fundamental de construção de um CNN. Ela consiste em vários filtros ou *kernels* que deslizam (convolvem) sobre a imagem de entrada, realizando multiplicação e adição de elementos para produzir um mapa de características. Cada filtro detecta diferentes padrões ou características nos dados de entrada, como bordas, cantos ou texturas.\n",
    "\n",
    "3. **Função de Ativação:** Após a operação de convolução, uma função de ativação, geralmente ReLU (Rectified Linear Unit), é aplicada elemento a elemento para introduzir não-linearidade na rede. Isso ajuda o modelo a aprender relações complexas nos dados.\n",
    "\n",
    "4. **Camada de Pooling:** A camada de *pooling* reduz as dimensões espaciais do mapa de características, mantendo as informações mais importantes. Operações de *pooling* comuns incluem *max pooling* ou *average pooling*, onde o valor máximo ou médio dentro de uma região específica é mantido e o restante é descartado.\n",
    "\n",
    "5. **Achatamento:** A saída da camada de *pooling* é achatada em um vetor unidimensional para ser alimentada nas camadas subsequentes da rede.\n",
    "\n",
    "6. **Camadas Totalmente Conectadas:** As características achatadas são conectadas a uma ou mais camadas totalmente conectadas, semelhantes às de uma rede neural tradicional. Essas camadas aprendem características e relações em níveis mais altos, combinando informações de toda a entrada.\n",
    "\n",
    "7. **Camada de Saída:** A camada final do CNN produz a saída desejada com base na tarefa específica. Por exemplo, em classificação de imagem, a camada de saída geralmente consiste em uma ativação softmax para produzir probabilidades de classe.\n",
    "\n",
    "8. **Treinamento:** Os CNNs são treinados usando *backpropagation*, onde os pesos e vieses do modelo são ajustados iterativamente para minimizar a diferença entre as saídas previstas e reais. Isso é feito otimizando uma função de perda usando técnicas como *gradient descent*.\n",
    "\n",
    "Ao empilhar várias camadas convolucionais e totalmente conectadas, os CNNs podem aprender representações hierárquicas de características, extraindo automaticamente padrões de baixo nível e gradualmente aprendendo conceitos mais complexos e abstratos. Essa abordagem hierárquica torna os CNNs adequados para tarefas envolvendo dados estruturados em forma de grade, especialmente em aplicações de visão computacional."
   ]
  },
  {
   "cell_type": "markdown",
   "metadata": {},
   "source": [
    "## Construindo um modelo para o Fashion MNIST\n",
    "O conjunto de dados Fashion MNIST é um conjunto de referência popular para tarefas de classificação de imagens na área de visão computacional e aprendizado de máquina. Ele é composto por 70.000 imagens em escala de cinza de 28x28 pixels, divididas em 10 classes diferentes. Cada classe representa um tipo específico de vestuário ou acessório de moda presente nas imagens.\n",
    "\n",
    "As classes incluídas no conjunto de dados Fashion MNIST são as seguintes:\n",
    "\n",
    "1. Camiseta/topo\n",
    "2. Calça\n",
    "3. Suéter\n",
    "4. Vestido\n",
    "5. Casaco\n",
    "6. Sandália\n",
    "7. Camisa\n",
    "8. Tênis\n",
    "9. Bolsa\n",
    "10. Bota\n",
    "\n",
    "O conjunto de treinamento é composto por 60.000 imagens, enquanto o conjunto de teste contém 10.000 imagens. As imagens são equilibradas em relação às classes, o que significa que cada classe possui a mesma quantidade de amostras.\n",
    "\n",
    "As imagens do Fashion MNIST são em escala de cinza, o que torna o conjunto de dados um pouco mais simples em comparação com conjuntos de dados em cores. No entanto, ele ainda apresenta desafios significativos, pois as imagens incluem uma variedade de padrões, texturas e formas.\n",
    "\n",
    "O Fashion MNIST foi proposto como um substituto para o conjunto de dados clássico MNIST, que consiste em dígitos manuscritos. Ele foi projetado para ser um conjunto de dados mais realista e desafiador para testar algoritmos e modelos de aprendizado de máquina em tarefas de classificação de imagens.\n",
    "\n",
    "O conjunto de dados Fashion MNIST pode ser facilmente acessado e baixado através do repositório oficial do [Fashion MNIST](https://github.com/zalandoresearch/fashion-mnist), onde também estão disponíveis informações adicionais sobre o conjunto de dados e sua formatação. Ele se tornou uma referência importante para a comunidade de pesquisa e é frequentemente utilizado em competições e estudos comparativos."
   ]
  },
  {
   "cell_type": "code",
   "execution_count": 4,
   "metadata": {},
   "outputs": [],
   "source": [
    "(X_train, y_train), (X_test, y_test) = keras.datasets.fashion_mnist.load_data()"
   ]
  },
  {
   "cell_type": "code",
   "execution_count": 28,
   "metadata": {},
   "outputs": [
    {
     "data": {
      "image/png": "[encoded data removed]",
      "text/plain": [
       "<Figure size 640x480 with 1 Axes>"
      ]
     },
     "metadata": {},
     "output_type": "display_data"
    }
   ],
   "source": [
    "i = 3\n",
    "plt.imshow(X_train[i,:,:])\n",
    "plt.title(y_train[i] + 1);"
   ]
  },
  {
   "cell_type": "code",
   "execution_count": 15,
   "metadata": {},
   "outputs": [
    {
     "data": {
      "text/plain": [
       "array([  0,   0,   0,   0,   0,   0,   0,   0,   0,   0,   0,   0,   0,\n",
       "         0,   0,   0,   0,   0,   0,   0,   0,   0,   0,   0,   0,   0,\n",
       "         0,   0,   0,   0,   0,   0,   0,   0,   0,   0,   0,   0,   0,\n",
       "         0,   0,   0,   0,   0,   0,   0,   0,   0,   0,   0,   0,   0,\n",
       "         0,   0,   0,   0,   0,   0,   0,   0,   0,   0,   0,   0,   0,\n",
       "         0,   0,   0,   0,   0,   0,   0,   0,   0,   0,   0,   0,   0,\n",
       "         0,   0,   0,   0,   0,   0,   0,   0,   0,   0,   0,   0,   0,\n",
       "         0,   0,   0,   0,   0,   1,   0,   0,  13,  73,   0,   0,   1,\n",
       "         4,   0,   0,   0,   0,   1,   1,   0,   0,   0,   0,   0,   0,\n",
       "         0,   0,   0,   0,   0,   0,   0,   3,   0,  36, 136, 127,  62,\n",
       "        54,   0,   0,   0,   1,   3,   4,   0,   0,   3,   0,   0,   0,\n",
       "         0,   0,   0,   0,   0,   0,   0,   0,   0,   6,   0, 102, 204,\n",
       "       176, 134, 144, 123,  23,   0,   0,   0,   0,  12,  10,   0,   0,\n",
       "         0,   0,   0,   0,   0,   0,   0,   0,   0,   0,   0,   0,   0,\n",
       "       155, 236, 207, 178, 107, 156, 161, 109,  64,  23,  77, 130,  72,\n",
       "        15,   0,   0,   0,   0,   0,   0,   0,   0,   0,   0,   0,   1,\n",
       "         0,  69, 207, 223, 218, 216, 216, 163, 127, 121, 122, 146, 141,\n",
       "        88, 172,  66,   0,   0,   0,   0,   0,   0,   0,   0,   0,   1,\n",
       "         1,   1,   0, 200, 232, 232, 233, 229, 223, 223, 215, 213, 164,\n",
       "       127, 123, 196, 229,   0,   0,   0,   0,   0,   0,   0,   0,   0,\n",
       "         0,   0,   0,   0,   0, 183, 225, 216, 223, 228, 235, 227, 224,\n",
       "       222, 224, 221, 223, 245, 173,   0,   0,   0,   0,   0,   0,   0,\n",
       "         0,   0,   0,   0,   0,   0,   0, 193, 228, 218, 213, 198, 180,\n",
       "       212, 210, 211, 213, 223, 220, 243, 202,   0,   0,   0,   0,   0,\n",
       "         0,   0,   0,   0,   0,   1,   3,   0,  12, 219, 220, 212, 218,\n",
       "       192, 169, 227, 208, 218, 224, 212, 226, 197, 209,  52,   0,   0,\n",
       "         0,   0,   0,   0,   0,   0,   0,   0,   6,   0,  99, 244, 222,\n",
       "       220, 218, 203, 198, 221, 215, 213, 222, 220, 245, 119, 167,  56,\n",
       "         0,   0,   0,   0,   0,   0,   0,   0,   0,   4,   0,   0,  55,\n",
       "       236, 228, 230, 228, 240, 232, 213, 218, 223, 234, 217, 217, 209,\n",
       "        92,   0,   0,   0,   1,   4,   6,   7,   2,   0,   0,   0,   0,\n",
       "         0, 237, 226, 217, 223, 222, 219, 222, 221, 216, 223, 229, 215,\n",
       "       218, 255,  77,   0,   0,   3,   0,   0,   0,   0,   0,   0,   0,\n",
       "        62, 145, 204, 228, 207, 213, 221, 218, 208, 211, 218, 224, 223,\n",
       "       219, 215, 224, 244, 159,   0,   0,   0,   0,   0,  18,  44,  82,\n",
       "       107, 189, 228, 220, 222, 217, 226, 200, 205, 211, 230, 224, 234,\n",
       "       176, 188, 250, 248, 233, 238, 215,   0,   0,  57, 187, 208, 224,\n",
       "       221, 224, 208, 204, 214, 208, 209, 200, 159, 245, 193, 206, 223,\n",
       "       255, 255, 221, 234, 221, 211, 220, 232, 246,   0,   3, 202, 228,\n",
       "       224, 221, 211, 211, 214, 205, 205, 205, 220, 240,  80, 150, 255,\n",
       "       229, 221, 188, 154, 191, 210, 204, 209, 222, 228, 225,   0,  98,\n",
       "       233, 198, 210, 222, 229, 229, 234, 249, 220, 194, 215, 217, 241,\n",
       "        65,  73, 106, 117, 168, 219, 221, 215, 217, 223, 223, 224, 229,\n",
       "        29,  75, 204, 212, 204, 193, 205, 211, 225, 216, 185, 197, 206,\n",
       "       198, 213, 240, 195, 227, 245, 239, 223, 218, 212, 209, 222, 220,\n",
       "       221, 230,  67,  48, 203, 183, 194, 213, 197, 185, 190, 194, 192,\n",
       "       202, 214, 219, 221, 220, 236, 225, 216, 199, 206, 186, 181, 177,\n",
       "       172, 181, 205, 206, 115,   0, 122, 219, 193, 179, 171, 183, 196,\n",
       "       204, 210, 213, 207, 211, 210, 200, 196, 194, 191, 195, 191, 198,\n",
       "       192, 176, 156, 167, 177, 210,  92,   0,   0,  74, 189, 212, 191,\n",
       "       175, 172, 175, 181, 185, 188, 189, 188, 193, 198, 204, 209, 210,\n",
       "       210, 211, 188, 188, 194, 192, 216, 170,   0,   2,   0,   0,   0,\n",
       "        66, 200, 222, 237, 239, 242, 246, 243, 244, 221, 220, 193, 191,\n",
       "       179, 182, 182, 181, 176, 166, 168,  99,  58,   0,   0,   0,   0,\n",
       "         0,   0,   0,   0,   0,  40,  61,  44,  72,  41,  35,   0,   0,\n",
       "         0,   0,   0,   0,   0,   0,   0,   0,   0,   0,   0,   0,   0,\n",
       "         0,   0,   0,   0,   0,   0,   0,   0,   0,   0,   0,   0,   0,\n",
       "         0,   0,   0,   0,   0,   0,   0,   0,   0,   0,   0,   0,   0,\n",
       "         0,   0,   0,   0,   0,   0,   0,   0,   0,   0,   0,   0,   0,\n",
       "         0,   0,   0,   0,   0,   0,   0,   0,   0,   0,   0,   0,   0,\n",
       "         0,   0,   0,   0], dtype=uint8)"
      ]
     },
     "execution_count": 15,
     "metadata": {},
     "output_type": "execute_result"
    }
   ],
   "source": [
    "X_train[0,:,:].ravel()"
   ]
  },
  {
   "cell_type": "code",
   "execution_count": 16,
   "metadata": {},
   "outputs": [
    {
     "data": {
      "text/plain": [
       "784"
      ]
     },
     "execution_count": 16,
     "metadata": {},
     "output_type": "execute_result"
    }
   ],
   "source": [
    "28*28"
   ]
  },
  {
   "cell_type": "markdown",
   "metadata": {},
   "source": [
    "A forma tradicional de construir um modelo de categorização (ou regressão) utilizando imagens é transforma-las em vetores (através do método `.ravel()` por exemplo). Isso cria uma matriz onde cada pixel da imagem é um feature. Mesmo com imagens pequenas, como no FMNIST, o número de features é muito grande: 28x28. Além de complicar o treinamento (*maldição da dimensionalidade*), essa transformação descarta a informação espacial da imagem:\n",
    "\n",
    "1. Pontos vizinhos tendem a ter valores próximos;\n",
    "1. O mesmo objeto pode estar localizado em diferentes partes da imagem - um quadrado preto a esquerda será totalmente diferente de um quadrado preto a direita, embora visualmente sejam iguais.\n",
    "\n",
    "Para resolver esses dois problemas simultaneamente, utilizaremos uma arquitetura de Rede Neural diferente do MLP: a **Rede Neural Convolucional**. Primeiro, vamos ver o que são convoluções: https://poloclub.github.io/cnn-explainer/."
   ]
  },
  {
   "cell_type": "code",
   "execution_count": 18,
   "metadata": {},
   "outputs": [
    {
     "data": {
      "text/plain": [
       "(28, 28)"
      ]
     },
     "execution_count": 18,
     "metadata": {},
     "output_type": "execute_result"
    }
   ],
   "source": [
    "X_train.shape[1:]"
   ]
  },
  {
   "cell_type": "code",
   "execution_count": 19,
   "metadata": {},
   "outputs": [
    {
     "data": {
      "text/plain": [
       "array([9, 0, 0, ..., 3, 0, 5], dtype=uint8)"
      ]
     },
     "execution_count": 19,
     "metadata": {},
     "output_type": "execute_result"
    }
   ],
   "source": [
    "y_train"
   ]
  },
  {
   "cell_type": "code",
   "execution_count": 20,
   "metadata": {},
   "outputs": [
    {
     "name": "stdout",
     "output_type": "stream",
     "text": [
      "Metal device set to: Apple M1\n"
     ]
    }
   ],
   "source": [
    "fashion = keras.models.Sequential()\n",
    "\n",
    "# Camada Convolucional na Entrada\n",
    "## Precisamos prestar atenção ao argumento input_shape!\n",
    "conv_1 = keras.layers.Conv2D(\n",
    "    32, (3, 3),\n",
    "    activation='relu', \n",
    "    input_shape=(28, 28, 1))\n",
    "\n",
    "fashion.add(conv_1)\n",
    "fashion.add(keras.layers.Dropout(0.2))\n",
    "## Achatando a camada convolucional\n",
    "fashion.add(keras.layers.Flatten())\n",
    "# Camada Densa\n",
    "fashion.add(keras.layers.Dense(512, activation='relu'))\n",
    "fashion.add(keras.layers.Dropout(0.5))\n",
    "# Camada de Saída\n",
    "fashion.add(keras.layers.Dense(10, activation='softmax'))\n",
    "\n",
    "fashion.compile(loss = 'sparse_categorical_crossentropy', \n",
    "                optimizer = keras.optimizers.legacy.Adam(lr = 1e-2), \n",
    "                metrics = ['accuracy'])"
   ]
  },
  {
   "cell_type": "code",
   "execution_count": 21,
   "metadata": {},
   "outputs": [
    {
     "name": "stdout",
     "output_type": "stream",
     "text": [
      "Epoch 1/10\n"
     ]
    },
    {
     "name": "stderr",
     "output_type": "stream",
     "text": [
      "2023-06-01 21:00:00.887546: W tensorflow/tsl/platform/profile_utils/cpu_utils.cc:128] Failed to get CPU frequency: 0 Hz\n"
     ]
    },
    {
     "name": "stdout",
     "output_type": "stream",
     "text": [
      "53/53 [==============================] - 6s 107ms/step - loss: 180.3794 - accuracy: 0.6703 - val_loss: 0.4935 - val_accuracy: 0.8345\n",
      "Epoch 2/10\n",
      "53/53 [==============================] - 5s 103ms/step - loss: 0.5315 - accuracy: 0.8167 - val_loss: 0.4080 - val_accuracy: 0.8585\n",
      "Epoch 3/10\n",
      "53/53 [==============================] - 6s 104ms/step - loss: 0.4195 - accuracy: 0.8491 - val_loss: 0.3864 - val_accuracy: 0.8697\n",
      "Epoch 4/10\n",
      "53/53 [==============================] - 5s 103ms/step - loss: 0.3717 - accuracy: 0.8656 - val_loss: 0.3783 - val_accuracy: 0.8683\n",
      "Epoch 5/10\n",
      "53/53 [==============================] - 6s 105ms/step - loss: 0.3411 - accuracy: 0.8772 - val_loss: 0.3550 - val_accuracy: 0.8730\n",
      "Epoch 6/10\n",
      "53/53 [==============================] - 5s 104ms/step - loss: 0.3079 - accuracy: 0.8864 - val_loss: 0.3563 - val_accuracy: 0.8780\n",
      "Epoch 7/10\n",
      "53/53 [==============================] - 5s 102ms/step - loss: 0.2853 - accuracy: 0.8947 - val_loss: 0.3556 - val_accuracy: 0.8793\n",
      "Epoch 8/10\n",
      "53/53 [==============================] - 5s 102ms/step - loss: 0.2652 - accuracy: 0.9023 - val_loss: 0.3633 - val_accuracy: 0.8757\n",
      "Epoch 9/10\n",
      "53/53 [==============================] - 5s 102ms/step - loss: 0.2605 - accuracy: 0.9043 - val_loss: 0.3718 - val_accuracy: 0.8750\n",
      "Epoch 10/10\n",
      "53/53 [==============================] - 5s 103ms/step - loss: 0.2505 - accuracy: 0.9085 - val_loss: 0.3635 - val_accuracy: 0.8767\n"
     ]
    },
    {
     "data": {
      "text/plain": [
       "<keras.callbacks.History at 0x286a76b30>"
      ]
     },
     "execution_count": 21,
     "metadata": {},
     "output_type": "execute_result"
    }
   ],
   "source": [
    "fashion.fit(X_train, y_train, batch_size = 1024, epochs = 10, validation_split=0.1)"
   ]
  },
  {
   "cell_type": "markdown",
   "metadata": {},
   "source": [
    "Vamos utilizar nosso conjunto de teste para avaliar a performance do nosso modelo através do F1-Score Macro (a média do F1-Score de cada classe). No entanto, precisamos lembrar que o método `.predict()` de nosso modelo não retornará a classe prevista mas a matriz de probabilidades:"
   ]
  },
  {
   "cell_type": "code",
   "execution_count": 22,
   "metadata": {},
   "outputs": [
    {
     "name": "stdout",
     "output_type": "stream",
     "text": [
      "313/313 [==============================] - 1s 4ms/step\n"
     ]
    },
    {
     "data": {
      "text/plain": [
       "array([[6.4435452e-15, 1.7932960e-14, 3.9982889e-14, ..., 7.1917341e-08,\n",
       "        3.8666878e-14, 9.9999988e-01],\n",
       "       [1.7992980e-04, 5.3733096e-08, 9.9853456e-01, ..., 5.2762818e-11,\n",
       "        6.1118972e-09, 2.7735035e-11],\n",
       "       [2.1903167e-15, 1.0000000e+00, 7.2594757e-22, ..., 1.1974052e-22,\n",
       "        2.1581649e-19, 6.2777195e-35],\n",
       "       ...,\n",
       "       [2.4891653e-10, 3.6816995e-12, 2.5929204e-08, ..., 2.0131671e-10,\n",
       "        9.9998820e-01, 2.3086658e-07],\n",
       "       [1.0967308e-13, 1.0000000e+00, 4.0408075e-18, ..., 2.0847570e-17,\n",
       "        1.1439449e-16, 2.1588889e-27],\n",
       "       [8.5270433e-03, 9.9808944e-04, 7.1527450e-03, ..., 2.7026016e-02,\n",
       "        1.5536143e-02, 4.0955521e-02]], dtype=float32)"
      ]
     },
     "execution_count": 22,
     "metadata": {},
     "output_type": "execute_result"
    }
   ],
   "source": [
    "fashion_pred = fashion.predict(X_test)\n",
    "fashion_pred"
   ]
  },
  {
   "cell_type": "markdown",
   "metadata": {},
   "source": [
    "Vamos utilizar a função `np.argmax()` para obter a classe prevista (a mais provável):"
   ]
  },
  {
   "cell_type": "code",
   "execution_count": 23,
   "metadata": {},
   "outputs": [
    {
     "data": {
      "text/plain": [
       "array([9, 2, 1, ..., 8, 1, 5])"
      ]
     },
     "execution_count": 23,
     "metadata": {},
     "output_type": "execute_result"
    }
   ],
   "source": [
    "fashion_pred_class = np.argmax(fashion_pred, axis = 1)\n",
    "fashion_pred_class"
   ]
  },
  {
   "cell_type": "code",
   "execution_count": 24,
   "metadata": {},
   "outputs": [
    {
     "name": "stdout",
     "output_type": "stream",
     "text": [
      "F1-Score Macro: 0.8741076479654895\n"
     ]
    }
   ],
   "source": [
    "print(f\"F1-Score Macro: {f1_score(y_test, fashion_pred_class, average = 'macro')}\")"
   ]
  },
  {
   "cell_type": "markdown",
   "metadata": {},
   "source": [
    "Podemos melhorar (e muito) esse modelo mudando a arquitetura de nossa rede - você pode testar isso mudando o número de camadas, o número de neurônios, o tamanho do kernel, etc. Vamos seguir para o próximo problema, o CIFAR-10.\n",
    "\n",
    "## Construindo um modelo para CIFAR-10\n",
    "\n",
    "O conjunto de dados CIFAR-10 é uma das referências mais populares para testar algoritmos de visão computacional e aprendizado de máquina. Ele é composto por 60.000 imagens coloridas de 32x32 pixels, divididas em 10 classes diferentes. Cada classe representa um tipo específico de objeto ou animal presente nas imagens.\n",
    "\n",
    "As classes incluídas no conjunto de dados são as seguintes:\n",
    "\n",
    "1. Avião\n",
    "2. Automóvel\n",
    "3. Pássaro\n",
    "4. Gato\n",
    "5. Cervo\n",
    "6. Cachorro\n",
    "7. Sapo\n",
    "8. Cavalo\n",
    "9. Navio\n",
    "10. Caminhão\n",
    "\n",
    "O conjunto de treinamento é composto por 50.000 imagens, sendo 5.000 imagens de cada classe. Já o conjunto de teste contém 10.000 imagens, sendo 1.000 imagens de cada classe. As imagens são equilibradas em relação às classes, o que significa que cada classe possui a mesma quantidade de amostras.\n",
    "\n",
    "As imagens do CIFAR-10 são relativamente pequenas, com baixa resolução, mas apresentam uma variedade de objetos e fundos complexos. Essa característica torna o conjunto de dados desafiador para algoritmos de classificação, exigindo o desenvolvimento de técnicas de extração de recursos eficientes e robustas.\n",
    "\n",
    "O CIFAR-10 é amplamente utilizado em pesquisas acadêmicas e competições de aprendizado de máquina, permitindo a comparação de desempenho de algoritmos e modelos. Ele fornece uma plataforma para avaliar e comparar diferentes abordagens de classificação de imagens em um cenário realista.\n",
    "\n",
    "O conjunto de dados CIFAR-10 pode ser facilmente acessado e baixado através do site oficial da [CIFAR](https://www.cs.toronto.edu/~kriz/cifar.html), onde também estão disponíveis informações adicionais sobre o conjunto de dados e sua formatação."
   ]
  },
  {
   "cell_type": "code",
   "execution_count": 30,
   "metadata": {},
   "outputs": [],
   "source": [
    "(X_train, y_train), (X_test, y_test) = keras.datasets.cifar10.load_data()"
   ]
  },
  {
   "cell_type": "markdown",
   "metadata": {},
   "source": [
    "Vamos visualizar algumas dessas imagens:"
   ]
  },
  {
   "cell_type": "code",
   "execution_count": 31,
   "metadata": {},
   "outputs": [
    {
     "data": {
      "image/png": "[encoded data removed]",
      "text/plain": [
       "<Figure size 640x480 with 1 Axes>"
      ]
     },
     "metadata": {},
     "output_type": "display_data"
    }
   ],
   "source": [
    "i = 3\n",
    "plt.imshow(X_train[i,:,:])\n",
    "plt.title(y_train[i] + 1);"
   ]
  },
  {
   "cell_type": "markdown",
   "metadata": {},
   "source": [
    "Como podemos ver o CIFAR-10 apresenta um desafio muito maior que o FMNIST. Vamos construir um modelo de CNN para esse conjunto de dados:\n",
    "\n",
    "1. As imagens são coloridas, ou seja, uma imagem 32x32 conterá 32x32x3 = 3072 features;\n",
    "1. As imagens são mais complexas, com mais detalhes e mais variações de fundo e iluminação;\n",
    "\n",
    "Não podemos continuar com uma rede simples como a que utilizamos para o FMNIST - vamos nos apropriar de uma arquitetura tradicional de CNNs: a rede LeNet. Essa arquitetura estrutura a rede através de múltiplos **blocos** de camadas convolucionais, de pooling e dropout antes de achatar nossos feature maps e passar para uma rede MLP tradicional. Além disso, vamos utilizar mais um *truque* além do `Dropout`: o `BatchNormalization`. Essa técnica normaliza os valores de ativação de cada camada entre batches, o que ajuda a evitar o problema do *vanishing gradient* e acelera o treinamento."
   ]
  },
  {
   "cell_type": "code",
   "execution_count": 32,
   "metadata": {},
   "outputs": [],
   "source": [
    "cifar = keras.models.Sequential()\n",
    "\n",
    "# Camada Convolucional na Entrada\n",
    "cifar.add(keras.layers.Conv2D(32, (3, 3), activation='relu', input_shape=X_train.shape[1:]))\n",
    "cifar.add(keras.layers.BatchNormalization())\n",
    "# Primeiro bloco de convoluções\n",
    "\n",
    "cifar.add(keras.layers.Conv2D(32, (3, 3), activation='relu'))\n",
    "cifar.add(keras.layers.BatchNormalization())\n",
    "cifar.add(keras.layers.MaxPooling2D(pool_size=(2, 2)))\n",
    "cifar.add(keras.layers.Dropout(0.2))\n",
    "# Segundo bloco de convoluções\n",
    "## Note como aumentamos o número de feature maps\n",
    "## de 32 para 64: isso é uma técnica comum em CNNs\n",
    "cifar.add(keras.layers.Conv2D(64, (3, 3), activation='relu'))\n",
    "cifar.add(keras.layers.BatchNormalization())\n",
    "cifar.add(keras.layers.MaxPooling2D(pool_size=(2, 2)))\n",
    "cifar.add(keras.layers.Dropout(0.2))\n",
    "# Terceiro bloco de convoluções\n",
    "cifar.add(keras.layers.Conv2D(128, (3, 3), activation='relu'))\n",
    "cifar.add(keras.layers.BatchNormalization())\n",
    "cifar.add(keras.layers.MaxPooling2D(pool_size=(2, 2)))\n",
    "cifar.add(keras.layers.Dropout(0.2))\n",
    "# Achatando camadas\n",
    "cifar.add(keras.layers.Flatten())\n",
    "# Camada Densa\n",
    "cifar.add(keras.layers.Dense(128, activation='relu'))\n",
    "cifar.add(keras.layers.Dropout(0.5))\n",
    "# Camada de Saída\n",
    "## Lembrando que essa camada deve ter o mesmo número de neurônios\n",
    "## que nossa variável target possui categorias\n",
    "cifar.add(keras.layers.Dense(10, activation='softmax'))\n",
    "cifar.compile(loss = 'sparse_categorical_crossentropy', optimizer = keras.optimizers.legacy.Adam(lr = 1e-2), metrics = ['accuracy'])"
   ]
  },
  {
   "cell_type": "code",
   "execution_count": 33,
   "metadata": {},
   "outputs": [
    {
     "name": "stdout",
     "output_type": "stream",
     "text": [
      "Epoch 1/10\n",
      "44/44 [==============================] - 10s 199ms/step - loss: 2.1125 - accuracy: 0.2799 - val_loss: 3.3646 - val_accuracy: 0.1000\n",
      "Epoch 2/10\n",
      "44/44 [==============================] - 9s 192ms/step - loss: 1.6414 - accuracy: 0.3989 - val_loss: 1.9691 - val_accuracy: 0.2440\n",
      "Epoch 3/10\n",
      "44/44 [==============================] - 8s 189ms/step - loss: 1.4892 - accuracy: 0.4596 - val_loss: 1.5928 - val_accuracy: 0.4474\n",
      "Epoch 4/10\n",
      "44/44 [==============================] - 8s 183ms/step - loss: 1.3650 - accuracy: 0.5097 - val_loss: 1.5920 - val_accuracy: 0.4598\n",
      "Epoch 5/10\n",
      "44/44 [==============================] - 8s 186ms/step - loss: 1.2827 - accuracy: 0.5454 - val_loss: 1.3209 - val_accuracy: 0.5188\n",
      "Epoch 6/10\n",
      "44/44 [==============================] - 8s 182ms/step - loss: 1.1862 - accuracy: 0.5807 - val_loss: 1.3220 - val_accuracy: 0.5392\n",
      "Epoch 7/10\n",
      "44/44 [==============================] - 8s 180ms/step - loss: 1.1121 - accuracy: 0.6094 - val_loss: 1.0167 - val_accuracy: 0.6330\n",
      "Epoch 8/10\n",
      "44/44 [==============================] - 8s 178ms/step - loss: 1.0497 - accuracy: 0.6324 - val_loss: 0.9920 - val_accuracy: 0.6504\n",
      "Epoch 9/10\n",
      "44/44 [==============================] - 8s 177ms/step - loss: 0.9918 - accuracy: 0.6533 - val_loss: 0.8633 - val_accuracy: 0.6888\n",
      "Epoch 10/10\n",
      "44/44 [==============================] - 8s 184ms/step - loss: 0.9441 - accuracy: 0.6734 - val_loss: 1.3285 - val_accuracy: 0.5894\n"
     ]
    },
    {
     "data": {
      "text/plain": [
       "<keras.callbacks.History at 0x28747a620>"
      ]
     },
     "execution_count": 33,
     "metadata": {},
     "output_type": "execute_result"
    }
   ],
   "source": [
    "cifar.fit(X_train, y_train.ravel(), batch_size = 1024, epochs = 10, validation_split=0.1)"
   ]
  },
  {
   "cell_type": "code",
   "execution_count": 34,
   "metadata": {},
   "outputs": [
    {
     "name": "stdout",
     "output_type": "stream",
     "text": [
      "313/313 [==============================] - 2s 4ms/step\n",
      "F1-Score Macro: 0.5689676345356594\n"
     ]
    }
   ],
   "source": [
    "cifar_pred = cifar.predict(X_test)\n",
    "cifar_pred_class = np.argmax(cifar_pred, axis = 1)\n",
    "print(f\"F1-Score Macro: {f1_score(y_test, cifar_pred_class, average = 'macro')}\")"
   ]
  },
  {
   "cell_type": "markdown",
   "metadata": {},
   "source": [
    "Para efeito de comparação, vamos testar a mesma arquitetura que utilizamos no FMNIST no CIFAR:"
   ]
  },
  {
   "cell_type": "code",
   "execution_count": 35,
   "metadata": {},
   "outputs": [
    {
     "name": "stdout",
     "output_type": "stream",
     "text": [
      "Epoch 1/10\n",
      "44/44 [==============================] - 7s 150ms/step - loss: 469.7701 - accuracy: 0.1026 - val_loss: 2.3318 - val_accuracy: 0.0966\n",
      "Epoch 2/10\n",
      "44/44 [==============================] - 6s 135ms/step - loss: 2.3133 - accuracy: 0.1030 - val_loss: 2.3158 - val_accuracy: 0.0984\n",
      "Epoch 3/10\n",
      "44/44 [==============================] - 6s 139ms/step - loss: 2.3068 - accuracy: 0.0999 - val_loss: 2.3229 - val_accuracy: 0.0992\n",
      "Epoch 4/10\n",
      "44/44 [==============================] - 6s 136ms/step - loss: 2.3009 - accuracy: 0.1036 - val_loss: 2.3226 - val_accuracy: 0.1056\n",
      "Epoch 5/10\n",
      "44/44 [==============================] - 6s 135ms/step - loss: 2.2991 - accuracy: 0.1029 - val_loss: 2.3220 - val_accuracy: 0.0978\n",
      "Epoch 6/10\n",
      "44/44 [==============================] - 6s 134ms/step - loss: 2.2967 - accuracy: 0.1026 - val_loss: 2.3253 - val_accuracy: 0.0994\n",
      "Epoch 7/10\n",
      "44/44 [==============================] - 6s 135ms/step - loss: 2.2941 - accuracy: 0.1031 - val_loss: 2.3439 - val_accuracy: 0.1008\n",
      "Epoch 8/10\n",
      "44/44 [==============================] - 6s 140ms/step - loss: 2.2918 - accuracy: 0.1053 - val_loss: 2.3510 - val_accuracy: 0.0982\n",
      "Epoch 9/10\n",
      "44/44 [==============================] - 6s 133ms/step - loss: 2.2904 - accuracy: 0.1096 - val_loss: 2.3121 - val_accuracy: 0.1016\n",
      "Epoch 10/10\n",
      "44/44 [==============================] - 6s 138ms/step - loss: 2.2882 - accuracy: 0.1064 - val_loss: 2.3215 - val_accuracy: 0.0976\n",
      "313/313 [==============================] - 1s 4ms/step\n",
      "F1-Score Macro: 0.02398952810781468\n"
     ]
    }
   ],
   "source": [
    "cifar_simples = keras.models.Sequential()\n",
    "\n",
    "# Camada Convolucional na Entrada\n",
    "## Precisamos prestar atenção ao argumento input_shape!\n",
    "cifar_simples.add(keras.layers.Conv2D(32, (3, 3), activation='relu', input_shape=X_train.shape[1:]))\n",
    "cifar_simples.add(keras.layers.Dropout(0.2))\n",
    "## Achatando a camada convolucional\n",
    "cifar_simples.add(keras.layers.Flatten())\n",
    "# Camada Densa\n",
    "cifar_simples.add(keras.layers.Dense(512, activation='relu'))\n",
    "cifar_simples.add(keras.layers.Dropout(0.5))\n",
    "# Camada de Saída\n",
    "cifar_simples.add(keras.layers.Dense(10, activation='softmax'))\n",
    "\n",
    "cifar_simples.compile(loss = 'sparse_categorical_crossentropy', optimizer = keras.optimizers.legacy.Adam(lr = 1e-2), metrics = ['accuracy'])\n",
    "cifar_simples.fit(X_train, y_train.ravel(), batch_size = 1024, epochs = 10, validation_split=0.1)\n",
    "cifar_pred = cifar_simples.predict(X_test)\n",
    "cifar_pred_class = np.argmax(cifar_pred, axis = 1)\n",
    "print(f\"F1-Score Macro: {f1_score(y_test, cifar_pred_class, average = 'macro')}\")"
   ]
  },
  {
   "cell_type": "markdown",
   "metadata": {},
   "source": [
    "Como imaginamos, o modelo mais simples é muito pior que o modelo mais complexo. Podemos melhorar ainda mais esse resultado utilizando um outro tipo de bloco, com duas camadas de convolução:\n",
    "\n",
    "```python\n",
    "model.add(keras.layers.Conv2D(32, (3, 3), activation='relu'))\n",
    "model.add(keras.layers.BatchNormalization())\n",
    "model.add(keras.layers.Conv2D(32, (3, 3), activation='relu'))\n",
    "model.add(keras.layers.BatchNormalization())\n",
    "model.add(keras.layers.MaxPooling2D(pool_size=(2, 2)))\n",
    "model.add(keras.layers.Dropout(0.2))\n",
    "```\n",
    "\n",
    "Poderíamos substituir cada um dos blocos em nossa rede por esse tipo de bloco - isso aumentaria o número de parâmetros e o tempo de treinamento, mas também aumentaria a capacidade de nosso modelo!"
   ]
  },
  {
   "cell_type": "markdown",
   "metadata": {},
   "source": [
    "# Redes Neurais Profundas com Dados Híbridos\n",
    "\n",
    "House Pricing w/ Images: https://www.kaggle.com/datasets/ted8080/house-prices-and-images-socal\n",
    "\n",
    "## Preparando os Dados"
   ]
  },
  {
   "cell_type": "code",
   "execution_count": 36,
   "metadata": {},
   "outputs": [
    {
     "name": "stdout",
     "output_type": "stream",
     "text": [
      "<class 'pandas.core.frame.DataFrame'>\n",
      "RangeIndex: 15474 entries, 0 to 15473\n",
      "Data columns (total 8 columns):\n",
      " #   Column    Non-Null Count  Dtype  \n",
      "---  ------    --------------  -----  \n",
      " 0   image_id  15474 non-null  int64  \n",
      " 1   street    15474 non-null  object \n",
      " 2   citi      15474 non-null  object \n",
      " 3   n_citi    15474 non-null  int64  \n",
      " 4   bed       15474 non-null  int64  \n",
      " 5   bath      15474 non-null  float64\n",
      " 6   sqft      15474 non-null  int64  \n",
      " 7   price     15474 non-null  int64  \n",
      "dtypes: float64(1), int64(5), object(2)\n",
      "memory usage: 967.2+ KB\n"
     ]
    }
   ],
   "source": [
    "tb_housing = pd.read_csv(\"data/california_housing/tb_pricing.csv\")\n",
    "tb_housing.info()\n"
   ]
  },
  {
   "cell_type": "code",
   "execution_count": 37,
   "metadata": {},
   "outputs": [
    {
     "data": {
      "text/html": [
       "<div>\n",
       "<style scoped>\n",
       "    .dataframe tbody tr th:only-of-type {\n",
       "        vertical-align: middle;\n",
       "    }\n",
       "\n",
       "    .dataframe tbody tr th {\n",
       "        vertical-align: top;\n",
       "    }\n",
       "\n",
       "    .dataframe thead th {\n",
       "        text-align: right;\n",
       "    }\n",
       "</style>\n",
       "<table border=\"1\" class=\"dataframe\">\n",
       "  <thead>\n",
       "    <tr style=\"text-align: right;\">\n",
       "      <th></th>\n",
       "      <th>image_id</th>\n",
       "      <th>street</th>\n",
       "      <th>citi</th>\n",
       "      <th>n_citi</th>\n",
       "      <th>bed</th>\n",
       "      <th>bath</th>\n",
       "      <th>sqft</th>\n",
       "      <th>price</th>\n",
       "    </tr>\n",
       "  </thead>\n",
       "  <tbody>\n",
       "    <tr>\n",
       "      <th>0</th>\n",
       "      <td>0</td>\n",
       "      <td>1317 Van Buren Avenue</td>\n",
       "      <td>Salton City, CA</td>\n",
       "      <td>317</td>\n",
       "      <td>3</td>\n",
       "      <td>2.0</td>\n",
       "      <td>1560</td>\n",
       "      <td>201900</td>\n",
       "    </tr>\n",
       "    <tr>\n",
       "      <th>1</th>\n",
       "      <td>1</td>\n",
       "      <td>124 C Street W</td>\n",
       "      <td>Brawley, CA</td>\n",
       "      <td>48</td>\n",
       "      <td>3</td>\n",
       "      <td>2.0</td>\n",
       "      <td>713</td>\n",
       "      <td>228500</td>\n",
       "    </tr>\n",
       "    <tr>\n",
       "      <th>2</th>\n",
       "      <td>2</td>\n",
       "      <td>2304 Clark Road</td>\n",
       "      <td>Imperial, CA</td>\n",
       "      <td>152</td>\n",
       "      <td>3</td>\n",
       "      <td>1.0</td>\n",
       "      <td>800</td>\n",
       "      <td>273950</td>\n",
       "    </tr>\n",
       "    <tr>\n",
       "      <th>3</th>\n",
       "      <td>3</td>\n",
       "      <td>755 Brawley Avenue</td>\n",
       "      <td>Brawley, CA</td>\n",
       "      <td>48</td>\n",
       "      <td>3</td>\n",
       "      <td>1.0</td>\n",
       "      <td>1082</td>\n",
       "      <td>350000</td>\n",
       "    </tr>\n",
       "    <tr>\n",
       "      <th>4</th>\n",
       "      <td>4</td>\n",
       "      <td>2207 R Carrillo Court</td>\n",
       "      <td>Calexico, CA</td>\n",
       "      <td>55</td>\n",
       "      <td>4</td>\n",
       "      <td>3.0</td>\n",
       "      <td>2547</td>\n",
       "      <td>385100</td>\n",
       "    </tr>\n",
       "  </tbody>\n",
       "</table>\n",
       "</div>"
      ],
      "text/plain": [
       "   image_id                 street             citi  n_citi  bed  bath  sqft   \n",
       "0         0  1317 Van Buren Avenue  Salton City, CA     317    3   2.0  1560  \\\n",
       "1         1         124 C Street W      Brawley, CA      48    3   2.0   713   \n",
       "2         2        2304 Clark Road     Imperial, CA     152    3   1.0   800   \n",
       "3         3     755 Brawley Avenue      Brawley, CA      48    3   1.0  1082   \n",
       "4         4  2207 R Carrillo Court     Calexico, CA      55    4   3.0  2547   \n",
       "\n",
       "    price  \n",
       "0  201900  \n",
       "1  228500  \n",
       "2  273950  \n",
       "3  350000  \n",
       "4  385100  "
      ]
     },
     "execution_count": 37,
     "metadata": {},
     "output_type": "execute_result"
    }
   ],
   "source": [
    "tb_housing.head()"
   ]
  },
  {
   "cell_type": "code",
   "execution_count": 38,
   "metadata": {},
   "outputs": [],
   "source": [
    "image_list = []\n",
    "image_shape = []\n",
    "invalid_image = []\n",
    "for image in tb_housing[\"image_id\"]:\n",
    "    filename = f\"{str(image)}.jpg\"\n",
    "    image = Image.open(\n",
    "        os.path.join(\"data/california_housing/images\", filename)\n",
    "    ).convert(mode=\"RGB\")\n",
    "    resize_image = image.resize((80, 60))\n",
    "    image_list.append(np.array(resize_image).ravel())"
   ]
  },
  {
   "cell_type": "code",
   "execution_count": 39,
   "metadata": {},
   "outputs": [
    {
     "data": {
      "text/plain": [
       "(15474, 14400)"
      ]
     },
     "execution_count": 39,
     "metadata": {},
     "output_type": "execute_result"
    }
   ],
   "source": [
    "tb_image = np.array(image_list)\n",
    "tb_image.shape\n"
   ]
  },
  {
   "cell_type": "code",
   "execution_count": 44,
   "metadata": {},
   "outputs": [
    {
     "data": {
      "text/plain": [
       "<matplotlib.image.AxesImage at 0x29d0cc490>"
      ]
     },
     "execution_count": 44,
     "metadata": {},
     "output_type": "execute_result"
    },
    {
     "data": {
      "image/png": "[encoded data removed]",
      "text/plain": [
       "<Figure size 640x480 with 1 Axes>"
      ]
     },
     "metadata": {},
     "output_type": "display_data"
    }
   ],
   "source": [
    "plt.imshow(tb_image[110].reshape(60, 80, 3))\n"
   ]
  },
  {
   "cell_type": "code",
   "execution_count": 45,
   "metadata": {},
   "outputs": [],
   "source": [
    "train_index = tb_housing.sample(frac=0.8, random_state=42).index\n",
    "test_index = tb_housing[~tb_housing.index.isin(train_index)].index\n"
   ]
  },
  {
   "cell_type": "code",
   "execution_count": 48,
   "metadata": {},
   "outputs": [
    {
     "data": {
      "text/plain": [
       "Index([    1,     4,     5,     9,    11,    13,    16,    21,    38,    54,\n",
       "       ...\n",
       "       15441, 15445, 15446, 15448, 15450, 15451, 15454, 15457, 15460, 15471],\n",
       "      dtype='int64', length=3095)"
      ]
     },
     "execution_count": 48,
     "metadata": {},
     "output_type": "execute_result"
    }
   ],
   "source": [
    "test_index"
   ]
  },
  {
   "cell_type": "code",
   "execution_count": 49,
   "metadata": {},
   "outputs": [],
   "source": [
    "from sklearn.compose import ColumnTransformer\n",
    "from sklearn.preprocessing import OneHotEncoder, StandardScaler\n",
    "\n",
    "\n",
    "cat_vars = [\"n_citi\"]\n",
    "num_vars = [\"bed\", \"bath\", \"sqft\"]\n",
    "\n",
    "# Categorical Pipeline\n",
    "ohe = OneHotEncoder(\n",
    "    min_frequency=10, handle_unknown=\"infrequent_if_exist\", sparse=False\n",
    ")\n",
    "# Numerical Pipeline\n",
    "sca = StandardScaler()\n",
    "\n",
    "data_prep = ColumnTransformer([(\"ohe\", ohe, cat_vars), (\"sca\", sca, num_vars)])\n",
    "\n",
    "tb_train = tb_housing.loc[train_index]\n",
    "tb_test = tb_housing.loc[test_index]\n",
    "\n",
    "X_tb_train = data_prep.fit_transform(tb_train)\n",
    "X_tb_test = data_prep.transform(tb_test)\n",
    "y_train = tb_train.loc[train_index, \"price\"]\n",
    "y_test = tb_test.loc[test_index, \"price\"]"
   ]
  },
  {
   "cell_type": "code",
   "execution_count": 50,
   "metadata": {},
   "outputs": [],
   "source": [
    "X_img_train = tb_image[train_index,:]\n",
    "X_img_test = tb_image[test_index,:]"
   ]
  },
  {
   "cell_type": "code",
   "execution_count": 51,
   "metadata": {},
   "outputs": [],
   "source": [
    "del cifar, cifar_pred, cifar_simples, fashion, image_list"
   ]
  },
  {
   "cell_type": "markdown",
   "metadata": {},
   "source": [
    "## Criando Rede Neural com Variáveis Estruturadas\n"
   ]
  },
  {
   "cell_type": "code",
   "execution_count": 52,
   "metadata": {},
   "outputs": [
    {
     "name": "stdout",
     "output_type": "stream",
     "text": [
      "Epoch 1/200\n",
      "11/11 [==============================] - 1s 30ms/step - loss: 641191903232.0000 - root_mean_squared_error: 800744.5625 - val_loss: 610982887424.0000 - val_root_mean_squared_error: 781653.9375\n",
      "Epoch 2/200\n",
      "11/11 [==============================] - 0s 11ms/step - loss: 641179123712.0000 - root_mean_squared_error: 800736.6250 - val_loss: 610958114816.0000 - val_root_mean_squared_error: 781638.1250\n",
      "Epoch 3/200\n",
      "11/11 [==============================] - 0s 11ms/step - loss: 641131151360.0000 - root_mean_squared_error: 800706.6875 - val_loss: 610879930368.0000 - val_root_mean_squared_error: 781588.0625\n",
      "Epoch 4/200\n",
      "11/11 [==============================] - 0s 12ms/step - loss: 641002110976.0000 - root_mean_squared_error: 800626.0000 - val_loss: 610690072576.0000 - val_root_mean_squared_error: 781466.6250\n",
      "Epoch 5/200\n",
      "11/11 [==============================] - 0s 11ms/step - loss: 640714473472.0000 - root_mean_squared_error: 800446.4375 - val_loss: 610305179648.0000 - val_root_mean_squared_error: 781220.3125\n",
      "Epoch 6/200\n",
      "11/11 [==============================] - 0s 10ms/step - loss: 640175964160.0000 - root_mean_squared_error: 800110.0000 - val_loss: 609621442560.0000 - val_root_mean_squared_error: 780782.5625\n",
      "Epoch 7/200\n",
      "11/11 [==============================] - 0s 10ms/step - loss: 639266783232.0000 - root_mean_squared_error: 799541.5625 - val_loss: 608519782400.0000 - val_root_mean_squared_error: 780076.7500\n",
      "Epoch 8/200\n",
      "11/11 [==============================] - 0s 10ms/step - loss: 637850615808.0000 - root_mean_squared_error: 798655.5625 - val_loss: 606871224320.0000 - val_root_mean_squared_error: 779019.3750\n",
      "Epoch 9/200\n",
      "11/11 [==============================] - 0s 10ms/step - loss: 635795341312.0000 - root_mean_squared_error: 797367.6875 - val_loss: 604537749504.0000 - val_root_mean_squared_error: 777520.2500\n",
      "Epoch 10/200\n",
      "11/11 [==============================] - 0s 10ms/step - loss: 632949178368.0000 - root_mean_squared_error: 795581.0625 - val_loss: 601388417024.0000 - val_root_mean_squared_error: 775492.3750\n",
      "Epoch 11/200\n",
      "11/11 [==============================] - 0s 10ms/step - loss: 629203992576.0000 - root_mean_squared_error: 793223.8125 - val_loss: 597282652160.0000 - val_root_mean_squared_error: 772840.6250\n",
      "Epoch 12/200\n",
      "11/11 [==============================] - 0s 10ms/step - loss: 624356884480.0000 - root_mean_squared_error: 790162.5000 - val_loss: 592103014400.0000 - val_root_mean_squared_error: 769482.3125\n",
      "Epoch 13/200\n",
      "11/11 [==============================] - 0s 11ms/step - loss: 618323705856.0000 - root_mean_squared_error: 786335.6250 - val_loss: 585714761728.0000 - val_root_mean_squared_error: 765320.0625\n",
      "Epoch 14/200\n",
      "11/11 [==============================] - 0s 10ms/step - loss: 611069460480.0000 - root_mean_squared_error: 781709.3125 - val_loss: 578012381184.0000 - val_root_mean_squared_error: 760271.2500\n",
      "Epoch 15/200\n",
      "11/11 [==============================] - 0s 10ms/step - loss: 602181599232.0000 - root_mean_squared_error: 776003.5625 - val_loss: 568933220352.0000 - val_root_mean_squared_error: 754276.6250\n",
      "Epoch 16/200\n",
      "11/11 [==============================] - 0s 11ms/step - loss: 592009756672.0000 - root_mean_squared_error: 769421.7500 - val_loss: 558351253504.0000 - val_root_mean_squared_error: 747229.0625\n",
      "Epoch 17/200\n",
      "11/11 [==============================] - 0s 11ms/step - loss: 580049567744.0000 - root_mean_squared_error: 761609.8750 - val_loss: 546258681856.0000 - val_root_mean_squared_error: 739093.1250\n",
      "Epoch 18/200\n",
      "11/11 [==============================] - 0s 10ms/step - loss: 566773022720.0000 - root_mean_squared_error: 752843.3125 - val_loss: 532644397056.0000 - val_root_mean_squared_error: 729824.8750\n",
      "Epoch 19/200\n",
      "11/11 [==============================] - 0s 10ms/step - loss: 551692795904.0000 - root_mean_squared_error: 742760.2500 - val_loss: 517471338496.0000 - val_root_mean_squared_error: 719354.8125\n",
      "Epoch 20/200\n",
      "11/11 [==============================] - 0s 10ms/step - loss: 534926983168.0000 - root_mean_squared_error: 731387.0000 - val_loss: 500684390400.0000 - val_root_mean_squared_error: 707590.5625\n",
      "Epoch 21/200\n",
      "11/11 [==============================] - 0s 10ms/step - loss: 516563271680.0000 - root_mean_squared_error: 718723.3750 - val_loss: 482372386816.0000 - val_root_mean_squared_error: 694530.3125\n",
      "Epoch 22/200\n",
      "11/11 [==============================] - 0s 10ms/step - loss: 496375431168.0000 - root_mean_squared_error: 704539.1875 - val_loss: 462623670272.0000 - val_root_mean_squared_error: 680164.5000\n",
      "Epoch 23/200\n",
      "11/11 [==============================] - 0s 11ms/step - loss: 475160543232.0000 - root_mean_squared_error: 689318.8750 - val_loss: 441606569984.0000 - val_root_mean_squared_error: 664534.8750\n",
      "Epoch 24/200\n",
      "11/11 [==============================] - 0s 11ms/step - loss: 453092933632.0000 - root_mean_squared_error: 673121.8125 - val_loss: 419492265984.0000 - val_root_mean_squared_error: 647682.2500\n",
      "Epoch 25/200\n",
      "11/11 [==============================] - 0s 10ms/step - loss: 429026639872.0000 - root_mean_squared_error: 655001.2500 - val_loss: 396534022144.0000 - val_root_mean_squared_error: 629709.5000\n",
      "Epoch 26/200\n",
      "11/11 [==============================] - 0s 10ms/step - loss: 404939309056.0000 - root_mean_squared_error: 636348.4375 - val_loss: 372967931904.0000 - val_root_mean_squared_error: 610711.0000\n",
      "Epoch 27/200\n",
      "11/11 [==============================] - 0s 11ms/step - loss: 380254715904.0000 - root_mean_squared_error: 616647.9375 - val_loss: 349155852288.0000 - val_root_mean_squared_error: 590894.1250\n",
      "Epoch 28/200\n",
      "11/11 [==============================] - 0s 11ms/step - loss: 354708979712.0000 - root_mean_squared_error: 595574.5000 - val_loss: 325294653440.0000 - val_root_mean_squared_error: 570346.0625\n",
      "Epoch 29/200\n",
      "11/11 [==============================] - 0s 10ms/step - loss: 330261692416.0000 - root_mean_squared_error: 574684.0000 - val_loss: 301797933056.0000 - val_root_mean_squared_error: 549361.3750\n",
      "Epoch 30/200\n",
      "11/11 [==============================] - 0s 11ms/step - loss: 306134056960.0000 - root_mean_squared_error: 553293.8125 - val_loss: 278882910208.0000 - val_root_mean_squared_error: 528093.6250\n",
      "Epoch 31/200\n",
      "11/11 [==============================] - 0s 11ms/step - loss: 282355564544.0000 - root_mean_squared_error: 531371.4375 - val_loss: 256804667392.0000 - val_root_mean_squared_error: 506758.9688\n",
      "Epoch 32/200\n",
      "11/11 [==============================] - 0s 11ms/step - loss: 260858298368.0000 - root_mean_squared_error: 510742.8750 - val_loss: 236003573760.0000 - val_root_mean_squared_error: 485802.0000\n",
      "Epoch 33/200\n",
      "11/11 [==============================] - 0s 10ms/step - loss: 239884992512.0000 - root_mean_squared_error: 489780.5625 - val_loss: 216768086016.0000 - val_root_mean_squared_error: 465583.5938\n",
      "Epoch 34/200\n",
      "11/11 [==============================] - 0s 11ms/step - loss: 221229334528.0000 - root_mean_squared_error: 470350.2188 - val_loss: 198999261184.0000 - val_root_mean_squared_error: 446093.3125\n",
      "Epoch 35/200\n",
      "11/11 [==============================] - 0s 10ms/step - loss: 203250532352.0000 - root_mean_squared_error: 450833.1562 - val_loss: 183078813696.0000 - val_root_mean_squared_error: 427877.0938\n",
      "Epoch 36/200\n",
      "11/11 [==============================] - 0s 11ms/step - loss: 188184936448.0000 - root_mean_squared_error: 433802.8750 - val_loss: 168905375744.0000 - val_root_mean_squared_error: 410980.9688\n",
      "Epoch 37/200\n",
      "11/11 [==============================] - 0s 11ms/step - loss: 175080128512.0000 - root_mean_squared_error: 418425.7812 - val_loss: 156555657216.0000 - val_root_mean_squared_error: 395671.1562\n",
      "Epoch 38/200\n",
      "11/11 [==============================] - 0s 10ms/step - loss: 162494300160.0000 - root_mean_squared_error: 403105.8125 - val_loss: 145876566016.0000 - val_root_mean_squared_error: 381937.9375\n",
      "Epoch 39/200\n",
      "11/11 [==============================] - 0s 10ms/step - loss: 152838651904.0000 - root_mean_squared_error: 390945.8438 - val_loss: 136713035776.0000 - val_root_mean_squared_error: 369747.2500\n",
      "Epoch 40/200\n",
      "11/11 [==============================] - 0s 10ms/step - loss: 145275764736.0000 - root_mean_squared_error: 381150.5938 - val_loss: 128949542912.0000 - val_root_mean_squared_error: 359095.4375\n",
      "Epoch 41/200\n"
     ]
    },
    {
     "name": "stdout",
     "output_type": "stream",
     "text": [
      "11/11 [==============================] - 0s 10ms/step - loss: 138647257088.0000 - root_mean_squared_error: 372353.6875 - val_loss: 122409451520.0000 - val_root_mean_squared_error: 349870.6250\n",
      "Epoch 42/200\n",
      "11/11 [==============================] - 0s 10ms/step - loss: 131192651776.0000 - root_mean_squared_error: 362205.2500 - val_loss: 116789600256.0000 - val_root_mean_squared_error: 341744.9375\n",
      "Epoch 43/200\n",
      "11/11 [==============================] - 0s 10ms/step - loss: 127551537152.0000 - root_mean_squared_error: 357143.5625 - val_loss: 112069877760.0000 - val_root_mean_squared_error: 334768.4062\n",
      "Epoch 44/200\n",
      "11/11 [==============================] - 0s 9ms/step - loss: 122148446208.0000 - root_mean_squared_error: 349497.4062 - val_loss: 108031762432.0000 - val_root_mean_squared_error: 328681.8438\n",
      "Epoch 45/200\n",
      "11/11 [==============================] - 0s 10ms/step - loss: 119711539200.0000 - root_mean_squared_error: 345993.5625 - val_loss: 104589942784.0000 - val_root_mean_squared_error: 323403.6875\n",
      "Epoch 46/200\n",
      "11/11 [==============================] - 0s 10ms/step - loss: 116665942016.0000 - root_mean_squared_error: 341563.9688 - val_loss: 101545811968.0000 - val_root_mean_squared_error: 318662.5312\n",
      "Epoch 47/200\n",
      "11/11 [==============================] - 0s 10ms/step - loss: 113293967360.0000 - root_mean_squared_error: 336591.6875 - val_loss: 98818334720.0000 - val_root_mean_squared_error: 314353.8438\n",
      "Epoch 48/200\n",
      "11/11 [==============================] - 0s 10ms/step - loss: 108881117184.0000 - root_mean_squared_error: 329971.3750 - val_loss: 96316440576.0000 - val_root_mean_squared_error: 310348.9062\n",
      "Epoch 49/200\n",
      "11/11 [==============================] - 0s 10ms/step - loss: 107203248128.0000 - root_mean_squared_error: 327419.0625 - val_loss: 94051688448.0000 - val_root_mean_squared_error: 306678.4688\n",
      "Epoch 50/200\n",
      "11/11 [==============================] - 0s 10ms/step - loss: 104379097088.0000 - root_mean_squared_error: 323077.5312 - val_loss: 91938054144.0000 - val_root_mean_squared_error: 303212.8750\n",
      "Epoch 51/200\n",
      "11/11 [==============================] - 0s 10ms/step - loss: 102107873280.0000 - root_mean_squared_error: 319543.2188 - val_loss: 89985163264.0000 - val_root_mean_squared_error: 299975.2812\n",
      "Epoch 52/200\n",
      "11/11 [==============================] - 0s 10ms/step - loss: 101068742656.0000 - root_mean_squared_error: 317913.0938 - val_loss: 88175484928.0000 - val_root_mean_squared_error: 296943.5625\n",
      "Epoch 53/200\n",
      "11/11 [==============================] - 0s 10ms/step - loss: 99656065024.0000 - root_mean_squared_error: 315683.5000 - val_loss: 86427000832.0000 - val_root_mean_squared_error: 293984.6875\n",
      "Epoch 54/200\n",
      "11/11 [==============================] - 0s 10ms/step - loss: 96560996352.0000 - root_mean_squared_error: 310742.6562 - val_loss: 84756832256.0000 - val_root_mean_squared_error: 291130.2812\n",
      "Epoch 55/200\n",
      "11/11 [==============================] - 0s 10ms/step - loss: 94098432000.0000 - root_mean_squared_error: 306754.7188 - val_loss: 83179790336.0000 - val_root_mean_squared_error: 288409.0938\n",
      "Epoch 56/200\n",
      "11/11 [==============================] - 0s 10ms/step - loss: 93269123072.0000 - root_mean_squared_error: 305399.9375 - val_loss: 81664311296.0000 - val_root_mean_squared_error: 285769.6875\n",
      "Epoch 57/200\n",
      "11/11 [==============================] - 0s 10ms/step - loss: 92314255360.0000 - root_mean_squared_error: 303832.6250 - val_loss: 80174129152.0000 - val_root_mean_squared_error: 283150.3750\n",
      "Epoch 58/200\n",
      "11/11 [==============================] - 0s 10ms/step - loss: 91152580608.0000 - root_mean_squared_error: 301914.8438 - val_loss: 78760747008.0000 - val_root_mean_squared_error: 280643.4375\n",
      "Epoch 59/200\n",
      "11/11 [==============================] - 0s 10ms/step - loss: 88989564928.0000 - root_mean_squared_error: 298311.1875 - val_loss: 77365444608.0000 - val_root_mean_squared_error: 278146.4375\n",
      "Epoch 60/200\n",
      "11/11 [==============================] - 0s 10ms/step - loss: 87466115072.0000 - root_mean_squared_error: 295746.7188 - val_loss: 76052357120.0000 - val_root_mean_squared_error: 275775.9062\n",
      "Epoch 61/200\n",
      "11/11 [==============================] - 0s 10ms/step - loss: 87469277184.0000 - root_mean_squared_error: 295752.0625 - val_loss: 74812252160.0000 - val_root_mean_squared_error: 273518.2812\n",
      "Epoch 62/200\n",
      "11/11 [==============================] - 0s 10ms/step - loss: 84106248192.0000 - root_mean_squared_error: 290010.7812 - val_loss: 73603006464.0000 - val_root_mean_squared_error: 271298.7500\n",
      "Epoch 63/200\n",
      "11/11 [==============================] - 0s 10ms/step - loss: 83066404864.0000 - root_mean_squared_error: 288212.4375 - val_loss: 72439046144.0000 - val_root_mean_squared_error: 269145.0312\n",
      "Epoch 64/200\n",
      "11/11 [==============================] - 0s 10ms/step - loss: 82034737152.0000 - root_mean_squared_error: 286417.0625 - val_loss: 71358930944.0000 - val_root_mean_squared_error: 267130.9375\n",
      "Epoch 65/200\n",
      "11/11 [==============================] - 0s 10ms/step - loss: 81042530304.0000 - root_mean_squared_error: 284679.6875 - val_loss: 70333005824.0000 - val_root_mean_squared_error: 265203.7188\n",
      "Epoch 66/200\n",
      "11/11 [==============================] - 0s 9ms/step - loss: 79809544192.0000 - root_mean_squared_error: 282505.8438 - val_loss: 69365579776.0000 - val_root_mean_squared_error: 263373.4688\n",
      "Epoch 67/200\n",
      "11/11 [==============================] - 0s 10ms/step - loss: 78341382144.0000 - root_mean_squared_error: 279895.3125 - val_loss: 68447137792.0000 - val_root_mean_squared_error: 261624.0469\n",
      "Epoch 68/200\n",
      "11/11 [==============================] - 0s 10ms/step - loss: 77396623360.0000 - root_mean_squared_error: 278202.5000 - val_loss: 67573563392.0000 - val_root_mean_squared_error: 259949.1562\n",
      "Epoch 69/200\n",
      "11/11 [==============================] - 0s 10ms/step - loss: 76605816832.0000 - root_mean_squared_error: 276777.5625 - val_loss: 66755239936.0000 - val_root_mean_squared_error: 258370.3438\n",
      "Epoch 70/200\n",
      "11/11 [==============================] - 0s 10ms/step - loss: 76131532800.0000 - root_mean_squared_error: 275919.4375 - val_loss: 65998970880.0000 - val_root_mean_squared_error: 256902.6562\n",
      "Epoch 71/200\n",
      "11/11 [==============================] - 0s 9ms/step - loss: 74500104192.0000 - root_mean_squared_error: 272947.0625 - val_loss: 65245917184.0000 - val_root_mean_squared_error: 255432.7969\n",
      "Epoch 72/200\n",
      "11/11 [==============================] - 0s 10ms/step - loss: 74197213184.0000 - root_mean_squared_error: 272391.6562 - val_loss: 64537473024.0000 - val_root_mean_squared_error: 254042.2656\n",
      "Epoch 73/200\n",
      "11/11 [==============================] - 0s 10ms/step - loss: 72897257472.0000 - root_mean_squared_error: 269994.9375 - val_loss: 63862255616.0000 - val_root_mean_squared_error: 252709.8281\n",
      "Epoch 74/200\n",
      "11/11 [==============================] - 0s 10ms/step - loss: 71630012416.0000 - root_mean_squared_error: 267637.8438 - val_loss: 63207063552.0000 - val_root_mean_squared_error: 251410.1406\n",
      "Epoch 75/200\n",
      "11/11 [==============================] - 0s 10ms/step - loss: 71086546944.0000 - root_mean_squared_error: 266620.5938 - val_loss: 62610698240.0000 - val_root_mean_squared_error: 250221.2969\n",
      "Epoch 76/200\n",
      "11/11 [==============================] - 0s 9ms/step - loss: 71473111040.0000 - root_mean_squared_error: 267344.5625 - val_loss: 62031552512.0000 - val_root_mean_squared_error: 249061.3438\n",
      "Epoch 77/200\n",
      "11/11 [==============================] - 0s 10ms/step - loss: 70060384256.0000 - root_mean_squared_error: 264689.2188 - val_loss: 61498388480.0000 - val_root_mean_squared_error: 247988.6875\n",
      "Epoch 78/200\n",
      "11/11 [==============================] - 0s 10ms/step - loss: 69251219456.0000 - root_mean_squared_error: 263156.2500 - val_loss: 60986494976.0000 - val_root_mean_squared_error: 246954.4531\n",
      "Epoch 79/200\n",
      "11/11 [==============================] - 0s 11ms/step - loss: 68783226880.0000 - root_mean_squared_error: 262265.5625 - val_loss: 60517347328.0000 - val_root_mean_squared_error: 246002.7344\n",
      "Epoch 80/200\n",
      "11/11 [==============================] - 0s 12ms/step - loss: 68168499200.0000 - root_mean_squared_error: 261090.9844 - val_loss: 60066525184.0000 - val_root_mean_squared_error: 245084.7344\n",
      "Epoch 81/200\n"
     ]
    },
    {
     "name": "stdout",
     "output_type": "stream",
     "text": [
      "11/11 [==============================] - 0s 10ms/step - loss: 68097785856.0000 - root_mean_squared_error: 260955.5312 - val_loss: 59645403136.0000 - val_root_mean_squared_error: 244224.0781\n",
      "Epoch 82/200\n",
      "11/11 [==============================] - 0s 9ms/step - loss: 67510493184.0000 - root_mean_squared_error: 259827.8125 - val_loss: 59249856512.0000 - val_root_mean_squared_error: 243412.9375\n",
      "Epoch 83/200\n",
      "11/11 [==============================] - 0s 10ms/step - loss: 66774626304.0000 - root_mean_squared_error: 258407.8750 - val_loss: 58878894080.0000 - val_root_mean_squared_error: 242649.7500\n",
      "Epoch 84/200\n",
      "11/11 [==============================] - 0s 10ms/step - loss: 65851826176.0000 - root_mean_squared_error: 256616.1094 - val_loss: 58500399104.0000 - val_root_mean_squared_error: 241868.5625\n",
      "Epoch 85/200\n",
      "11/11 [==============================] - 0s 9ms/step - loss: 64631492608.0000 - root_mean_squared_error: 254227.2500 - val_loss: 58187747328.0000 - val_root_mean_squared_error: 241221.3594\n",
      "Epoch 86/200\n",
      "11/11 [==============================] - 0s 10ms/step - loss: 65247903744.0000 - root_mean_squared_error: 255436.6875 - val_loss: 57862402048.0000 - val_root_mean_squared_error: 240546.0469\n",
      "Epoch 87/200\n",
      "11/11 [==============================] - 0s 10ms/step - loss: 64485023744.0000 - root_mean_squared_error: 253938.9844 - val_loss: 57569615872.0000 - val_root_mean_squared_error: 239936.6719\n",
      "Epoch 88/200\n",
      "11/11 [==============================] - 0s 10ms/step - loss: 65008435200.0000 - root_mean_squared_error: 254967.5156 - val_loss: 57286176768.0000 - val_root_mean_squared_error: 239345.3125\n",
      "Epoch 89/200\n",
      "11/11 [==============================] - 0s 10ms/step - loss: 64378253312.0000 - root_mean_squared_error: 253728.7031 - val_loss: 57021190144.0000 - val_root_mean_squared_error: 238791.0938\n",
      "Epoch 90/200\n",
      "11/11 [==============================] - 0s 10ms/step - loss: 63951007744.0000 - root_mean_squared_error: 252885.3594 - val_loss: 56759980032.0000 - val_root_mean_squared_error: 238243.5156\n",
      "Epoch 91/200\n",
      "11/11 [==============================] - 0s 10ms/step - loss: 62575869952.0000 - root_mean_squared_error: 250151.6875 - val_loss: 56529080320.0000 - val_root_mean_squared_error: 237758.4531\n",
      "Epoch 92/200\n",
      "11/11 [==============================] - 0s 10ms/step - loss: 63371399168.0000 - root_mean_squared_error: 251736.7500 - val_loss: 56302026752.0000 - val_root_mean_squared_error: 237280.4844\n",
      "Epoch 93/200\n",
      "11/11 [==============================] - 0s 10ms/step - loss: 62845329408.0000 - root_mean_squared_error: 250689.7031 - val_loss: 56098435072.0000 - val_root_mean_squared_error: 236851.0781\n",
      "Epoch 94/200\n",
      "11/11 [==============================] - 0s 10ms/step - loss: 62884769792.0000 - root_mean_squared_error: 250768.3594 - val_loss: 55900684288.0000 - val_root_mean_squared_error: 236433.2500\n",
      "Epoch 95/200\n",
      "11/11 [==============================] - 0s 10ms/step - loss: 61704216576.0000 - root_mean_squared_error: 248403.3281 - val_loss: 55738777600.0000 - val_root_mean_squared_error: 236090.6250\n",
      "Epoch 96/200\n",
      "11/11 [==============================] - 0s 10ms/step - loss: 61852622848.0000 - root_mean_squared_error: 248701.8750 - val_loss: 55566282752.0000 - val_root_mean_squared_error: 235725.0156\n",
      "Epoch 97/200\n",
      "11/11 [==============================] - 0s 10ms/step - loss: 61270056960.0000 - root_mean_squared_error: 247527.8750 - val_loss: 55387844608.0000 - val_root_mean_squared_error: 235346.2188\n",
      "Epoch 98/200\n",
      "11/11 [==============================] - 0s 10ms/step - loss: 61940441088.0000 - root_mean_squared_error: 248878.3594 - val_loss: 55248461824.0000 - val_root_mean_squared_error: 235049.9062\n",
      "Epoch 99/200\n",
      "11/11 [==============================] - 0s 11ms/step - loss: 60117954560.0000 - root_mean_squared_error: 245189.6250 - val_loss: 55094308864.0000 - val_root_mean_squared_error: 234721.7656\n",
      "Epoch 100/200\n",
      "11/11 [==============================] - 0s 11ms/step - loss: 59949486080.0000 - root_mean_squared_error: 244845.8438 - val_loss: 54952546304.0000 - val_root_mean_squared_error: 234419.5938\n",
      "Epoch 101/200\n",
      "11/11 [==============================] - 0s 11ms/step - loss: 60457521152.0000 - root_mean_squared_error: 245881.0938 - val_loss: 54816280576.0000 - val_root_mean_squared_error: 234128.7656\n",
      "Epoch 102/200\n",
      "11/11 [==============================] - 0s 10ms/step - loss: 61013323776.0000 - root_mean_squared_error: 247008.7500 - val_loss: 54705487872.0000 - val_root_mean_squared_error: 233892.0469\n",
      "Epoch 103/200\n",
      "11/11 [==============================] - 0s 10ms/step - loss: 60718972928.0000 - root_mean_squared_error: 246412.2031 - val_loss: 54576529408.0000 - val_root_mean_squared_error: 233616.2031\n",
      "Epoch 104/200\n",
      "11/11 [==============================] - 0s 10ms/step - loss: 60641103872.0000 - root_mean_squared_error: 246254.1406 - val_loss: 54466764800.0000 - val_root_mean_squared_error: 233381.1562\n",
      "Epoch 105/200\n",
      "11/11 [==============================] - 0s 10ms/step - loss: 59900108800.0000 - root_mean_squared_error: 244744.9844 - val_loss: 54373163008.0000 - val_root_mean_squared_error: 233180.5312\n",
      "Epoch 106/200\n",
      "11/11 [==============================] - 0s 10ms/step - loss: 60350222336.0000 - root_mean_squared_error: 245662.8281 - val_loss: 54279647232.0000 - val_root_mean_squared_error: 232979.9219\n",
      "Epoch 107/200\n",
      "11/11 [==============================] - 0s 10ms/step - loss: 60392304640.0000 - root_mean_squared_error: 245748.4688 - val_loss: 54174208000.0000 - val_root_mean_squared_error: 232753.5312\n",
      "Epoch 108/200\n",
      "11/11 [==============================] - 0s 10ms/step - loss: 58564677632.0000 - root_mean_squared_error: 242001.4062 - val_loss: 54085210112.0000 - val_root_mean_squared_error: 232562.2656\n",
      "Epoch 109/200\n",
      "11/11 [==============================] - 0s 9ms/step - loss: 59538710528.0000 - root_mean_squared_error: 244005.5469 - val_loss: 53984047104.0000 - val_root_mean_squared_error: 232344.6719\n",
      "Epoch 110/200\n",
      "11/11 [==============================] - 0s 10ms/step - loss: 59831181312.0000 - root_mean_squared_error: 244604.1250 - val_loss: 53881520128.0000 - val_root_mean_squared_error: 232123.9375\n",
      "Epoch 111/200\n",
      "11/11 [==============================] - 0s 10ms/step - loss: 59147460608.0000 - root_mean_squared_error: 243202.5156 - val_loss: 53793779712.0000 - val_root_mean_squared_error: 231934.8438\n",
      "Epoch 112/200\n",
      "11/11 [==============================] - 0s 10ms/step - loss: 59169828864.0000 - root_mean_squared_error: 243248.4844 - val_loss: 53726588928.0000 - val_root_mean_squared_error: 231789.9688\n",
      "Epoch 113/200\n",
      "11/11 [==============================] - 0s 9ms/step - loss: 58996592640.0000 - root_mean_squared_error: 242892.1406 - val_loss: 53676781568.0000 - val_root_mean_squared_error: 231682.5000\n",
      "Epoch 114/200\n",
      "11/11 [==============================] - 0s 10ms/step - loss: 59568787456.0000 - root_mean_squared_error: 244067.1719 - val_loss: 53619675136.0000 - val_root_mean_squared_error: 231559.2344\n",
      "Epoch 115/200\n",
      "11/11 [==============================] - 0s 9ms/step - loss: 58007654400.0000 - root_mean_squared_error: 240847.7656 - val_loss: 53525934080.0000 - val_root_mean_squared_error: 231356.7188\n",
      "Epoch 116/200\n",
      "11/11 [==============================] - 0s 10ms/step - loss: 58472783872.0000 - root_mean_squared_error: 241811.4688 - val_loss: 53452943360.0000 - val_root_mean_squared_error: 231198.9375\n",
      "Epoch 117/200\n",
      "11/11 [==============================] - 0s 10ms/step - loss: 57881464832.0000 - root_mean_squared_error: 240585.6719 - val_loss: 53386051584.0000 - val_root_mean_squared_error: 231054.2188\n",
      "Epoch 118/200\n",
      "11/11 [==============================] - 0s 10ms/step - loss: 58697629696.0000 - root_mean_squared_error: 242275.9375 - val_loss: 53329149952.0000 - val_root_mean_squared_error: 230931.0469\n",
      "Epoch 119/200\n",
      "11/11 [==============================] - 0s 11ms/step - loss: 58174271488.0000 - root_mean_squared_error: 241193.4375 - val_loss: 53267435520.0000 - val_root_mean_squared_error: 230797.3906\n",
      "Epoch 120/200\n",
      "11/11 [==============================] - 0s 11ms/step - loss: 58048512000.0000 - root_mean_squared_error: 240932.5938 - val_loss: 53213224960.0000 - val_root_mean_squared_error: 230679.9219\n",
      "Epoch 121/200\n"
     ]
    },
    {
     "name": "stdout",
     "output_type": "stream",
     "text": [
      "11/11 [==============================] - 0s 10ms/step - loss: 59211448320.0000 - root_mean_squared_error: 243334.0312 - val_loss: 53170970624.0000 - val_root_mean_squared_error: 230588.3125\n",
      "Epoch 122/200\n",
      "11/11 [==============================] - 0s 9ms/step - loss: 57400102912.0000 - root_mean_squared_error: 239583.1875 - val_loss: 53158555648.0000 - val_root_mean_squared_error: 230561.3906\n",
      "Epoch 123/200\n",
      "11/11 [==============================] - 0s 9ms/step - loss: 57834004480.0000 - root_mean_squared_error: 240487.0156 - val_loss: 53124124672.0000 - val_root_mean_squared_error: 230486.7188\n",
      "Epoch 124/200\n",
      "11/11 [==============================] - 0s 9ms/step - loss: 57671393280.0000 - root_mean_squared_error: 240148.6719 - val_loss: 53084635136.0000 - val_root_mean_squared_error: 230401.0156\n",
      "Epoch 125/200\n",
      "11/11 [==============================] - 0s 10ms/step - loss: 56946921472.0000 - root_mean_squared_error: 238635.5469 - val_loss: 53045665792.0000 - val_root_mean_squared_error: 230316.4531\n",
      "Epoch 126/200\n",
      "11/11 [==============================] - 0s 10ms/step - loss: 57648181248.0000 - root_mean_squared_error: 240100.3750 - val_loss: 53004226560.0000 - val_root_mean_squared_error: 230226.4531\n",
      "Epoch 127/200\n",
      "11/11 [==============================] - 0s 10ms/step - loss: 57585922048.0000 - root_mean_squared_error: 239970.6875 - val_loss: 52979208192.0000 - val_root_mean_squared_error: 230172.1250\n",
      "Epoch 128/200\n",
      "11/11 [==============================] - 0s 9ms/step - loss: 57683648512.0000 - root_mean_squared_error: 240174.2031 - val_loss: 52925591552.0000 - val_root_mean_squared_error: 230055.6250\n",
      "Epoch 129/200\n",
      "11/11 [==============================] - 0s 10ms/step - loss: 57711407104.0000 - root_mean_squared_error: 240231.9844 - val_loss: 52895911936.0000 - val_root_mean_squared_error: 229991.1094\n",
      "Epoch 130/200\n",
      "11/11 [==============================] - 0s 9ms/step - loss: 57767710720.0000 - root_mean_squared_error: 240349.1406 - val_loss: 52859437056.0000 - val_root_mean_squared_error: 229911.7969\n",
      "Epoch 131/200\n",
      "11/11 [==============================] - 0s 12ms/step - loss: 57295790080.0000 - root_mean_squared_error: 239365.3750 - val_loss: 52856799232.0000 - val_root_mean_squared_error: 229906.0781\n",
      "Epoch 132/200\n",
      "11/11 [==============================] - 0s 11ms/step - loss: 57740439552.0000 - root_mean_squared_error: 240292.4062 - val_loss: 52833779712.0000 - val_root_mean_squared_error: 229856.0000\n",
      "Epoch 133/200\n",
      "11/11 [==============================] - 0s 10ms/step - loss: 58174820352.0000 - root_mean_squared_error: 241194.5625 - val_loss: 52791345152.0000 - val_root_mean_squared_error: 229763.6719\n",
      "Epoch 134/200\n",
      "11/11 [==============================] - 0s 10ms/step - loss: 57304489984.0000 - root_mean_squared_error: 239383.5781 - val_loss: 52759076864.0000 - val_root_mean_squared_error: 229693.4375\n",
      "Epoch 135/200\n",
      "11/11 [==============================] - 0s 10ms/step - loss: 56492699648.0000 - root_mean_squared_error: 237681.9219 - val_loss: 52751970304.0000 - val_root_mean_squared_error: 229677.9844\n",
      "Epoch 136/200\n",
      "11/11 [==============================] - 0s 10ms/step - loss: 55741112320.0000 - root_mean_squared_error: 236095.5625 - val_loss: 52751138816.0000 - val_root_mean_squared_error: 229676.1562\n",
      "Epoch 137/200\n",
      "11/11 [==============================] - 0s 10ms/step - loss: 57101492224.0000 - root_mean_squared_error: 238959.2031 - val_loss: 52761018368.0000 - val_root_mean_squared_error: 229697.6719\n",
      "Epoch 138/200\n",
      "11/11 [==============================] - 0s 10ms/step - loss: 56978702336.0000 - root_mean_squared_error: 238702.1250 - val_loss: 52727762944.0000 - val_root_mean_squared_error: 229625.2500\n",
      "Epoch 139/200\n",
      "11/11 [==============================] - 0s 10ms/step - loss: 56456474624.0000 - root_mean_squared_error: 237605.7188 - val_loss: 52722167808.0000 - val_root_mean_squared_error: 229613.0781\n",
      "Epoch 140/200\n",
      "11/11 [==============================] - 0s 10ms/step - loss: 57035280384.0000 - root_mean_squared_error: 238820.6094 - val_loss: 52702486528.0000 - val_root_mean_squared_error: 229570.2344\n",
      "Epoch 141/200\n",
      "11/11 [==============================] - 0s 10ms/step - loss: 56736444416.0000 - root_mean_squared_error: 238194.1250 - val_loss: 52678844416.0000 - val_root_mean_squared_error: 229518.7188\n",
      "Epoch 142/200\n",
      "11/11 [==============================] - 0s 10ms/step - loss: 56517595136.0000 - root_mean_squared_error: 237734.2969 - val_loss: 52672593920.0000 - val_root_mean_squared_error: 229505.1094\n",
      "Epoch 143/200\n",
      "11/11 [==============================] - 0s 10ms/step - loss: 56298586112.0000 - root_mean_squared_error: 237273.2344 - val_loss: 52645228544.0000 - val_root_mean_squared_error: 229445.4844\n",
      "Epoch 144/200\n",
      "11/11 [==============================] - 0s 10ms/step - loss: 57036480512.0000 - root_mean_squared_error: 238823.1094 - val_loss: 52624408576.0000 - val_root_mean_squared_error: 229400.1094\n",
      "Epoch 145/200\n",
      "11/11 [==============================] - 0s 11ms/step - loss: 55949570048.0000 - root_mean_squared_error: 236536.6094 - val_loss: 52616671232.0000 - val_root_mean_squared_error: 229383.2344\n",
      "Epoch 146/200\n",
      "11/11 [==============================] - 0s 10ms/step - loss: 56353398784.0000 - root_mean_squared_error: 237388.7031 - val_loss: 52632076288.0000 - val_root_mean_squared_error: 229416.8125\n",
      "Epoch 147/200\n",
      "11/11 [==============================] - 0s 10ms/step - loss: 55603077120.0000 - root_mean_squared_error: 235803.0469 - val_loss: 52635185152.0000 - val_root_mean_squared_error: 229423.5938\n",
      "Epoch 148/200\n",
      "11/11 [==============================] - 0s 10ms/step - loss: 57188352000.0000 - root_mean_squared_error: 239140.8594 - val_loss: 52632489984.0000 - val_root_mean_squared_error: 229417.7188\n",
      "Epoch 149/200\n",
      "11/11 [==============================] - 0s 10ms/step - loss: 56185966592.0000 - root_mean_squared_error: 237035.7969 - val_loss: 52611506176.0000 - val_root_mean_squared_error: 229371.9844\n",
      "Epoch 150/200\n",
      "11/11 [==============================] - 0s 9ms/step - loss: 56554496000.0000 - root_mean_squared_error: 237811.8906 - val_loss: 52585820160.0000 - val_root_mean_squared_error: 229315.9844\n",
      "Epoch 151/200\n",
      "11/11 [==============================] - 0s 10ms/step - loss: 56729710592.0000 - root_mean_squared_error: 238180.0000 - val_loss: 52567965696.0000 - val_root_mean_squared_error: 229277.0469\n",
      "Epoch 152/200\n",
      "11/11 [==============================] - 0s 11ms/step - loss: 56399552512.0000 - root_mean_squared_error: 237485.9062 - val_loss: 52568444928.0000 - val_root_mean_squared_error: 229278.0938\n",
      "Epoch 153/200\n",
      "11/11 [==============================] - 0s 10ms/step - loss: 55766515712.0000 - root_mean_squared_error: 236149.3438 - val_loss: 52582838272.0000 - val_root_mean_squared_error: 229309.4844\n",
      "Epoch 154/200\n",
      "11/11 [==============================] - 0s 10ms/step - loss: 57011453952.0000 - root_mean_squared_error: 238770.7188 - val_loss: 52545232896.0000 - val_root_mean_squared_error: 229227.4688\n",
      "Epoch 155/200\n",
      "11/11 [==============================] - 0s 10ms/step - loss: 56399986688.0000 - root_mean_squared_error: 237486.8125 - val_loss: 52535222272.0000 - val_root_mean_squared_error: 229205.6250\n",
      "Epoch 156/200\n",
      "11/11 [==============================] - 0s 10ms/step - loss: 55190151168.0000 - root_mean_squared_error: 234925.8438 - val_loss: 52540628992.0000 - val_root_mean_squared_error: 229217.4219\n",
      "Epoch 157/200\n",
      "11/11 [==============================] - 0s 11ms/step - loss: 56148475904.0000 - root_mean_squared_error: 236956.7188 - val_loss: 52558794752.0000 - val_root_mean_squared_error: 229257.0469\n",
      "Epoch 158/200\n",
      "11/11 [==============================] - 0s 11ms/step - loss: 55654313984.0000 - root_mean_squared_error: 235911.6719 - val_loss: 52582301696.0000 - val_root_mean_squared_error: 229308.3281\n",
      "Epoch 159/200\n",
      "11/11 [==============================] - 0s 11ms/step - loss: 56227348480.0000 - root_mean_squared_error: 237123.0625 - val_loss: 52561903616.0000 - val_root_mean_squared_error: 229263.8438\n",
      "Epoch 160/200\n",
      "11/11 [==============================] - 0s 10ms/step - loss: 56872390656.0000 - root_mean_squared_error: 238479.3281 - val_loss: 52533895168.0000 - val_root_mean_squared_error: 229202.7344\n",
      "Epoch 161/200\n"
     ]
    },
    {
     "name": "stdout",
     "output_type": "stream",
     "text": [
      "11/11 [==============================] - 0s 10ms/step - loss: 56437035008.0000 - root_mean_squared_error: 237564.7969 - val_loss: 52516716544.0000 - val_root_mean_squared_error: 229165.2656\n",
      "Epoch 162/200\n",
      "11/11 [==============================] - 0s 10ms/step - loss: 55844261888.0000 - root_mean_squared_error: 236313.9062 - val_loss: 52514103296.0000 - val_root_mean_squared_error: 229159.5625\n",
      "Epoch 163/200\n",
      "11/11 [==============================] - 0s 10ms/step - loss: 56508915712.0000 - root_mean_squared_error: 237716.0469 - val_loss: 52515876864.0000 - val_root_mean_squared_error: 229163.4531\n",
      "Epoch 164/200\n",
      "11/11 [==============================] - 0s 10ms/step - loss: 56103800832.0000 - root_mean_squared_error: 236862.4219 - val_loss: 52478382080.0000 - val_root_mean_squared_error: 229081.6094\n",
      "Epoch 165/200\n",
      "11/11 [==============================] - 0s 11ms/step - loss: 55263883264.0000 - root_mean_squared_error: 235082.7188 - val_loss: 52491952128.0000 - val_root_mean_squared_error: 229111.2188\n",
      "Epoch 166/200\n",
      "11/11 [==============================] - 0s 10ms/step - loss: 56440254464.0000 - root_mean_squared_error: 237571.5781 - val_loss: 52494176256.0000 - val_root_mean_squared_error: 229116.0781\n",
      "Epoch 167/200\n",
      "11/11 [==============================] - 0s 10ms/step - loss: 55888588800.0000 - root_mean_squared_error: 236407.6719 - val_loss: 52468764672.0000 - val_root_mean_squared_error: 229060.6094\n",
      "Epoch 168/200\n",
      "11/11 [==============================] - 0s 9ms/step - loss: 54886649856.0000 - root_mean_squared_error: 234279.0000 - val_loss: 52492902400.0000 - val_root_mean_squared_error: 229113.2969\n",
      "Epoch 169/200\n",
      "11/11 [==============================] - 0s 10ms/step - loss: 55560716288.0000 - root_mean_squared_error: 235713.2031 - val_loss: 52492148736.0000 - val_root_mean_squared_error: 229111.6562\n",
      "Epoch 170/200\n",
      "11/11 [==============================] - 0s 10ms/step - loss: 55639498752.0000 - root_mean_squared_error: 235880.2656 - val_loss: 52479315968.0000 - val_root_mean_squared_error: 229083.6406\n",
      "Epoch 171/200\n",
      "11/11 [==============================] - 0s 10ms/step - loss: 55976996864.0000 - root_mean_squared_error: 236594.5938 - val_loss: 52473217024.0000 - val_root_mean_squared_error: 229070.3438\n",
      "Epoch 172/200\n",
      "11/11 [==============================] - 0s 10ms/step - loss: 55940452352.0000 - root_mean_squared_error: 236517.3438 - val_loss: 52452450304.0000 - val_root_mean_squared_error: 229025.0000\n",
      "Epoch 173/200\n",
      "11/11 [==============================] - 0s 10ms/step - loss: 56646451200.0000 - root_mean_squared_error: 238005.1562 - val_loss: 52474118144.0000 - val_root_mean_squared_error: 229072.3125\n",
      "Epoch 174/200\n",
      "11/11 [==============================] - 0s 10ms/step - loss: 55477399552.0000 - root_mean_squared_error: 235536.4062 - val_loss: 52463554560.0000 - val_root_mean_squared_error: 229049.2344\n",
      "Epoch 175/200\n",
      "11/11 [==============================] - 0s 10ms/step - loss: 55694225408.0000 - root_mean_squared_error: 235996.2344 - val_loss: 52450951168.0000 - val_root_mean_squared_error: 229021.7188\n",
      "Epoch 176/200\n",
      "11/11 [==============================] - 0s 11ms/step - loss: 55713345536.0000 - root_mean_squared_error: 236036.7500 - val_loss: 52470136832.0000 - val_root_mean_squared_error: 229063.5938\n",
      "Epoch 177/200\n",
      "11/11 [==============================] - 0s 10ms/step - loss: 55363416064.0000 - root_mean_squared_error: 235294.3125 - val_loss: 52500725760.0000 - val_root_mean_squared_error: 229130.3750\n",
      "Epoch 178/200\n",
      "11/11 [==============================] - 0s 10ms/step - loss: 55986094080.0000 - root_mean_squared_error: 236613.8125 - val_loss: 52461813760.0000 - val_root_mean_squared_error: 229045.4375\n",
      "Epoch 179/200\n",
      "11/11 [==============================] - 0s 10ms/step - loss: 55259074560.0000 - root_mean_squared_error: 235072.4844 - val_loss: 52475592704.0000 - val_root_mean_squared_error: 229075.5156\n",
      "Epoch 180/200\n",
      "11/11 [==============================] - 0s 10ms/step - loss: 54569566208.0000 - root_mean_squared_error: 233601.2969 - val_loss: 52491132928.0000 - val_root_mean_squared_error: 229109.4375\n",
      "Epoch 181/200\n",
      "11/11 [==============================] - 0s 10ms/step - loss: 55728463872.0000 - root_mean_squared_error: 236068.7656 - val_loss: 52460609536.0000 - val_root_mean_squared_error: 229042.7969\n",
      "Epoch 182/200\n",
      "11/11 [==============================] - 0s 10ms/step - loss: 55607787520.0000 - root_mean_squared_error: 235813.0156 - val_loss: 52479696896.0000 - val_root_mean_squared_error: 229084.4688\n",
      "Epoch 183/200\n",
      "11/11 [==============================] - 0s 10ms/step - loss: 55753965568.0000 - root_mean_squared_error: 236122.7812 - val_loss: 52447506432.0000 - val_root_mean_squared_error: 229014.2031\n",
      "Epoch 184/200\n",
      "11/11 [==============================] - 0s 10ms/step - loss: 55533977600.0000 - root_mean_squared_error: 235656.5000 - val_loss: 52435353600.0000 - val_root_mean_squared_error: 228987.6719\n",
      "Epoch 185/200\n",
      "11/11 [==============================] - 0s 11ms/step - loss: 56045920256.0000 - root_mean_squared_error: 236740.2031 - val_loss: 52452102144.0000 - val_root_mean_squared_error: 229024.2500\n",
      "Epoch 186/200\n",
      "11/11 [==============================] - 0s 10ms/step - loss: 55647420416.0000 - root_mean_squared_error: 235897.0625 - val_loss: 52452814848.0000 - val_root_mean_squared_error: 229025.7969\n",
      "Epoch 187/200\n",
      "11/11 [==============================] - 0s 10ms/step - loss: 56036691968.0000 - root_mean_squared_error: 236720.7031 - val_loss: 52448292864.0000 - val_root_mean_squared_error: 229015.9219\n",
      "Epoch 188/200\n",
      "11/11 [==============================] - 0s 9ms/step - loss: 56154144768.0000 - root_mean_squared_error: 236968.6562 - val_loss: 52466479104.0000 - val_root_mean_squared_error: 229055.6250\n",
      "Epoch 189/200\n",
      "11/11 [==============================] - 0s 10ms/step - loss: 55000649728.0000 - root_mean_squared_error: 234522.1719 - val_loss: 52451819520.0000 - val_root_mean_squared_error: 229023.6250\n",
      "Epoch 190/200\n",
      "11/11 [==============================] - 0s 9ms/step - loss: 55901790208.0000 - root_mean_squared_error: 236435.5938 - val_loss: 52431044608.0000 - val_root_mean_squared_error: 228978.2656\n",
      "Epoch 191/200\n",
      "11/11 [==============================] - 0s 10ms/step - loss: 54649233408.0000 - root_mean_squared_error: 233771.7500 - val_loss: 52443721728.0000 - val_root_mean_squared_error: 229005.9375\n",
      "Epoch 192/200\n",
      "11/11 [==============================] - 0s 10ms/step - loss: 56002072576.0000 - root_mean_squared_error: 236647.5781 - val_loss: 52430237696.0000 - val_root_mean_squared_error: 228976.5000\n",
      "Epoch 193/200\n",
      "11/11 [==============================] - 0s 10ms/step - loss: 55481032704.0000 - root_mean_squared_error: 235544.1250 - val_loss: 52445782016.0000 - val_root_mean_squared_error: 229010.4375\n",
      "Epoch 194/200\n",
      "11/11 [==============================] - 0s 10ms/step - loss: 54671200256.0000 - root_mean_squared_error: 233818.7188 - val_loss: 52450619392.0000 - val_root_mean_squared_error: 229021.0000\n",
      "Epoch 195/200\n",
      "11/11 [==============================] - 0s 9ms/step - loss: 55157944320.0000 - root_mean_squared_error: 234857.2812 - val_loss: 52426543104.0000 - val_root_mean_squared_error: 228968.4375\n",
      "Epoch 196/200\n",
      "11/11 [==============================] - 0s 10ms/step - loss: 55474315264.0000 - root_mean_squared_error: 235529.8594 - val_loss: 52417093632.0000 - val_root_mean_squared_error: 228947.7969\n",
      "Epoch 197/200\n",
      "11/11 [==============================] - 0s 10ms/step - loss: 55831449600.0000 - root_mean_squared_error: 236286.7969 - val_loss: 52426629120.0000 - val_root_mean_squared_error: 228968.6250\n",
      "Epoch 198/200\n",
      "11/11 [==============================] - 0s 10ms/step - loss: 54862696448.0000 - root_mean_squared_error: 234227.8750 - val_loss: 52413620224.0000 - val_root_mean_squared_error: 228940.2188\n",
      "Epoch 199/200\n",
      "11/11 [==============================] - 0s 10ms/step - loss: 55446867968.0000 - root_mean_squared_error: 235471.5938 - val_loss: 52416598016.0000 - val_root_mean_squared_error: 228946.7188\n",
      "Epoch 200/200\n",
      "11/11 [==============================] - 0s 9ms/step - loss: 55001198592.0000 - root_mean_squared_error: 234523.3438 - val_loss: 52471902208.0000 - val_root_mean_squared_error: 229067.4688\n"
     ]
    }
   ],
   "source": [
    "num_model = keras.models.Sequential()\n",
    "num_model.add(\n",
    "    keras.layers.Dense(30, activation=\"relu\", input_dim=X_tb_train.shape[1])\n",
    ")\n",
    "num_model.add(keras.layers.Dropout(0.2))\n",
    "num_model.add(keras.layers.Dense(30, activation=\"relu\"))\n",
    "num_model.add(keras.layers.Dense(1))\n",
    "\n",
    "# Para Windows (ou Linux e versões futuras do TF)\n",
    "# num_model.compile(loss=\"mean_squared_error\", optimizer=keras.optimizers.Adam(lr=1e-3))\n",
    "num_model.compile(loss=\"mean_squared_error\", \n",
    "                  optimizer=keras.optimizers.legacy.Adam(lr=1e-2), \n",
    "                  metrics=[keras.metrics.RootMeanSquaredError()])\n",
    "h = num_model.fit(X_tb_train, np.array(y_train), epochs = 200, batch_size = 1024, validation_split = 0.1)"
   ]
  },
  {
   "cell_type": "code",
   "execution_count": 53,
   "metadata": {},
   "outputs": [
    {
     "data": {
      "text/plain": [
       "<Axes: xlabel='epoch', ylabel='train_rmse'>"
      ]
     },
     "execution_count": 53,
     "metadata": {},
     "output_type": "execute_result"
    },
    {
     "data": {
      "image/png": "[encoded data removed]",
      "text/plain": [
       "<Figure size 640x480 with 1 Axes>"
      ]
     },
     "metadata": {},
     "output_type": "display_data"
    }
   ],
   "source": [
    "tb_num_model = pd.DataFrame(h.history)\n",
    "tb_num_model[\"epoch\"] = tb_num_model.index + 1\n",
    "tb_num_model[\"train_rmse\"] = np.sqrt(tb_num_model[\"loss\"])\n",
    "tb_num_model[\"val_rmse\"] = np.sqrt(tb_num_model[\"val_loss\"])\n",
    "sns.lineplot(data=tb_num_model, x = \"epoch\", y = \"train_rmse\", label = \"train_rmse\")\n",
    "sns.lineplot(data=tb_num_model, x = \"epoch\", y = \"val_rmse\", label = \"val_rmse\")"
   ]
  },
  {
   "cell_type": "code",
   "execution_count": 54,
   "metadata": {},
   "outputs": [
    {
     "name": "stdout",
     "output_type": "stream",
     "text": [
      "97/97 [==============================] - 0s 2ms/step\n",
      "MAPE: 0.3301087059333413\n"
     ]
    }
   ],
   "source": [
    "y_test_pred = num_model.predict(X_tb_test)\n",
    "print(f\"MAPE: {np.sqrt(mean_squared_error(y_test, y_test_pred))/y_test.mean()}\")"
   ]
  },
  {
   "cell_type": "markdown",
   "metadata": {},
   "source": [
    "### Introduzindo Callbacks"
   ]
  },
  {
   "cell_type": "code",
   "execution_count": 55,
   "metadata": {},
   "outputs": [
    {
     "name": "stdout",
     "output_type": "stream",
     "text": [
      "Epoch 1/200\n",
      "11/11 [==============================] - 1s 29ms/step - loss: 641192427520.0000 - root_mean_squared_error: 800744.9375 - val_loss: 610984394752.0000 - val_root_mean_squared_error: 781654.8750\n",
      "Epoch 2/200\n",
      "11/11 [==============================] - 0s 11ms/step - loss: 641183711232.0000 - root_mean_squared_error: 800739.4375 - val_loss: 610967289856.0000 - val_root_mean_squared_error: 781643.9375\n",
      "Epoch 3/200\n",
      "11/11 [==============================] - 0s 11ms/step - loss: 641150812160.0000 - root_mean_squared_error: 800718.9375 - val_loss: 610912829440.0000 - val_root_mean_squared_error: 781609.1250\n",
      "Epoch 4/200\n",
      "11/11 [==============================] - 0s 12ms/step - loss: 641061289984.0000 - root_mean_squared_error: 800663.0625 - val_loss: 610778284032.0000 - val_root_mean_squared_error: 781523.0625\n",
      "Epoch 5/200\n",
      "11/11 [==============================] - 0s 10ms/step - loss: 640861536256.0000 - root_mean_squared_error: 800538.1875 - val_loss: 610496086016.0000 - val_root_mean_squared_error: 781342.6250\n",
      "Epoch 6/200\n",
      "11/11 [==============================] - 0s 11ms/step - loss: 640460980224.0000 - root_mean_squared_error: 800288.0625 - val_loss: 609972977664.0000 - val_root_mean_squared_error: 781007.6875\n",
      "Epoch 7/200\n",
      "11/11 [==============================] - 0s 11ms/step - loss: 639764856832.0000 - root_mean_squared_error: 799853.0000 - val_loss: 609093877760.0000 - val_root_mean_squared_error: 780444.6875\n",
      "Epoch 8/200\n",
      "11/11 [==============================] - 0s 10ms/step - loss: 638634622976.0000 - root_mean_squared_error: 799146.2500 - val_loss: 607731777536.0000 - val_root_mean_squared_error: 779571.5625\n",
      "Epoch 9/200\n",
      "11/11 [==============================] - 0s 10ms/step - loss: 636932259840.0000 - root_mean_squared_error: 798080.3750 - val_loss: 605759406080.0000 - val_root_mean_squared_error: 778305.5000\n",
      "Epoch 10/200\n",
      "11/11 [==============================] - 0s 11ms/step - loss: 634595901440.0000 - root_mean_squared_error: 796615.2500 - val_loss: 603042217984.0000 - val_root_mean_squared_error: 776557.8750\n",
      "Epoch 11/200\n",
      "11/11 [==============================] - 0s 11ms/step - loss: 631355211776.0000 - root_mean_squared_error: 794578.6250 - val_loss: 599454384128.0000 - val_root_mean_squared_error: 774244.3750\n",
      "Epoch 12/200\n",
      "11/11 [==============================] - 0s 10ms/step - loss: 627144392704.0000 - root_mean_squared_error: 791924.5000 - val_loss: 594855067648.0000 - val_root_mean_squared_error: 771268.4375\n",
      "Epoch 13/200\n",
      "11/11 [==============================] - 0s 11ms/step - loss: 621850656768.0000 - root_mean_squared_error: 788575.1250 - val_loss: 589158023168.0000 - val_root_mean_squared_error: 767566.3125\n",
      "Epoch 14/200\n",
      "11/11 [==============================] - 0s 10ms/step - loss: 615387365376.0000 - root_mean_squared_error: 784466.3125 - val_loss: 582239911936.0000 - val_root_mean_squared_error: 763046.4375\n",
      "Epoch 15/200\n",
      "11/11 [==============================] - 0s 10ms/step - loss: 607594872832.0000 - root_mean_squared_error: 779483.7500 - val_loss: 573994500096.0000 - val_root_mean_squared_error: 757624.2500\n",
      "Epoch 16/200\n",
      "11/11 [==============================] - 0s 10ms/step - loss: 598408888320.0000 - root_mean_squared_error: 773568.9375 - val_loss: 564373356544.0000 - val_root_mean_squared_error: 751247.8750\n",
      "Epoch 17/200\n",
      "11/11 [==============================] - 0s 11ms/step - loss: 587750703104.0000 - root_mean_squared_error: 766649.0000 - val_loss: 553326673920.0000 - val_root_mean_squared_error: 743859.3750\n",
      "Epoch 18/200\n",
      "11/11 [==============================] - 0s 11ms/step - loss: 575754600448.0000 - root_mean_squared_error: 758784.9375 - val_loss: 540839378944.0000 - val_root_mean_squared_error: 735417.8125\n",
      "Epoch 19/200\n",
      "11/11 [==============================] - 0s 11ms/step - loss: 561855528960.0000 - root_mean_squared_error: 749570.2500 - val_loss: 526877982720.0000 - val_root_mean_squared_error: 725863.6250\n",
      "Epoch 20/200\n",
      "11/11 [==============================] - 0s 10ms/step - loss: 546883796992.0000 - root_mean_squared_error: 739515.9375 - val_loss: 511413026816.0000 - val_root_mean_squared_error: 715131.5000\n",
      "Epoch 21/200\n",
      "11/11 [==============================] - 0s 12ms/step - loss: 530241388544.0000 - root_mean_squared_error: 728176.7500 - val_loss: 494504574976.0000 - val_root_mean_squared_error: 703210.1875\n",
      "Epoch 22/200\n",
      "11/11 [==============================] - 0s 11ms/step - loss: 512241631232.0000 - root_mean_squared_error: 715710.5625 - val_loss: 476236808192.0000 - val_root_mean_squared_error: 690099.1250\n",
      "Epoch 23/200\n",
      "11/11 [==============================] - 0s 11ms/step - loss: 492878528512.0000 - root_mean_squared_error: 702053.0625 - val_loss: 456844017664.0000 - val_root_mean_squared_error: 675902.3750\n",
      "Epoch 24/200\n",
      "11/11 [==============================] - 0s 11ms/step - loss: 473278087168.0000 - root_mean_squared_error: 687952.1250 - val_loss: 436416544768.0000 - val_root_mean_squared_error: 660618.3125\n",
      "Epoch 25/200\n",
      "11/11 [==============================] - 0s 11ms/step - loss: 450682683392.0000 - root_mean_squared_error: 671329.0625 - val_loss: 415244058624.0000 - val_root_mean_squared_error: 644394.3125\n",
      "Epoch 26/200\n",
      "11/11 [==============================] - 0s 11ms/step - loss: 429318373376.0000 - root_mean_squared_error: 655223.9375 - val_loss: 393421193216.0000 - val_root_mean_squared_error: 627232.9375\n",
      "Epoch 27/200\n",
      "11/11 [==============================] - 0s 11ms/step - loss: 406770810880.0000 - root_mean_squared_error: 637785.8750 - val_loss: 371274285056.0000 - val_root_mean_squared_error: 609322.8125\n",
      "Epoch 28/200\n",
      "11/11 [==============================] - 0s 11ms/step - loss: 383519457280.0000 - root_mean_squared_error: 619289.5000 - val_loss: 349139271680.0000 - val_root_mean_squared_error: 590880.0625\n",
      "Epoch 29/200\n",
      "11/11 [==============================] - 0s 11ms/step - loss: 362862608384.0000 - root_mean_squared_error: 602380.7500 - val_loss: 327236845568.0000 - val_root_mean_squared_error: 572046.1875\n",
      "Epoch 30/200\n",
      "11/11 [==============================] - 0s 11ms/step - loss: 340180631552.0000 - root_mean_squared_error: 583250.0625 - val_loss: 305747918848.0000 - val_root_mean_squared_error: 552944.7500\n",
      "Epoch 31/200\n",
      "11/11 [==============================] - 0s 11ms/step - loss: 321780482048.0000 - root_mean_squared_error: 567257.0000 - val_loss: 284989030400.0000 - val_root_mean_squared_error: 533843.6875\n",
      "Epoch 32/200\n",
      "11/11 [==============================] - 0s 11ms/step - loss: 298294247424.0000 - root_mean_squared_error: 546163.1875 - val_loss: 265233874944.0000 - val_root_mean_squared_error: 515008.6250\n",
      "Epoch 33/200\n",
      "11/11 [==============================] - 0s 10ms/step - loss: 282279772160.0000 - root_mean_squared_error: 531300.0625 - val_loss: 246484353024.0000 - val_root_mean_squared_error: 496471.9062\n",
      "Epoch 34/200\n",
      "11/11 [==============================] - 0s 10ms/step - loss: 261738184704.0000 - root_mean_squared_error: 511603.5312 - val_loss: 228818075648.0000 - val_root_mean_squared_error: 478349.3125\n",
      "Epoch 35/200\n",
      "11/11 [==============================] - 0s 11ms/step - loss: 245736407040.0000 - root_mean_squared_error: 495718.0625 - val_loss: 212315455488.0000 - val_root_mean_squared_error: 460777.0000\n",
      "Epoch 36/200\n",
      "11/11 [==============================] - 0s 11ms/step - loss: 231170490368.0000 - root_mean_squared_error: 480801.9375 - val_loss: 197136547840.0000 - val_root_mean_squared_error: 444000.6250\n",
      "Epoch 37/200\n",
      "11/11 [==============================] - 0s 11ms/step - loss: 217598099456.0000 - root_mean_squared_error: 466474.1250 - val_loss: 183141220352.0000 - val_root_mean_squared_error: 427950.0312\n",
      "Epoch 38/200\n",
      "11/11 [==============================] - 0s 10ms/step - loss: 204090671104.0000 - root_mean_squared_error: 451763.9688 - val_loss: 170182868992.0000 - val_root_mean_squared_error: 412532.2500\n",
      "Epoch 39/200\n",
      "11/11 [==============================] - 0s 10ms/step - loss: 191397543936.0000 - root_mean_squared_error: 437490.0625 - val_loss: 158305959936.0000 - val_root_mean_squared_error: 397876.8125\n",
      "Epoch 40/200\n",
      "11/11 [==============================] - 0s 11ms/step - loss: 179256295424.0000 - root_mean_squared_error: 423386.7188 - val_loss: 147654017024.0000 - val_root_mean_squared_error: 384257.7812\n",
      "Epoch 41/200\n"
     ]
    },
    {
     "name": "stdout",
     "output_type": "stream",
     "text": [
      "11/11 [==============================] - 0s 11ms/step - loss: 171589337088.0000 - root_mean_squared_error: 414233.4375 - val_loss: 138109468672.0000 - val_root_mean_squared_error: 371630.8125\n",
      "Epoch 42/200\n",
      "11/11 [==============================] - 0s 11ms/step - loss: 161298743296.0000 - root_mean_squared_error: 401620.1562 - val_loss: 129532305408.0000 - val_root_mean_squared_error: 359905.9688\n",
      "Epoch 43/200\n",
      "11/11 [==============================] - 0s 10ms/step - loss: 153721470976.0000 - root_mean_squared_error: 392073.3125 - val_loss: 122110148608.0000 - val_root_mean_squared_error: 349442.6250\n",
      "Epoch 44/200\n",
      "11/11 [==============================] - 0s 10ms/step - loss: 149599027200.0000 - root_mean_squared_error: 386780.3438 - val_loss: 115393896448.0000 - val_root_mean_squared_error: 339696.7812\n",
      "Epoch 45/200\n",
      "11/11 [==============================] - 0s 11ms/step - loss: 143462891520.0000 - root_mean_squared_error: 378764.9688 - val_loss: 109451476992.0000 - val_root_mean_squared_error: 330834.5312\n",
      "Epoch 46/200\n",
      "11/11 [==============================] - 0s 11ms/step - loss: 137114574848.0000 - root_mean_squared_error: 370289.8438 - val_loss: 104302436352.0000 - val_root_mean_squared_error: 322958.8750\n",
      "Epoch 47/200\n",
      "11/11 [==============================] - 0s 11ms/step - loss: 136383954944.0000 - root_mean_squared_error: 369301.9688 - val_loss: 99982704640.0000 - val_root_mean_squared_error: 316200.4062\n",
      "Epoch 48/200\n",
      "11/11 [==============================] - 0s 10ms/step - loss: 130581356544.0000 - root_mean_squared_error: 361360.4375 - val_loss: 96182165504.0000 - val_root_mean_squared_error: 310132.4688\n",
      "Epoch 49/200\n",
      "11/11 [==============================] - 0s 10ms/step - loss: 125691330560.0000 - root_mean_squared_error: 354529.7188 - val_loss: 92850683904.0000 - val_root_mean_squared_error: 304714.0938\n",
      "Epoch 50/200\n",
      "11/11 [==============================] - 0s 11ms/step - loss: 124647571456.0000 - root_mean_squared_error: 353054.6250 - val_loss: 89967124480.0000 - val_root_mean_squared_error: 299945.2188\n",
      "Epoch 51/200\n",
      "11/11 [==============================] - 0s 10ms/step - loss: 121183117312.0000 - root_mean_squared_error: 348113.6562 - val_loss: 87502651392.0000 - val_root_mean_squared_error: 295808.5000\n",
      "Epoch 52/200\n",
      "11/11 [==============================] - 0s 10ms/step - loss: 119476051968.0000 - root_mean_squared_error: 345653.0938 - val_loss: 85311422464.0000 - val_root_mean_squared_error: 292081.2188\n",
      "Epoch 53/200\n",
      "11/11 [==============================] - 0s 11ms/step - loss: 120339292160.0000 - root_mean_squared_error: 346899.5312 - val_loss: 83446546432.0000 - val_root_mean_squared_error: 288871.1875\n",
      "Epoch 54/200\n",
      "11/11 [==============================] - 0s 11ms/step - loss: 118341591040.0000 - root_mean_squared_error: 344008.1562 - val_loss: 81729601536.0000 - val_root_mean_squared_error: 285883.9062\n",
      "Epoch 55/200\n",
      "11/11 [==============================] - 0s 10ms/step - loss: 113112678400.0000 - root_mean_squared_error: 336322.2812 - val_loss: 80183156736.0000 - val_root_mean_squared_error: 283166.3125\n",
      "Epoch 56/200\n",
      "11/11 [==============================] - 0s 10ms/step - loss: 111376670720.0000 - root_mean_squared_error: 333731.4062 - val_loss: 78760656896.0000 - val_root_mean_squared_error: 280643.2812\n",
      "Epoch 57/200\n",
      "11/11 [==============================] - 0s 10ms/step - loss: 109187719168.0000 - root_mean_squared_error: 330435.6562 - val_loss: 77390102528.0000 - val_root_mean_squared_error: 278190.7500\n",
      "Epoch 58/200\n",
      "11/11 [==============================] - 0s 10ms/step - loss: 110381965312.0000 - root_mean_squared_error: 332237.8125 - val_loss: 76134170624.0000 - val_root_mean_squared_error: 275924.2188\n",
      "Epoch 59/200\n",
      "11/11 [==============================] - 0s 11ms/step - loss: 107707768832.0000 - root_mean_squared_error: 328188.6250 - val_loss: 75023417344.0000 - val_root_mean_squared_error: 273904.0312\n",
      "Epoch 60/200\n",
      "11/11 [==============================] - 0s 11ms/step - loss: 109798801408.0000 - root_mean_squared_error: 331359.0312 - val_loss: 73972858880.0000 - val_root_mean_squared_error: 271979.5000\n",
      "Epoch 61/200\n",
      "11/11 [==============================] - 0s 10ms/step - loss: 102593830912.0000 - root_mean_squared_error: 320302.7188 - val_loss: 72976957440.0000 - val_root_mean_squared_error: 270142.4688\n",
      "Epoch 62/200\n",
      "11/11 [==============================] - 0s 12ms/step - loss: 103638835200.0000 - root_mean_squared_error: 321929.8438 - val_loss: 72052867072.0000 - val_root_mean_squared_error: 268426.6562\n",
      "Epoch 63/200\n",
      "11/11 [==============================] - 0s 13ms/step - loss: 99673980928.0000 - root_mean_squared_error: 315711.8438 - val_loss: 71172923392.0000 - val_root_mean_squared_error: 266782.5312\n",
      "Epoch 64/200\n",
      "11/11 [==============================] - 0s 12ms/step - loss: 100046938112.0000 - root_mean_squared_error: 316302.0000 - val_loss: 70325878784.0000 - val_root_mean_squared_error: 265190.2812\n",
      "Epoch 65/200\n",
      "11/11 [==============================] - 0s 10ms/step - loss: 98744737792.0000 - root_mean_squared_error: 314236.7500 - val_loss: 69533106176.0000 - val_root_mean_squared_error: 263691.3125\n",
      "Epoch 66/200\n",
      "11/11 [==============================] - 0s 10ms/step - loss: 98137202688.0000 - root_mean_squared_error: 313268.5938 - val_loss: 68771987456.0000 - val_root_mean_squared_error: 262244.1250\n",
      "Epoch 67/200\n",
      "11/11 [==============================] - 0s 10ms/step - loss: 98448187392.0000 - root_mean_squared_error: 313764.5312 - val_loss: 68094906368.0000 - val_root_mean_squared_error: 260950.0156\n",
      "Epoch 68/200\n",
      "11/11 [==============================] - 0s 11ms/step - loss: 94100537344.0000 - root_mean_squared_error: 306758.0938 - val_loss: 67440750592.0000 - val_root_mean_squared_error: 259693.5781\n",
      "Epoch 69/200\n",
      "11/11 [==============================] - 0s 10ms/step - loss: 95675998208.0000 - root_mean_squared_error: 309315.3750 - val_loss: 66816794624.0000 - val_root_mean_squared_error: 258489.4688\n",
      "Epoch 70/200\n",
      "11/11 [==============================] - 0s 10ms/step - loss: 94501945344.0000 - root_mean_squared_error: 307411.6875 - val_loss: 66211356672.0000 - val_root_mean_squared_error: 257315.6719\n",
      "Epoch 71/200\n",
      "11/11 [==============================] - 0s 11ms/step - loss: 94251327488.0000 - root_mean_squared_error: 307003.7812 - val_loss: 65631444992.0000 - val_root_mean_squared_error: 256186.3438\n",
      "Epoch 72/200\n",
      "11/11 [==============================] - 0s 11ms/step - loss: 93331070976.0000 - root_mean_squared_error: 305501.3438 - val_loss: 65040658432.0000 - val_root_mean_squared_error: 255030.7031\n",
      "Epoch 73/200\n",
      "11/11 [==============================] - 0s 11ms/step - loss: 92204425216.0000 - root_mean_squared_error: 303651.8125 - val_loss: 64542208000.0000 - val_root_mean_squared_error: 254051.5781\n",
      "Epoch 74/200\n",
      "11/11 [==============================] - 0s 11ms/step - loss: 94196531200.0000 - root_mean_squared_error: 306914.5312 - val_loss: 64058683392.0000 - val_root_mean_squared_error: 253098.1719\n",
      "Epoch 75/200\n",
      "11/11 [==============================] - 0s 10ms/step - loss: 90537017344.0000 - root_mean_squared_error: 300893.6875 - val_loss: 63597383680.0000 - val_root_mean_squared_error: 252185.2188\n",
      "Epoch 76/200\n",
      "11/11 [==============================] - 0s 11ms/step - loss: 86934626304.0000 - root_mean_squared_error: 294846.7812 - val_loss: 63143395328.0000 - val_root_mean_squared_error: 251283.5000\n",
      "Epoch 77/200\n",
      "11/11 [==============================] - 0s 11ms/step - loss: 87341637632.0000 - root_mean_squared_error: 295536.1875 - val_loss: 62676676608.0000 - val_root_mean_squared_error: 250353.1094\n",
      "Epoch 78/200\n",
      "11/11 [==============================] - 0s 10ms/step - loss: 87509852160.0000 - root_mean_squared_error: 295820.6562 - val_loss: 62254989312.0000 - val_root_mean_squared_error: 249509.5000\n",
      "Epoch 79/200\n",
      "11/11 [==============================] - 0s 11ms/step - loss: 87390904320.0000 - root_mean_squared_error: 295619.5312 - val_loss: 61858869248.0000 - val_root_mean_squared_error: 248714.4375\n",
      "Epoch 80/200\n",
      "11/11 [==============================] - 0s 10ms/step - loss: 84862410752.0000 - root_mean_squared_error: 291311.5312 - val_loss: 61470973952.0000 - val_root_mean_squared_error: 247933.4062\n",
      "Epoch 81/200\n"
     ]
    },
    {
     "name": "stdout",
     "output_type": "stream",
     "text": [
      "11/11 [==============================] - 0s 11ms/step - loss: 85963579392.0000 - root_mean_squared_error: 293195.4688 - val_loss: 61086576640.0000 - val_root_mean_squared_error: 247156.9844\n",
      "Epoch 82/200\n",
      "11/11 [==============================] - 0s 11ms/step - loss: 84791459840.0000 - root_mean_squared_error: 291189.7188 - val_loss: 60765294592.0000 - val_root_mean_squared_error: 246506.1719\n",
      "Epoch 83/200\n",
      "11/11 [==============================] - 0s 10ms/step - loss: 83138240512.0000 - root_mean_squared_error: 288337.0312 - val_loss: 60428386304.0000 - val_root_mean_squared_error: 245821.8438\n",
      "Epoch 84/200\n",
      "11/11 [==============================] - 0s 10ms/step - loss: 83944734720.0000 - root_mean_squared_error: 289732.1875 - val_loss: 60119986176.0000 - val_root_mean_squared_error: 245193.7656\n",
      "Epoch 85/200\n",
      "11/11 [==============================] - 0s 10ms/step - loss: 83736117248.0000 - root_mean_squared_error: 289371.9062 - val_loss: 59825111040.0000 - val_root_mean_squared_error: 244591.7188\n",
      "Epoch 86/200\n",
      "11/11 [==============================] - 0s 10ms/step - loss: 85507514368.0000 - root_mean_squared_error: 292416.6875 - val_loss: 59532980224.0000 - val_root_mean_squared_error: 243993.8125\n",
      "Epoch 87/200\n",
      "11/11 [==============================] - 0s 11ms/step - loss: 81271873536.0000 - root_mean_squared_error: 285082.2188 - val_loss: 59277320192.0000 - val_root_mean_squared_error: 243469.3438\n",
      "Epoch 88/200\n",
      "11/11 [==============================] - 0s 10ms/step - loss: 83352977408.0000 - root_mean_squared_error: 288709.1562 - val_loss: 59043483648.0000 - val_root_mean_squared_error: 242988.6562\n",
      "Epoch 89/200\n",
      "11/11 [==============================] - 0s 10ms/step - loss: 81852424192.0000 - root_mean_squared_error: 286098.6250 - val_loss: 58809507840.0000 - val_root_mean_squared_error: 242506.7031\n",
      "Epoch 90/200\n",
      "11/11 [==============================] - 0s 10ms/step - loss: 81668341760.0000 - root_mean_squared_error: 285776.7188 - val_loss: 58603913216.0000 - val_root_mean_squared_error: 242082.4531\n",
      "Epoch 91/200\n",
      "11/11 [==============================] - 0s 10ms/step - loss: 81681760256.0000 - root_mean_squared_error: 285800.2188 - val_loss: 58350972928.0000 - val_root_mean_squared_error: 241559.4531\n",
      "Epoch 92/200\n",
      "11/11 [==============================] - 0s 10ms/step - loss: 80817471488.0000 - root_mean_squared_error: 284284.1250 - val_loss: 58100264960.0000 - val_root_mean_squared_error: 241039.9688\n",
      "Epoch 93/200\n",
      "11/11 [==============================] - 0s 11ms/step - loss: 80762593280.0000 - root_mean_squared_error: 284187.5938 - val_loss: 57907191808.0000 - val_root_mean_squared_error: 240639.1250\n",
      "Epoch 94/200\n",
      "11/11 [==============================] - 0s 10ms/step - loss: 78339457024.0000 - root_mean_squared_error: 279891.8750 - val_loss: 57712046080.0000 - val_root_mean_squared_error: 240233.3125\n",
      "Epoch 95/200\n",
      "11/11 [==============================] - 0s 10ms/step - loss: 80424763392.0000 - root_mean_squared_error: 283592.5938 - val_loss: 57527717888.0000 - val_root_mean_squared_error: 239849.3594\n",
      "Epoch 96/200\n",
      "11/11 [==============================] - 0s 10ms/step - loss: 80352182272.0000 - root_mean_squared_error: 283464.6250 - val_loss: 57372250112.0000 - val_root_mean_squared_error: 239525.0469\n",
      "Epoch 97/200\n",
      "11/11 [==============================] - 0s 11ms/step - loss: 80876077056.0000 - root_mean_squared_error: 284387.1875 - val_loss: 57200812032.0000 - val_root_mean_squared_error: 239166.9062\n",
      "Epoch 98/200\n",
      "11/11 [==============================] - 0s 10ms/step - loss: 79240822784.0000 - root_mean_squared_error: 281497.4688 - val_loss: 57035141120.0000 - val_root_mean_squared_error: 238820.3125\n",
      "Epoch 99/200\n",
      "11/11 [==============================] - 0s 10ms/step - loss: 78148009984.0000 - root_mean_squared_error: 279549.6562 - val_loss: 56842928128.0000 - val_root_mean_squared_error: 238417.5469\n",
      "Epoch 100/200\n",
      "11/11 [==============================] - 0s 10ms/step - loss: 78652489728.0000 - root_mean_squared_error: 280450.5000 - val_loss: 56686764032.0000 - val_root_mean_squared_error: 238089.8281\n",
      "Epoch 101/200\n",
      "11/11 [==============================] - 0s 10ms/step - loss: 77693100032.0000 - root_mean_squared_error: 278734.8125 - val_loss: 56533057536.0000 - val_root_mean_squared_error: 237766.8125\n",
      "Epoch 102/200\n",
      "11/11 [==============================] - 0s 10ms/step - loss: 78052990976.0000 - root_mean_squared_error: 279379.6562 - val_loss: 56389726208.0000 - val_root_mean_squared_error: 237465.2031\n",
      "Epoch 103/200\n",
      "11/11 [==============================] - 0s 10ms/step - loss: 78527021056.0000 - root_mean_squared_error: 280226.7188 - val_loss: 56322629632.0000 - val_root_mean_squared_error: 237323.8750\n",
      "Epoch 104/200\n",
      "11/11 [==============================] - 0s 10ms/step - loss: 78407385088.0000 - root_mean_squared_error: 280013.1875 - val_loss: 56221622272.0000 - val_root_mean_squared_error: 237110.9844\n",
      "Epoch 105/200\n",
      "11/11 [==============================] - 0s 10ms/step - loss: 79505743872.0000 - root_mean_squared_error: 281967.6250 - val_loss: 56088428544.0000 - val_root_mean_squared_error: 236829.9531\n",
      "Epoch 106/200\n",
      "11/11 [==============================] - 0s 10ms/step - loss: 76879732736.0000 - root_mean_squared_error: 277271.9375 - val_loss: 55985127424.0000 - val_root_mean_squared_error: 236611.7656\n",
      "Epoch 107/200\n",
      "11/11 [==============================] - 0s 10ms/step - loss: 76910452736.0000 - root_mean_squared_error: 277327.3438 - val_loss: 55823945728.0000 - val_root_mean_squared_error: 236270.9219\n",
      "Epoch 108/200\n",
      "11/11 [==============================] - 0s 10ms/step - loss: 76052389888.0000 - root_mean_squared_error: 275775.9688 - val_loss: 55720611840.0000 - val_root_mean_squared_error: 236052.1406\n",
      "Epoch 109/200\n",
      "11/11 [==============================] - 0s 10ms/step - loss: 76936077312.0000 - root_mean_squared_error: 277373.5312 - val_loss: 55613571072.0000 - val_root_mean_squared_error: 235825.3125\n",
      "Epoch 110/200\n",
      "11/11 [==============================] - 0s 10ms/step - loss: 77295460352.0000 - root_mean_squared_error: 278020.6250 - val_loss: 55500603392.0000 - val_root_mean_squared_error: 235585.6562\n",
      "Epoch 111/200\n",
      "11/11 [==============================] - 0s 10ms/step - loss: 76434235392.0000 - root_mean_squared_error: 276467.4062 - val_loss: 55410061312.0000 - val_root_mean_squared_error: 235393.4062\n",
      "Epoch 112/200\n",
      "11/11 [==============================] - 0s 10ms/step - loss: 78021967872.0000 - root_mean_squared_error: 279324.1562 - val_loss: 55344484352.0000 - val_root_mean_squared_error: 235254.0938\n",
      "Epoch 113/200\n",
      "11/11 [==============================] - 0s 10ms/step - loss: 76653256704.0000 - root_mean_squared_error: 276863.2500 - val_loss: 55256399872.0000 - val_root_mean_squared_error: 235066.7969\n",
      "Epoch 114/200\n",
      "11/11 [==============================] - 0s 10ms/step - loss: 74814021632.0000 - root_mean_squared_error: 273521.5312 - val_loss: 55209062400.0000 - val_root_mean_squared_error: 234966.0938\n",
      "Epoch 115/200\n",
      "11/11 [==============================] - 0s 10ms/step - loss: 75234418688.0000 - root_mean_squared_error: 274288.9375 - val_loss: 55108747264.0000 - val_root_mean_squared_error: 234752.5312\n",
      "Epoch 116/200\n",
      "11/11 [==============================] - 0s 10ms/step - loss: 75611103232.0000 - root_mean_squared_error: 274974.7188 - val_loss: 55030149120.0000 - val_root_mean_squared_error: 234585.0625\n",
      "Epoch 117/200\n",
      "11/11 [==============================] - 0s 10ms/step - loss: 75032641536.0000 - root_mean_squared_error: 273920.8750 - val_loss: 54909980672.0000 - val_root_mean_squared_error: 234328.7812\n",
      "Epoch 118/200\n",
      "11/11 [==============================] - 0s 10ms/step - loss: 73853460480.0000 - root_mean_squared_error: 271759.9375 - val_loss: 54785839104.0000 - val_root_mean_squared_error: 234063.7500\n",
      "Epoch 119/200\n",
      "11/11 [==============================] - 0s 10ms/step - loss: 74720763904.0000 - root_mean_squared_error: 273351.0000 - val_loss: 54722334720.0000 - val_root_mean_squared_error: 233928.0469\n",
      "Epoch 120/200\n",
      "11/11 [==============================] - 0s 10ms/step - loss: 73556484096.0000 - root_mean_squared_error: 271212.9688 - val_loss: 54680920064.0000 - val_root_mean_squared_error: 233839.5156\n",
      "Epoch 121/200\n"
     ]
    },
    {
     "name": "stdout",
     "output_type": "stream",
     "text": [
      "11/11 [==============================] - 0s 10ms/step - loss: 75706179584.0000 - root_mean_squared_error: 275147.5312 - val_loss: 54632660992.0000 - val_root_mean_squared_error: 233736.3125\n",
      "Epoch 122/200\n",
      "11/11 [==============================] - 0s 10ms/step - loss: 75317477376.0000 - root_mean_squared_error: 274440.3125 - val_loss: 54589685760.0000 - val_root_mean_squared_error: 233644.3594\n",
      "Epoch 123/200\n",
      "11/11 [==============================] - 0s 10ms/step - loss: 75900534784.0000 - root_mean_squared_error: 275500.5312 - val_loss: 54500675584.0000 - val_root_mean_squared_error: 233453.7812\n",
      "Epoch 124/200\n",
      "11/11 [==============================] - 0s 10ms/step - loss: 72947957760.0000 - root_mean_squared_error: 270088.7812 - val_loss: 54442790912.0000 - val_root_mean_squared_error: 233329.7969\n",
      "Epoch 125/200\n",
      "11/11 [==============================] - 0s 11ms/step - loss: 74096099328.0000 - root_mean_squared_error: 272206.0000 - val_loss: 54405820416.0000 - val_root_mean_squared_error: 233250.5469\n",
      "Epoch 126/200\n",
      "11/11 [==============================] - 0s 11ms/step - loss: 74230710272.0000 - root_mean_squared_error: 272453.1250 - val_loss: 54365540352.0000 - val_root_mean_squared_error: 233164.1875\n",
      "Epoch 127/200\n",
      "11/11 [==============================] - 0s 11ms/step - loss: 74846445568.0000 - root_mean_squared_error: 273580.7812 - val_loss: 54318596096.0000 - val_root_mean_squared_error: 233063.5000\n",
      "Epoch 128/200\n",
      "11/11 [==============================] - 0s 10ms/step - loss: 73242550272.0000 - root_mean_squared_error: 270633.5938 - val_loss: 54266523648.0000 - val_root_mean_squared_error: 232951.7656\n",
      "Epoch 129/200\n",
      "11/11 [==============================] - 0s 10ms/step - loss: 74162061312.0000 - root_mean_squared_error: 272327.1250 - val_loss: 54221914112.0000 - val_root_mean_squared_error: 232856.0000\n",
      "Epoch 130/200\n",
      "11/11 [==============================] - 0s 11ms/step - loss: 74301980672.0000 - root_mean_squared_error: 272583.9062 - val_loss: 54192717824.0000 - val_root_mean_squared_error: 232793.2969\n",
      "Epoch 131/200\n",
      "11/11 [==============================] - 0s 10ms/step - loss: 73863602176.0000 - root_mean_squared_error: 271778.5938 - val_loss: 54149656576.0000 - val_root_mean_squared_error: 232700.7812\n",
      "Epoch 132/200\n",
      "11/11 [==============================] - 0s 10ms/step - loss: 74149847040.0000 - root_mean_squared_error: 272304.6875 - val_loss: 54114881536.0000 - val_root_mean_squared_error: 232626.0625\n",
      "Epoch 133/200\n",
      "11/11 [==============================] - 0s 11ms/step - loss: 72874090496.0000 - root_mean_squared_error: 269952.0000 - val_loss: 54102159360.0000 - val_root_mean_squared_error: 232598.7031\n",
      "Epoch 134/200\n",
      "11/11 [==============================] - 0s 10ms/step - loss: 73303891968.0000 - root_mean_squared_error: 270746.9062 - val_loss: 54030827520.0000 - val_root_mean_squared_error: 232445.3281\n",
      "Epoch 135/200\n",
      "11/11 [==============================] - 0s 10ms/step - loss: 73097715712.0000 - root_mean_squared_error: 270365.9062 - val_loss: 53960749056.0000 - val_root_mean_squared_error: 232294.5312\n",
      "Epoch 136/200\n",
      "11/11 [==============================] - 0s 10ms/step - loss: 72408244224.0000 - root_mean_squared_error: 269087.8125 - val_loss: 53857423360.0000 - val_root_mean_squared_error: 232072.0156\n",
      "Epoch 137/200\n",
      "11/11 [==============================] - 0s 10ms/step - loss: 72583438336.0000 - root_mean_squared_error: 269413.1250 - val_loss: 53812908032.0000 - val_root_mean_squared_error: 231976.0938\n",
      "Epoch 138/200\n",
      "11/11 [==============================] - 0s 11ms/step - loss: 71778459648.0000 - root_mean_squared_error: 267915.0312 - val_loss: 53798879232.0000 - val_root_mean_squared_error: 231945.8594\n",
      "Epoch 139/200\n",
      "11/11 [==============================] - 0s 10ms/step - loss: 72612495360.0000 - root_mean_squared_error: 269467.0625 - val_loss: 53800718336.0000 - val_root_mean_squared_error: 231949.8281\n",
      "Epoch 140/200\n",
      "11/11 [==============================] - 0s 10ms/step - loss: 72626298880.0000 - root_mean_squared_error: 269492.6562 - val_loss: 53792612352.0000 - val_root_mean_squared_error: 231932.3281\n",
      "Epoch 141/200\n",
      "11/11 [==============================] - 0s 11ms/step - loss: 71643561984.0000 - root_mean_squared_error: 267663.1562 - val_loss: 53758984192.0000 - val_root_mean_squared_error: 231859.8438\n",
      "Epoch 142/200\n",
      "11/11 [==============================] - 0s 11ms/step - loss: 73402548224.0000 - root_mean_squared_error: 270929.0312 - val_loss: 53744775168.0000 - val_root_mean_squared_error: 231829.1875\n",
      "Epoch 143/200\n",
      "11/11 [==============================] - 0s 12ms/step - loss: 72729731072.0000 - root_mean_squared_error: 269684.5000 - val_loss: 53713719296.0000 - val_root_mean_squared_error: 231762.2031\n",
      "Epoch 144/200\n",
      "11/11 [==============================] - 0s 11ms/step - loss: 72699297792.0000 - root_mean_squared_error: 269628.0625 - val_loss: 53727449088.0000 - val_root_mean_squared_error: 231791.8281\n",
      "Epoch 145/200\n",
      "11/11 [==============================] - 0s 10ms/step - loss: 70754525184.0000 - root_mean_squared_error: 265997.2188 - val_loss: 53717753856.0000 - val_root_mean_squared_error: 231770.9062\n",
      "Epoch 146/200\n",
      "11/11 [==============================] - 0s 10ms/step - loss: 72471601152.0000 - root_mean_squared_error: 269205.5000 - val_loss: 53711667200.0000 - val_root_mean_squared_error: 231757.7812\n",
      "Epoch 147/200\n",
      "11/11 [==============================] - 0s 10ms/step - loss: 72366178304.0000 - root_mean_squared_error: 269009.6250 - val_loss: 53699964928.0000 - val_root_mean_squared_error: 231732.5156\n",
      "Epoch 148/200\n",
      "11/11 [==============================] - 0s 10ms/step - loss: 72306737152.0000 - root_mean_squared_error: 268899.1250 - val_loss: 53667893248.0000 - val_root_mean_squared_error: 231663.3125\n",
      "Epoch 149/200\n",
      "11/11 [==============================] - 0s 10ms/step - loss: 72093286400.0000 - root_mean_squared_error: 268501.9375 - val_loss: 53633994752.0000 - val_root_mean_squared_error: 231590.1406\n",
      "Epoch 150/200\n",
      "11/11 [==============================] - 0s 10ms/step - loss: 71511113728.0000 - root_mean_squared_error: 267415.6250 - val_loss: 53630951424.0000 - val_root_mean_squared_error: 231583.5781\n",
      "Epoch 151/200\n",
      "11/11 [==============================] - 0s 10ms/step - loss: 72212365312.0000 - root_mean_squared_error: 268723.5938 - val_loss: 53635346432.0000 - val_root_mean_squared_error: 231593.0781\n",
      "Epoch 152/200\n",
      "11/11 [==============================] - 0s 10ms/step - loss: 72486928384.0000 - root_mean_squared_error: 269233.9688 - val_loss: 53653389312.0000 - val_root_mean_squared_error: 231632.0156\n",
      "Epoch 153/200\n",
      "11/11 [==============================] - 0s 10ms/step - loss: 71215964160.0000 - root_mean_squared_error: 266863.1875 - val_loss: 53620060160.0000 - val_root_mean_squared_error: 231560.0625\n",
      "Epoch 154/200\n",
      "11/11 [==============================] - 0s 10ms/step - loss: 73382821888.0000 - root_mean_squared_error: 270892.6250 - val_loss: 53581811712.0000 - val_root_mean_squared_error: 231477.4375\n",
      "Epoch 155/200\n",
      "11/11 [==============================] - 0s 10ms/step - loss: 71253319680.0000 - root_mean_squared_error: 266933.1875 - val_loss: 53571297280.0000 - val_root_mean_squared_error: 231454.7344\n",
      "Epoch 156/200\n",
      "11/11 [==============================] - 0s 10ms/step - loss: 72011300864.0000 - root_mean_squared_error: 268349.2188 - val_loss: 53556756480.0000 - val_root_mean_squared_error: 231423.3281\n",
      "Epoch 157/200\n",
      "11/11 [==============================] - 0s 10ms/step - loss: 72105984000.0000 - root_mean_squared_error: 268525.5625 - val_loss: 53545263104.0000 - val_root_mean_squared_error: 231398.4844\n",
      "Epoch 158/200\n",
      "11/11 [==============================] - 0s 10ms/step - loss: 69863890944.0000 - root_mean_squared_error: 264317.7812 - val_loss: 53500370944.0000 - val_root_mean_squared_error: 231301.4688\n",
      "Epoch 159/200\n",
      "11/11 [==============================] - 0s 11ms/step - loss: 71680827392.0000 - root_mean_squared_error: 267732.7812 - val_loss: 53489774592.0000 - val_root_mean_squared_error: 231278.5625\n",
      "Epoch 160/200\n",
      "11/11 [==============================] - 0s 11ms/step - loss: 70783344640.0000 - root_mean_squared_error: 266051.4062 - val_loss: 53465210880.0000 - val_root_mean_squared_error: 231225.4531\n",
      "Epoch 161/200\n"
     ]
    },
    {
     "name": "stdout",
     "output_type": "stream",
     "text": [
      "11/11 [==============================] - 0s 10ms/step - loss: 70641147904.0000 - root_mean_squared_error: 265784.0312 - val_loss: 53461008384.0000 - val_root_mean_squared_error: 231216.3594\n",
      "Epoch 162/200\n",
      "11/11 [==============================] - 0s 10ms/step - loss: 70801596416.0000 - root_mean_squared_error: 266085.6875 - val_loss: 53472153600.0000 - val_root_mean_squared_error: 231240.4688\n",
      "Epoch 163/200\n",
      "11/11 [==============================] - 0s 11ms/step - loss: 71322124288.0000 - root_mean_squared_error: 267062.0312 - val_loss: 53487366144.0000 - val_root_mean_squared_error: 231273.3594\n",
      "Epoch 164/200\n",
      "11/11 [==============================] - 0s 11ms/step - loss: 70499639296.0000 - root_mean_squared_error: 265517.6875 - val_loss: 53484261376.0000 - val_root_mean_squared_error: 231266.6406\n",
      "Epoch 165/200\n",
      "11/11 [==============================] - 0s 10ms/step - loss: 70109749248.0000 - root_mean_squared_error: 264782.4688 - val_loss: 53418577920.0000 - val_root_mean_squared_error: 231124.6094\n",
      "Epoch 166/200\n",
      "11/11 [==============================] - 0s 10ms/step - loss: 70834585600.0000 - root_mean_squared_error: 266147.6875 - val_loss: 53427937280.0000 - val_root_mean_squared_error: 231144.8438\n",
      "Epoch 167/200\n",
      "11/11 [==============================] - 0s 10ms/step - loss: 70615670784.0000 - root_mean_squared_error: 265736.0938 - val_loss: 53437050880.0000 - val_root_mean_squared_error: 231164.5469\n",
      "Epoch 168/200\n",
      "11/11 [==============================] - 0s 10ms/step - loss: 71397384192.0000 - root_mean_squared_error: 267202.9062 - val_loss: 53381443584.0000 - val_root_mean_squared_error: 231044.2500\n",
      "Epoch 169/200\n",
      "11/11 [==============================] - 0s 11ms/step - loss: 70241886208.0000 - root_mean_squared_error: 265031.8438 - val_loss: 53359054848.0000 - val_root_mean_squared_error: 230995.7969\n",
      "Epoch 170/200\n",
      "11/11 [==============================] - 0s 10ms/step - loss: 71342563328.0000 - root_mean_squared_error: 267100.2812 - val_loss: 53357203456.0000 - val_root_mean_squared_error: 230991.7812\n",
      "Epoch 171/200\n",
      "11/11 [==============================] - 0s 11ms/step - loss: 70151692288.0000 - root_mean_squared_error: 264861.6562 - val_loss: 53352579072.0000 - val_root_mean_squared_error: 230981.7656\n",
      "Epoch 172/200\n",
      "11/11 [==============================] - 0s 10ms/step - loss: 71392354304.0000 - root_mean_squared_error: 267193.4688 - val_loss: 53386551296.0000 - val_root_mean_squared_error: 231055.2969\n",
      "Epoch 173/200\n",
      "11/11 [==============================] - 0s 10ms/step - loss: 70669221888.0000 - root_mean_squared_error: 265836.8125 - val_loss: 53421080576.0000 - val_root_mean_squared_error: 231130.0156\n",
      "Epoch 174/200\n",
      "11/11 [==============================] - 0s 10ms/step - loss: 70040010752.0000 - root_mean_squared_error: 264650.7188 - val_loss: 53406072832.0000 - val_root_mean_squared_error: 231097.5469\n",
      "Epoch 175/200\n",
      "11/11 [==============================] - 0s 10ms/step - loss: 70578970624.0000 - root_mean_squared_error: 265667.0312 - val_loss: 53405409280.0000 - val_root_mean_squared_error: 231096.1094\n",
      "Epoch 176/200\n",
      "11/11 [==============================] - 0s 10ms/step - loss: 69129027584.0000 - root_mean_squared_error: 262924.0000 - val_loss: 53417844736.0000 - val_root_mean_squared_error: 231123.0000\n",
      "Epoch 177/200\n",
      "11/11 [==============================] - 0s 10ms/step - loss: 70296969216.0000 - root_mean_squared_error: 265135.7812 - val_loss: 53429977088.0000 - val_root_mean_squared_error: 231149.2500\n",
      "Epoch 178/200\n",
      "11/11 [==============================] - 0s 11ms/step - loss: 70800015360.0000 - root_mean_squared_error: 266082.7188 - val_loss: 53425078272.0000 - val_root_mean_squared_error: 231138.6562\n",
      "Epoch 179/200\n",
      "11/11 [==============================] - 0s 12ms/step - loss: 70882410496.0000 - root_mean_squared_error: 266237.5000 - val_loss: 53414895616.0000 - val_root_mean_squared_error: 231116.6250\n",
      "Epoch 180/200\n",
      "11/11 [==============================] - 0s 12ms/step - loss: 70868090880.0000 - root_mean_squared_error: 266210.6250 - val_loss: 53400977408.0000 - val_root_mean_squared_error: 231086.5156\n",
      "Epoch 181/200\n",
      "11/11 [==============================] - 0s 11ms/step - loss: 70950305792.0000 - root_mean_squared_error: 266365.0000 - val_loss: 53394255872.0000 - val_root_mean_squared_error: 231071.9688\n"
     ]
    }
   ],
   "source": [
    "num_model_cb = keras.models.Sequential()\n",
    "num_model_cb.add(\n",
    "    keras.layers.Dense(30, activation=\"relu\", input_dim=X_tb_train.shape[1])\n",
    ")\n",
    "num_model_cb.add(keras.layers.Dropout(0.5))\n",
    "num_model_cb.add(keras.layers.Dense(30, activation=\"relu\"))\n",
    "num_model_cb.add(keras.layers.Dense(1))\n",
    "\n",
    "# Criando o callback\n",
    "early_stopping = keras.callbacks.EarlyStopping(patience=10, restore_best_weights=True)\n",
    "# Para Windows (ou Linux e versões futuras do TF)\n",
    "# num_model.compile(loss=\"mean_squared_error\", optimizer=keras.optimizers.Adam(lr=1e-3))\n",
    "num_model_cb.compile(loss=\"mean_squared_error\", optimizer=keras.optimizers.legacy.Adam(lr=1e-2), metrics=[keras.metrics.RootMeanSquaredError()])\n",
    "\n",
    "h = num_model_cb.fit(X_tb_train, np.array(y_train), epochs = 200, batch_size = 1024, validation_split = 0.1, callbacks=[early_stopping])"
   ]
  },
  {
   "cell_type": "code",
   "execution_count": 56,
   "metadata": {},
   "outputs": [
    {
     "data": {
      "text/plain": [
       "<Axes: xlabel='epoch', ylabel='train_rmse'>"
      ]
     },
     "execution_count": 56,
     "metadata": {},
     "output_type": "execute_result"
    },
    {
     "data": {
      "image/png": "[encoded data removed]",
      "text/plain": [
       "<Figure size 640x480 with 1 Axes>"
      ]
     },
     "metadata": {},
     "output_type": "display_data"
    }
   ],
   "source": [
    "tb_num_model = pd.DataFrame(h.history)\n",
    "tb_num_model[\"epoch\"] = tb_num_model.index + 1\n",
    "tb_num_model[\"train_rmse\"] = np.sqrt(tb_num_model[\"loss\"])\n",
    "tb_num_model[\"val_rmse\"] = np.sqrt(tb_num_model[\"val_loss\"])\n",
    "sns.lineplot(data=tb_num_model, x = \"epoch\", y = \"train_rmse\", label = \"train_rmse\")\n",
    "sns.lineplot(data=tb_num_model, x = \"epoch\", y = \"val_rmse\", label = \"val_rmse\")"
   ]
  },
  {
   "cell_type": "code",
   "execution_count": 57,
   "metadata": {},
   "outputs": [
    {
     "name": "stdout",
     "output_type": "stream",
     "text": [
      "97/97 [==============================] - 0s 2ms/step\n",
      "MAPE: 0.3301087059333413\n"
     ]
    }
   ],
   "source": [
    "y_test_pred = num_model.predict(X_tb_test)\n",
    "print(f\"MAPE: {np.sqrt(mean_squared_error(y_test, y_test_pred))/y_test.mean()}\")"
   ]
  },
  {
   "cell_type": "markdown",
   "metadata": {},
   "source": [
    "## Criando Rede Neural Convolucional (Trabalhando com Imagens)"
   ]
  },
  {
   "cell_type": "code",
   "execution_count": 58,
   "metadata": {},
   "outputs": [
    {
     "name": "stdout",
     "output_type": "stream",
     "text": [
      "Epoch 1/100\n",
      "175/175 [==============================] - 7s 35ms/step - loss: 215698423808.0000 - root_mean_squared_error: 464433.4375 - val_loss: 142482718720.0000 - val_root_mean_squared_error: 377468.8438\n",
      "Epoch 2/100\n",
      "175/175 [==============================] - 6s 33ms/step - loss: 156710764544.0000 - root_mean_squared_error: 395867.0938 - val_loss: 142727315456.0000 - val_root_mean_squared_error: 377792.6875\n",
      "Epoch 3/100\n",
      "175/175 [==============================] - 6s 33ms/step - loss: 152526848000.0000 - root_mean_squared_error: 390546.8438 - val_loss: 137134456832.0000 - val_root_mean_squared_error: 370316.6875\n",
      "Epoch 4/100\n",
      "175/175 [==============================] - 6s 33ms/step - loss: 150144335872.0000 - root_mean_squared_error: 387484.6250 - val_loss: 134270091264.0000 - val_root_mean_squared_error: 366428.8438\n",
      "Epoch 5/100\n",
      "175/175 [==============================] - 6s 33ms/step - loss: 147160317952.0000 - root_mean_squared_error: 383614.8125 - val_loss: 130882854912.0000 - val_root_mean_squared_error: 361777.3438\n",
      "Epoch 6/100\n",
      "175/175 [==============================] - 6s 33ms/step - loss: 144428335104.0000 - root_mean_squared_error: 380037.2812 - val_loss: 132239056896.0000 - val_root_mean_squared_error: 363646.8750\n",
      "Epoch 7/100\n",
      "175/175 [==============================] - 6s 32ms/step - loss: 143523971072.0000 - root_mean_squared_error: 378845.5625 - val_loss: 129890508800.0000 - val_root_mean_squared_error: 360403.2500\n",
      "Epoch 8/100\n",
      "175/175 [==============================] - 6s 32ms/step - loss: 140676235264.0000 - root_mean_squared_error: 375068.3125 - val_loss: 128317538304.0000 - val_root_mean_squared_error: 358214.3750\n",
      "Epoch 9/100\n",
      "175/175 [==============================] - 6s 32ms/step - loss: 140707954688.0000 - root_mean_squared_error: 375110.5938 - val_loss: 128481935360.0000 - val_root_mean_squared_error: 358443.7812\n",
      "Epoch 10/100\n",
      "175/175 [==============================] - 6s 32ms/step - loss: 139872960512.0000 - root_mean_squared_error: 373995.9375 - val_loss: 129116725248.0000 - val_root_mean_squared_error: 359328.1562\n",
      "Epoch 11/100\n",
      "175/175 [==============================] - 6s 32ms/step - loss: 139869782016.0000 - root_mean_squared_error: 373991.6875 - val_loss: 132779196416.0000 - val_root_mean_squared_error: 364388.8125\n",
      "Epoch 12/100\n",
      "175/175 [==============================] - 6s 32ms/step - loss: 139032821760.0000 - root_mean_squared_error: 372871.0625 - val_loss: 127782666240.0000 - val_root_mean_squared_error: 357467.0000\n",
      "Epoch 13/100\n",
      "175/175 [==============================] - 6s 32ms/step - loss: 139872796672.0000 - root_mean_squared_error: 373995.7188 - val_loss: 129873502208.0000 - val_root_mean_squared_error: 360379.6562\n",
      "Epoch 14/100\n",
      "175/175 [==============================] - 6s 33ms/step - loss: 140332351488.0000 - root_mean_squared_error: 374609.5938 - val_loss: 129291517952.0000 - val_root_mean_squared_error: 359571.3125\n",
      "Epoch 15/100\n",
      "175/175 [==============================] - 6s 32ms/step - loss: 138779688960.0000 - root_mean_squared_error: 372531.4688 - val_loss: 127430057984.0000 - val_root_mean_squared_error: 356973.4688\n",
      "Epoch 16/100\n",
      "175/175 [==============================] - 6s 33ms/step - loss: 139122098176.0000 - root_mean_squared_error: 372990.7500 - val_loss: 130422824960.0000 - val_root_mean_squared_error: 361141.0000\n",
      "Epoch 17/100\n",
      "175/175 [==============================] - 6s 32ms/step - loss: 139217780736.0000 - root_mean_squared_error: 373119.0000 - val_loss: 126963408896.0000 - val_root_mean_squared_error: 356319.2500\n",
      "Epoch 18/100\n",
      "175/175 [==============================] - 6s 32ms/step - loss: 137635774464.0000 - root_mean_squared_error: 370992.9688 - val_loss: 126912372736.0000 - val_root_mean_squared_error: 356247.6250\n",
      "Epoch 19/100\n",
      "175/175 [==============================] - 6s 32ms/step - loss: 137636659200.0000 - root_mean_squared_error: 370994.1562 - val_loss: 126308548608.0000 - val_root_mean_squared_error: 355399.1250\n",
      "Epoch 20/100\n",
      "175/175 [==============================] - 6s 33ms/step - loss: 137410232320.0000 - root_mean_squared_error: 370688.8750 - val_loss: 128357531648.0000 - val_root_mean_squared_error: 358270.1875\n",
      "Epoch 21/100\n",
      "175/175 [==============================] - 6s 33ms/step - loss: 137176694784.0000 - root_mean_squared_error: 370373.7188 - val_loss: 126692155392.0000 - val_root_mean_squared_error: 355938.4062\n",
      "Epoch 22/100\n",
      "175/175 [==============================] - 6s 33ms/step - loss: 136599986176.0000 - root_mean_squared_error: 369594.3438 - val_loss: 125768843264.0000 - val_root_mean_squared_error: 354639.0312\n",
      "Epoch 23/100\n",
      "175/175 [==============================] - 6s 33ms/step - loss: 136611684352.0000 - root_mean_squared_error: 369610.1875 - val_loss: 126267752448.0000 - val_root_mean_squared_error: 355341.7500\n",
      "Epoch 24/100\n",
      "175/175 [==============================] - 6s 33ms/step - loss: 136689934336.0000 - root_mean_squared_error: 369716.0312 - val_loss: 125566312448.0000 - val_root_mean_squared_error: 354353.3750\n",
      "Epoch 25/100\n",
      "175/175 [==============================] - 6s 33ms/step - loss: 135446757376.0000 - root_mean_squared_error: 368030.9062 - val_loss: 125825245184.0000 - val_root_mean_squared_error: 354718.5312\n",
      "Epoch 26/100\n",
      "175/175 [==============================] - 6s 33ms/step - loss: 137124331520.0000 - root_mean_squared_error: 370303.0312 - val_loss: 124670746624.0000 - val_root_mean_squared_error: 353087.4375\n",
      "Epoch 27/100\n",
      "175/175 [==============================] - 6s 33ms/step - loss: 134598033408.0000 - root_mean_squared_error: 366876.0312 - val_loss: 129803886592.0000 - val_root_mean_squared_error: 360283.0625\n",
      "Epoch 28/100\n",
      "175/175 [==============================] - 6s 33ms/step - loss: 135314505728.0000 - root_mean_squared_error: 367851.1875 - val_loss: 126501945344.0000 - val_root_mean_squared_error: 355671.1250\n",
      "Epoch 29/100\n",
      "175/175 [==============================] - 6s 33ms/step - loss: 134285623296.0000 - root_mean_squared_error: 366450.0312 - val_loss: 126393327616.0000 - val_root_mean_squared_error: 355518.4062\n",
      "Epoch 30/100\n",
      "175/175 [==============================] - 6s 32ms/step - loss: 133996822528.0000 - root_mean_squared_error: 366055.7500 - val_loss: 123040161792.0000 - val_root_mean_squared_error: 350770.8125\n",
      "Epoch 31/100\n",
      "175/175 [==============================] - 6s 33ms/step - loss: 134028394496.0000 - root_mean_squared_error: 366098.8750 - val_loss: 124861906944.0000 - val_root_mean_squared_error: 353358.0312\n",
      "Epoch 32/100\n",
      "175/175 [==============================] - 6s 33ms/step - loss: 133788499968.0000 - root_mean_squared_error: 365771.0938 - val_loss: 122205298688.0000 - val_root_mean_squared_error: 349578.7500\n",
      "Epoch 33/100\n",
      "175/175 [==============================] - 6s 32ms/step - loss: 132698357760.0000 - root_mean_squared_error: 364277.8438 - val_loss: 123583275008.0000 - val_root_mean_squared_error: 351544.1250\n",
      "Epoch 34/100\n",
      "175/175 [==============================] - 6s 32ms/step - loss: 132072833024.0000 - root_mean_squared_error: 363418.2500 - val_loss: 122391879680.0000 - val_root_mean_squared_error: 349845.5000\n",
      "Epoch 35/100\n",
      "175/175 [==============================] - 6s 33ms/step - loss: 132340375552.0000 - root_mean_squared_error: 363786.1562 - val_loss: 122028564480.0000 - val_root_mean_squared_error: 349325.8750\n",
      "Epoch 36/100\n",
      "175/175 [==============================] - 6s 33ms/step - loss: 133228060672.0000 - root_mean_squared_error: 365004.1875 - val_loss: 124164775936.0000 - val_root_mean_squared_error: 352370.2188\n",
      "Epoch 37/100\n",
      "175/175 [==============================] - 6s 35ms/step - loss: 132998709248.0000 - root_mean_squared_error: 364689.8750 - val_loss: 122401988608.0000 - val_root_mean_squared_error: 349859.9688\n",
      "Epoch 38/100\n",
      "175/175 [==============================] - 6s 34ms/step - loss: 131904536576.0000 - root_mean_squared_error: 363186.6562 - val_loss: 121619816448.0000 - val_root_mean_squared_error: 348740.3125\n",
      "Epoch 39/100\n",
      "175/175 [==============================] - 6s 33ms/step - loss: 131401613312.0000 - root_mean_squared_error: 362493.5938 - val_loss: 124155928576.0000 - val_root_mean_squared_error: 352357.6562\n",
      "Epoch 40/100\n",
      "175/175 [==============================] - 6s 33ms/step - loss: 130757353472.0000 - root_mean_squared_error: 361603.8750 - val_loss: 122467999744.0000 - val_root_mean_squared_error: 349954.2812\n"
     ]
    },
    {
     "name": "stdout",
     "output_type": "stream",
     "text": [
      "Epoch 41/100\n",
      "175/175 [==============================] - 6s 33ms/step - loss: 130771484672.0000 - root_mean_squared_error: 361623.4062 - val_loss: 123045142528.0000 - val_root_mean_squared_error: 350777.9062\n",
      "Epoch 42/100\n",
      "175/175 [==============================] - 6s 32ms/step - loss: 131433578496.0000 - root_mean_squared_error: 362537.6875 - val_loss: 122607271936.0000 - val_root_mean_squared_error: 350153.2188\n",
      "Epoch 43/100\n",
      "175/175 [==============================] - 6s 32ms/step - loss: 130746785792.0000 - root_mean_squared_error: 361589.2500 - val_loss: 121762701312.0000 - val_root_mean_squared_error: 348945.1250\n",
      "Epoch 44/100\n",
      "175/175 [==============================] - 6s 33ms/step - loss: 130475458560.0000 - root_mean_squared_error: 361213.8750 - val_loss: 122326163456.0000 - val_root_mean_squared_error: 349751.5625\n",
      "Epoch 45/100\n",
      "175/175 [==============================] - 6s 32ms/step - loss: 131566215168.0000 - root_mean_squared_error: 362720.5625 - val_loss: 122780827648.0000 - val_root_mean_squared_error: 350400.9375\n",
      "Epoch 46/100\n",
      "175/175 [==============================] - 6s 32ms/step - loss: 129965416448.0000 - root_mean_squared_error: 360507.1562 - val_loss: 121769246720.0000 - val_root_mean_squared_error: 348954.5000\n",
      "Epoch 47/100\n",
      "175/175 [==============================] - 6s 33ms/step - loss: 130869854208.0000 - root_mean_squared_error: 361759.3750 - val_loss: 123555143680.0000 - val_root_mean_squared_error: 351504.1250\n",
      "Epoch 48/100\n",
      "175/175 [==============================] - 6s 32ms/step - loss: 130081341440.0000 - root_mean_squared_error: 360667.9062 - val_loss: 122375831552.0000 - val_root_mean_squared_error: 349822.5625\n"
     ]
    }
   ],
   "source": [
    "img_model = keras.models.Sequential(\n",
    "    [\n",
    "        # Camadas de entrada\n",
    "        keras.layers.Reshape((60, 80, 3)),\n",
    "        keras.layers.Rescaling(1.0 / 255),\n",
    "        # Camadas convolucionais (ao estilo LeNet)\n",
    "        ## Primeiro nível\n",
    "        keras.layers.Conv2D(32, (3, 3), activation='relu'),\n",
    "        keras.layers.MaxPooling2D(pool_size=(2, 2)),\n",
    "        keras.layers.Dropout(0.2),\n",
    "        ## Segundo nível\n",
    "        keras.layers.Conv2D(64, (3, 3), activation='relu'),\n",
    "        keras.layers.MaxPooling2D(pool_size=(2, 2)),\n",
    "        keras.layers.Dropout(0.3),\n",
    "        ## Achatando antes das camadas densas\n",
    "        keras.layers.Flatten(),\n",
    "        # Camadas densas\n",
    "        keras.layers.Dense(1),\n",
    "    ]\n",
    ")\n",
    "early_stopping = keras.callbacks.EarlyStopping(patience=10, restore_best_weights=True)\n",
    "img_model.compile(loss=\"mean_squared_error\", optimizer=keras.optimizers.legacy.Adam(lr=1e-2), metrics=[keras.metrics.RootMeanSquaredError()])\n",
    "h = img_model.fit(X_img_train, np.array(y_train), epochs = 100, batch_size = 64, validation_split = 0.1, callbacks=[early_stopping])"
   ]
  },
  {
   "cell_type": "code",
   "execution_count": 59,
   "metadata": {},
   "outputs": [
    {
     "data": {
      "text/plain": [
       "<Axes: xlabel='epoch', ylabel='train_rmse'>"
      ]
     },
     "execution_count": 59,
     "metadata": {},
     "output_type": "execute_result"
    },
    {
     "data": {
      "image/png": "[encoded data removed]",
      "text/plain": [
       "<Figure size 640x480 with 1 Axes>"
      ]
     },
     "metadata": {},
     "output_type": "display_data"
    }
   ],
   "source": [
    "tb_img_model = pd.DataFrame(h.history)\n",
    "tb_img_model[\"epoch\"] = tb_img_model.index + 1\n",
    "tb_img_model[\"train_rmse\"] = np.sqrt(tb_img_model[\"loss\"])\n",
    "tb_img_model[\"val_rmse\"] = np.sqrt(tb_img_model[\"val_loss\"])\n",
    "sns.lineplot(data=tb_img_model, x = \"epoch\", y = \"train_rmse\", label = \"train_rmse\")\n",
    "sns.lineplot(data=tb_img_model, x = \"epoch\", y = \"val_rmse\", label = \"val_rmse\")"
   ]
  },
  {
   "cell_type": "code",
   "execution_count": 60,
   "metadata": {},
   "outputs": [
    {
     "name": "stdout",
     "output_type": "stream",
     "text": [
      "97/97 [==============================] - 1s 9ms/step\n",
      "MAPE: 0.5079752958717586\n"
     ]
    }
   ],
   "source": [
    "y_test_pred = img_model.predict(X_img_test)\n",
    "print(f\"MAPE: {np.sqrt(mean_squared_error(y_test, y_test_pred))/y_test.mean()}\")"
   ]
  },
  {
   "cell_type": "markdown",
   "metadata": {},
   "source": [
    "## Utilizando a `Funtional API` do Keras para Construir Modelos Complexos"
   ]
  },
  {
   "cell_type": "code",
   "execution_count": null,
   "metadata": {},
   "outputs": [],
   "source": [
    "# Rede Numérica\n",
    "input_num = keras.layers.Input(shape=X_tb_train.shape[1], name = \"wide_input\")\n",
    "wide_1 = keras.layers.Dense(30, activation=\"relu\", name = \"wide_h1\")(input_num)\n",
    "wide_drop_1 = keras.layers.Dropout(0.2, name = \"wide_dropout1\")(wide_1)\n",
    "wide_2 = keras.layers.Dense(30, activation=\"relu\", name = \"wide_h2\")(wide_drop_1)"
   ]
  },
  {
   "cell_type": "code",
   "execution_count": 61,
   "metadata": {},
   "outputs": [],
   "source": [
    "# Rede de Imagem\n",
    "# Camadas de entrada\n",
    "input_img = keras.layers.Input(shape=X_img_train.shape[1], name = \"deep_input\")\n",
    "deep_reshape = keras.layers.Reshape((60, 80, 3))(input_img)\n",
    "deep_rescale = keras.layers.Rescaling(1.0 / 255)(deep_reshape)\n",
    "# Primeiro bloco\n",
    "deep_conv_1 = keras.layers.Conv2D(32, 3, activation=\"relu\", name = \"deep_conv1\")(deep_rescale)\n",
    "deep_pool_1 = keras.layers.MaxPooling2D(pool_size=(2, 2), name = \"deep_pool1\")(deep_conv_1)\n",
    "deep_drop_1 = keras.layers.Dropout(0.2, name = \"deep_dropout1\")(deep_pool_1)\n",
    "# Segundo bloco\n",
    "deep_conv_2 = keras.layers.Conv2D(64, 3, activation=\"relu\", name = \"deep_conv2\")(deep_drop_1)\n",
    "deep_pool_2 = keras.layers.MaxPooling2D(pool_size=(2, 2), name = \"deep_pool2\")(deep_conv_2)\n",
    "deep_drop_2 = keras.layers.Dropout(0.3, name = \"deep_dropout2\")(deep_pool_2)\n",
    "# Achatando antes das camadas densas\n",
    "deep_flat = keras.layers.Flatten(name = \"deep_flat\")(deep_drop_2)\n",
    "\n",
    "# Concatenando Rede Convolucional e MLP\n",
    "concat = keras.layers.concatenate([wide_2, deep_flat])\n",
    "output = keras.layers.Dense(1, name = \"output\")(concat)\n",
    "\n",
    "full_model = keras.models.Model(inputs=[input_num, input_img], outputs=[output])\n",
    "\n",
    "full_model.compile(loss=\"mean_squared_error\", \n",
    "                   optimizer=keras.optimizers.legacy.Adam(lr=1e-3), \n",
    "                   metrics=[keras.metrics.RootMeanSquaredError()])"
   ]
  },
  {
   "cell_type": "code",
   "execution_count": 62,
   "metadata": {},
   "outputs": [
    {
     "name": "stdout",
     "output_type": "stream",
     "text": [
      "Epoch 1/100\n",
      "175/175 [==============================] - 7s 35ms/step - loss: 214468984832.0000 - root_mean_squared_error: 463107.9688 - val_loss: 133544280064.0000 - val_root_mean_squared_error: 365437.0938\n",
      "Epoch 2/100\n",
      "175/175 [==============================] - 6s 32ms/step - loss: 120802820096.0000 - root_mean_squared_error: 347567.0000 - val_loss: 93458817024.0000 - val_root_mean_squared_error: 305710.3438\n",
      "Epoch 3/100\n",
      "175/175 [==============================] - 6s 32ms/step - loss: 92491194368.0000 - root_mean_squared_error: 304123.6562 - val_loss: 81230635008.0000 - val_root_mean_squared_error: 285009.8750\n",
      "Epoch 4/100\n",
      "175/175 [==============================] - 6s 33ms/step - loss: 80176889856.0000 - root_mean_squared_error: 283155.2500 - val_loss: 71430201344.0000 - val_root_mean_squared_error: 267264.2812\n",
      "Epoch 5/100\n",
      "175/175 [==============================] - 6s 33ms/step - loss: 71602388992.0000 - root_mean_squared_error: 267586.2188 - val_loss: 65097990144.0000 - val_root_mean_squared_error: 255143.0781\n",
      "Epoch 6/100\n",
      "175/175 [==============================] - 6s 33ms/step - loss: 65272885248.0000 - root_mean_squared_error: 255485.5938 - val_loss: 60704817152.0000 - val_root_mean_squared_error: 246383.4688\n",
      "Epoch 7/100\n",
      "175/175 [==============================] - 6s 32ms/step - loss: 61139283968.0000 - root_mean_squared_error: 247263.5938 - val_loss: 57670385664.0000 - val_root_mean_squared_error: 240146.5938\n",
      "Epoch 8/100\n",
      "175/175 [==============================] - 6s 33ms/step - loss: 58057498624.0000 - root_mean_squared_error: 240951.2344 - val_loss: 55691747328.0000 - val_root_mean_squared_error: 235990.9844\n",
      "Epoch 9/100\n",
      "175/175 [==============================] - 6s 32ms/step - loss: 56005439488.0000 - root_mean_squared_error: 236654.6875 - val_loss: 55042842624.0000 - val_root_mean_squared_error: 234612.1094\n",
      "Epoch 10/100\n",
      "175/175 [==============================] - 6s 32ms/step - loss: 55055364096.0000 - root_mean_squared_error: 234638.7969 - val_loss: 54222487552.0000 - val_root_mean_squared_error: 232857.2188\n",
      "Epoch 11/100\n",
      "175/175 [==============================] - 6s 33ms/step - loss: 53831151616.0000 - root_mean_squared_error: 232015.4062 - val_loss: 52792889344.0000 - val_root_mean_squared_error: 229767.0312\n",
      "Epoch 12/100\n",
      "175/175 [==============================] - 6s 32ms/step - loss: 52560957440.0000 - root_mean_squared_error: 229261.7656 - val_loss: 52390830080.0000 - val_root_mean_squared_error: 228890.4375\n",
      "Epoch 13/100\n",
      "175/175 [==============================] - 6s 33ms/step - loss: 52383649792.0000 - root_mean_squared_error: 228874.7500 - val_loss: 52380676096.0000 - val_root_mean_squared_error: 228868.2500\n",
      "Epoch 14/100\n",
      "175/175 [==============================] - 6s 33ms/step - loss: 51788587008.0000 - root_mean_squared_error: 227571.0625 - val_loss: 51878670336.0000 - val_root_mean_squared_error: 227768.8906\n",
      "Epoch 15/100\n",
      "175/175 [==============================] - 6s 32ms/step - loss: 51206225920.0000 - root_mean_squared_error: 226287.9219 - val_loss: 52178153472.0000 - val_root_mean_squared_error: 228425.3750\n",
      "Epoch 16/100\n",
      "175/175 [==============================] - 6s 32ms/step - loss: 51235393536.0000 - root_mean_squared_error: 226352.3594 - val_loss: 52153659392.0000 - val_root_mean_squared_error: 228371.7500\n",
      "Epoch 17/100\n",
      "175/175 [==============================] - 6s 32ms/step - loss: 50336468992.0000 - root_mean_squared_error: 224357.9062 - val_loss: 53321502720.0000 - val_root_mean_squared_error: 230914.5000\n",
      "Epoch 18/100\n",
      "175/175 [==============================] - 6s 32ms/step - loss: 50269655040.0000 - root_mean_squared_error: 224208.9531 - val_loss: 51279273984.0000 - val_root_mean_squared_error: 226449.2812\n",
      "Epoch 19/100\n",
      "175/175 [==============================] - 6s 33ms/step - loss: 50642927616.0000 - root_mean_squared_error: 225039.8281 - val_loss: 51959242752.0000 - val_root_mean_squared_error: 227945.7031\n",
      "Epoch 20/100\n",
      "175/175 [==============================] - 6s 32ms/step - loss: 49870405632.0000 - root_mean_squared_error: 223316.8281 - val_loss: 51766571008.0000 - val_root_mean_squared_error: 227522.6875\n",
      "Epoch 21/100\n",
      "175/175 [==============================] - 6s 32ms/step - loss: 50058473472.0000 - root_mean_squared_error: 223737.5156 - val_loss: 50825838592.0000 - val_root_mean_squared_error: 225445.8594\n",
      "Epoch 22/100\n",
      "175/175 [==============================] - 6s 32ms/step - loss: 49580404736.0000 - root_mean_squared_error: 222666.5781 - val_loss: 51136290816.0000 - val_root_mean_squared_error: 226133.3438\n",
      "Epoch 23/100\n",
      "175/175 [==============================] - 6s 32ms/step - loss: 49227628544.0000 - root_mean_squared_error: 221873.0000 - val_loss: 50996563968.0000 - val_root_mean_squared_error: 225824.1875\n",
      "Epoch 24/100\n",
      "175/175 [==============================] - 6s 32ms/step - loss: 49670086656.0000 - root_mean_squared_error: 222867.8750 - val_loss: 53148504064.0000 - val_root_mean_squared_error: 230539.5938\n",
      "Epoch 25/100\n",
      "175/175 [==============================] - 6s 32ms/step - loss: 49029775360.0000 - root_mean_squared_error: 221426.6875 - val_loss: 50966671360.0000 - val_root_mean_squared_error: 225758.0000\n",
      "Epoch 26/100\n",
      "175/175 [==============================] - 6s 32ms/step - loss: 49230794752.0000 - root_mean_squared_error: 221880.1406 - val_loss: 51753676800.0000 - val_root_mean_squared_error: 227494.3438\n",
      "Epoch 27/100\n",
      "175/175 [==============================] - 6s 32ms/step - loss: 49035218944.0000 - root_mean_squared_error: 221438.9688 - val_loss: 50564337664.0000 - val_root_mean_squared_error: 224865.1562\n",
      "Epoch 28/100\n",
      "175/175 [==============================] - 6s 32ms/step - loss: 48446791680.0000 - root_mean_squared_error: 220106.3125 - val_loss: 51607584768.0000 - val_root_mean_squared_error: 227173.0312\n",
      "Epoch 29/100\n",
      "175/175 [==============================] - 6s 32ms/step - loss: 49025060864.0000 - root_mean_squared_error: 221416.0312 - val_loss: 50703527936.0000 - val_root_mean_squared_error: 225174.4375\n",
      "Epoch 30/100\n",
      "175/175 [==============================] - 6s 32ms/step - loss: 48654077952.0000 - root_mean_squared_error: 220576.6875 - val_loss: 49987678208.0000 - val_root_mean_squared_error: 223579.2500\n",
      "Epoch 31/100\n",
      "175/175 [==============================] - 6s 33ms/step - loss: 48078069760.0000 - root_mean_squared_error: 219267.1250 - val_loss: 49825665024.0000 - val_root_mean_squared_error: 223216.6250\n",
      "Epoch 32/100\n",
      "175/175 [==============================] - 6s 33ms/step - loss: 48590229504.0000 - root_mean_squared_error: 220431.9219 - val_loss: 50166382592.0000 - val_root_mean_squared_error: 223978.5312\n",
      "Epoch 33/100\n",
      "175/175 [==============================] - 6s 33ms/step - loss: 48513978368.0000 - root_mean_squared_error: 220258.8906 - val_loss: 49873022976.0000 - val_root_mean_squared_error: 223322.6875\n",
      "Epoch 34/100\n",
      "175/175 [==============================] - 6s 33ms/step - loss: 48055578624.0000 - root_mean_squared_error: 219215.8281 - val_loss: 49607843840.0000 - val_root_mean_squared_error: 222728.1875\n",
      "Epoch 35/100\n",
      "175/175 [==============================] - 6s 33ms/step - loss: 47480094720.0000 - root_mean_squared_error: 217899.2812 - val_loss: 49645293568.0000 - val_root_mean_squared_error: 222812.2344\n",
      "Epoch 36/100\n",
      "175/175 [==============================] - 6s 33ms/step - loss: 47701180416.0000 - root_mean_squared_error: 218406.0000 - val_loss: 49553010688.0000 - val_root_mean_squared_error: 222605.0625\n",
      "Epoch 37/100\n",
      "175/175 [==============================] - 6s 33ms/step - loss: 47360925696.0000 - root_mean_squared_error: 217625.6562 - val_loss: 49780715520.0000 - val_root_mean_squared_error: 223115.9219\n",
      "Epoch 38/100\n",
      "175/175 [==============================] - 6s 33ms/step - loss: 47814680576.0000 - root_mean_squared_error: 218665.6875 - val_loss: 49196007424.0000 - val_root_mean_squared_error: 221801.7344\n",
      "Epoch 39/100\n",
      "175/175 [==============================] - 6s 33ms/step - loss: 47745241088.0000 - root_mean_squared_error: 218506.8438 - val_loss: 52234686464.0000 - val_root_mean_squared_error: 228549.0938\n",
      "Epoch 40/100\n",
      "175/175 [==============================] - 6s 33ms/step - loss: 48261369856.0000 - root_mean_squared_error: 219684.7031 - val_loss: 49846140928.0000 - val_root_mean_squared_error: 223262.5000\n"
     ]
    },
    {
     "name": "stdout",
     "output_type": "stream",
     "text": [
      "Epoch 41/100\n",
      "175/175 [==============================] - 6s 32ms/step - loss: 47249797120.0000 - root_mean_squared_error: 217370.1875 - val_loss: 49377234944.0000 - val_root_mean_squared_error: 222209.8906\n",
      "Epoch 42/100\n",
      "175/175 [==============================] - 6s 32ms/step - loss: 46975811584.0000 - root_mean_squared_error: 216739.0469 - val_loss: 51371425792.0000 - val_root_mean_squared_error: 226652.6562\n",
      "Epoch 43/100\n",
      "175/175 [==============================] - 6s 32ms/step - loss: 47346348032.0000 - root_mean_squared_error: 217592.1562 - val_loss: 48958246912.0000 - val_root_mean_squared_error: 221265.1094\n",
      "Epoch 44/100\n",
      "175/175 [==============================] - 6s 33ms/step - loss: 47167221760.0000 - root_mean_squared_error: 217180.1562 - val_loss: 49535483904.0000 - val_root_mean_squared_error: 222565.6875\n",
      "Epoch 45/100\n",
      "175/175 [==============================] - 6s 34ms/step - loss: 46819561472.0000 - root_mean_squared_error: 216378.2812 - val_loss: 49781432320.0000 - val_root_mean_squared_error: 223117.5312\n",
      "Epoch 46/100\n",
      "175/175 [==============================] - 6s 34ms/step - loss: 46866305024.0000 - root_mean_squared_error: 216486.2656 - val_loss: 48969785344.0000 - val_root_mean_squared_error: 221291.1719\n",
      "Epoch 47/100\n",
      "175/175 [==============================] - 6s 34ms/step - loss: 46284771328.0000 - root_mean_squared_error: 215138.9531 - val_loss: 48768774144.0000 - val_root_mean_squared_error: 220836.5312\n",
      "Epoch 48/100\n",
      "175/175 [==============================] - 6s 33ms/step - loss: 46868697088.0000 - root_mean_squared_error: 216491.7969 - val_loss: 48703582208.0000 - val_root_mean_squared_error: 220688.8750\n",
      "Epoch 49/100\n",
      "175/175 [==============================] - 6s 33ms/step - loss: 46002913280.0000 - root_mean_squared_error: 214482.8906 - val_loss: 50418774016.0000 - val_root_mean_squared_error: 224541.2500\n",
      "Epoch 50/100\n",
      "175/175 [==============================] - 6s 33ms/step - loss: 47089164288.0000 - root_mean_squared_error: 217000.3750 - val_loss: 49030832128.0000 - val_root_mean_squared_error: 221429.0625\n",
      "Epoch 51/100\n",
      "175/175 [==============================] - 6s 33ms/step - loss: 46652067840.0000 - root_mean_squared_error: 215990.8906 - val_loss: 49381273600.0000 - val_root_mean_squared_error: 222218.9844\n",
      "Epoch 52/100\n",
      "175/175 [==============================] - 6s 33ms/step - loss: 45867229184.0000 - root_mean_squared_error: 214166.3594 - val_loss: 49672187904.0000 - val_root_mean_squared_error: 222872.5781\n",
      "Epoch 53/100\n",
      "175/175 [==============================] - 6s 32ms/step - loss: 46091444224.0000 - root_mean_squared_error: 214689.1875 - val_loss: 48924479488.0000 - val_root_mean_squared_error: 221188.7812\n",
      "Epoch 54/100\n",
      "175/175 [==============================] - 6s 33ms/step - loss: 46332575744.0000 - root_mean_squared_error: 215250.0312 - val_loss: 48289128448.0000 - val_root_mean_squared_error: 219747.8750\n",
      "Epoch 55/100\n",
      "175/175 [==============================] - 6s 33ms/step - loss: 45670670336.0000 - root_mean_squared_error: 213706.9688 - val_loss: 48460505088.0000 - val_root_mean_squared_error: 220137.4688\n",
      "Epoch 56/100\n",
      "175/175 [==============================] - 6s 32ms/step - loss: 46107107328.0000 - root_mean_squared_error: 214725.6562 - val_loss: 49020010496.0000 - val_root_mean_squared_error: 221404.6250\n",
      "Epoch 57/100\n",
      "175/175 [==============================] - 6s 32ms/step - loss: 45605654528.0000 - root_mean_squared_error: 213554.7969 - val_loss: 48858673152.0000 - val_root_mean_squared_error: 221039.9844\n",
      "Epoch 58/100\n",
      "175/175 [==============================] - 6s 33ms/step - loss: 45956800512.0000 - root_mean_squared_error: 214375.3750 - val_loss: 48542130176.0000 - val_root_mean_squared_error: 220322.7812\n",
      "Epoch 59/100\n",
      "175/175 [==============================] - 6s 33ms/step - loss: 45488488448.0000 - root_mean_squared_error: 213280.3125 - val_loss: 48534724608.0000 - val_root_mean_squared_error: 220305.9844\n",
      "Epoch 60/100\n",
      "175/175 [==============================] - 6s 33ms/step - loss: 45406265344.0000 - root_mean_squared_error: 213087.4531 - val_loss: 47999291392.0000 - val_root_mean_squared_error: 219087.4062\n",
      "Epoch 61/100\n",
      "175/175 [==============================] - 6s 33ms/step - loss: 45543976960.0000 - root_mean_squared_error: 213410.3438 - val_loss: 48066027520.0000 - val_root_mean_squared_error: 219239.6562\n",
      "Epoch 62/100\n",
      "175/175 [==============================] - 6s 33ms/step - loss: 46020820992.0000 - root_mean_squared_error: 214524.6406 - val_loss: 48467574784.0000 - val_root_mean_squared_error: 220153.5312\n",
      "Epoch 63/100\n",
      "175/175 [==============================] - 6s 33ms/step - loss: 45745971200.0000 - root_mean_squared_error: 213883.0781 - val_loss: 48570318848.0000 - val_root_mean_squared_error: 220386.7500\n",
      "Epoch 64/100\n",
      "175/175 [==============================] - 6s 33ms/step - loss: 45220970496.0000 - root_mean_squared_error: 212652.2344 - val_loss: 48039743488.0000 - val_root_mean_squared_error: 219179.7031\n",
      "Epoch 65/100\n",
      "175/175 [==============================] - 6s 33ms/step - loss: 45409337344.0000 - root_mean_squared_error: 213094.6719 - val_loss: 47993331712.0000 - val_root_mean_squared_error: 219073.7969\n",
      "Epoch 66/100\n",
      "175/175 [==============================] - 6s 34ms/step - loss: 44635201536.0000 - root_mean_squared_error: 211270.4531 - val_loss: 48171737088.0000 - val_root_mean_squared_error: 219480.6094\n",
      "Epoch 67/100\n",
      "175/175 [==============================] - 6s 33ms/step - loss: 44519251968.0000 - root_mean_squared_error: 210995.8594 - val_loss: 48165474304.0000 - val_root_mean_squared_error: 219466.3438\n",
      "Epoch 68/100\n",
      "175/175 [==============================] - 6s 34ms/step - loss: 45400772608.0000 - root_mean_squared_error: 213074.5781 - val_loss: 48207659008.0000 - val_root_mean_squared_error: 219562.4219\n",
      "Epoch 69/100\n",
      "175/175 [==============================] - 6s 33ms/step - loss: 45316911104.0000 - root_mean_squared_error: 212877.6875 - val_loss: 48809844736.0000 - val_root_mean_squared_error: 220929.5000\n",
      "Epoch 70/100\n",
      "175/175 [==============================] - 6s 32ms/step - loss: 44702109696.0000 - root_mean_squared_error: 211428.7344 - val_loss: 48159916032.0000 - val_root_mean_squared_error: 219453.6719\n",
      "Epoch 71/100\n",
      "175/175 [==============================] - 6s 33ms/step - loss: 44554387456.0000 - root_mean_squared_error: 211079.1094 - val_loss: 48023310336.0000 - val_root_mean_squared_error: 219142.2188\n",
      "Epoch 72/100\n",
      "175/175 [==============================] - 6s 33ms/step - loss: 44505518080.0000 - root_mean_squared_error: 210963.3125 - val_loss: 47983259648.0000 - val_root_mean_squared_error: 219050.8125\n",
      "Epoch 73/100\n",
      "175/175 [==============================] - 6s 33ms/step - loss: 44513468416.0000 - root_mean_squared_error: 210982.1562 - val_loss: 48087228416.0000 - val_root_mean_squared_error: 219288.0000\n",
      "Epoch 74/100\n",
      "175/175 [==============================] - 6s 33ms/step - loss: 44517593088.0000 - root_mean_squared_error: 210991.9219 - val_loss: 49681596416.0000 - val_root_mean_squared_error: 222893.6875\n",
      "Epoch 75/100\n",
      "175/175 [==============================] - 6s 34ms/step - loss: 44955234304.0000 - root_mean_squared_error: 212026.5000 - val_loss: 48221843456.0000 - val_root_mean_squared_error: 219594.7188\n",
      "Epoch 76/100\n",
      "175/175 [==============================] - 6s 33ms/step - loss: 44074045440.0000 - root_mean_squared_error: 209938.1875 - val_loss: 48952819712.0000 - val_root_mean_squared_error: 221252.8438\n",
      "Epoch 77/100\n",
      "175/175 [==============================] - 6s 35ms/step - loss: 44018556928.0000 - root_mean_squared_error: 209806.0000 - val_loss: 48522960896.0000 - val_root_mean_squared_error: 220279.2812\n",
      "Epoch 78/100\n",
      "175/175 [==============================] - 6s 34ms/step - loss: 43753242624.0000 - root_mean_squared_error: 209172.7656 - val_loss: 48537034752.0000 - val_root_mean_squared_error: 220311.2188\n",
      "Epoch 79/100\n",
      "175/175 [==============================] - 6s 33ms/step - loss: 43793448960.0000 - root_mean_squared_error: 209268.8438 - val_loss: 48594726912.0000 - val_root_mean_squared_error: 220442.1094\n",
      "Epoch 80/100\n",
      "175/175 [==============================] - 6s 33ms/step - loss: 43468972032.0000 - root_mean_squared_error: 208492.1406 - val_loss: 48221114368.0000 - val_root_mean_squared_error: 219593.0625\n"
     ]
    },
    {
     "name": "stdout",
     "output_type": "stream",
     "text": [
      "Epoch 81/100\n",
      "175/175 [==============================] - 6s 33ms/step - loss: 43575091200.0000 - root_mean_squared_error: 208746.4688 - val_loss: 48095219712.0000 - val_root_mean_squared_error: 219306.2188\n",
      "Epoch 82/100\n",
      "175/175 [==============================] - 6s 34ms/step - loss: 43642163200.0000 - root_mean_squared_error: 208907.0625 - val_loss: 47881695232.0000 - val_root_mean_squared_error: 218818.8594\n",
      "Epoch 83/100\n",
      "175/175 [==============================] - 6s 33ms/step - loss: 43903893504.0000 - root_mean_squared_error: 209532.5625 - val_loss: 49353961472.0000 - val_root_mean_squared_error: 222157.5156\n",
      "Epoch 84/100\n",
      "175/175 [==============================] - 6s 33ms/step - loss: 43267055616.0000 - root_mean_squared_error: 208007.3438 - val_loss: 48191213568.0000 - val_root_mean_squared_error: 219524.9688\n",
      "Epoch 85/100\n",
      "175/175 [==============================] - 6s 34ms/step - loss: 43850387456.0000 - root_mean_squared_error: 209404.8438 - val_loss: 47949279232.0000 - val_root_mean_squared_error: 218973.2344\n",
      "Epoch 86/100\n",
      "175/175 [==============================] - 6s 34ms/step - loss: 43328471040.0000 - root_mean_squared_error: 208154.9219 - val_loss: 48244543488.0000 - val_root_mean_squared_error: 219646.4062\n",
      "Epoch 87/100\n",
      "175/175 [==============================] - 6s 33ms/step - loss: 42995167232.0000 - root_mean_squared_error: 207352.7656 - val_loss: 48196902912.0000 - val_root_mean_squared_error: 219537.9375\n",
      "Epoch 88/100\n",
      "175/175 [==============================] - 6s 34ms/step - loss: 43068334080.0000 - root_mean_squared_error: 207529.1094 - val_loss: 48178565120.0000 - val_root_mean_squared_error: 219496.1562\n",
      "Epoch 89/100\n",
      "175/175 [==============================] - 6s 33ms/step - loss: 42735476736.0000 - root_mean_squared_error: 206725.6094 - val_loss: 48140374016.0000 - val_root_mean_squared_error: 219409.1406\n",
      "Epoch 90/100\n",
      "175/175 [==============================] - 6s 33ms/step - loss: 42634944512.0000 - root_mean_squared_error: 206482.3125 - val_loss: 48297537536.0000 - val_root_mean_squared_error: 219767.0000\n",
      "Epoch 91/100\n",
      "175/175 [==============================] - 6s 34ms/step - loss: 42816884736.0000 - root_mean_squared_error: 206922.4062 - val_loss: 47882108928.0000 - val_root_mean_squared_error: 218819.8125\n",
      "Epoch 92/100\n",
      "175/175 [==============================] - 6s 33ms/step - loss: 42623623168.0000 - root_mean_squared_error: 206454.8906 - val_loss: 48578531328.0000 - val_root_mean_squared_error: 220405.3750\n"
     ]
    }
   ],
   "source": [
    "h = full_model.fit([X_tb_train, X_img_train], np.array(y_train), epochs = 100, batch_size = 64, validation_split = 0.1, callbacks=[early_stopping])"
   ]
  },
  {
   "cell_type": "code",
   "execution_count": 63,
   "metadata": {},
   "outputs": [
    {
     "data": {
      "text/plain": [
       "<Axes: xlabel='epoch', ylabel='train_rmse'>"
      ]
     },
     "execution_count": 63,
     "metadata": {},
     "output_type": "execute_result"
    },
    {
     "data": {
      "image/png": "[encoded data removed]",
      "text/plain": [
       "<Figure size 640x480 with 1 Axes>"
      ]
     },
     "metadata": {},
     "output_type": "display_data"
    }
   ],
   "source": [
    "tb_full_model = pd.DataFrame(h.history)\n",
    "tb_full_model[\"epoch\"] = tb_full_model.index + 1\n",
    "tb_full_model[\"train_rmse\"] = np.sqrt(tb_full_model[\"loss\"])\n",
    "tb_full_model[\"val_rmse\"] = np.sqrt(tb_full_model[\"val_loss\"])\n",
    "sns.lineplot(data=tb_full_model, x = \"epoch\", y = \"train_rmse\", label = \"train_rmse\")\n",
    "sns.lineplot(data=tb_full_model, x = \"epoch\", y = \"val_rmse\", label = \"val_rmse\")"
   ]
  },
  {
   "cell_type": "code",
   "execution_count": 64,
   "metadata": {},
   "outputs": [
    {
     "name": "stdout",
     "output_type": "stream",
     "text": [
      "97/97 [==============================] - 1s 8ms/step\n",
      "MAPE: 0.31629097177940363\n"
     ]
    }
   ],
   "source": [
    "y_test_pred = full_model.predict([X_tb_test, X_img_test])\n",
    "print(f\"MAPE: {np.sqrt(mean_squared_error(y_test, y_test_pred))/y_test.mean()}\")"
   ]
  },
  {
   "cell_type": "code",
   "execution_count": null,
   "metadata": {},
   "outputs": [],
   "source": []
  }
 ],
 "metadata": {
  "kernelspec": {
   "display_name": "Python 3 (ipykernel)",
   "language": "python",
   "name": "python3"
  },
  "language_info": {
   "codemirror_mode": {
    "name": "ipython",
    "version": 3
   },
   "file_extension": ".py",
   "mimetype": "text/x-python",
   "name": "python",
   "nbconvert_exporter": "python",
   "pygments_lexer": "ipython3",
   "version": "3.10.11"
  }
 },
 "nbformat": 4,
 "nbformat_minor": 2
}
