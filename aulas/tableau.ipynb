{
 "cells": [
  {
   "cell_type": "code",
   "execution_count": 14,
   "metadata": {},
   "outputs": [],
   "source": [
    "import pandas as pd\n",
    "tb_tableau = pd.read_csv(\"data/tb_olist_tableau.csv\", parse_dates=[\"order_approved_at\"], infer_datetime_format=True)"
   ]
  },
  {
   "cell_type": "code",
   "execution_count": 16,
   "metadata": {},
   "outputs": [
    {
     "data": {
      "text/plain": [
       "Timestamp('2018-07-31 23:44:07')"
      ]
     },
     "execution_count": 16,
     "metadata": {},
     "output_type": "execute_result"
    }
   ],
   "source": [
    "tb_tableau[\"order_approved_at\"].max()"
   ]
  },
  {
   "cell_type": "code",
   "execution_count": 18,
   "metadata": {},
   "outputs": [
    {
     "name": "stdout",
     "output_type": "stream",
     "text": [
      "1709 days 19:11:41.773565\n"
     ]
    }
   ],
   "source": [
    "import pandas as pd\n",
    "from datetime import datetime, timedelta\n",
    "\n",
    "# Create a sample dataframe with a 'date' colu\n",
    "\n",
    "# Find today's date\n",
    "today = datetime.today()\n",
    "time_diff = today - tb_tableau['order_approved_at'].max()\n",
    "\n",
    "print(time_diff)\n"
   ]
  },
  {
   "cell_type": "code",
   "execution_count": 20,
   "metadata": {},
   "outputs": [],
   "source": [
    "tb_tableau[\"order_approved_at\"] = tb_tableau[\"order_approved_at\"] + time_diff"
   ]
  },
  {
   "cell_type": "code",
   "execution_count": 21,
   "metadata": {},
   "outputs": [],
   "source": [
    "tb_tableau.to_csv(\"data/tb_list_tableau_dash.csv\")"
   ]
  },
  {
   "cell_type": "code",
   "execution_count": 1,
   "metadata": {},
   "outputs": [],
   "source": [
    "document = (1, 2, 3, [1,2])"
   ]
  },
  {
   "cell_type": "code",
   "execution_count": 2,
   "metadata": {},
   "outputs": [],
   "source": [
    "document[-1].append(1)"
   ]
  },
  {
   "cell_type": "code",
   "execution_count": 3,
   "metadata": {},
   "outputs": [
    {
     "data": {
      "text/plain": [
       "(1, 2, 3, [1, 2, 1])"
      ]
     },
     "execution_count": 3,
     "metadata": {},
     "output_type": "execute_result"
    }
   ],
   "source": [
    "document"
   ]
  },
  {
   "cell_type": "code",
   "execution_count": null,
   "metadata": {},
   "outputs": [],
   "source": [
    "class Square:\n",
    "    def draw(self):\n",
    "        print (f'Inside Square::draw()')\n",
    "    def resize(self):\n",
    "        print (f'Inside Square:: resize ()')\n",
    "class Circle:\n",
    "    def draw(self):\n",
    "        print (f'Inside Circle::draw()')\n",
    "    def resize(self):\n",
    "        print (f'Inside Circle::resize()')\n",
    "\n",
    "class ShapeManager:\n",
    "    def _init__(self, shapes) :\n",
    "        self._shapes = shapes\n",
    "    def manage (self):\n",
    "        for shape in self._shapes:\n",
    "            shape.drawl)\n",
    "            shape.resize ()\n",
    "\n",
    "shapes = [Square(), Square(), Circle(), Square(), Circle(), Circle(), Square(), Circle()]\n",
    "shape_manager = ShapeManager (shapes)\n",
    "shape_manager. manage )"
   ]
  }
 ],
 "metadata": {
  "kernelspec": {
   "display_name": "Python 3 (ipykernel)",
   "language": "python",
   "name": "python3"
  },
  "language_info": {
   "codemirror_mode": {
    "name": "ipython",
    "version": 3
   },
   "file_extension": ".py",
   "mimetype": "text/x-python",
   "name": "python",
   "nbconvert_exporter": "python",
   "pygments_lexer": "ipython3",
   "version": "3.9.13"
  }
 },
 "nbformat": 4,
 "nbformat_minor": 2
}
