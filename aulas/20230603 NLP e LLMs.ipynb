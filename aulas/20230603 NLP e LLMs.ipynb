{
 "cells": [
  {
   "cell_type": "code",
   "execution_count": 35,
   "metadata": {},
   "outputs": [],
   "source": [
    "import pandas as pd\n",
    "import numpy as np\n",
    "import matplotlib.pyplot as plt\n",
    "import seaborn as sns\n",
    "import tensorflow as tf\n",
    "\n",
    "from tensorflow import keras\n"
   ]
  },
  {
   "cell_type": "code",
   "execution_count": 36,
   "metadata": {},
   "outputs": [],
   "source": [
    "from sklearn.metrics import f1_score\n"
   ]
  },
  {
   "attachments": {},
   "cell_type": "markdown",
   "metadata": {},
   "source": [
    "# Construindo um Modelo Simples"
   ]
  },
  {
   "cell_type": "code",
   "execution_count": 37,
   "metadata": {},
   "outputs": [],
   "source": [
    "from sklearn.datasets import fetch_20newsgroups\n"
   ]
  },
  {
   "attachments": {},
   "cell_type": "markdown",
   "metadata": {},
   "source": [
    "Vamos utilizar o dataset 20 Newgroups que contém posts de diferentes forums na USENET. O dataset é dividido em 20 grupos e cada grupo contém 1000 posts."
   ]
  },
  {
   "cell_type": "code",
   "execution_count": 38,
   "metadata": {},
   "outputs": [],
   "source": [
    "docs_train = fetch_20newsgroups(subset=\"train\", remove=(\"headers\", \"footers\", \"quotes\"))\n",
    "docs_test = fetch_20newsgroups(subset=\"test\", remove=(\"headers\", \"footers\", \"quotes\"))"
   ]
  },
  {
   "cell_type": "code",
   "execution_count": 39,
   "metadata": {},
   "outputs": [
    {
     "data": {
      "text/plain": [
       "['alt.atheism',\n",
       " 'comp.graphics',\n",
       " 'comp.os.ms-windows.misc',\n",
       " 'comp.sys.ibm.pc.hardware',\n",
       " 'comp.sys.mac.hardware',\n",
       " 'comp.windows.x',\n",
       " 'misc.forsale',\n",
       " 'rec.autos',\n",
       " 'rec.motorcycles',\n",
       " 'rec.sport.baseball',\n",
       " 'rec.sport.hockey',\n",
       " 'sci.crypt',\n",
       " 'sci.electronics',\n",
       " 'sci.med',\n",
       " 'sci.space',\n",
       " 'soc.religion.christian',\n",
       " 'talk.politics.guns',\n",
       " 'talk.politics.mideast',\n",
       " 'talk.politics.misc',\n",
       " 'talk.religion.misc']"
      ]
     },
     "execution_count": 39,
     "metadata": {},
     "output_type": "execute_result"
    }
   ],
   "source": [
    "docs_train[\"target_names\"]"
   ]
  },
  {
   "cell_type": "code",
   "execution_count": 40,
   "metadata": {},
   "outputs": [
    {
     "name": "stdout",
     "output_type": "stream",
     "text": [
      "I was wondering if anyone out there could enlighten me on this car I saw\n",
      "the other day. It was a 2-door sports car, looked to be from the late 60s/\n",
      "early 70s. It was called a Bricklin. The doors were really small. In addition,\n",
      "the front bumper was separate from the rest of the body. This is \n",
      "all I know. If anyone can tellme a model name, engine specs, years\n",
      "of production, where this car is made, history, or whatever info you\n",
      "have on this funky looking car, please e-mail.\n"
     ]
    }
   ],
   "source": [
    "print(docs_train[\"data\"][0])"
   ]
  },
  {
   "cell_type": "code",
   "execution_count": 41,
   "metadata": {},
   "outputs": [],
   "source": [
    "X_text_train = docs_train[\"data\"]\n",
    "y_train = docs_train[\"target\"]\n",
    "X_text_test = docs_test[\"data\"]\n",
    "y_test = docs_test[\"target\"]"
   ]
  },
  {
   "attachments": {},
   "cell_type": "markdown",
   "metadata": {},
   "source": [
    "A forma mais simples de construir um modelo de NLP (seja regressão, classificação ou mesmo não-supervisionado) é utilizando o modelo **Bag of Words**: uma matriz onde as colunas representam as palavras de nosso **vocabulário** e as linhas representam documentos individuais. Esta matriz pode ser preenchida com a contagem de cada palavra em cada documento, ou então com uma medida de frequência relativa, como o TF-IDF.\n",
    "\n",
    "O TF-IDF normaliza a contagem de palavras penalizando palavras que aparecem em muitos documentos. A fórmula é:\n",
    "\n",
    "$\\text{tf-idf}(t, d) = \\frac{\\text{tf}(t, d)}{\\text{idf}(t)}$\n",
    "\n",
    "onde $\\text{tf}(t, d)$ é a frequência da palavra $t$ no documento $d$ e $\\text{idf}(t)$ é a frequência inversa da palavra $t$ em todos os documentos."
   ]
  },
  {
   "cell_type": "code",
   "execution_count": 42,
   "metadata": {},
   "outputs": [],
   "source": [
    "from sklearn.feature_extraction.text import TfidfVectorizer\n"
   ]
  },
  {
   "cell_type": "code",
   "execution_count": 43,
   "metadata": {},
   "outputs": [
    {
     "data": {
      "text/html": [
       "<style>#sk-container-id-3 {color: black;background-color: white;}#sk-container-id-3 pre{padding: 0;}#sk-container-id-3 div.sk-toggleable {background-color: white;}#sk-container-id-3 label.sk-toggleable__label {cursor: pointer;display: block;width: 100%;margin-bottom: 0;padding: 0.3em;box-sizing: border-box;text-align: center;}#sk-container-id-3 label.sk-toggleable__label-arrow:before {content: \"▸\";float: left;margin-right: 0.25em;color: #696969;}#sk-container-id-3 label.sk-toggleable__label-arrow:hover:before {color: black;}#sk-container-id-3 div.sk-estimator:hover label.sk-toggleable__label-arrow:before {color: black;}#sk-container-id-3 div.sk-toggleable__content {max-height: 0;max-width: 0;overflow: hidden;text-align: left;background-color: #f0f8ff;}#sk-container-id-3 div.sk-toggleable__content pre {margin: 0.2em;color: black;border-radius: 0.25em;background-color: #f0f8ff;}#sk-container-id-3 input.sk-toggleable__control:checked~div.sk-toggleable__content {max-height: 200px;max-width: 100%;overflow: auto;}#sk-container-id-3 input.sk-toggleable__control:checked~label.sk-toggleable__label-arrow:before {content: \"▾\";}#sk-container-id-3 div.sk-estimator input.sk-toggleable__control:checked~label.sk-toggleable__label {background-color: #d4ebff;}#sk-container-id-3 div.sk-label input.sk-toggleable__control:checked~label.sk-toggleable__label {background-color: #d4ebff;}#sk-container-id-3 input.sk-hidden--visually {border: 0;clip: rect(1px 1px 1px 1px);clip: rect(1px, 1px, 1px, 1px);height: 1px;margin: -1px;overflow: hidden;padding: 0;position: absolute;width: 1px;}#sk-container-id-3 div.sk-estimator {font-family: monospace;background-color: #f0f8ff;border: 1px dotted black;border-radius: 0.25em;box-sizing: border-box;margin-bottom: 0.5em;}#sk-container-id-3 div.sk-estimator:hover {background-color: #d4ebff;}#sk-container-id-3 div.sk-parallel-item::after {content: \"\";width: 100%;border-bottom: 1px solid gray;flex-grow: 1;}#sk-container-id-3 div.sk-label:hover label.sk-toggleable__label {background-color: #d4ebff;}#sk-container-id-3 div.sk-serial::before {content: \"\";position: absolute;border-left: 1px solid gray;box-sizing: border-box;top: 0;bottom: 0;left: 50%;z-index: 0;}#sk-container-id-3 div.sk-serial {display: flex;flex-direction: column;align-items: center;background-color: white;padding-right: 0.2em;padding-left: 0.2em;position: relative;}#sk-container-id-3 div.sk-item {position: relative;z-index: 1;}#sk-container-id-3 div.sk-parallel {display: flex;align-items: stretch;justify-content: center;background-color: white;position: relative;}#sk-container-id-3 div.sk-item::before, #sk-container-id-3 div.sk-parallel-item::before {content: \"\";position: absolute;border-left: 1px solid gray;box-sizing: border-box;top: 0;bottom: 0;left: 50%;z-index: -1;}#sk-container-id-3 div.sk-parallel-item {display: flex;flex-direction: column;z-index: 1;position: relative;background-color: white;}#sk-container-id-3 div.sk-parallel-item:first-child::after {align-self: flex-end;width: 50%;}#sk-container-id-3 div.sk-parallel-item:last-child::after {align-self: flex-start;width: 50%;}#sk-container-id-3 div.sk-parallel-item:only-child::after {width: 0;}#sk-container-id-3 div.sk-dashed-wrapped {border: 1px dashed gray;margin: 0 0.4em 0.5em 0.4em;box-sizing: border-box;padding-bottom: 0.4em;background-color: white;}#sk-container-id-3 div.sk-label label {font-family: monospace;font-weight: bold;display: inline-block;line-height: 1.2em;}#sk-container-id-3 div.sk-label-container {text-align: center;}#sk-container-id-3 div.sk-container {/* jupyter's `normalize.less` sets `[hidden] { display: none; }` but bootstrap.min.css set `[hidden] { display: none !important; }` so we also need the `!important` here to be able to override the default hidden behavior on the sphinx rendered scikit-learn.org. See: https://github.com/scikit-learn/scikit-learn/issues/21755 */display: inline-block !important;position: relative;}#sk-container-id-3 div.sk-text-repr-fallback {display: none;}</style><div id=\"sk-container-id-3\" class=\"sk-top-container\"><div class=\"sk-text-repr-fallback\"><pre>TfidfVectorizer(max_df=0.8, min_df=50, stop_words=&#x27;english&#x27;)</pre><b>In a Jupyter environment, please rerun this cell to show the HTML representation or trust the notebook. <br />On GitHub, the HTML representation is unable to render, please try loading this page with nbviewer.org.</b></div><div class=\"sk-container\" hidden><div class=\"sk-item\"><div class=\"sk-estimator sk-toggleable\"><input class=\"sk-toggleable__control sk-hidden--visually\" id=\"sk-estimator-id-3\" type=\"checkbox\" checked><label for=\"sk-estimator-id-3\" class=\"sk-toggleable__label sk-toggleable__label-arrow\">TfidfVectorizer</label><div class=\"sk-toggleable__content\"><pre>TfidfVectorizer(max_df=0.8, min_df=50, stop_words=&#x27;english&#x27;)</pre></div></div></div></div></div>"
      ],
      "text/plain": [
       "TfidfVectorizer(max_df=0.8, min_df=50, stop_words='english')"
      ]
     },
     "execution_count": 43,
     "metadata": {},
     "output_type": "execute_result"
    }
   ],
   "source": [
    "tfidf = TfidfVectorizer(\n",
    "    stop_words=\"english\",  # stop_words são palavras filtradas, como artigos, preposições etc\n",
    "    max_df=0.8,  # elimina palavras que aparecem em mais de 90% dos documentos\n",
    "    min_df=50,  # elimina palavras que aparecem em menos de 10 documentos\n",
    ")\n",
    "tfidf.fit(X_text_train)"
   ]
  },
  {
   "cell_type": "code",
   "execution_count": 44,
   "metadata": {},
   "outputs": [
    {
     "data": {
      "text/plain": [
       "<11314x2725 sparse matrix of type '<class 'numpy.float64'>'\n",
       "\twith 430486 stored elements in Compressed Sparse Row format>"
      ]
     },
     "execution_count": 44,
     "metadata": {},
     "output_type": "execute_result"
    }
   ],
   "source": [
    "tfidf.transform(X_text_train)\n"
   ]
  },
  {
   "attachments": {},
   "cell_type": "markdown",
   "metadata": {},
   "source": [
    "Após os filtros de *stopwords* e frequência, o vocabulário final contém 2725 palavras - nossa **matriz BoW** tem 11.314 linhas (documentos) e 2725 colunas (palavras). Vamos criar nossas matrizes de treino e teste:"
   ]
  },
  {
   "cell_type": "code",
   "execution_count": 45,
   "metadata": {},
   "outputs": [],
   "source": [
    "X_train = tfidf.transform(X_text_train)\n",
    "X_test = tfidf.transform(X_text_test)\n"
   ]
  },
  {
   "attachments": {},
   "cell_type": "markdown",
   "metadata": {},
   "source": [
    "A matriz BoW apresenta um grande desafio quando aplicada a problemas de NLP: ela é extremamente esparsa. A maioria dos documentos não contém a maioria das palavras do vocabulário - logo nossos features são extremamente correlatos.\n",
    "\n",
    "Para tratar esse problema podemos usar uma técnica análoga ao PCA, chamada **Latent Semantic Analysis** (LSA). O LSA é uma técnica de redução de dimensionalidade que utiliza decomposição em valores singulares (SVD) para projetar a matriz BoW em um espaço de dimensão menor. A ideia é que palavras que aparecem em contextos similares (e.g. \"carro\" e \"automóvel\") são projetadas em um mesmo espaço, reduzindo a dimensionalidade e a correlação entre os features."
   ]
  },
  {
   "cell_type": "code",
   "execution_count": 46,
   "metadata": {},
   "outputs": [],
   "source": [
    "from sklearn.decomposition import TruncatedSVD\n"
   ]
  },
  {
   "cell_type": "code",
   "execution_count": 47,
   "metadata": {},
   "outputs": [
    {
     "data": {
      "text/html": [
       "<style>#sk-container-id-4 {color: black;background-color: white;}#sk-container-id-4 pre{padding: 0;}#sk-container-id-4 div.sk-toggleable {background-color: white;}#sk-container-id-4 label.sk-toggleable__label {cursor: pointer;display: block;width: 100%;margin-bottom: 0;padding: 0.3em;box-sizing: border-box;text-align: center;}#sk-container-id-4 label.sk-toggleable__label-arrow:before {content: \"▸\";float: left;margin-right: 0.25em;color: #696969;}#sk-container-id-4 label.sk-toggleable__label-arrow:hover:before {color: black;}#sk-container-id-4 div.sk-estimator:hover label.sk-toggleable__label-arrow:before {color: black;}#sk-container-id-4 div.sk-toggleable__content {max-height: 0;max-width: 0;overflow: hidden;text-align: left;background-color: #f0f8ff;}#sk-container-id-4 div.sk-toggleable__content pre {margin: 0.2em;color: black;border-radius: 0.25em;background-color: #f0f8ff;}#sk-container-id-4 input.sk-toggleable__control:checked~div.sk-toggleable__content {max-height: 200px;max-width: 100%;overflow: auto;}#sk-container-id-4 input.sk-toggleable__control:checked~label.sk-toggleable__label-arrow:before {content: \"▾\";}#sk-container-id-4 div.sk-estimator input.sk-toggleable__control:checked~label.sk-toggleable__label {background-color: #d4ebff;}#sk-container-id-4 div.sk-label input.sk-toggleable__control:checked~label.sk-toggleable__label {background-color: #d4ebff;}#sk-container-id-4 input.sk-hidden--visually {border: 0;clip: rect(1px 1px 1px 1px);clip: rect(1px, 1px, 1px, 1px);height: 1px;margin: -1px;overflow: hidden;padding: 0;position: absolute;width: 1px;}#sk-container-id-4 div.sk-estimator {font-family: monospace;background-color: #f0f8ff;border: 1px dotted black;border-radius: 0.25em;box-sizing: border-box;margin-bottom: 0.5em;}#sk-container-id-4 div.sk-estimator:hover {background-color: #d4ebff;}#sk-container-id-4 div.sk-parallel-item::after {content: \"\";width: 100%;border-bottom: 1px solid gray;flex-grow: 1;}#sk-container-id-4 div.sk-label:hover label.sk-toggleable__label {background-color: #d4ebff;}#sk-container-id-4 div.sk-serial::before {content: \"\";position: absolute;border-left: 1px solid gray;box-sizing: border-box;top: 0;bottom: 0;left: 50%;z-index: 0;}#sk-container-id-4 div.sk-serial {display: flex;flex-direction: column;align-items: center;background-color: white;padding-right: 0.2em;padding-left: 0.2em;position: relative;}#sk-container-id-4 div.sk-item {position: relative;z-index: 1;}#sk-container-id-4 div.sk-parallel {display: flex;align-items: stretch;justify-content: center;background-color: white;position: relative;}#sk-container-id-4 div.sk-item::before, #sk-container-id-4 div.sk-parallel-item::before {content: \"\";position: absolute;border-left: 1px solid gray;box-sizing: border-box;top: 0;bottom: 0;left: 50%;z-index: -1;}#sk-container-id-4 div.sk-parallel-item {display: flex;flex-direction: column;z-index: 1;position: relative;background-color: white;}#sk-container-id-4 div.sk-parallel-item:first-child::after {align-self: flex-end;width: 50%;}#sk-container-id-4 div.sk-parallel-item:last-child::after {align-self: flex-start;width: 50%;}#sk-container-id-4 div.sk-parallel-item:only-child::after {width: 0;}#sk-container-id-4 div.sk-dashed-wrapped {border: 1px dashed gray;margin: 0 0.4em 0.5em 0.4em;box-sizing: border-box;padding-bottom: 0.4em;background-color: white;}#sk-container-id-4 div.sk-label label {font-family: monospace;font-weight: bold;display: inline-block;line-height: 1.2em;}#sk-container-id-4 div.sk-label-container {text-align: center;}#sk-container-id-4 div.sk-container {/* jupyter's `normalize.less` sets `[hidden] { display: none; }` but bootstrap.min.css set `[hidden] { display: none !important; }` so we also need the `!important` here to be able to override the default hidden behavior on the sphinx rendered scikit-learn.org. See: https://github.com/scikit-learn/scikit-learn/issues/21755 */display: inline-block !important;position: relative;}#sk-container-id-4 div.sk-text-repr-fallback {display: none;}</style><div id=\"sk-container-id-4\" class=\"sk-top-container\"><div class=\"sk-text-repr-fallback\"><pre>TruncatedSVD(n_components=1000)</pre><b>In a Jupyter environment, please rerun this cell to show the HTML representation or trust the notebook. <br />On GitHub, the HTML representation is unable to render, please try loading this page with nbviewer.org.</b></div><div class=\"sk-container\" hidden><div class=\"sk-item\"><div class=\"sk-estimator sk-toggleable\"><input class=\"sk-toggleable__control sk-hidden--visually\" id=\"sk-estimator-id-4\" type=\"checkbox\" checked><label for=\"sk-estimator-id-4\" class=\"sk-toggleable__label sk-toggleable__label-arrow\">TruncatedSVD</label><div class=\"sk-toggleable__content\"><pre>TruncatedSVD(n_components=1000)</pre></div></div></div></div></div>"
      ],
      "text/plain": [
       "TruncatedSVD(n_components=1000)"
      ]
     },
     "execution_count": 47,
     "metadata": {},
     "output_type": "execute_result"
    }
   ],
   "source": [
    "svd = TruncatedSVD(1000)\n",
    "svd.fit(X_train)\n"
   ]
  },
  {
   "attachments": {},
   "cell_type": "markdown",
   "metadata": {},
   "source": [
    "Vamos analisar o atributo `.explained_variance_ratio_` do modelo LSA para entender quanta informação capturamos com 1000 componentes:"
   ]
  },
  {
   "cell_type": "code",
   "execution_count": 48,
   "metadata": {},
   "outputs": [
    {
     "data": {
      "text/plain": [
       "[<matplotlib.lines.Line2D at 0x2967bb1f0>]"
      ]
     },
     "execution_count": 48,
     "metadata": {},
     "output_type": "execute_result"
    },
    {
     "data": {
      "image/png": "[encoded data removed]",
      "text/plain": [
       "<Figure size 640x480 with 1 Axes>"
      ]
     },
     "metadata": {},
     "output_type": "display_data"
    }
   ],
   "source": [
    "plt.plot(np.cumsum(svd.explained_variance_ratio_))\n"
   ]
  },
  {
   "attachments": {},
   "cell_type": "markdown",
   "metadata": {},
   "source": [
    "Agora, vamos investigar os componentes de nosso SVD:"
   ]
  },
  {
   "cell_type": "code",
   "execution_count": 49,
   "metadata": {},
   "outputs": [
    {
     "data": {
      "text/plain": [
       "(2725,)"
      ]
     },
     "execution_count": 49,
     "metadata": {},
     "output_type": "execute_result"
    }
   ],
   "source": [
    "tfidf.get_feature_names_out().shape"
   ]
  },
  {
   "cell_type": "code",
   "execution_count": 50,
   "metadata": {},
   "outputs": [
    {
     "data": {
      "text/plain": [
       "array([0.02662186, 0.02515407, 0.00497662, ..., 0.0061246 , 0.00999825,\n",
       "       0.00679255])"
      ]
     },
     "execution_count": 50,
     "metadata": {},
     "output_type": "execute_result"
    }
   ],
   "source": [
    "svd.components_[0,:]"
   ]
  },
  {
   "attachments": {},
   "cell_type": "markdown",
   "metadata": {},
   "source": [
    "Vamos utilizar os componentes do LSA para explorar os diferentes tópicos em nosso dataset. Para isso, vamos utilizar o atributo `.components_` do modelo LSA:"
   ]
  },
  {
   "cell_type": "code",
   "execution_count": 51,
   "metadata": {},
   "outputs": [],
   "source": [
    "tb_topics = pd.DataFrame(svd.components_.T, index=tfidf.get_feature_names_out())"
   ]
  },
  {
   "cell_type": "code",
   "execution_count": 52,
   "metadata": {},
   "outputs": [
    {
     "data": {
      "text/html": [
       "<div>\n",
       "<style scoped>\n",
       "    .dataframe tbody tr th:only-of-type {\n",
       "        vertical-align: middle;\n",
       "    }\n",
       "\n",
       "    .dataframe tbody tr th {\n",
       "        vertical-align: top;\n",
       "    }\n",
       "\n",
       "    .dataframe thead th {\n",
       "        text-align: right;\n",
       "    }\n",
       "</style>\n",
       "<table border=\"1\" class=\"dataframe\">\n",
       "  <thead>\n",
       "    <tr style=\"text-align: right;\">\n",
       "      <th></th>\n",
       "      <th>0</th>\n",
       "      <th>1</th>\n",
       "      <th>2</th>\n",
       "      <th>3</th>\n",
       "      <th>4</th>\n",
       "      <th>5</th>\n",
       "      <th>6</th>\n",
       "      <th>7</th>\n",
       "      <th>8</th>\n",
       "      <th>9</th>\n",
       "      <th>...</th>\n",
       "      <th>990</th>\n",
       "      <th>991</th>\n",
       "      <th>992</th>\n",
       "      <th>993</th>\n",
       "      <th>994</th>\n",
       "      <th>995</th>\n",
       "      <th>996</th>\n",
       "      <th>997</th>\n",
       "      <th>998</th>\n",
       "      <th>999</th>\n",
       "    </tr>\n",
       "  </thead>\n",
       "  <tbody>\n",
       "    <tr>\n",
       "      <th>key</th>\n",
       "      <td>0.052264</td>\n",
       "      <td>0.020460</td>\n",
       "      <td>-0.022218</td>\n",
       "      <td>0.031939</td>\n",
       "      <td>0.320675</td>\n",
       "      <td>0.063528</td>\n",
       "      <td>0.104894</td>\n",
       "      <td>-0.014133</td>\n",
       "      <td>0.376853</td>\n",
       "      <td>0.026683</td>\n",
       "      <td>...</td>\n",
       "      <td>-0.005700</td>\n",
       "      <td>-0.003192</td>\n",
       "      <td>0.004897</td>\n",
       "      <td>0.000547</td>\n",
       "      <td>-0.014782</td>\n",
       "      <td>-0.007769</td>\n",
       "      <td>0.006244</td>\n",
       "      <td>0.001463</td>\n",
       "      <td>-0.002347</td>\n",
       "      <td>-0.010246</td>\n",
       "    </tr>\n",
       "    <tr>\n",
       "      <th>government</th>\n",
       "      <td>0.055697</td>\n",
       "      <td>-0.059462</td>\n",
       "      <td>-0.033556</td>\n",
       "      <td>0.016527</td>\n",
       "      <td>0.184899</td>\n",
       "      <td>0.038422</td>\n",
       "      <td>0.038876</td>\n",
       "      <td>-0.038420</td>\n",
       "      <td>-0.021028</td>\n",
       "      <td>-0.105682</td>\n",
       "      <td>...</td>\n",
       "      <td>0.005768</td>\n",
       "      <td>0.003308</td>\n",
       "      <td>0.001399</td>\n",
       "      <td>-0.015174</td>\n",
       "      <td>-0.014045</td>\n",
       "      <td>0.007631</td>\n",
       "      <td>0.007044</td>\n",
       "      <td>0.019279</td>\n",
       "      <td>-0.009329</td>\n",
       "      <td>-0.000783</td>\n",
       "    </tr>\n",
       "    <tr>\n",
       "      <th>chip</th>\n",
       "      <td>0.040009</td>\n",
       "      <td>0.029198</td>\n",
       "      <td>-0.017515</td>\n",
       "      <td>0.003905</td>\n",
       "      <td>0.173144</td>\n",
       "      <td>0.078181</td>\n",
       "      <td>0.054071</td>\n",
       "      <td>-0.051588</td>\n",
       "      <td>0.223458</td>\n",
       "      <td>-0.010011</td>\n",
       "      <td>...</td>\n",
       "      <td>-0.006057</td>\n",
       "      <td>-0.004884</td>\n",
       "      <td>0.009160</td>\n",
       "      <td>0.029849</td>\n",
       "      <td>-0.008146</td>\n",
       "      <td>0.000107</td>\n",
       "      <td>-0.010816</td>\n",
       "      <td>-0.003986</td>\n",
       "      <td>0.003817</td>\n",
       "      <td>-0.002663</td>\n",
       "    </tr>\n",
       "    <tr>\n",
       "      <th>encryption</th>\n",
       "      <td>0.026035</td>\n",
       "      <td>0.000081</td>\n",
       "      <td>-0.010146</td>\n",
       "      <td>0.020694</td>\n",
       "      <td>0.164043</td>\n",
       "      <td>0.035460</td>\n",
       "      <td>0.052813</td>\n",
       "      <td>-0.025959</td>\n",
       "      <td>0.141986</td>\n",
       "      <td>-0.011477</td>\n",
       "      <td>...</td>\n",
       "      <td>-0.003081</td>\n",
       "      <td>0.000774</td>\n",
       "      <td>0.031059</td>\n",
       "      <td>0.036656</td>\n",
       "      <td>-0.015415</td>\n",
       "      <td>0.019230</td>\n",
       "      <td>-0.020672</td>\n",
       "      <td>0.011798</td>\n",
       "      <td>0.017616</td>\n",
       "      <td>0.005353</td>\n",
       "    </tr>\n",
       "    <tr>\n",
       "      <th>use</th>\n",
       "      <td>0.117308</td>\n",
       "      <td>0.115999</td>\n",
       "      <td>0.041768</td>\n",
       "      <td>0.002057</td>\n",
       "      <td>0.162302</td>\n",
       "      <td>0.057361</td>\n",
       "      <td>-0.018332</td>\n",
       "      <td>0.094670</td>\n",
       "      <td>0.073889</td>\n",
       "      <td>0.085745</td>\n",
       "      <td>...</td>\n",
       "      <td>-0.006135</td>\n",
       "      <td>-0.001492</td>\n",
       "      <td>0.001356</td>\n",
       "      <td>-0.003036</td>\n",
       "      <td>-0.002143</td>\n",
       "      <td>-0.004681</td>\n",
       "      <td>0.001234</td>\n",
       "      <td>0.001200</td>\n",
       "      <td>0.003180</td>\n",
       "      <td>0.004155</td>\n",
       "    </tr>\n",
       "    <tr>\n",
       "      <th>clipper</th>\n",
       "      <td>0.025529</td>\n",
       "      <td>-0.003456</td>\n",
       "      <td>-0.015995</td>\n",
       "      <td>0.015100</td>\n",
       "      <td>0.145777</td>\n",
       "      <td>0.035799</td>\n",
       "      <td>0.041904</td>\n",
       "      <td>-0.031055</td>\n",
       "      <td>0.145131</td>\n",
       "      <td>-0.004540</td>\n",
       "      <td>...</td>\n",
       "      <td>-0.010164</td>\n",
       "      <td>-0.003070</td>\n",
       "      <td>0.022034</td>\n",
       "      <td>-0.019071</td>\n",
       "      <td>0.027986</td>\n",
       "      <td>0.016440</td>\n",
       "      <td>0.022527</td>\n",
       "      <td>0.016017</td>\n",
       "      <td>-0.006823</td>\n",
       "      <td>0.021794</td>\n",
       "    </tr>\n",
       "    <tr>\n",
       "      <th>keys</th>\n",
       "      <td>0.022508</td>\n",
       "      <td>0.006795</td>\n",
       "      <td>-0.011855</td>\n",
       "      <td>0.011865</td>\n",
       "      <td>0.133328</td>\n",
       "      <td>0.032466</td>\n",
       "      <td>0.041004</td>\n",
       "      <td>-0.011715</td>\n",
       "      <td>0.140778</td>\n",
       "      <td>0.015459</td>\n",
       "      <td>...</td>\n",
       "      <td>0.005469</td>\n",
       "      <td>-0.011834</td>\n",
       "      <td>-0.004897</td>\n",
       "      <td>0.003235</td>\n",
       "      <td>0.014736</td>\n",
       "      <td>0.011366</td>\n",
       "      <td>0.015212</td>\n",
       "      <td>-0.015896</td>\n",
       "      <td>-0.011890</td>\n",
       "      <td>0.012418</td>\n",
       "    </tr>\n",
       "    <tr>\n",
       "      <th>people</th>\n",
       "      <td>0.155289</td>\n",
       "      <td>-0.198237</td>\n",
       "      <td>0.055401</td>\n",
       "      <td>0.014335</td>\n",
       "      <td>0.118184</td>\n",
       "      <td>0.034475</td>\n",
       "      <td>-0.042474</td>\n",
       "      <td>-0.049415</td>\n",
       "      <td>-0.188895</td>\n",
       "      <td>-0.175499</td>\n",
       "      <td>...</td>\n",
       "      <td>0.011501</td>\n",
       "      <td>-0.002927</td>\n",
       "      <td>-0.004103</td>\n",
       "      <td>-0.000120</td>\n",
       "      <td>-0.006662</td>\n",
       "      <td>-0.015185</td>\n",
       "      <td>-0.000042</td>\n",
       "      <td>-0.007696</td>\n",
       "      <td>0.002726</td>\n",
       "      <td>0.001074</td>\n",
       "    </tr>\n",
       "    <tr>\n",
       "      <th>public</th>\n",
       "      <td>0.034584</td>\n",
       "      <td>-0.002792</td>\n",
       "      <td>-0.000255</td>\n",
       "      <td>0.028637</td>\n",
       "      <td>0.104715</td>\n",
       "      <td>-0.000917</td>\n",
       "      <td>0.048113</td>\n",
       "      <td>-0.009646</td>\n",
       "      <td>0.038870</td>\n",
       "      <td>-0.020931</td>\n",
       "      <td>...</td>\n",
       "      <td>-0.016114</td>\n",
       "      <td>-0.005620</td>\n",
       "      <td>0.000015</td>\n",
       "      <td>-0.027002</td>\n",
       "      <td>-0.006990</td>\n",
       "      <td>-0.001073</td>\n",
       "      <td>-0.016051</td>\n",
       "      <td>-0.010826</td>\n",
       "      <td>0.001336</td>\n",
       "      <td>0.009524</td>\n",
       "    </tr>\n",
       "    <tr>\n",
       "      <th>law</th>\n",
       "      <td>0.043864</td>\n",
       "      <td>-0.053999</td>\n",
       "      <td>0.024663</td>\n",
       "      <td>0.018435</td>\n",
       "      <td>0.091744</td>\n",
       "      <td>0.039082</td>\n",
       "      <td>0.054446</td>\n",
       "      <td>-0.008292</td>\n",
       "      <td>0.016120</td>\n",
       "      <td>-0.051365</td>\n",
       "      <td>...</td>\n",
       "      <td>0.006332</td>\n",
       "      <td>0.000845</td>\n",
       "      <td>-0.006158</td>\n",
       "      <td>0.015336</td>\n",
       "      <td>-0.012039</td>\n",
       "      <td>-0.006588</td>\n",
       "      <td>-0.010076</td>\n",
       "      <td>-0.000511</td>\n",
       "      <td>0.001628</td>\n",
       "      <td>-0.008401</td>\n",
       "    </tr>\n",
       "  </tbody>\n",
       "</table>\n",
       "<p>10 rows × 1000 columns</p>\n",
       "</div>"
      ],
      "text/plain": [
       "                 0         1         2         3         4         5     \n",
       "key         0.052264  0.020460 -0.022218  0.031939  0.320675  0.063528  \\\n",
       "government  0.055697 -0.059462 -0.033556  0.016527  0.184899  0.038422   \n",
       "chip        0.040009  0.029198 -0.017515  0.003905  0.173144  0.078181   \n",
       "encryption  0.026035  0.000081 -0.010146  0.020694  0.164043  0.035460   \n",
       "use         0.117308  0.115999  0.041768  0.002057  0.162302  0.057361   \n",
       "clipper     0.025529 -0.003456 -0.015995  0.015100  0.145777  0.035799   \n",
       "keys        0.022508  0.006795 -0.011855  0.011865  0.133328  0.032466   \n",
       "people      0.155289 -0.198237  0.055401  0.014335  0.118184  0.034475   \n",
       "public      0.034584 -0.002792 -0.000255  0.028637  0.104715 -0.000917   \n",
       "law         0.043864 -0.053999  0.024663  0.018435  0.091744  0.039082   \n",
       "\n",
       "                 6         7         8         9    ...       990       991   \n",
       "key         0.104894 -0.014133  0.376853  0.026683  ... -0.005700 -0.003192  \\\n",
       "government  0.038876 -0.038420 -0.021028 -0.105682  ...  0.005768  0.003308   \n",
       "chip        0.054071 -0.051588  0.223458 -0.010011  ... -0.006057 -0.004884   \n",
       "encryption  0.052813 -0.025959  0.141986 -0.011477  ... -0.003081  0.000774   \n",
       "use        -0.018332  0.094670  0.073889  0.085745  ... -0.006135 -0.001492   \n",
       "clipper     0.041904 -0.031055  0.145131 -0.004540  ... -0.010164 -0.003070   \n",
       "keys        0.041004 -0.011715  0.140778  0.015459  ...  0.005469 -0.011834   \n",
       "people     -0.042474 -0.049415 -0.188895 -0.175499  ...  0.011501 -0.002927   \n",
       "public      0.048113 -0.009646  0.038870 -0.020931  ... -0.016114 -0.005620   \n",
       "law         0.054446 -0.008292  0.016120 -0.051365  ...  0.006332  0.000845   \n",
       "\n",
       "                 992       993       994       995       996       997   \n",
       "key         0.004897  0.000547 -0.014782 -0.007769  0.006244  0.001463  \\\n",
       "government  0.001399 -0.015174 -0.014045  0.007631  0.007044  0.019279   \n",
       "chip        0.009160  0.029849 -0.008146  0.000107 -0.010816 -0.003986   \n",
       "encryption  0.031059  0.036656 -0.015415  0.019230 -0.020672  0.011798   \n",
       "use         0.001356 -0.003036 -0.002143 -0.004681  0.001234  0.001200   \n",
       "clipper     0.022034 -0.019071  0.027986  0.016440  0.022527  0.016017   \n",
       "keys       -0.004897  0.003235  0.014736  0.011366  0.015212 -0.015896   \n",
       "people     -0.004103 -0.000120 -0.006662 -0.015185 -0.000042 -0.007696   \n",
       "public      0.000015 -0.027002 -0.006990 -0.001073 -0.016051 -0.010826   \n",
       "law        -0.006158  0.015336 -0.012039 -0.006588 -0.010076 -0.000511   \n",
       "\n",
       "                 998       999  \n",
       "key        -0.002347 -0.010246  \n",
       "government -0.009329 -0.000783  \n",
       "chip        0.003817 -0.002663  \n",
       "encryption  0.017616  0.005353  \n",
       "use         0.003180  0.004155  \n",
       "clipper    -0.006823  0.021794  \n",
       "keys       -0.011890  0.012418  \n",
       "people      0.002726  0.001074  \n",
       "public      0.001336  0.009524  \n",
       "law         0.001628 -0.008401  \n",
       "\n",
       "[10 rows x 1000 columns]"
      ]
     },
     "execution_count": 52,
     "metadata": {},
     "output_type": "execute_result"
    }
   ],
   "source": [
    "tb_topics.sort_values(4, ascending=False).head(10)"
   ]
  },
  {
   "attachments": {},
   "cell_type": "markdown",
   "metadata": {},
   "source": [
    "Agora vamos criar um pipeline de classificação com o modelo LSA e uma floresta aleatória de classificação:"
   ]
  },
  {
   "cell_type": "code",
   "execution_count": 53,
   "metadata": {},
   "outputs": [],
   "source": [
    "from sklearn.ensemble import RandomForestClassifier\n",
    "from sklearn.pipeline import Pipeline\n",
    "\n",
    "tfidf = TfidfVectorizer(stop_words=\"english\")\n",
    "lsa = TruncatedSVD()\n",
    "rf = RandomForestClassifier(n_jobs=-1)\n",
    "\n",
    "modelo = Pipeline([(\"tfidf\", tfidf), (\"lsa\", lsa), (\"rf\", rf)])"
   ]
  },
  {
   "attachments": {},
   "cell_type": "markdown",
   "metadata": {},
   "source": [
    "Vamos utilizar uma busca Bayesiana para otimizar os hiperparâmetros do modelo:\n",
    "\n",
    "1. `tfidf__max_df`: Frequência máxima de uma palavra para ser considerada no vocabulário;\n",
    "1. `tfidf__min_df`: Frequência mínima de uma palavra para ser considerada no vocabulário;\n",
    "1. `lsa__n_components`: Componentes do SVD;\n",
    "1. `rf__n_estimators`: Número de árvores na floresta;\n",
    "1. `rf__max_depth`: Profundidade máxima das árvores."
   ]
  },
  {
   "cell_type": "code",
   "execution_count": 54,
   "metadata": {},
   "outputs": [],
   "source": [
    "from skopt import BayesSearchCV\n",
    "from skopt.space import Real, Categorical, Integer\n",
    "from skopt.plots import plot_objective\n"
   ]
  },
  {
   "cell_type": "code",
   "execution_count": 55,
   "metadata": {},
   "outputs": [],
   "source": [
    "param_grid = {\n",
    "    \"tfidf__max_df\": Real(0.7, 0.8),\n",
    "    \"tfidf__min_df\": Integer(10, 100),\n",
    "    \"lsa__n_components\": Integer(10, 500),\n",
    "    \"rf__n_estimators\": Integer(50, 500),\n",
    "    \"rf__max_depth\": Integer(16, 32),\n",
    "}"
   ]
  },
  {
   "cell_type": "code",
   "execution_count": 56,
   "metadata": {},
   "outputs": [
    {
     "data": {
      "text/html": [
       "<style>#sk-container-id-5 {color: black;background-color: white;}#sk-container-id-5 pre{padding: 0;}#sk-container-id-5 div.sk-toggleable {background-color: white;}#sk-container-id-5 label.sk-toggleable__label {cursor: pointer;display: block;width: 100%;margin-bottom: 0;padding: 0.3em;box-sizing: border-box;text-align: center;}#sk-container-id-5 label.sk-toggleable__label-arrow:before {content: \"▸\";float: left;margin-right: 0.25em;color: #696969;}#sk-container-id-5 label.sk-toggleable__label-arrow:hover:before {color: black;}#sk-container-id-5 div.sk-estimator:hover label.sk-toggleable__label-arrow:before {color: black;}#sk-container-id-5 div.sk-toggleable__content {max-height: 0;max-width: 0;overflow: hidden;text-align: left;background-color: #f0f8ff;}#sk-container-id-5 div.sk-toggleable__content pre {margin: 0.2em;color: black;border-radius: 0.25em;background-color: #f0f8ff;}#sk-container-id-5 input.sk-toggleable__control:checked~div.sk-toggleable__content {max-height: 200px;max-width: 100%;overflow: auto;}#sk-container-id-5 input.sk-toggleable__control:checked~label.sk-toggleable__label-arrow:before {content: \"▾\";}#sk-container-id-5 div.sk-estimator input.sk-toggleable__control:checked~label.sk-toggleable__label {background-color: #d4ebff;}#sk-container-id-5 div.sk-label input.sk-toggleable__control:checked~label.sk-toggleable__label {background-color: #d4ebff;}#sk-container-id-5 input.sk-hidden--visually {border: 0;clip: rect(1px 1px 1px 1px);clip: rect(1px, 1px, 1px, 1px);height: 1px;margin: -1px;overflow: hidden;padding: 0;position: absolute;width: 1px;}#sk-container-id-5 div.sk-estimator {font-family: monospace;background-color: #f0f8ff;border: 1px dotted black;border-radius: 0.25em;box-sizing: border-box;margin-bottom: 0.5em;}#sk-container-id-5 div.sk-estimator:hover {background-color: #d4ebff;}#sk-container-id-5 div.sk-parallel-item::after {content: \"\";width: 100%;border-bottom: 1px solid gray;flex-grow: 1;}#sk-container-id-5 div.sk-label:hover label.sk-toggleable__label {background-color: #d4ebff;}#sk-container-id-5 div.sk-serial::before {content: \"\";position: absolute;border-left: 1px solid gray;box-sizing: border-box;top: 0;bottom: 0;left: 50%;z-index: 0;}#sk-container-id-5 div.sk-serial {display: flex;flex-direction: column;align-items: center;background-color: white;padding-right: 0.2em;padding-left: 0.2em;position: relative;}#sk-container-id-5 div.sk-item {position: relative;z-index: 1;}#sk-container-id-5 div.sk-parallel {display: flex;align-items: stretch;justify-content: center;background-color: white;position: relative;}#sk-container-id-5 div.sk-item::before, #sk-container-id-5 div.sk-parallel-item::before {content: \"\";position: absolute;border-left: 1px solid gray;box-sizing: border-box;top: 0;bottom: 0;left: 50%;z-index: -1;}#sk-container-id-5 div.sk-parallel-item {display: flex;flex-direction: column;z-index: 1;position: relative;background-color: white;}#sk-container-id-5 div.sk-parallel-item:first-child::after {align-self: flex-end;width: 50%;}#sk-container-id-5 div.sk-parallel-item:last-child::after {align-self: flex-start;width: 50%;}#sk-container-id-5 div.sk-parallel-item:only-child::after {width: 0;}#sk-container-id-5 div.sk-dashed-wrapped {border: 1px dashed gray;margin: 0 0.4em 0.5em 0.4em;box-sizing: border-box;padding-bottom: 0.4em;background-color: white;}#sk-container-id-5 div.sk-label label {font-family: monospace;font-weight: bold;display: inline-block;line-height: 1.2em;}#sk-container-id-5 div.sk-label-container {text-align: center;}#sk-container-id-5 div.sk-container {/* jupyter's `normalize.less` sets `[hidden] { display: none; }` but bootstrap.min.css set `[hidden] { display: none !important; }` so we also need the `!important` here to be able to override the default hidden behavior on the sphinx rendered scikit-learn.org. See: https://github.com/scikit-learn/scikit-learn/issues/21755 */display: inline-block !important;position: relative;}#sk-container-id-5 div.sk-text-repr-fallback {display: none;}</style><div id=\"sk-container-id-5\" class=\"sk-top-container\"><div class=\"sk-text-repr-fallback\"><pre>BayesSearchCV(estimator=Pipeline(steps=[(&#x27;tfidf&#x27;,\n",
       "                                         TfidfVectorizer(stop_words=&#x27;english&#x27;)),\n",
       "                                        (&#x27;lsa&#x27;, TruncatedSVD()),\n",
       "                                        (&#x27;rf&#x27;,\n",
       "                                         RandomForestClassifier(n_jobs=-1))]),\n",
       "              n_iter=10,\n",
       "              search_spaces={&#x27;lsa__n_components&#x27;: Integer(low=2, high=500, prior=&#x27;uniform&#x27;, transform=&#x27;normalize&#x27;),\n",
       "                             &#x27;rf__max_depth&#x27;: Integer(low=2, high=32, prior=&#x27;uniform&#x27;, transform=&#x27;normalize&#x27;),\n",
       "                             &#x27;rf__n_estimators&#x27;: Integer(low=10, high=1000, prior=&#x27;uniform&#x27;, transform=&#x27;normalize&#x27;),\n",
       "                             &#x27;tfidf__max_df&#x27;: Real(low=0.7, high=0.8, prior=&#x27;uniform&#x27;, transform=&#x27;normalize&#x27;),\n",
       "                             &#x27;tfidf__min_df&#x27;: Integer(low=10, high=100, prior=&#x27;uniform&#x27;, transform=&#x27;normalize&#x27;)})</pre><b>In a Jupyter environment, please rerun this cell to show the HTML representation or trust the notebook. <br />On GitHub, the HTML representation is unable to render, please try loading this page with nbviewer.org.</b></div><div class=\"sk-container\" hidden><div class=\"sk-item sk-dashed-wrapped\"><div class=\"sk-label-container\"><div class=\"sk-label sk-toggleable\"><input class=\"sk-toggleable__control sk-hidden--visually\" id=\"sk-estimator-id-5\" type=\"checkbox\" ><label for=\"sk-estimator-id-5\" class=\"sk-toggleable__label sk-toggleable__label-arrow\">BayesSearchCV</label><div class=\"sk-toggleable__content\"><pre>BayesSearchCV(estimator=Pipeline(steps=[(&#x27;tfidf&#x27;,\n",
       "                                         TfidfVectorizer(stop_words=&#x27;english&#x27;)),\n",
       "                                        (&#x27;lsa&#x27;, TruncatedSVD()),\n",
       "                                        (&#x27;rf&#x27;,\n",
       "                                         RandomForestClassifier(n_jobs=-1))]),\n",
       "              n_iter=10,\n",
       "              search_spaces={&#x27;lsa__n_components&#x27;: Integer(low=2, high=500, prior=&#x27;uniform&#x27;, transform=&#x27;normalize&#x27;),\n",
       "                             &#x27;rf__max_depth&#x27;: Integer(low=2, high=32, prior=&#x27;uniform&#x27;, transform=&#x27;normalize&#x27;),\n",
       "                             &#x27;rf__n_estimators&#x27;: Integer(low=10, high=1000, prior=&#x27;uniform&#x27;, transform=&#x27;normalize&#x27;),\n",
       "                             &#x27;tfidf__max_df&#x27;: Real(low=0.7, high=0.8, prior=&#x27;uniform&#x27;, transform=&#x27;normalize&#x27;),\n",
       "                             &#x27;tfidf__min_df&#x27;: Integer(low=10, high=100, prior=&#x27;uniform&#x27;, transform=&#x27;normalize&#x27;)})</pre></div></div></div><div class=\"sk-parallel\"><div class=\"sk-parallel-item\"><div class=\"sk-item\"><div class=\"sk-label-container\"><div class=\"sk-label sk-toggleable\"><input class=\"sk-toggleable__control sk-hidden--visually\" id=\"sk-estimator-id-6\" type=\"checkbox\" ><label for=\"sk-estimator-id-6\" class=\"sk-toggleable__label sk-toggleable__label-arrow\">estimator: Pipeline</label><div class=\"sk-toggleable__content\"><pre>Pipeline(steps=[(&#x27;tfidf&#x27;, TfidfVectorizer(stop_words=&#x27;english&#x27;)),\n",
       "                (&#x27;lsa&#x27;, TruncatedSVD()),\n",
       "                (&#x27;rf&#x27;, RandomForestClassifier(n_jobs=-1))])</pre></div></div></div><div class=\"sk-serial\"><div class=\"sk-item\"><div class=\"sk-serial\"><div class=\"sk-item\"><div class=\"sk-estimator sk-toggleable\"><input class=\"sk-toggleable__control sk-hidden--visually\" id=\"sk-estimator-id-7\" type=\"checkbox\" ><label for=\"sk-estimator-id-7\" class=\"sk-toggleable__label sk-toggleable__label-arrow\">TfidfVectorizer</label><div class=\"sk-toggleable__content\"><pre>TfidfVectorizer(stop_words=&#x27;english&#x27;)</pre></div></div></div><div class=\"sk-item\"><div class=\"sk-estimator sk-toggleable\"><input class=\"sk-toggleable__control sk-hidden--visually\" id=\"sk-estimator-id-8\" type=\"checkbox\" ><label for=\"sk-estimator-id-8\" class=\"sk-toggleable__label sk-toggleable__label-arrow\">TruncatedSVD</label><div class=\"sk-toggleable__content\"><pre>TruncatedSVD()</pre></div></div></div><div class=\"sk-item\"><div class=\"sk-estimator sk-toggleable\"><input class=\"sk-toggleable__control sk-hidden--visually\" id=\"sk-estimator-id-9\" type=\"checkbox\" ><label for=\"sk-estimator-id-9\" class=\"sk-toggleable__label sk-toggleable__label-arrow\">RandomForestClassifier</label><div class=\"sk-toggleable__content\"><pre>RandomForestClassifier(n_jobs=-1)</pre></div></div></div></div></div></div></div></div></div></div></div></div>"
      ],
      "text/plain": [
       "BayesSearchCV(estimator=Pipeline(steps=[('tfidf',\n",
       "                                         TfidfVectorizer(stop_words='english')),\n",
       "                                        ('lsa', TruncatedSVD()),\n",
       "                                        ('rf',\n",
       "                                         RandomForestClassifier(n_jobs=-1))]),\n",
       "              n_iter=10,\n",
       "              search_spaces={'lsa__n_components': Integer(low=2, high=500, prior='uniform', transform='normalize'),\n",
       "                             'rf__max_depth': Integer(low=2, high=32, prior='uniform', transform='normalize'),\n",
       "                             'rf__n_estimators': Integer(low=10, high=1000, prior='uniform', transform='normalize'),\n",
       "                             'tfidf__max_df': Real(low=0.7, high=0.8, prior='uniform', transform='normalize'),\n",
       "                             'tfidf__min_df': Integer(low=10, high=100, prior='uniform', transform='normalize')})"
      ]
     },
     "execution_count": 56,
     "metadata": {},
     "output_type": "execute_result"
    }
   ],
   "source": [
    "clf_fit = BayesSearchCV(modelo, param_grid, n_iter=10)\n",
    "clf_fit.fit(X_text_train, y_train)"
   ]
  },
  {
   "attachments": {},
   "cell_type": "markdown",
   "metadata": {},
   "source": [
    "Vamos visualizar nosso melhor modelo:"
   ]
  },
  {
   "cell_type": "code",
   "execution_count": 58,
   "metadata": {},
   "outputs": [
    {
     "data": {
      "text/html": [
       "<style>#sk-container-id-7 {color: black;background-color: white;}#sk-container-id-7 pre{padding: 0;}#sk-container-id-7 div.sk-toggleable {background-color: white;}#sk-container-id-7 label.sk-toggleable__label {cursor: pointer;display: block;width: 100%;margin-bottom: 0;padding: 0.3em;box-sizing: border-box;text-align: center;}#sk-container-id-7 label.sk-toggleable__label-arrow:before {content: \"▸\";float: left;margin-right: 0.25em;color: #696969;}#sk-container-id-7 label.sk-toggleable__label-arrow:hover:before {color: black;}#sk-container-id-7 div.sk-estimator:hover label.sk-toggleable__label-arrow:before {color: black;}#sk-container-id-7 div.sk-toggleable__content {max-height: 0;max-width: 0;overflow: hidden;text-align: left;background-color: #f0f8ff;}#sk-container-id-7 div.sk-toggleable__content pre {margin: 0.2em;color: black;border-radius: 0.25em;background-color: #f0f8ff;}#sk-container-id-7 input.sk-toggleable__control:checked~div.sk-toggleable__content {max-height: 200px;max-width: 100%;overflow: auto;}#sk-container-id-7 input.sk-toggleable__control:checked~label.sk-toggleable__label-arrow:before {content: \"▾\";}#sk-container-id-7 div.sk-estimator input.sk-toggleable__control:checked~label.sk-toggleable__label {background-color: #d4ebff;}#sk-container-id-7 div.sk-label input.sk-toggleable__control:checked~label.sk-toggleable__label {background-color: #d4ebff;}#sk-container-id-7 input.sk-hidden--visually {border: 0;clip: rect(1px 1px 1px 1px);clip: rect(1px, 1px, 1px, 1px);height: 1px;margin: -1px;overflow: hidden;padding: 0;position: absolute;width: 1px;}#sk-container-id-7 div.sk-estimator {font-family: monospace;background-color: #f0f8ff;border: 1px dotted black;border-radius: 0.25em;box-sizing: border-box;margin-bottom: 0.5em;}#sk-container-id-7 div.sk-estimator:hover {background-color: #d4ebff;}#sk-container-id-7 div.sk-parallel-item::after {content: \"\";width: 100%;border-bottom: 1px solid gray;flex-grow: 1;}#sk-container-id-7 div.sk-label:hover label.sk-toggleable__label {background-color: #d4ebff;}#sk-container-id-7 div.sk-serial::before {content: \"\";position: absolute;border-left: 1px solid gray;box-sizing: border-box;top: 0;bottom: 0;left: 50%;z-index: 0;}#sk-container-id-7 div.sk-serial {display: flex;flex-direction: column;align-items: center;background-color: white;padding-right: 0.2em;padding-left: 0.2em;position: relative;}#sk-container-id-7 div.sk-item {position: relative;z-index: 1;}#sk-container-id-7 div.sk-parallel {display: flex;align-items: stretch;justify-content: center;background-color: white;position: relative;}#sk-container-id-7 div.sk-item::before, #sk-container-id-7 div.sk-parallel-item::before {content: \"\";position: absolute;border-left: 1px solid gray;box-sizing: border-box;top: 0;bottom: 0;left: 50%;z-index: -1;}#sk-container-id-7 div.sk-parallel-item {display: flex;flex-direction: column;z-index: 1;position: relative;background-color: white;}#sk-container-id-7 div.sk-parallel-item:first-child::after {align-self: flex-end;width: 50%;}#sk-container-id-7 div.sk-parallel-item:last-child::after {align-self: flex-start;width: 50%;}#sk-container-id-7 div.sk-parallel-item:only-child::after {width: 0;}#sk-container-id-7 div.sk-dashed-wrapped {border: 1px dashed gray;margin: 0 0.4em 0.5em 0.4em;box-sizing: border-box;padding-bottom: 0.4em;background-color: white;}#sk-container-id-7 div.sk-label label {font-family: monospace;font-weight: bold;display: inline-block;line-height: 1.2em;}#sk-container-id-7 div.sk-label-container {text-align: center;}#sk-container-id-7 div.sk-container {/* jupyter's `normalize.less` sets `[hidden] { display: none; }` but bootstrap.min.css set `[hidden] { display: none !important; }` so we also need the `!important` here to be able to override the default hidden behavior on the sphinx rendered scikit-learn.org. See: https://github.com/scikit-learn/scikit-learn/issues/21755 */display: inline-block !important;position: relative;}#sk-container-id-7 div.sk-text-repr-fallback {display: none;}</style><div id=\"sk-container-id-7\" class=\"sk-top-container\"><div class=\"sk-text-repr-fallback\"><pre>Pipeline(steps=[(&#x27;tfidf&#x27;,\n",
       "                 TfidfVectorizer(max_df=0.7908215714496384, min_df=11,\n",
       "                                 stop_words=&#x27;english&#x27;)),\n",
       "                (&#x27;lsa&#x27;, TruncatedSVD(n_components=191)),\n",
       "                (&#x27;rf&#x27;,\n",
       "                 RandomForestClassifier(max_depth=25, n_estimators=354,\n",
       "                                        n_jobs=-1))])</pre><b>In a Jupyter environment, please rerun this cell to show the HTML representation or trust the notebook. <br />On GitHub, the HTML representation is unable to render, please try loading this page with nbviewer.org.</b></div><div class=\"sk-container\" hidden><div class=\"sk-item sk-dashed-wrapped\"><div class=\"sk-label-container\"><div class=\"sk-label sk-toggleable\"><input class=\"sk-toggleable__control sk-hidden--visually\" id=\"sk-estimator-id-14\" type=\"checkbox\" ><label for=\"sk-estimator-id-14\" class=\"sk-toggleable__label sk-toggleable__label-arrow\">Pipeline</label><div class=\"sk-toggleable__content\"><pre>Pipeline(steps=[(&#x27;tfidf&#x27;,\n",
       "                 TfidfVectorizer(max_df=0.7908215714496384, min_df=11,\n",
       "                                 stop_words=&#x27;english&#x27;)),\n",
       "                (&#x27;lsa&#x27;, TruncatedSVD(n_components=191)),\n",
       "                (&#x27;rf&#x27;,\n",
       "                 RandomForestClassifier(max_depth=25, n_estimators=354,\n",
       "                                        n_jobs=-1))])</pre></div></div></div><div class=\"sk-serial\"><div class=\"sk-item\"><div class=\"sk-estimator sk-toggleable\"><input class=\"sk-toggleable__control sk-hidden--visually\" id=\"sk-estimator-id-15\" type=\"checkbox\" ><label for=\"sk-estimator-id-15\" class=\"sk-toggleable__label sk-toggleable__label-arrow\">TfidfVectorizer</label><div class=\"sk-toggleable__content\"><pre>TfidfVectorizer(max_df=0.7908215714496384, min_df=11, stop_words=&#x27;english&#x27;)</pre></div></div></div><div class=\"sk-item\"><div class=\"sk-estimator sk-toggleable\"><input class=\"sk-toggleable__control sk-hidden--visually\" id=\"sk-estimator-id-16\" type=\"checkbox\" ><label for=\"sk-estimator-id-16\" class=\"sk-toggleable__label sk-toggleable__label-arrow\">TruncatedSVD</label><div class=\"sk-toggleable__content\"><pre>TruncatedSVD(n_components=191)</pre></div></div></div><div class=\"sk-item\"><div class=\"sk-estimator sk-toggleable\"><input class=\"sk-toggleable__control sk-hidden--visually\" id=\"sk-estimator-id-17\" type=\"checkbox\" ><label for=\"sk-estimator-id-17\" class=\"sk-toggleable__label sk-toggleable__label-arrow\">RandomForestClassifier</label><div class=\"sk-toggleable__content\"><pre>RandomForestClassifier(max_depth=25, n_estimators=354, n_jobs=-1)</pre></div></div></div></div></div></div></div>"
      ],
      "text/plain": [
       "Pipeline(steps=[('tfidf',\n",
       "                 TfidfVectorizer(max_df=0.7908215714496384, min_df=11,\n",
       "                                 stop_words='english')),\n",
       "                ('lsa', TruncatedSVD(n_components=191)),\n",
       "                ('rf',\n",
       "                 RandomForestClassifier(max_depth=25, n_estimators=354,\n",
       "                                        n_jobs=-1))])"
      ]
     },
     "execution_count": 58,
     "metadata": {},
     "output_type": "execute_result"
    }
   ],
   "source": [
    "clf_fit.best_estimator_\n"
   ]
  },
  {
   "attachments": {},
   "cell_type": "markdown",
   "metadata": {},
   "source": [
    "Agora vamos avaliar o resultado sobre o conjunto de teste:"
   ]
  },
  {
   "cell_type": "code",
   "execution_count": 20,
   "metadata": {},
   "outputs": [
    {
     "name": "stdout",
     "output_type": "stream",
     "text": [
      "Accuracy: 0.57\n",
      "F1-Score: 0.55\n"
     ]
    }
   ],
   "source": [
    "y_pred = clf_fit.predict(X_text_test)\n",
    "print(f\"Accuracy: {clf_fit.score(X_text_test, y_test):.2f}\")\n",
    "print(f\"F1-Score: {f1_score(y_test, y_pred, average='macro'):.2f}\")\n"
   ]
  },
  {
   "attachments": {},
   "cell_type": "markdown",
   "metadata": {},
   "source": [
    "# Visualizando contexto com Embeddings\n",
    "\n",
    "O modelo *Bag of Words* (saco de palavras) apresenta algumas limitações em relação à representação de texto. Essa abordagem trata cada palavra de um documento de forma isolada, desconsiderando a ordem e o contexto em que elas aparecem. Essa falta de contextualização pode levar à perda de informações importantes, como a semântica e a estrutura das frases. Além disso, o modelo *Bag of Words* não leva em consideração a similaridade entre palavras, tratando-as como entidades independentes.\n",
    "\n",
    "Por outro lado, utilizar *embeddings* pré-treinados como o Word2Vec ou GLOVE oferece uma vantagem significativa. Esses modelos capturam relações semânticas e simbolizam as palavras em um espaço vetorial de alta dimensionalidade, onde palavras semanticamente relacionadas estão mais próximas entre si. Esses *embeddings* pré-treinados permitem que palavras com significados similares sejam representadas por vetores próximos, capturando melhor a riqueza semântica do texto. Dessa forma, é possível obter uma representação mais contextualizada das palavras, facilitando a tarefa de compreensão e análise de texto em aplicações como processamento de linguagem natural e aprendizado de máquina.\n",
    "\n",
    "**Principais limitações do modelo Bag of Words:**\n",
    "- Trata as palavras de forma isolada, desconsiderando a ordem e o contexto.\n",
    "- Não leva em consideração a similaridade entre palavras.\n",
    "\n",
    "**Vantagens dos embeddings pré-treinados:**\n",
    "- Capturam relações semânticas.\n",
    "- Representam as palavras em um espaço vetorial de alta dimensionalidade.\n",
    "- Permitem a contextualização das palavras.\n",
    "- Facilitam a compreensão e análise de texto em diversas aplicações.\n",
    "\n",
    "Vamos utilizar a bilioteca `gensim` para incorporar embeddings em nosso modelo. Para instalar o `gensim` podemos utilizar o instalador conda:\n",
    "\n",
    "```bash\n",
    "conda install -c conda-forge gensim\n",
    "```\n",
    "\n",
    "ou `pip`:\n",
    "\n",
    "```bash\n",
    "pip install gensim\n",
    "```"
   ]
  },
  {
   "cell_type": "code",
   "execution_count": 21,
   "metadata": {},
   "outputs": [],
   "source": [
    "import gensim\n",
    "import gensim.downloader\n"
   ]
  },
  {
   "cell_type": "code",
   "execution_count": 22,
   "metadata": {},
   "outputs": [],
   "source": [
    "glove = gensim.downloader.load(\"glove-wiki-gigaword-50\")"
   ]
  },
  {
   "cell_type": "code",
   "execution_count": 23,
   "metadata": {},
   "outputs": [
    {
     "data": {
      "text/plain": [
       "[('prince', 0.8236179351806641),\n",
       " ('queen', 0.7839044332504272),\n",
       " ('ii', 0.7746230363845825),\n",
       " ('emperor', 0.7736247777938843),\n",
       " ('son', 0.766719400882721),\n",
       " ('uncle', 0.7627150416374207),\n",
       " ('kingdom', 0.7542160749435425),\n",
       " ('throne', 0.7539914846420288),\n",
       " ('brother', 0.7492411136627197),\n",
       " ('ruler', 0.7434254288673401)]"
      ]
     },
     "execution_count": 23,
     "metadata": {},
     "output_type": "execute_result"
    }
   ],
   "source": [
    "glove.most_similar(\"king\")"
   ]
  },
  {
   "attachments": {},
   "cell_type": "markdown",
   "metadata": {},
   "source": [
    "Embeddings são representações vetoriais das palavras - cada palavra é representada por um vetor - como no LSA cada componente representava a presença (e ausência) das palavras do nosso vocabulário. A diferença é que os embeddings são treinados em um corpus de texto muito grande, capturando relações semânticas entre as palavras. Essa técnica nos permite incorporar conhecimento de outros corpus em nosso modelo!\n",
    "\n",
    "Vamos ver agora como podemos utilizar modelos pré-treinados para criar classificadores de NLP."
   ]
  },
  {
   "cell_type": "code",
   "execution_count": 24,
   "metadata": {},
   "outputs": [],
   "source": [
    "del glove\n"
   ]
  },
  {
   "attachments": {},
   "cell_type": "markdown",
   "metadata": {},
   "source": [
    "# Usando `Transformers` Pré-Treinados via HuggingFace\n",
    "\n",
    "O **HuggingFace** é uma biblioteca e plataforma popular na área de Processamento de Linguagem Natural (PLN). Ele oferece uma ampla gama de ferramentas e recursos para trabalhar com modelos de PLN, sendo conhecido principalmente por sua contribuição para a pesquisa e desenvolvimento de modelos **transformers**.\n",
    "\n",
    "O HuggingFace permite que os desenvolvedores acessem e utilizem facilmente modelos transformers pré-treinados de última geração, como o **GPT-3**, para uma variedade de tarefas de PLN, como:\n",
    "- Tradução automática\n",
    "- Sumarização de texto\n",
    "- Geração de texto\n",
    "- Análise de sentimentos\n",
    "\n",
    "Além disso, o HuggingFace também disponibiliza uma **API** amigável para facilitar o uso desses modelos, bem como recursos de treinamento e ajuste fino para personalizar os modelos de acordo com as necessidades específicas de cada usuário.\n",
    "\n",
    "Os modelos **transformers**, por sua vez, são uma classe de modelos de aprendizado de máquina que se destacaram na área de PLN. Eles foram introduzidos pela primeira vez em 2017 e desde então se tornaram a base para muitos avanços no campo da linguagem natural.\n",
    "\n",
    "Esses modelos são baseados em uma arquitetura complexa de rede neural que utiliza a **atenção multi-cabeça** para processar sequências de texto. Essa arquitetura permite que os modelos capturem relações contextuais entre as palavras em um texto, o que é crucial para entender e gerar linguagem de maneira mais precisa.\n",
    "\n",
    "Com sua capacidade de aprender e representar sequências de texto de maneira eficiente, os modelos **transformers** revolucionaram várias tarefas de PLN e têm sido amplamente utilizados para melhorar a qualidade e o desempenho de sistemas de processamento de linguagem natural em diferentes domínios."
   ]
  },
  {
   "cell_type": "code",
   "execution_count": 30,
   "metadata": {},
   "outputs": [
    {
     "data": {
      "application/vnd.jupyter.widget-view+json": {
       "model_id": "e9aaba968fe64910a8d9f75035f5fc15",
       "version_major": 2,
       "version_minor": 0
      },
      "text/plain": [
       "Downloading (…)okenizer_config.json:   0%|          | 0.00/28.0 [00:00<?, ?B/s]"
      ]
     },
     "metadata": {},
     "output_type": "display_data"
    },
    {
     "data": {
      "application/vnd.jupyter.widget-view+json": {
       "model_id": "6913fa905c114bf496ae562d87b3ed84",
       "version_major": 2,
       "version_minor": 0
      },
      "text/plain": [
       "Downloading (…)solve/main/vocab.txt:   0%|          | 0.00/232k [00:00<?, ?B/s]"
      ]
     },
     "metadata": {},
     "output_type": "display_data"
    },
    {
     "data": {
      "application/vnd.jupyter.widget-view+json": {
       "model_id": "6e302bdb580d428685584aabf4c11903",
       "version_major": 2,
       "version_minor": 0
      },
      "text/plain": [
       "Downloading (…)/main/tokenizer.json:   0%|          | 0.00/466k [00:00<?, ?B/s]"
      ]
     },
     "metadata": {},
     "output_type": "display_data"
    },
    {
     "data": {
      "application/vnd.jupyter.widget-view+json": {
       "model_id": "1e1a8f32644a49ad9174f28dcc45786b",
       "version_major": 2,
       "version_minor": 0
      },
      "text/plain": [
       "Downloading (…)lve/main/config.json:   0%|          | 0.00/483 [00:00<?, ?B/s]"
      ]
     },
     "metadata": {},
     "output_type": "display_data"
    }
   ],
   "source": [
    "from transformers import DistilBertTokenizerFast\n",
    "\n",
    "# Primeiro, vamos inicializar nosso tokenizador pré-treinado\n",
    "tokenizer = DistilBertTokenizerFast.from_pretrained(\"distilbert-base-uncased\")"
   ]
  },
  {
   "attachments": {},
   "cell_type": "markdown",
   "metadata": {},
   "source": [
    "Agora precisamos preparar nossos dados para entrada no modelo. Precisaremos criar os batches manualmente a partir dos textos. Como precisamos transformar em batches de tokens tanto nosso conjunto de teste quanto de treinamento, vamos definir uma função para isso:"
   ]
  },
  {
   "cell_type": "code",
   "execution_count": 33,
   "metadata": {},
   "outputs": [],
   "source": [
    "# Número máximo de palavras em um texto.\n",
    "# Documentos com mais que MAX_LENGTH palavras serão divididos em 2 ou mais documentos.\n",
    "MAX_LENGTH = 128\n",
    "\n",
    "# Define function to encode text data in batches\n",
    "def batch_encode(tokenizer, texts, batch_size=64, max_length=MAX_LENGTH):\n",
    "    '''\n",
    "    Função para codificar um lote de textos e retornar os batches de tensores\n",
    "    correspondentes aos textos e suas máscaras de atenção, prontos para serem\n",
    "    alimentados em um modelo de transformer pré-treinado.\n",
    "    \n",
    "    Input:\n",
    "        - tokenizer:   Tokenizer pré-treinado\n",
    "        - texts:       List de textos a serem codificados\n",
    "        - batch_size:  Int que controla o tamanho dos batches\n",
    "        - max_length:  Int que controla o tamanho máximo dos textos codificados\n",
    "    Output:\n",
    "        - input_ids:       tf.Tensor com os textos codificados\n",
    "        - attention_mask:  tf.Tensor com as máscaras de atenção correspondentes\n",
    "    '''\n",
    "\n",
    "    input_ids = []\n",
    "    attention_mask = []\n",
    "\n",
    "    for i in range(0, len(texts), batch_size):\n",
    "        batch = texts[i : i + batch_size]\n",
    "        inputs = tokenizer.batch_encode_plus(\n",
    "            batch,\n",
    "            max_length=max_length,\n",
    "            padding=\"longest\",\n",
    "            truncation=True,\n",
    "            return_attention_mask=True,\n",
    "            return_token_type_ids=False,\n",
    "        )\n",
    "        input_ids.extend(inputs[\"input_ids\"])\n",
    "        attention_mask.extend(inputs[\"attention_mask\"])\n",
    "\n",
    "    return tf.convert_to_tensor(input_ids), tf.convert_to_tensor(attention_mask)\n",
    "\n",
    "\n",
    "# Encode X_train\n",
    "X_train_ids, X_train_attention = batch_encode(tokenizer, X_text_train)\n",
    "\n",
    "# Encode X_valid\n",
    "X_test_ids, X_test_attention = batch_encode(tokenizer, X_text_test)"
   ]
  },
  {
   "attachments": {},
   "cell_type": "markdown",
   "metadata": {},
   "source": [
    "Agora, vamos inicializar nosso modelo pré-treinado e tornar suas camadas fixas:"
   ]
  },
  {
   "cell_type": "code",
   "execution_count": 34,
   "metadata": {},
   "outputs": [
    {
     "data": {
      "application/vnd.jupyter.widget-view+json": {
       "model_id": "8126d53284d84ff3a8193e85317f36a7",
       "version_major": 2,
       "version_minor": 0
      },
      "text/plain": [
       "Downloading tf_model.h5:   0%|          | 0.00/363M [00:00<?, ?B/s]"
      ]
     },
     "metadata": {},
     "output_type": "display_data"
    },
    {
     "name": "stderr",
     "output_type": "stream",
     "text": [
      "Some layers from the model checkpoint at distilbert-base-uncased were not used when initializing TFDistilBertModel: ['vocab_transform', 'vocab_layer_norm', 'activation_13', 'vocab_projector']\n",
      "- This IS expected if you are initializing TFDistilBertModel from the checkpoint of a model trained on another task or with another architecture (e.g. initializing a BertForSequenceClassification model from a BertForPreTraining model).\n",
      "- This IS NOT expected if you are initializing TFDistilBertModel from the checkpoint of a model that you expect to be exactly identical (initializing a BertForSequenceClassification model from a BertForSequenceClassification model).\n",
      "All the layers of TFDistilBertModel were initialized from the model checkpoint at distilbert-base-uncased.\n",
      "If your task is similar to the task the model of the checkpoint was trained on, you can already use TFDistilBertModel for predictions without further training.\n"
     ]
    }
   ],
   "source": [
    "from transformers import TFDistilBertModel, DistilBertConfig\n",
    "\n",
    "DISTILBERT_DROPOUT = 0.2\n",
    "DISTILBERT_ATT_DROPOUT = 0.2\n",
    "\n",
    "# Configure DistilBERT's initialization\n",
    "config = DistilBertConfig(\n",
    "    dropout=DISTILBERT_DROPOUT,\n",
    "    attention_dropout=DISTILBERT_ATT_DROPOUT,\n",
    "    output_hidden_states=True,\n",
    ")\n",
    "\n",
    "# The bare, pre-trained DistilBERT transformer model outputting raw hidden-states\n",
    "# and without any specific head on top.\n",
    "distilBERT = TFDistilBertModel.from_pretrained(\"distilbert-base-uncased\", config=config)\n",
    "\n",
    "# Make DistilBERT layers untrainable\n",
    "for layer in distilBERT.layers:\n",
    "    layer.trainable = False\n"
   ]
  },
  {
   "attachments": {},
   "cell_type": "markdown",
   "metadata": {},
   "source": [
    "Com nosso modelo pré-treinado inicializado, vamos definir nossa rede neural de fine-tuning. \n",
    "\n",
    "**Fine-tuning** é um processo em que um modelo de linguagem pré-treinado, como o DistilBERT, é ajustado para um conjunto de dados específico ou uma tarefa particular. Durante o pré-treinamento, o modelo é exposto a uma ampla variedade de textos e aprende representações de linguagem geral. No entanto, o *fine-tuning* permite adaptar esse modelo pré-treinado a uma tarefa específica, como classificação de sentimentos ou geração de respostas. \n",
    "\n",
    "Durante o *fine-tuning*, os pesos e parâmetros do modelo são ajustados usando um conjunto de dados de treinamento relacionado à tarefa em questão. Isso permite que o modelo aprenda a compreender e gerar texto de maneira mais precisa e relevante para a tarefa específica. O *fine-tuning* é essencial para adaptar modelos pré-treinados a tarefas específicas e obter um desempenho aprimorado e personalizado.\n",
    "\n"
   ]
  },
  {
   "cell_type": "code",
   "execution_count": 45,
   "metadata": {},
   "outputs": [],
   "source": [
    "LAYER_DROPOUT = 0.2\n",
    "LEARNING_RATE = 5e-5\n",
    "RANDOM_STATE = 42\n",
    "\n",
    "# As primeiras camadas do nosso modelo são as camadas de entrada que\n",
    "# possuem dois tensores de entrada distintos: input_ids e input_attention.\n",
    "input_ids_layer = tf.keras.layers.Input(\n",
    "    shape=(MAX_LENGTH,), name=\"input_ids\", dtype=\"int32\"\n",
    ")\n",
    "input_attention_layer = tf.keras.layers.Input(\n",
    "    shape=(MAX_LENGTH,), name=\"input_attention\", dtype=\"int32\"\n",
    ")\n",
    "\n",
    "# Agora, vamos inserir o DistilBERT como uma camada do nosso modelo.\n",
    "# Para isso precisamos conecta-lo às camadas de entrada e criar\n",
    "# uma camada de saída para o resto do modelo.\n",
    "last_hidden_state = distilBERT([input_ids_layer, input_attention_layer])[0]\n",
    "cls_token = last_hidden_state[:, 0, :]\n",
    "\n",
    "# Agora, vamos definir as camadas de fine-tuning:\n",
    "dense_1 = tf.keras.layers.Dense(100, activation=\"relu\")(cls_token)\n",
    "drop_1 = tf.keras.layers.Dropout(LAYER_DROPOUT)(dense_1)\n",
    "dense_2 = tf.keras.layers.Dense(100, activation=\"relu\")(drop_1)\n",
    "drop_2 = tf.keras.layers.Dropout(LAYER_DROPOUT)(dense_2)\n",
    "\n",
    "# Definindo camada de saída\n",
    "## Atenção! O número de neurônios e a função de ativação da camada de saída\n",
    "## são uma função do problema que estamos tentando resolver.\n",
    "output = tf.keras.layers.Dense(\n",
    "    20,\n",
    "    activation=\"softmax\"\n",
    ")(drop_2)\n",
    "\n",
    "# Como construímos nosso modelo utilizando a Functional API, precisamos\n",
    "# amarrar as camadas de entrada e saída em um objeto do tipo Model.\n",
    "model = tf.keras.Model([input_ids_layer, input_attention_layer], output)\n",
    "\n",
    "# Compile the model\n",
    "model.compile(\n",
    "    tf.keras.optimizers.legacy.Adam(lr=LEARNING_RATE),\n",
    "    loss=\"sparse_categorical_crossentropy\",\n",
    "    metrics=[\"accuracy\"],\n",
    ")"
   ]
  },
  {
   "attachments": {},
   "cell_type": "markdown",
   "metadata": {},
   "source": [
    "Com nosso modelo definido e compilado resta apenas treiná-lo:"
   ]
  },
  {
   "cell_type": "code",
   "execution_count": 46,
   "metadata": {},
   "outputs": [
    {
     "name": "stdout",
     "output_type": "stream",
     "text": [
      "Epoch 1/6\n"
     ]
    },
    {
     "name": "stderr",
     "output_type": "stream",
     "text": [
      "/Users/pedroteche/miniconda3/envs/optuna/lib/python3.10/site-packages/keras/optimizers/legacy/adam.py:117: UserWarning: The `lr` argument is deprecated, use `learning_rate` instead.\n",
      "  super().__init__(name, **kwargs)\n"
     ]
    },
    {
     "name": "stdout",
     "output_type": "stream",
     "text": [
      "176/176 - 166s - loss: 3.0556 - accuracy: 0.0701 - val_loss: 2.9235 - val_accuracy: 0.1325 - 166s/epoch - 942ms/step\n",
      "Epoch 2/6\n",
      "176/176 - 159s - loss: 2.8756 - accuracy: 0.1375 - val_loss: 2.7697 - val_accuracy: 0.2332 - 159s/epoch - 902ms/step\n",
      "Epoch 3/6\n",
      "176/176 - 159s - loss: 2.7596 - accuracy: 0.2094 - val_loss: 2.6529 - val_accuracy: 0.3445 - 159s/epoch - 902ms/step\n",
      "Epoch 4/6\n",
      "176/176 - 158s - loss: 2.6589 - accuracy: 0.2749 - val_loss: 2.5519 - val_accuracy: 0.3746 - 158s/epoch - 897ms/step\n",
      "Epoch 5/6\n",
      "176/176 - 151s - loss: 2.5705 - accuracy: 0.3246 - val_loss: 2.4622 - val_accuracy: 0.4125 - 151s/epoch - 857ms/step\n",
      "Epoch 6/6\n",
      "WARNING:tensorflow:Your input ran out of data; interrupting training. Make sure that your dataset or generator can generate at least `steps_per_epoch * epochs` batches (in this case, 1056 batches). You may need to use the repeat() function when building your dataset.\n"
     ]
    },
    {
     "name": "stderr",
     "output_type": "stream",
     "text": [
      "WARNING:tensorflow:Your input ran out of data; interrupting training. Make sure that your dataset or generator can generate at least `steps_per_epoch * epochs` batches (in this case, 1056 batches). You may need to use the repeat() function when building your dataset.\n"
     ]
    },
    {
     "name": "stdout",
     "output_type": "stream",
     "text": [
      "176/176 - 75s - loss: 2.5130 - accuracy: 0.3422 - val_loss: 2.4221 - val_accuracy: 0.4311 - 75s/epoch - 429ms/step\n"
     ]
    }
   ],
   "source": [
    "EPOCHS = 6\n",
    "BATCH_SIZE = 64\n",
    "NUM_STEPS = len(X_text_train) // BATCH_SIZE\n",
    "\n",
    "# Train the model\n",
    "train_history1 = model.fit(\n",
    "    x=[X_train_ids, X_train_attention],\n",
    "    y=y_train,\n",
    "    epochs=EPOCHS,\n",
    "    batch_size=BATCH_SIZE,\n",
    "    steps_per_epoch=NUM_STEPS,\n",
    "    validation_split=0.1,\n",
    "    verbose=2,\n",
    ")"
   ]
  },
  {
   "attachments": {},
   "cell_type": "markdown",
   "metadata": {},
   "source": [
    "# Aprendizagem Não-Supervisionada com BERTOPIC"
   ]
  },
  {
   "cell_type": "code",
   "execution_count": 47,
   "metadata": {},
   "outputs": [
    {
     "name": "stderr",
     "output_type": "stream",
     "text": [
      "/Users/pedroteche/miniconda3/envs/optuna/lib/python3.10/site-packages/umap/distances.py:1063: NumbaDeprecationWarning: \u001b[1mThe 'nopython' keyword argument was not supplied to the 'numba.jit' decorator. The implicit default value for this argument is currently False, but it will be changed to True in Numba 0.59.0. See https://numba.readthedocs.io/en/stable/reference/deprecation.html#deprecation-of-object-mode-fall-back-behaviour-when-using-jit for details.\u001b[0m\n",
      "  @numba.jit()\n",
      "/Users/pedroteche/miniconda3/envs/optuna/lib/python3.10/site-packages/umap/distances.py:1071: NumbaDeprecationWarning: \u001b[1mThe 'nopython' keyword argument was not supplied to the 'numba.jit' decorator. The implicit default value for this argument is currently False, but it will be changed to True in Numba 0.59.0. See https://numba.readthedocs.io/en/stable/reference/deprecation.html#deprecation-of-object-mode-fall-back-behaviour-when-using-jit for details.\u001b[0m\n",
      "  @numba.jit()\n",
      "/Users/pedroteche/miniconda3/envs/optuna/lib/python3.10/site-packages/umap/distances.py:1086: NumbaDeprecationWarning: \u001b[1mThe 'nopython' keyword argument was not supplied to the 'numba.jit' decorator. The implicit default value for this argument is currently False, but it will be changed to True in Numba 0.59.0. See https://numba.readthedocs.io/en/stable/reference/deprecation.html#deprecation-of-object-mode-fall-back-behaviour-when-using-jit for details.\u001b[0m\n",
      "  @numba.jit()\n",
      "/Users/pedroteche/miniconda3/envs/optuna/lib/python3.10/site-packages/umap/umap_.py:660: NumbaDeprecationWarning: \u001b[1mThe 'nopython' keyword argument was not supplied to the 'numba.jit' decorator. The implicit default value for this argument is currently False, but it will be changed to True in Numba 0.59.0. See https://numba.readthedocs.io/en/stable/reference/deprecation.html#deprecation-of-object-mode-fall-back-behaviour-when-using-jit for details.\u001b[0m\n",
      "  @numba.jit()\n"
     ]
    }
   ],
   "source": [
    "from bertopic import BERTopic\n"
   ]
  },
  {
   "cell_type": "code",
   "execution_count": 71,
   "metadata": {},
   "outputs": [
    {
     "name": "stdout",
     "output_type": "stream",
     "text": [
      "huggingface/tokenizers: The current process just got forked, after parallelism has already been used. Disabling parallelism to avoid deadlocks...\n",
      "To disable this warning, you can either:\n",
      "\t- Avoid using `tokenizers` before the fork if possible\n",
      "\t- Explicitly set the environment variable TOKENIZERS_PARALLELISM=(true | false)\n",
      "huggingface/tokenizers: The current process just got forked, after parallelism has already been used. Disabling parallelism to avoid deadlocks...\n",
      "To disable this warning, you can either:\n",
      "\t- Avoid using `tokenizers` before the fork if possible\n",
      "\t- Explicitly set the environment variable TOKENIZERS_PARALLELISM=(true | false)\n",
      "huggingface/tokenizers: The current process just got forked, after parallelism has already been used. Disabling parallelism to avoid deadlocks...\n",
      "To disable this warning, you can either:\n",
      "\t- Avoid using `tokenizers` before the fork if possible\n",
      "\t- Explicitly set the environment variable TOKENIZERS_PARALLELISM=(true | false)\n",
      "huggingface/tokenizers: The current process just got forked, after parallelism has already been used. Disabling parallelism to avoid deadlocks...\n",
      "To disable this warning, you can either:\n",
      "\t- Avoid using `tokenizers` before the fork if possible\n",
      "\t- Explicitly set the environment variable TOKENIZERS_PARALLELISM=(true | false)\n"
     ]
    }
   ],
   "source": [
    "from bertopic.representation import MaximalMarginalRelevance\n",
    "\n",
    "representation_model = MaximalMarginalRelevance(diversity=0.3)\n",
    "topic_model = BERTopic(representation_model=representation_model)\n",
    "topics, probs = topic_model.fit_transform(X_text_train + X_text_test)"
   ]
  },
  {
   "cell_type": "code",
   "execution_count": 72,
   "metadata": {},
   "outputs": [
    {
     "data": {
      "text/plain": [
       "[('games', 0.007027789245839699),\n",
       " ('players', 0.006205560524407372),\n",
       " ('season', 0.0061261280407610115),\n",
       " ('hockey', 0.006031381759577707),\n",
       " ('25', 0.005505592979640132),\n",
       " ('league', 0.004907279913881185),\n",
       " ('period', 0.004198367350311833),\n",
       " ('nhl', 0.004033391249829571),\n",
       " ('pts', 0.0036314874953981544),\n",
       " ('gm', 0.003445198692667569)]"
      ]
     },
     "execution_count": 72,
     "metadata": {},
     "output_type": "execute_result"
    }
   ],
   "source": [
    "topic_model.get_topic(0)\n"
   ]
  },
  {
   "cell_type": "code",
   "execution_count": 73,
   "metadata": {},
   "outputs": [
    {
     "data": {
      "text/plain": [
       "[('clipper', 0.012462800795380277),\n",
       " ('chip', 0.011734669374666327),\n",
       " ('encryption', 0.011434093144519698),\n",
       " ('escrow', 0.008489345204084982),\n",
       " ('nsa', 0.007322577292935858),\n",
       " ('encrypted', 0.0057688950163197455),\n",
       " ('security', 0.005340577251385889),\n",
       " ('crypto', 0.005111413255062783),\n",
       " ('enforcement', 0.004957826517867589),\n",
       " ('phones', 0.0046703919781765)]"
      ]
     },
     "execution_count": 73,
     "metadata": {},
     "output_type": "execute_result"
    }
   ],
   "source": [
    "topic_model.get_topic(1)\n"
   ]
  },
  {
   "cell_type": "code",
   "execution_count": 75,
   "metadata": {},
   "outputs": [
    {
     "data": {
      "image/png": "[encoded data removed]",
      "text/plain": [
       "<Figure size 640x480 with 1 Axes>"
      ]
     },
     "metadata": {},
     "output_type": "display_data"
    }
   ],
   "source": [
    "from wordcloud import WordCloud\n",
    "\n",
    "def create_wordcloud(model, topic):\n",
    "    text = {word: value for word, value in model.get_topic(topic)}\n",
    "    wc = WordCloud(background_color=\"white\", max_words=1000)\n",
    "    wc.generate_from_frequencies(text)\n",
    "    plt.imshow(wc, interpolation=\"bilinear\")\n",
    "    plt.axis(\"off\")\n",
    "    plt.show()\n",
    "\n",
    "# Show wordcloud\n",
    "create_wordcloud(topic_model, topic=1)"
   ]
  },
  {
   "cell_type": "code",
   "execution_count": 76,
   "metadata": {},
   "outputs": [
    {
     "data": {
      "application/vnd.plotly.v1+json": {
       "config": {
        "plotlyServerURL": "https://plot.ly"
       },
       "data": [
        {
         "marker": {
          "color": "#D55E00"
         },
         "orientation": "h",
         "type": "bar",
         "x": [
          0.005505592979640132,
          0.006031381759577707,
          0.0061261280407610115,
          0.006205560524407372,
          0.007027789245839699
         ],
         "xaxis": "x",
         "y": [
          "25  ",
          "hockey  ",
          "season  ",
          "players  ",
          "games  "
         ],
         "yaxis": "y"
        },
        {
         "marker": {
          "color": "#0072B2"
         },
         "orientation": "h",
         "type": "bar",
         "x": [
          0.007322577292935858,
          0.008489345204084982,
          0.011434093144519698,
          0.011734669374666327,
          0.012462800795380277
         ],
         "xaxis": "x2",
         "y": [
          "nsa  ",
          "escrow  ",
          "encryption  ",
          "chip  ",
          "clipper  "
         ],
         "yaxis": "y2"
        },
        {
         "marker": {
          "color": "#CC79A7"
         },
         "orientation": "h",
         "type": "bar",
         "x": [
          0.2633866828383954,
          0.2738696355903669,
          0.31543820362703145,
          0.3387463230725709,
          0.3964993810334223
         ],
         "xaxis": "x3",
         "y": [
          "hi  ",
          "dancing  ",
          "cheek  ",
          "ites  ",
          "idjits  "
         ],
         "yaxis": "y3"
        },
        {
         "marker": {
          "color": "#E69F00"
         },
         "orientation": "h",
         "type": "bar",
         "x": [
          0.00469119683203605,
          0.005733309451092801,
          0.0063535495193798594,
          0.013664096467102184,
          0.018076956676165032
         ],
         "xaxis": "x4",
         "y": [
          "israelis  ",
          "palestinians  ",
          "palestinian  ",
          "israeli  ",
          "israel  "
         ],
         "yaxis": "y4"
        },
        {
         "marker": {
          "color": "#56B4E9"
         },
         "orientation": "h",
         "type": "bar",
         "x": [
          0.004976510926818454,
          0.0068101970245826645,
          0.009228423603700912,
          0.011505948999961957,
          0.012164407655924827
         ],
         "xaxis": "x5",
         "y": [
          "v6  ",
          "mustang  ",
          "ford  ",
          "engine  ",
          "cars  "
         ],
         "yaxis": "y5"
        },
        {
         "marker": {
          "color": "#009E73"
         },
         "orientation": "h",
         "type": "bar",
         "x": [
          0.006170644602772615,
          0.006658720206933679,
          0.0067030493869988375,
          0.007809315142969477,
          0.009519988411211941
         ],
         "xaxis": "x6",
         "y": [
          "hiv  ",
          "tobacco  ",
          "disease  ",
          "cancer  ",
          "health  "
         ],
         "yaxis": "y6"
        },
        {
         "marker": {
          "color": "#F0E442"
         },
         "orientation": "h",
         "type": "bar",
         "x": [
          0.009622705287024044,
          0.010319640876856414,
          0.011003678038832811,
          0.011363529590240253,
          0.01579607090945832
         ],
         "xaxis": "x7",
         "y": [
          "sony  ",
          "speakers  ",
          "sale  ",
          "stereo  ",
          "amp  "
         ],
         "yaxis": "y7"
        },
        {
         "marker": {
          "color": "#D55E00"
         },
         "orientation": "h",
         "type": "bar",
         "x": [
          0.006838654171651196,
          0.009788888311763217,
          0.013816858454039833,
          0.016548026553789348,
          0.01867904049582032
         ],
         "xaxis": "x8",
         "y": [
          "faith  ",
          "belief  ",
          "atheist  ",
          "atheism  ",
          "atheists  "
         ],
         "yaxis": "y8"
        }
       ],
       "layout": {
        "annotations": [
         {
          "font": {
           "size": 16
          },
          "showarrow": false,
          "text": "Topic 0",
          "x": 0.0875,
          "xanchor": "center",
          "xref": "paper",
          "y": 1,
          "yanchor": "bottom",
          "yref": "paper"
         },
         {
          "font": {
           "size": 16
          },
          "showarrow": false,
          "text": "Topic 1",
          "x": 0.36250000000000004,
          "xanchor": "center",
          "xref": "paper",
          "y": 1,
          "yanchor": "bottom",
          "yref": "paper"
         },
         {
          "font": {
           "size": 16
          },
          "showarrow": false,
          "text": "Topic 2",
          "x": 0.6375000000000001,
          "xanchor": "center",
          "xref": "paper",
          "y": 1,
          "yanchor": "bottom",
          "yref": "paper"
         },
         {
          "font": {
           "size": 16
          },
          "showarrow": false,
          "text": "Topic 3",
          "x": 0.9125,
          "xanchor": "center",
          "xref": "paper",
          "y": 1,
          "yanchor": "bottom",
          "yref": "paper"
         },
         {
          "font": {
           "size": 16
          },
          "showarrow": false,
          "text": "Topic 4",
          "x": 0.0875,
          "xanchor": "center",
          "xref": "paper",
          "y": 0.4,
          "yanchor": "bottom",
          "yref": "paper"
         },
         {
          "font": {
           "size": 16
          },
          "showarrow": false,
          "text": "Topic 5",
          "x": 0.36250000000000004,
          "xanchor": "center",
          "xref": "paper",
          "y": 0.4,
          "yanchor": "bottom",
          "yref": "paper"
         },
         {
          "font": {
           "size": 16
          },
          "showarrow": false,
          "text": "Topic 6",
          "x": 0.6375000000000001,
          "xanchor": "center",
          "xref": "paper",
          "y": 0.4,
          "yanchor": "bottom",
          "yref": "paper"
         },
         {
          "font": {
           "size": 16
          },
          "showarrow": false,
          "text": "Topic 7",
          "x": 0.9125,
          "xanchor": "center",
          "xref": "paper",
          "y": 0.4,
          "yanchor": "bottom",
          "yref": "paper"
         }
        ],
        "height": 500,
        "hoverlabel": {
         "bgcolor": "white",
         "font": {
          "family": "Rockwell",
          "size": 16
         }
        },
        "showlegend": false,
        "template": {
         "data": {
          "bar": [
           {
            "error_x": {
             "color": "#2a3f5f"
            },
            "error_y": {
             "color": "#2a3f5f"
            },
            "marker": {
             "line": {
              "color": "white",
              "width": 0.5
             },
             "pattern": {
              "fillmode": "overlay",
              "size": 10,
              "solidity": 0.2
             }
            },
            "type": "bar"
           }
          ],
          "barpolar": [
           {
            "marker": {
             "line": {
              "color": "white",
              "width": 0.5
             },
             "pattern": {
              "fillmode": "overlay",
              "size": 10,
              "solidity": 0.2
             }
            },
            "type": "barpolar"
           }
          ],
          "carpet": [
           {
            "aaxis": {
             "endlinecolor": "#2a3f5f",
             "gridcolor": "#C8D4E3",
             "linecolor": "#C8D4E3",
             "minorgridcolor": "#C8D4E3",
             "startlinecolor": "#2a3f5f"
            },
            "baxis": {
             "endlinecolor": "#2a3f5f",
             "gridcolor": "#C8D4E3",
             "linecolor": "#C8D4E3",
             "minorgridcolor": "#C8D4E3",
             "startlinecolor": "#2a3f5f"
            },
            "type": "carpet"
           }
          ],
          "choropleth": [
           {
            "colorbar": {
             "outlinewidth": 0,
             "ticks": ""
            },
            "type": "choropleth"
           }
          ],
          "contour": [
           {
            "colorbar": {
             "outlinewidth": 0,
             "ticks": ""
            },
            "colorscale": [
             [
              0,
              "#0d0887"
             ],
             [
              0.1111111111111111,
              "#46039f"
             ],
             [
              0.2222222222222222,
              "#7201a8"
             ],
             [
              0.3333333333333333,
              "#9c179e"
             ],
             [
              0.4444444444444444,
              "#bd3786"
             ],
             [
              0.5555555555555556,
              "#d8576b"
             ],
             [
              0.6666666666666666,
              "#ed7953"
             ],
             [
              0.7777777777777778,
              "#fb9f3a"
             ],
             [
              0.8888888888888888,
              "#fdca26"
             ],
             [
              1,
              "#f0f921"
             ]
            ],
            "type": "contour"
           }
          ],
          "contourcarpet": [
           {
            "colorbar": {
             "outlinewidth": 0,
             "ticks": ""
            },
            "type": "contourcarpet"
           }
          ],
          "heatmap": [
           {
            "colorbar": {
             "outlinewidth": 0,
             "ticks": ""
            },
            "colorscale": [
             [
              0,
              "#0d0887"
             ],
             [
              0.1111111111111111,
              "#46039f"
             ],
             [
              0.2222222222222222,
              "#7201a8"
             ],
             [
              0.3333333333333333,
              "#9c179e"
             ],
             [
              0.4444444444444444,
              "#bd3786"
             ],
             [
              0.5555555555555556,
              "#d8576b"
             ],
             [
              0.6666666666666666,
              "#ed7953"
             ],
             [
              0.7777777777777778,
              "#fb9f3a"
             ],
             [
              0.8888888888888888,
              "#fdca26"
             ],
             [
              1,
              "#f0f921"
             ]
            ],
            "type": "heatmap"
           }
          ],
          "heatmapgl": [
           {
            "colorbar": {
             "outlinewidth": 0,
             "ticks": ""
            },
            "colorscale": [
             [
              0,
              "#0d0887"
             ],
             [
              0.1111111111111111,
              "#46039f"
             ],
             [
              0.2222222222222222,
              "#7201a8"
             ],
             [
              0.3333333333333333,
              "#9c179e"
             ],
             [
              0.4444444444444444,
              "#bd3786"
             ],
             [
              0.5555555555555556,
              "#d8576b"
             ],
             [
              0.6666666666666666,
              "#ed7953"
             ],
             [
              0.7777777777777778,
              "#fb9f3a"
             ],
             [
              0.8888888888888888,
              "#fdca26"
             ],
             [
              1,
              "#f0f921"
             ]
            ],
            "type": "heatmapgl"
           }
          ],
          "histogram": [
           {
            "marker": {
             "pattern": {
              "fillmode": "overlay",
              "size": 10,
              "solidity": 0.2
             }
            },
            "type": "histogram"
           }
          ],
          "histogram2d": [
           {
            "colorbar": {
             "outlinewidth": 0,
             "ticks": ""
            },
            "colorscale": [
             [
              0,
              "#0d0887"
             ],
             [
              0.1111111111111111,
              "#46039f"
             ],
             [
              0.2222222222222222,
              "#7201a8"
             ],
             [
              0.3333333333333333,
              "#9c179e"
             ],
             [
              0.4444444444444444,
              "#bd3786"
             ],
             [
              0.5555555555555556,
              "#d8576b"
             ],
             [
              0.6666666666666666,
              "#ed7953"
             ],
             [
              0.7777777777777778,
              "#fb9f3a"
             ],
             [
              0.8888888888888888,
              "#fdca26"
             ],
             [
              1,
              "#f0f921"
             ]
            ],
            "type": "histogram2d"
           }
          ],
          "histogram2dcontour": [
           {
            "colorbar": {
             "outlinewidth": 0,
             "ticks": ""
            },
            "colorscale": [
             [
              0,
              "#0d0887"
             ],
             [
              0.1111111111111111,
              "#46039f"
             ],
             [
              0.2222222222222222,
              "#7201a8"
             ],
             [
              0.3333333333333333,
              "#9c179e"
             ],
             [
              0.4444444444444444,
              "#bd3786"
             ],
             [
              0.5555555555555556,
              "#d8576b"
             ],
             [
              0.6666666666666666,
              "#ed7953"
             ],
             [
              0.7777777777777778,
              "#fb9f3a"
             ],
             [
              0.8888888888888888,
              "#fdca26"
             ],
             [
              1,
              "#f0f921"
             ]
            ],
            "type": "histogram2dcontour"
           }
          ],
          "mesh3d": [
           {
            "colorbar": {
             "outlinewidth": 0,
             "ticks": ""
            },
            "type": "mesh3d"
           }
          ],
          "parcoords": [
           {
            "line": {
             "colorbar": {
              "outlinewidth": 0,
              "ticks": ""
             }
            },
            "type": "parcoords"
           }
          ],
          "pie": [
           {
            "automargin": true,
            "type": "pie"
           }
          ],
          "scatter": [
           {
            "fillpattern": {
             "fillmode": "overlay",
             "size": 10,
             "solidity": 0.2
            },
            "type": "scatter"
           }
          ],
          "scatter3d": [
           {
            "line": {
             "colorbar": {
              "outlinewidth": 0,
              "ticks": ""
             }
            },
            "marker": {
             "colorbar": {
              "outlinewidth": 0,
              "ticks": ""
             }
            },
            "type": "scatter3d"
           }
          ],
          "scattercarpet": [
           {
            "marker": {
             "colorbar": {
              "outlinewidth": 0,
              "ticks": ""
             }
            },
            "type": "scattercarpet"
           }
          ],
          "scattergeo": [
           {
            "marker": {
             "colorbar": {
              "outlinewidth": 0,
              "ticks": ""
             }
            },
            "type": "scattergeo"
           }
          ],
          "scattergl": [
           {
            "marker": {
             "colorbar": {
              "outlinewidth": 0,
              "ticks": ""
             }
            },
            "type": "scattergl"
           }
          ],
          "scattermapbox": [
           {
            "marker": {
             "colorbar": {
              "outlinewidth": 0,
              "ticks": ""
             }
            },
            "type": "scattermapbox"
           }
          ],
          "scatterpolar": [
           {
            "marker": {
             "colorbar": {
              "outlinewidth": 0,
              "ticks": ""
             }
            },
            "type": "scatterpolar"
           }
          ],
          "scatterpolargl": [
           {
            "marker": {
             "colorbar": {
              "outlinewidth": 0,
              "ticks": ""
             }
            },
            "type": "scatterpolargl"
           }
          ],
          "scatterternary": [
           {
            "marker": {
             "colorbar": {
              "outlinewidth": 0,
              "ticks": ""
             }
            },
            "type": "scatterternary"
           }
          ],
          "surface": [
           {
            "colorbar": {
             "outlinewidth": 0,
             "ticks": ""
            },
            "colorscale": [
             [
              0,
              "#0d0887"
             ],
             [
              0.1111111111111111,
              "#46039f"
             ],
             [
              0.2222222222222222,
              "#7201a8"
             ],
             [
              0.3333333333333333,
              "#9c179e"
             ],
             [
              0.4444444444444444,
              "#bd3786"
             ],
             [
              0.5555555555555556,
              "#d8576b"
             ],
             [
              0.6666666666666666,
              "#ed7953"
             ],
             [
              0.7777777777777778,
              "#fb9f3a"
             ],
             [
              0.8888888888888888,
              "#fdca26"
             ],
             [
              1,
              "#f0f921"
             ]
            ],
            "type": "surface"
           }
          ],
          "table": [
           {
            "cells": {
             "fill": {
              "color": "#EBF0F8"
             },
             "line": {
              "color": "white"
             }
            },
            "header": {
             "fill": {
              "color": "#C8D4E3"
             },
             "line": {
              "color": "white"
             }
            },
            "type": "table"
           }
          ]
         },
         "layout": {
          "annotationdefaults": {
           "arrowcolor": "#2a3f5f",
           "arrowhead": 0,
           "arrowwidth": 1
          },
          "autotypenumbers": "strict",
          "coloraxis": {
           "colorbar": {
            "outlinewidth": 0,
            "ticks": ""
           }
          },
          "colorscale": {
           "diverging": [
            [
             0,
             "#8e0152"
            ],
            [
             0.1,
             "#c51b7d"
            ],
            [
             0.2,
             "#de77ae"
            ],
            [
             0.3,
             "#f1b6da"
            ],
            [
             0.4,
             "#fde0ef"
            ],
            [
             0.5,
             "#f7f7f7"
            ],
            [
             0.6,
             "#e6f5d0"
            ],
            [
             0.7,
             "#b8e186"
            ],
            [
             0.8,
             "#7fbc41"
            ],
            [
             0.9,
             "#4d9221"
            ],
            [
             1,
             "#276419"
            ]
           ],
           "sequential": [
            [
             0,
             "#0d0887"
            ],
            [
             0.1111111111111111,
             "#46039f"
            ],
            [
             0.2222222222222222,
             "#7201a8"
            ],
            [
             0.3333333333333333,
             "#9c179e"
            ],
            [
             0.4444444444444444,
             "#bd3786"
            ],
            [
             0.5555555555555556,
             "#d8576b"
            ],
            [
             0.6666666666666666,
             "#ed7953"
            ],
            [
             0.7777777777777778,
             "#fb9f3a"
            ],
            [
             0.8888888888888888,
             "#fdca26"
            ],
            [
             1,
             "#f0f921"
            ]
           ],
           "sequentialminus": [
            [
             0,
             "#0d0887"
            ],
            [
             0.1111111111111111,
             "#46039f"
            ],
            [
             0.2222222222222222,
             "#7201a8"
            ],
            [
             0.3333333333333333,
             "#9c179e"
            ],
            [
             0.4444444444444444,
             "#bd3786"
            ],
            [
             0.5555555555555556,
             "#d8576b"
            ],
            [
             0.6666666666666666,
             "#ed7953"
            ],
            [
             0.7777777777777778,
             "#fb9f3a"
            ],
            [
             0.8888888888888888,
             "#fdca26"
            ],
            [
             1,
             "#f0f921"
            ]
           ]
          },
          "colorway": [
           "#636efa",
           "#EF553B",
           "#00cc96",
           "#ab63fa",
           "#FFA15A",
           "#19d3f3",
           "#FF6692",
           "#B6E880",
           "#FF97FF",
           "#FECB52"
          ],
          "font": {
           "color": "#2a3f5f"
          },
          "geo": {
           "bgcolor": "white",
           "lakecolor": "white",
           "landcolor": "white",
           "showlakes": true,
           "showland": true,
           "subunitcolor": "#C8D4E3"
          },
          "hoverlabel": {
           "align": "left"
          },
          "hovermode": "closest",
          "mapbox": {
           "style": "light"
          },
          "paper_bgcolor": "white",
          "plot_bgcolor": "white",
          "polar": {
           "angularaxis": {
            "gridcolor": "#EBF0F8",
            "linecolor": "#EBF0F8",
            "ticks": ""
           },
           "bgcolor": "white",
           "radialaxis": {
            "gridcolor": "#EBF0F8",
            "linecolor": "#EBF0F8",
            "ticks": ""
           }
          },
          "scene": {
           "xaxis": {
            "backgroundcolor": "white",
            "gridcolor": "#DFE8F3",
            "gridwidth": 2,
            "linecolor": "#EBF0F8",
            "showbackground": true,
            "ticks": "",
            "zerolinecolor": "#EBF0F8"
           },
           "yaxis": {
            "backgroundcolor": "white",
            "gridcolor": "#DFE8F3",
            "gridwidth": 2,
            "linecolor": "#EBF0F8",
            "showbackground": true,
            "ticks": "",
            "zerolinecolor": "#EBF0F8"
           },
           "zaxis": {
            "backgroundcolor": "white",
            "gridcolor": "#DFE8F3",
            "gridwidth": 2,
            "linecolor": "#EBF0F8",
            "showbackground": true,
            "ticks": "",
            "zerolinecolor": "#EBF0F8"
           }
          },
          "shapedefaults": {
           "line": {
            "color": "#2a3f5f"
           }
          },
          "ternary": {
           "aaxis": {
            "gridcolor": "#DFE8F3",
            "linecolor": "#A2B1C6",
            "ticks": ""
           },
           "baxis": {
            "gridcolor": "#DFE8F3",
            "linecolor": "#A2B1C6",
            "ticks": ""
           },
           "bgcolor": "white",
           "caxis": {
            "gridcolor": "#DFE8F3",
            "linecolor": "#A2B1C6",
            "ticks": ""
           }
          },
          "title": {
           "x": 0.05
          },
          "xaxis": {
           "automargin": true,
           "gridcolor": "#EBF0F8",
           "linecolor": "#EBF0F8",
           "ticks": "",
           "title": {
            "standoff": 15
           },
           "zerolinecolor": "#EBF0F8",
           "zerolinewidth": 2
          },
          "yaxis": {
           "automargin": true,
           "gridcolor": "#EBF0F8",
           "linecolor": "#EBF0F8",
           "ticks": "",
           "title": {
            "standoff": 15
           },
           "zerolinecolor": "#EBF0F8",
           "zerolinewidth": 2
          }
         }
        },
        "title": {
         "font": {
          "color": "Black",
          "size": 22
         },
         "text": "Topic Word Scores",
         "x": 0.5,
         "xanchor": "center",
         "yanchor": "top"
        },
        "width": 1000,
        "xaxis": {
         "anchor": "y",
         "domain": [
          0,
          0.175
         ],
         "showgrid": true
        },
        "xaxis2": {
         "anchor": "y2",
         "domain": [
          0.275,
          0.45
         ],
         "showgrid": true
        },
        "xaxis3": {
         "anchor": "y3",
         "domain": [
          0.55,
          0.7250000000000001
         ],
         "showgrid": true
        },
        "xaxis4": {
         "anchor": "y4",
         "domain": [
          0.825,
          1
         ],
         "showgrid": true
        },
        "xaxis5": {
         "anchor": "y5",
         "domain": [
          0,
          0.175
         ],
         "showgrid": true
        },
        "xaxis6": {
         "anchor": "y6",
         "domain": [
          0.275,
          0.45
         ],
         "showgrid": true
        },
        "xaxis7": {
         "anchor": "y7",
         "domain": [
          0.55,
          0.7250000000000001
         ],
         "showgrid": true
        },
        "xaxis8": {
         "anchor": "y8",
         "domain": [
          0.825,
          1
         ],
         "showgrid": true
        },
        "yaxis": {
         "anchor": "x",
         "domain": [
          0.6000000000000001,
          1
         ],
         "showgrid": true
        },
        "yaxis2": {
         "anchor": "x2",
         "domain": [
          0.6000000000000001,
          1
         ],
         "showgrid": true
        },
        "yaxis3": {
         "anchor": "x3",
         "domain": [
          0.6000000000000001,
          1
         ],
         "showgrid": true
        },
        "yaxis4": {
         "anchor": "x4",
         "domain": [
          0.6000000000000001,
          1
         ],
         "showgrid": true
        },
        "yaxis5": {
         "anchor": "x5",
         "domain": [
          0,
          0.4
         ],
         "showgrid": true
        },
        "yaxis6": {
         "anchor": "x6",
         "domain": [
          0,
          0.4
         ],
         "showgrid": true
        },
        "yaxis7": {
         "anchor": "x7",
         "domain": [
          0,
          0.4
         ],
         "showgrid": true
        },
        "yaxis8": {
         "anchor": "x8",
         "domain": [
          0,
          0.4
         ],
         "showgrid": true
        }
       }
      }
     },
     "metadata": {},
     "output_type": "display_data"
    }
   ],
   "source": [
    "topic_model.visualize_barchart()"
   ]
  },
  {
   "cell_type": "code",
   "execution_count": 77,
   "metadata": {},
   "outputs": [],
   "source": [
    "topics_per_class = topic_model.topics_per_class(\n",
    "    X_text_train + X_text_test,\n",
    "    classes=pd.Series(np.concatenate([y_train, y_test])).map(\n",
    "        {i: class_names for i, class_names in enumerate(docs_train[\"target_names\"])}\n",
    "    ),\n",
    ")"
   ]
  },
  {
   "cell_type": "code",
   "execution_count": 79,
   "metadata": {},
   "outputs": [
    {
     "data": {
      "application/vnd.plotly.v1+json": {
       "config": {
        "plotlyServerURL": "https://plot.ly"
       },
       "data": [
        {
         "hoverinfo": "text",
         "hovertext": [
          "<b>Topic 0</b><br>Words: sturm, doug, familiar, games, players",
          "<b>Topic 0</b><br>Words: jets, phill, ratings, altfrenchcaptainborgborgborg, kruschev",
          "<b>Topic 0</b><br>Words: prisoners, sections, stones, anon15031anonpenetfi, disneyland",
          "<b>Topic 0</b><br>Words: dominance, pitch, hitting, opposite, side",
          "<b>Topic 0</b><br>Words: quinea, papua, translation, buying, seriously",
          "<b>Topic 0</b><br>Words: team, players, baseball, his, league",
          "<b>Topic 0</b><br>Words: course140, shyah, balkanization, cdw2tdayhoffmedvirginiaedu, foriegnpolicy",
          "<b>Topic 0</b><br>Words: soccer, conference, philcmacseemcgillca, chicago, symposium",
          "<b>Topic 0</b><br>Words: tickets, ticket, airlines, roundtrip, stamps",
          "<b>Topic 0</b><br>Words: sf, fans, liechenstein, marino, republic",
          "<b>Topic 0</b><br>Words: ticket, columbus, largest, dcsc, oclc",
          "<b>Topic 0</b><br>Words: stalnaker, pureesageccjcs, ernest, players, hockey",
          "<b>Topic 0</b><br>Words: hockey, games, season, players, period",
          "<b>Topic 0</b><br>Words: rb, roomfull, scotsmen, tweleve, kilt",
          "<b>Topic 0</b><br>Words: station, clementine, song, huckleberry, advertises"
         ],
         "marker": {
          "color": "#E69F00"
         },
         "name": "0_games_players_season_hockey",
         "orientation": "h",
         "type": "bar",
         "visible": true,
         "x": [
          1,
          7,
          6,
          2,
          1,
          859,
          6,
          1,
          24,
          3,
          3,
          1,
          904,
          2,
          6
         ],
         "y": [
          "soc.religion.christian",
          "talk.politics.guns",
          "talk.politics.mideast",
          "sci.med",
          "comp.sys.ibm.pc.hardware",
          "rec.sport.baseball",
          "rec.motorcycles",
          "sci.electronics",
          "misc.forsale",
          "talk.politics.misc",
          "sci.crypt",
          "comp.sys.mac.hardware",
          "rec.sport.hockey",
          "alt.atheism",
          "sci.space"
         ]
        },
        {
         "hoverinfo": "text",
         "hovertext": [
          "<b>Topic 1</b><br>Words: irs, rewards, npr, secure, doublespeak",
          "<b>Topic 1</b><br>Words: igcs, beijing, peacenet, monitored, cyberspace",
          "<b>Topic 1</b><br>Words: shift, encryption, nsa, encrypted, security",
          "<b>Topic 1</b><br>Words: lterature, prizm, geos, salesperson, theft",
          "<b>Topic 1</b><br>Words: nys, dmv, bonded, rod, key",
          "<b>Topic 1</b><br>Words: rulesregulationslaws, address123, cityanytown, keyldslfoialsdkcdsngsikhsfd, fcc",
          "<b>Topic 1</b><br>Words: typos, hooks, clipper, chip, nsa",
          "<b>Topic 1</b><br>Words: initiative, wiretapping, clintons, unlawfully, passport",
          "<b>Topic 1</b><br>Words: clipper, chip, encryption, nsa, encrypted",
          "<b>Topic 1</b><br>Words: broadcasting, chip, criminal, wiretap, crypto",
          "<b>Topic 1</b><br>Words: karamankars, intelliegence, mena, orifices, executives"
         ],
         "marker": {
          "color": "#56B4E9"
         },
         "name": "1_clipper_chip_encryption_escrow",
         "orientation": "h",
         "type": "bar",
         "visible": "legendonly",
         "x": [
          5,
          1,
          1,
          1,
          1,
          4,
          1,
          3,
          546,
          3,
          2
         ],
         "y": [
          "talk.politics.guns",
          "talk.politics.mideast",
          "rec.sport.baseball",
          "rec.autos",
          "rec.motorcycles",
          "sci.electronics",
          "misc.forsale",
          "talk.politics.misc",
          "sci.crypt",
          "alt.atheism",
          "sci.space"
         ]
        },
        {
         "hoverinfo": "text",
         "hovertext": [
          "<b>Topic 2</b><br>Words: idjits, ites, cheek, dancing, hi",
          "<b>Topic 2</b><br>Words: idjits, ites, cheek, dancing, hi",
          "<b>Topic 2</b><br>Words: idjits, ites, cheek, dancing, hi",
          "<b>Topic 2</b><br>Words: idjits, ites, cheek, dancing, hi",
          "<b>Topic 2</b><br>Words: idjits, ites, cheek, dancing, hi",
          "<b>Topic 2</b><br>Words: idjits, ites, cheek, dancing, hi",
          "<b>Topic 2</b><br>Words: why, idjits, ites, cheek, dancing",
          "<b>Topic 2</b><br>Words: ites, cheek, 15, idjits, hello",
          "<b>Topic 2</b><br>Words: idjits, ites, cheek, dancing, huh",
          "<b>Topic 2</b><br>Words: idjits, dancing, huh, ignore, cheek",
          "<b>Topic 2</b><br>Words: idjits, ites, cheek, dancing, hi",
          "<b>Topic 2</b><br>Words: ken, idjits, ites, cheek, dancing",
          "<b>Topic 2</b><br>Words: idjits, ites, cheek, dancing, hi",
          "<b>Topic 2</b><br>Words: idjits, ites, cheek, dancing, hi",
          "<b>Topic 2</b><br>Words: art, each, idjits, cheek, dancing",
          "<b>Topic 2</b><br>Words: idjits, ites, cheek, dancing, hi",
          "<b>Topic 2</b><br>Words: idjits, ites, cheek, dancing, hi",
          "<b>Topic 2</b><br>Words: idjits, ites, cheek, dancing, hi",
          "<b>Topic 2</b><br>Words: idjits, ites, cheek, dancing, huh",
          "<b>Topic 2</b><br>Words: idjits, ites, cheek, dancing, hi"
         ],
         "marker": {
          "color": "#009E73"
         },
         "name": "2_idjits_ites_cheek_dancing",
         "orientation": "h",
         "type": "bar",
         "visible": "legendonly",
         "x": [
          22,
          24,
          23,
          21,
          32,
          18,
          38,
          56,
          8,
          32,
          26,
          17,
          19,
          29,
          36,
          24,
          20,
          38,
          20,
          32
         ],
         "y": [
          "soc.religion.christian",
          "talk.politics.guns",
          "talk.religion.misc",
          "talk.politics.mideast",
          "sci.med",
          "comp.sys.ibm.pc.hardware",
          "rec.sport.baseball",
          "rec.autos",
          "comp.windows.x",
          "rec.motorcycles",
          "sci.electronics",
          "misc.forsale",
          "talk.politics.misc",
          "sci.crypt",
          "comp.sys.mac.hardware",
          "rec.sport.hockey",
          "alt.atheism",
          "comp.os.ms-windows.misc",
          "comp.graphics",
          "sci.space"
         ]
        },
        {
         "hoverinfo": "text",
         "hovertext": [
          "<b>Topic 3</b><br>Words: jewish, proselytism, jews, temple, israeli",
          "<b>Topic 3</b><br>Words: nazi, dodd, swiss, riflemen, hitler",
          "<b>Topic 3</b><br>Words: nazis, homosexuality, jews, israeli, homosexuals",
          "<b>Topic 3</b><br>Words: israel, israeli, palestinian, palestinians, israelis",
          "<b>Topic 3</b><br>Words: 617, 2621915, 2671700, less, people",
          "<b>Topic 3</b><br>Words: sources, numbers, israel, israeli, jews",
          "<b>Topic 3</b><br>Words: intermediate, sockets, bandwidth, nazis, wall",
          "<b>Topic 3</b><br>Words: hitler, antidefamation, nazis, limbaugh, israeli",
          "<b>Topic 3</b><br>Words: skirmish, wasting, bandwidth, referring, incident",
          "<b>Topic 3</b><br>Words: jews, antisemitism, jewish, antisemitic, israeli"
         ],
         "marker": {
          "color": "#F0E442"
         },
         "name": "3_israel_israeli_palestinian_palestinian...",
         "orientation": "h",
         "type": "bar",
         "visible": "legendonly",
         "x": [
          5,
          8,
          12,
          425,
          1,
          1,
          1,
          10,
          1,
          14
         ],
         "y": [
          "soc.religion.christian",
          "talk.politics.guns",
          "talk.religion.misc",
          "talk.politics.mideast",
          "rec.sport.baseball",
          "rec.motorcycles",
          "sci.electronics",
          "talk.politics.misc",
          "rec.sport.hockey",
          "alt.atheism"
         ]
        },
        {
         "hoverinfo": "text",
         "hovertext": [
          "<b>Topic 4</b><br>Words: car, ford, mustang, v8, v6",
          "<b>Topic 4</b><br>Words: fairing, horns, horn, volvo, compressor",
          "<b>Topic 4</b><br>Words: slec, advertiser, catalog, ad, price",
          "<b>Topic 4</b><br>Words: miles, amfm, interior, cassette, toyota",
          "<b>Topic 4</b><br>Words: bulgaria, vesselin, embargo, controls, export",
          "<b>Topic 4</b><br>Words: rainslick, se400, wipes, flu, 1997",
          "<b>Topic 4</b><br>Words: ship, island, transatlantic, vessel, shuttle"
         ],
         "marker": {
          "color": "#D55E00"
         },
         "name": "4_cars_engine_ford_mustang",
         "orientation": "h",
         "type": "bar",
         "visible": "legendonly",
         "x": [
          359,
          14,
          1,
          40,
          1,
          1,
          3
         ],
         "y": [
          "rec.autos",
          "rec.motorcycles",
          "sci.electronics",
          "misc.forsale",
          "sci.crypt",
          "alt.atheism",
          "sci.space"
         ]
        },
        {
         "hoverinfo": "text",
         "hovertext": [
          "<b>Topic 5</b><br>Words: ahmadiyya, vote, ahmadi, discuss, newsgroups",
          "<b>Topic 5</b><br>Words: petenholonetnet, c601edcd6cpqhousehoucompaqcom, nortonhouamococom, thomasrcpqhousehoucompaqcom, petenwellsfcaus",
          "<b>Topic 5</b><br>Words: bittrolff, 721051351compuservecom, holladay, lodges, email",
          "<b>Topic 5</b><br>Words: cosar, mailbox, contact, gahmetscosar1oumailotcprmdumneduadmd, cosa0001umntcml",
          "<b>Topic 5</b><br>Words: cancer, tobacco, hiv, cesarean, malaria",
          "<b>Topic 5</b><br>Words: voting, publishing, unmoderated, topics, newsgroup",
          "<b>Topic 5</b><br>Words: list, cardinals, email, address, detweiler",
          "<b>Topic 5</b><br>Words: discussions, newsgroups, automotive, radar, recautosrecautosvw",
          "<b>Topic 5</b><br>Words: sco, list, apr, newsgroup, mail",
          "<b>Topic 5</b><br>Words: panties, recmoto, postmasterbnrca, thingsplease, dwarnerscengubcom",
          "<b>Topic 5</b><br>Words: universities, andymacraecorpsuncom, yxy4145usledu, information, grendalcorpsuncom",
          "<b>Topic 5</b><br>Words: computerforsale, addresser1eridanchuvashiasu, response, coatesbigwpiwpiedu, psychnetcom",
          "<b>Topic 5</b><br>Words: tesrt, cpk, brandon, wallet, suggestion",
          "<b>Topic 5</b><br>Words: tiscom, walkertiscom, distribution, 301, branstadtiscom",
          "<b>Topic 5</b><br>Words: vv, address, 1r1d2rbafumccumccumichedu, lepa, unlockfolder",
          "<b>Topic 5</b><br>Words: ignore, ohandleybetsygsfcnasagov, 1993apr2121103812363newshubistsca, rocketcalvincsunbca, dchhabrastplistsca",
          "<b>Topic 5</b><br>Words: jsn104, dkoreshbranchdavidiancompoundwacotxus, toughto, kmr4pocwruedu, altmessianic",
          "<b>Topic 5</b><br>Words: access, bitmaps, newsgroup, rdbms, wysiwyg",
          "<b>Topic 5</b><br>Words: newsgroup, graphics, turkey, groups, programming",
          "<b>Topic 5</b><br>Words: scispace, posts, space, list, sciastro"
         ],
         "marker": {
          "color": "#0072B2"
         },
         "name": "5_health_cancer_disease_tobacco",
         "orientation": "h",
         "type": "bar",
         "visible": "legendonly",
         "x": [
          11,
          2,
          8,
          8,
          18,
          9,
          15,
          14,
          31,
          7,
          18,
          14,
          4,
          7,
          8,
          5,
          9,
          24,
          38,
          19
         ],
         "y": [
          "soc.religion.christian",
          "talk.politics.guns",
          "talk.religion.misc",
          "talk.politics.mideast",
          "sci.med",
          "comp.sys.ibm.pc.hardware",
          "rec.sport.baseball",
          "rec.autos",
          "comp.windows.x",
          "rec.motorcycles",
          "sci.electronics",
          "misc.forsale",
          "talk.politics.misc",
          "sci.crypt",
          "comp.sys.mac.hardware",
          "rec.sport.hockey",
          "alt.atheism",
          "comp.os.ms-windows.misc",
          "comp.graphics",
          "sci.space"
         ]
        },
        {
         "hoverinfo": "text",
         "hovertext": [
          "<b>Topic 6</b><br>Words: isolation, linepowered, 350400, electrodes, postpaid",
          "<b>Topic 6</b><br>Words: card, opti, selecting, buy, audio",
          "<b>Topic 6</b><br>Words: record, amp, stereo, sale, speakers",
          "<b>Topic 6</b><br>Words: radiotape, unit, offtheshelf, thermostat, tercel",
          "<b>Topic 6</b><br>Words: cb750, hl, diagram, wiring, switch",
          "<b>Topic 6</b><br>Words: amp, audio, amplifier, adcom, amps",
          "<b>Topic 6</b><br>Words: sale, stereo, amp, speakers, sony",
          "<b>Topic 6</b><br>Words: audio, freezeframe, macvision, cd, hd",
          "<b>Topic 6</b><br>Words: sound, boards, speakers, advdisadv, recorder",
          "<b>Topic 6</b><br>Words: projector, programmerartist, kimdrpiedu, cdtv, commodore",
          "<b>Topic 6</b><br>Words: distortion, tubes, transistors, wasteheat, tvs"
         ],
         "marker": {
          "color": "#CC79A7"
         },
         "name": "6_amp_stereo_sale_speakers",
         "orientation": "h",
         "type": "bar",
         "visible": "legendonly",
         "x": [
          1,
          1,
          1,
          2,
          1,
          57,
          126,
          6,
          2,
          3,
          2
         ],
         "y": [
          "sci.med",
          "comp.sys.ibm.pc.hardware",
          "rec.sport.baseball",
          "rec.autos",
          "rec.motorcycles",
          "sci.electronics",
          "misc.forsale",
          "comp.sys.mac.hardware",
          "comp.os.ms-windows.misc",
          "comp.graphics",
          "sci.space"
         ]
        },
        {
         "hoverinfo": "text",
         "hovertext": [
          "<b>Topic 7</b><br>Words: atheists, atheism, atheist, belief, beliefs",
          "<b>Topic 7</b><br>Words: taoism, atheists, atheism, atheist, zeus",
          "<b>Topic 7</b><br>Words: agnostic, atheist, selfproclaimed, conceptions, belief",
          "<b>Topic 7</b><br>Words: logicon, 5132555165, wrightpatterson, dsnyderfalconaamrlwpafbafmil, cessna",
          "<b>Topic 7</b><br>Words: religions, beliefs, arguments, pragmatic, daytoday",
          "<b>Topic 7</b><br>Words: atheists, atheism, atheist, belief, theists"
         ],
         "marker": {
          "color": "#E69F00"
         },
         "name": "7_atheists_atheism_atheist_belief",
         "orientation": "h",
         "type": "bar",
         "visible": "legendonly",
         "x": [
          33,
          12,
          4,
          1,
          3,
          105
         ],
         "y": [
          "soc.religion.christian",
          "talk.religion.misc",
          "sci.med",
          "misc.forsale",
          "talk.politics.misc",
          "alt.atheism"
         ]
        },
        {
         "hoverinfo": "text",
         "hovertext": [
          "<b>Topic 8</b><br>Words: homosexuality, bestiality, homosexual, testament, condemning",
          "<b>Topic 8</b><br>Words: gays, exgay, homosexual, homosexuals, church",
          "<b>Topic 8</b><br>Words: homour, butits, alternative, objections, stay",
          "<b>Topic 8</b><br>Words: seinfeld, puberty, flamboyance, boobs, masturbation",
          "<b>Topic 8</b><br>Words: peasized, bunghole, closeted, wannabe, homophobic",
          "<b>Topic 8</b><br>Words: homosexual, kinsey, homosexuals, homosexuality, partners",
          "<b>Topic 8</b><br>Words: enviroleague, bsa, youth, depression, organizations",
          "<b>Topic 8</b><br>Words: 10, think, homosexual, men, kinsey",
          "<b>Topic 8</b><br>Words: shoving, selfish, pushing, insist, agenda"
         ],
         "marker": {
          "color": "#56B4E9"
         },
         "name": "8_homosexual_homosexuals_homosexuality_g...",
         "orientation": "h",
         "type": "bar",
         "visible": "legendonly",
         "x": [
          4,
          4,
          1,
          4,
          1,
          126,
          12,
          1,
          1
         ],
         "y": [
          "soc.religion.christian",
          "talk.religion.misc",
          "talk.politics.mideast",
          "sci.med",
          "rec.motorcycles",
          "talk.politics.misc",
          "alt.atheism",
          "comp.graphics",
          "sci.space"
         ]
        },
        {
         "hoverinfo": "text",
         "hovertext": [
          "<b>Topic 9</b><br>Words: window, widget, event, handler, button",
          "<b>Topic 9</b><br>Words: window, mywindow, mywinobj, objectwindows, dll"
         ],
         "marker": {
          "color": "#009E73"
         },
         "name": "9_window_widget_application_event",
         "orientation": "h",
         "type": "bar",
         "visible": "legendonly",
         "x": [
          134,
          8
         ],
         "y": [
          "comp.windows.x",
          "comp.os.ms-windows.misc"
         ]
        }
       ],
       "layout": {
        "height": 900,
        "hoverlabel": {
         "bgcolor": "white",
         "font": {
          "family": "Rockwell",
          "size": 16
         }
        },
        "legend": {
         "title": {
          "text": "<b>Global Topic Representation"
         }
        },
        "template": {
         "data": {
          "bar": [
           {
            "error_x": {
             "color": "rgb(36,36,36)"
            },
            "error_y": {
             "color": "rgb(36,36,36)"
            },
            "marker": {
             "line": {
              "color": "white",
              "width": 0.5
             },
             "pattern": {
              "fillmode": "overlay",
              "size": 10,
              "solidity": 0.2
             }
            },
            "type": "bar"
           }
          ],
          "barpolar": [
           {
            "marker": {
             "line": {
              "color": "white",
              "width": 0.5
             },
             "pattern": {
              "fillmode": "overlay",
              "size": 10,
              "solidity": 0.2
             }
            },
            "type": "barpolar"
           }
          ],
          "carpet": [
           {
            "aaxis": {
             "endlinecolor": "rgb(36,36,36)",
             "gridcolor": "white",
             "linecolor": "white",
             "minorgridcolor": "white",
             "startlinecolor": "rgb(36,36,36)"
            },
            "baxis": {
             "endlinecolor": "rgb(36,36,36)",
             "gridcolor": "white",
             "linecolor": "white",
             "minorgridcolor": "white",
             "startlinecolor": "rgb(36,36,36)"
            },
            "type": "carpet"
           }
          ],
          "choropleth": [
           {
            "colorbar": {
             "outlinewidth": 1,
             "tickcolor": "rgb(36,36,36)",
             "ticks": "outside"
            },
            "type": "choropleth"
           }
          ],
          "contour": [
           {
            "colorbar": {
             "outlinewidth": 1,
             "tickcolor": "rgb(36,36,36)",
             "ticks": "outside"
            },
            "colorscale": [
             [
              0,
              "#440154"
             ],
             [
              0.1111111111111111,
              "#482878"
             ],
             [
              0.2222222222222222,
              "#3e4989"
             ],
             [
              0.3333333333333333,
              "#31688e"
             ],
             [
              0.4444444444444444,
              "#26828e"
             ],
             [
              0.5555555555555556,
              "#1f9e89"
             ],
             [
              0.6666666666666666,
              "#35b779"
             ],
             [
              0.7777777777777778,
              "#6ece58"
             ],
             [
              0.8888888888888888,
              "#b5de2b"
             ],
             [
              1,
              "#fde725"
             ]
            ],
            "type": "contour"
           }
          ],
          "contourcarpet": [
           {
            "colorbar": {
             "outlinewidth": 1,
             "tickcolor": "rgb(36,36,36)",
             "ticks": "outside"
            },
            "type": "contourcarpet"
           }
          ],
          "heatmap": [
           {
            "colorbar": {
             "outlinewidth": 1,
             "tickcolor": "rgb(36,36,36)",
             "ticks": "outside"
            },
            "colorscale": [
             [
              0,
              "#440154"
             ],
             [
              0.1111111111111111,
              "#482878"
             ],
             [
              0.2222222222222222,
              "#3e4989"
             ],
             [
              0.3333333333333333,
              "#31688e"
             ],
             [
              0.4444444444444444,
              "#26828e"
             ],
             [
              0.5555555555555556,
              "#1f9e89"
             ],
             [
              0.6666666666666666,
              "#35b779"
             ],
             [
              0.7777777777777778,
              "#6ece58"
             ],
             [
              0.8888888888888888,
              "#b5de2b"
             ],
             [
              1,
              "#fde725"
             ]
            ],
            "type": "heatmap"
           }
          ],
          "heatmapgl": [
           {
            "colorbar": {
             "outlinewidth": 1,
             "tickcolor": "rgb(36,36,36)",
             "ticks": "outside"
            },
            "colorscale": [
             [
              0,
              "#440154"
             ],
             [
              0.1111111111111111,
              "#482878"
             ],
             [
              0.2222222222222222,
              "#3e4989"
             ],
             [
              0.3333333333333333,
              "#31688e"
             ],
             [
              0.4444444444444444,
              "#26828e"
             ],
             [
              0.5555555555555556,
              "#1f9e89"
             ],
             [
              0.6666666666666666,
              "#35b779"
             ],
             [
              0.7777777777777778,
              "#6ece58"
             ],
             [
              0.8888888888888888,
              "#b5de2b"
             ],
             [
              1,
              "#fde725"
             ]
            ],
            "type": "heatmapgl"
           }
          ],
          "histogram": [
           {
            "marker": {
             "line": {
              "color": "white",
              "width": 0.6
             }
            },
            "type": "histogram"
           }
          ],
          "histogram2d": [
           {
            "colorbar": {
             "outlinewidth": 1,
             "tickcolor": "rgb(36,36,36)",
             "ticks": "outside"
            },
            "colorscale": [
             [
              0,
              "#440154"
             ],
             [
              0.1111111111111111,
              "#482878"
             ],
             [
              0.2222222222222222,
              "#3e4989"
             ],
             [
              0.3333333333333333,
              "#31688e"
             ],
             [
              0.4444444444444444,
              "#26828e"
             ],
             [
              0.5555555555555556,
              "#1f9e89"
             ],
             [
              0.6666666666666666,
              "#35b779"
             ],
             [
              0.7777777777777778,
              "#6ece58"
             ],
             [
              0.8888888888888888,
              "#b5de2b"
             ],
             [
              1,
              "#fde725"
             ]
            ],
            "type": "histogram2d"
           }
          ],
          "histogram2dcontour": [
           {
            "colorbar": {
             "outlinewidth": 1,
             "tickcolor": "rgb(36,36,36)",
             "ticks": "outside"
            },
            "colorscale": [
             [
              0,
              "#440154"
             ],
             [
              0.1111111111111111,
              "#482878"
             ],
             [
              0.2222222222222222,
              "#3e4989"
             ],
             [
              0.3333333333333333,
              "#31688e"
             ],
             [
              0.4444444444444444,
              "#26828e"
             ],
             [
              0.5555555555555556,
              "#1f9e89"
             ],
             [
              0.6666666666666666,
              "#35b779"
             ],
             [
              0.7777777777777778,
              "#6ece58"
             ],
             [
              0.8888888888888888,
              "#b5de2b"
             ],
             [
              1,
              "#fde725"
             ]
            ],
            "type": "histogram2dcontour"
           }
          ],
          "mesh3d": [
           {
            "colorbar": {
             "outlinewidth": 1,
             "tickcolor": "rgb(36,36,36)",
             "ticks": "outside"
            },
            "type": "mesh3d"
           }
          ],
          "parcoords": [
           {
            "line": {
             "colorbar": {
              "outlinewidth": 1,
              "tickcolor": "rgb(36,36,36)",
              "ticks": "outside"
             }
            },
            "type": "parcoords"
           }
          ],
          "pie": [
           {
            "automargin": true,
            "type": "pie"
           }
          ],
          "scatter": [
           {
            "fillpattern": {
             "fillmode": "overlay",
             "size": 10,
             "solidity": 0.2
            },
            "type": "scatter"
           }
          ],
          "scatter3d": [
           {
            "line": {
             "colorbar": {
              "outlinewidth": 1,
              "tickcolor": "rgb(36,36,36)",
              "ticks": "outside"
             }
            },
            "marker": {
             "colorbar": {
              "outlinewidth": 1,
              "tickcolor": "rgb(36,36,36)",
              "ticks": "outside"
             }
            },
            "type": "scatter3d"
           }
          ],
          "scattercarpet": [
           {
            "marker": {
             "colorbar": {
              "outlinewidth": 1,
              "tickcolor": "rgb(36,36,36)",
              "ticks": "outside"
             }
            },
            "type": "scattercarpet"
           }
          ],
          "scattergeo": [
           {
            "marker": {
             "colorbar": {
              "outlinewidth": 1,
              "tickcolor": "rgb(36,36,36)",
              "ticks": "outside"
             }
            },
            "type": "scattergeo"
           }
          ],
          "scattergl": [
           {
            "marker": {
             "colorbar": {
              "outlinewidth": 1,
              "tickcolor": "rgb(36,36,36)",
              "ticks": "outside"
             }
            },
            "type": "scattergl"
           }
          ],
          "scattermapbox": [
           {
            "marker": {
             "colorbar": {
              "outlinewidth": 1,
              "tickcolor": "rgb(36,36,36)",
              "ticks": "outside"
             }
            },
            "type": "scattermapbox"
           }
          ],
          "scatterpolar": [
           {
            "marker": {
             "colorbar": {
              "outlinewidth": 1,
              "tickcolor": "rgb(36,36,36)",
              "ticks": "outside"
             }
            },
            "type": "scatterpolar"
           }
          ],
          "scatterpolargl": [
           {
            "marker": {
             "colorbar": {
              "outlinewidth": 1,
              "tickcolor": "rgb(36,36,36)",
              "ticks": "outside"
             }
            },
            "type": "scatterpolargl"
           }
          ],
          "scatterternary": [
           {
            "marker": {
             "colorbar": {
              "outlinewidth": 1,
              "tickcolor": "rgb(36,36,36)",
              "ticks": "outside"
             }
            },
            "type": "scatterternary"
           }
          ],
          "surface": [
           {
            "colorbar": {
             "outlinewidth": 1,
             "tickcolor": "rgb(36,36,36)",
             "ticks": "outside"
            },
            "colorscale": [
             [
              0,
              "#440154"
             ],
             [
              0.1111111111111111,
              "#482878"
             ],
             [
              0.2222222222222222,
              "#3e4989"
             ],
             [
              0.3333333333333333,
              "#31688e"
             ],
             [
              0.4444444444444444,
              "#26828e"
             ],
             [
              0.5555555555555556,
              "#1f9e89"
             ],
             [
              0.6666666666666666,
              "#35b779"
             ],
             [
              0.7777777777777778,
              "#6ece58"
             ],
             [
              0.8888888888888888,
              "#b5de2b"
             ],
             [
              1,
              "#fde725"
             ]
            ],
            "type": "surface"
           }
          ],
          "table": [
           {
            "cells": {
             "fill": {
              "color": "rgb(237,237,237)"
             },
             "line": {
              "color": "white"
             }
            },
            "header": {
             "fill": {
              "color": "rgb(217,217,217)"
             },
             "line": {
              "color": "white"
             }
            },
            "type": "table"
           }
          ]
         },
         "layout": {
          "annotationdefaults": {
           "arrowhead": 0,
           "arrowwidth": 1
          },
          "autotypenumbers": "strict",
          "coloraxis": {
           "colorbar": {
            "outlinewidth": 1,
            "tickcolor": "rgb(36,36,36)",
            "ticks": "outside"
           }
          },
          "colorscale": {
           "diverging": [
            [
             0,
             "rgb(103,0,31)"
            ],
            [
             0.1,
             "rgb(178,24,43)"
            ],
            [
             0.2,
             "rgb(214,96,77)"
            ],
            [
             0.3,
             "rgb(244,165,130)"
            ],
            [
             0.4,
             "rgb(253,219,199)"
            ],
            [
             0.5,
             "rgb(247,247,247)"
            ],
            [
             0.6,
             "rgb(209,229,240)"
            ],
            [
             0.7,
             "rgb(146,197,222)"
            ],
            [
             0.8,
             "rgb(67,147,195)"
            ],
            [
             0.9,
             "rgb(33,102,172)"
            ],
            [
             1,
             "rgb(5,48,97)"
            ]
           ],
           "sequential": [
            [
             0,
             "#440154"
            ],
            [
             0.1111111111111111,
             "#482878"
            ],
            [
             0.2222222222222222,
             "#3e4989"
            ],
            [
             0.3333333333333333,
             "#31688e"
            ],
            [
             0.4444444444444444,
             "#26828e"
            ],
            [
             0.5555555555555556,
             "#1f9e89"
            ],
            [
             0.6666666666666666,
             "#35b779"
            ],
            [
             0.7777777777777778,
             "#6ece58"
            ],
            [
             0.8888888888888888,
             "#b5de2b"
            ],
            [
             1,
             "#fde725"
            ]
           ],
           "sequentialminus": [
            [
             0,
             "#440154"
            ],
            [
             0.1111111111111111,
             "#482878"
            ],
            [
             0.2222222222222222,
             "#3e4989"
            ],
            [
             0.3333333333333333,
             "#31688e"
            ],
            [
             0.4444444444444444,
             "#26828e"
            ],
            [
             0.5555555555555556,
             "#1f9e89"
            ],
            [
             0.6666666666666666,
             "#35b779"
            ],
            [
             0.7777777777777778,
             "#6ece58"
            ],
            [
             0.8888888888888888,
             "#b5de2b"
            ],
            [
             1,
             "#fde725"
            ]
           ]
          },
          "colorway": [
           "#1F77B4",
           "#FF7F0E",
           "#2CA02C",
           "#D62728",
           "#9467BD",
           "#8C564B",
           "#E377C2",
           "#7F7F7F",
           "#BCBD22",
           "#17BECF"
          ],
          "font": {
           "color": "rgb(36,36,36)"
          },
          "geo": {
           "bgcolor": "white",
           "lakecolor": "white",
           "landcolor": "white",
           "showlakes": true,
           "showland": true,
           "subunitcolor": "white"
          },
          "hoverlabel": {
           "align": "left"
          },
          "hovermode": "closest",
          "mapbox": {
           "style": "light"
          },
          "paper_bgcolor": "white",
          "plot_bgcolor": "white",
          "polar": {
           "angularaxis": {
            "gridcolor": "rgb(232,232,232)",
            "linecolor": "rgb(36,36,36)",
            "showgrid": false,
            "showline": true,
            "ticks": "outside"
           },
           "bgcolor": "white",
           "radialaxis": {
            "gridcolor": "rgb(232,232,232)",
            "linecolor": "rgb(36,36,36)",
            "showgrid": false,
            "showline": true,
            "ticks": "outside"
           }
          },
          "scene": {
           "xaxis": {
            "backgroundcolor": "white",
            "gridcolor": "rgb(232,232,232)",
            "gridwidth": 2,
            "linecolor": "rgb(36,36,36)",
            "showbackground": true,
            "showgrid": false,
            "showline": true,
            "ticks": "outside",
            "zeroline": false,
            "zerolinecolor": "rgb(36,36,36)"
           },
           "yaxis": {
            "backgroundcolor": "white",
            "gridcolor": "rgb(232,232,232)",
            "gridwidth": 2,
            "linecolor": "rgb(36,36,36)",
            "showbackground": true,
            "showgrid": false,
            "showline": true,
            "ticks": "outside",
            "zeroline": false,
            "zerolinecolor": "rgb(36,36,36)"
           },
           "zaxis": {
            "backgroundcolor": "white",
            "gridcolor": "rgb(232,232,232)",
            "gridwidth": 2,
            "linecolor": "rgb(36,36,36)",
            "showbackground": true,
            "showgrid": false,
            "showline": true,
            "ticks": "outside",
            "zeroline": false,
            "zerolinecolor": "rgb(36,36,36)"
           }
          },
          "shapedefaults": {
           "fillcolor": "black",
           "line": {
            "width": 0
           },
           "opacity": 0.3
          },
          "ternary": {
           "aaxis": {
            "gridcolor": "rgb(232,232,232)",
            "linecolor": "rgb(36,36,36)",
            "showgrid": false,
            "showline": true,
            "ticks": "outside"
           },
           "baxis": {
            "gridcolor": "rgb(232,232,232)",
            "linecolor": "rgb(36,36,36)",
            "showgrid": false,
            "showline": true,
            "ticks": "outside"
           },
           "bgcolor": "white",
           "caxis": {
            "gridcolor": "rgb(232,232,232)",
            "linecolor": "rgb(36,36,36)",
            "showgrid": false,
            "showline": true,
            "ticks": "outside"
           }
          },
          "title": {
           "x": 0.05
          },
          "xaxis": {
           "automargin": true,
           "gridcolor": "rgb(232,232,232)",
           "linecolor": "rgb(36,36,36)",
           "showgrid": false,
           "showline": true,
           "ticks": "outside",
           "title": {
            "standoff": 15
           },
           "zeroline": false,
           "zerolinecolor": "rgb(36,36,36)"
          },
          "yaxis": {
           "automargin": true,
           "gridcolor": "rgb(232,232,232)",
           "linecolor": "rgb(36,36,36)",
           "showgrid": false,
           "showline": true,
           "ticks": "outside",
           "title": {
            "standoff": 15
           },
           "zeroline": false,
           "zerolinecolor": "rgb(36,36,36)"
          }
         }
        },
        "title": {
         "font": {
          "color": "Black",
          "size": 22
         },
         "text": "<b>Topics per Class</b>",
         "x": 0.4,
         "xanchor": "center",
         "y": 0.95,
         "yanchor": "top"
        },
        "width": 1250,
        "xaxis": {
         "showgrid": true,
         "title": {
          "text": "Frequency"
         }
        },
        "yaxis": {
         "showgrid": true,
         "title": {
          "text": "Class"
         }
        }
       }
      }
     },
     "metadata": {},
     "output_type": "display_data"
    }
   ],
   "source": [
    "topic_model.visualize_topics_per_class(topics_per_class)"
   ]
  },
  {
   "cell_type": "code",
   "execution_count": null,
   "metadata": {},
   "outputs": [],
   "source": []
  }
 ],
 "metadata": {
  "kernelspec": {
   "display_name": "optuna",
   "language": "python",
   "name": "python3"
  },
  "language_info": {
   "codemirror_mode": {
    "name": "ipython",
    "version": 3
   },
   "file_extension": ".py",
   "mimetype": "text/x-python",
   "name": "python",
   "nbconvert_exporter": "python",
   "pygments_lexer": "ipython3",
   "version": "3.10.11"
  },
  "orig_nbformat": 4
 },
 "nbformat": 4,
 "nbformat_minor": 2
}
