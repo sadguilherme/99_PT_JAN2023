{
 "cells": [
  {
   "cell_type": "code",
   "execution_count": 1,
   "metadata": {},
   "outputs": [],
   "source": [
    "import numpy as np\n",
    "import scipy as sp\n",
    "import pandas as pd\n",
    "import seaborn as sns\n",
    "import matplotlib.pyplot as plt\n",
    "from multiprocess import Pool, cpu_count"
   ]
  },
  {
   "cell_type": "markdown",
   "metadata": {},
   "source": [
    "# Case I - Bar do Adriano\n",
    "\n",
    "Com um fim (?) da pandemia, o **Bar do Adriano** está fazendo muito sucesso. O seu dono, Adriano, está preocupado com as **filas que estão se formando fora do bar**, e com a **perda de clientes** (muitos desistem de esperar na fila).\n",
    "\n",
    "O bar é *bem simples*, contendo apenas um **balcão com 10 lugares**. Devido as leis de zoneamento da região, Adriano não pode instalar mesas fora do bar, e, portanto, está buscando alternativas. No entanto ele **teme que o aumento no número de clientes não seja suficiente para balancear o aumento de custo operacional e investimento necessário para expansão do balcão**.\n",
    "\n",
    "**Você foi contrado para estimar quantos clientes diferentes tamanhos de balcão poderiam atender**! Infelizmente, **Adriano não possui NENHUM dado sobre a operação de seu bar**, apenas algumas medições simples:\n",
    "\n",
    "1. *O bar fica aberto 3h por noite (vizinhos chatos...)*;\n",
    "1. *Em média, 50 clientes entram na fila por hora*;\n",
    "1. *Em média, um cliente fica 15m na fila antes de desistir*;\n",
    "1. *Uma vez sentados, clientes ficam, em média, 30m no balcão*;\n",
    "1. *O bar atualmente tem 10 bancos mas Adriano tem a possibilidade de investir e aumentar este número para 30*.\n",
    "\n",
    "**Conhecendo os rudimentos da Probabilidade, você decide utilizar simulação de Monte Carlo para construir esta estimativa!**"
   ]
  },
  {
   "cell_type": "code",
   "execution_count": 31,
   "metadata": {},
   "outputs": [],
   "source": [
    "MEDIA_CHEGADA = 50/60 # Clientes/Minuto\n",
    "NUM_MINUTOS = 180\n",
    "rv_chegada = sp.stats.poisson(MEDIA_CHEGADA)\n",
    "\n",
    "simulacao_monte_carlo = []\n",
    "for j in range(50):\n",
    "    clientes_chegando = []\n",
    "    for i in range(NUM_MINUTOS):\n",
    "        clientes_chegando.append(rv_chegada.rvs())\n",
    "    simulacao_monte_carlo.append(clientes_chegando)"
   ]
  },
  {
   "cell_type": "code",
   "execution_count": 42,
   "metadata": {},
   "outputs": [],
   "source": [
    "MEDIA_CHEGADA = 50/60 # Clientes/Minuto\n",
    "NUM_MINUTOS = 180\n",
    "rv_chegada = sp.stats.poisson(MEDIA_CHEGADA)\n",
    "\n",
    "simulacao_monte_carlo = []\n",
    "for i in range(500):\n",
    "    num_clientes_noite = 0\n",
    "    for minuto in range(NUM_MINUTOS):\n",
    "        num_clientes_noite += rv_chegada.rvs()\n",
    "    simulacao_monte_carlo.append(num_clientes_noite)\n",
    "    \n",
    "plt.hist(simulacao_monte_carlo)"
   ]
  },
  {
   "cell_type": "code",
   "execution_count": 50,
   "metadata": {},
   "outputs": [
    {
     "data": {
      "text/plain": [
       "7500.0"
      ]
     },
     "execution_count": 50,
     "metadata": {},
     "output_type": "execute_result"
    }
   ],
   "source": [
    "MEDIA_CHEGADA * NUM_MINUTOS * GASTO_MEDIO"
   ]
  },
  {
   "cell_type": "code",
   "execution_count": 51,
   "metadata": {},
   "outputs": [],
   "source": [
    "MEDIA_CHEGADA = 50/60 # Clientes/Minuto\n",
    "NUM_MINUTOS = 180\n",
    "GASTO_MEDIO = 50\n",
    "GASTO_SD = 5\n",
    "rv_chegada = sp.stats.poisson(MEDIA_CHEGADA)\n",
    "rv_gasto = sp.stats.norm(loc = GASTO_MEDIO, scale = GASTO_SD)\n",
    "\n",
    "simulacao_monte_carlo = []\n",
    "for i in range(500):\n",
    "    gasto_total = 0\n",
    "    for minuto in range(NUM_MINUTOS):\n",
    "        num_clientes_minuto = rv_chegada.rvs()\n",
    "        for cliente in range(num_clientes_minuto):\n",
    "            gasto_total += rv_gasto.rvs()\n",
    "    simulacao_monte_carlo.append(gasto_total)"
   ]
  },
  {
   "cell_type": "code",
   "execution_count": 52,
   "metadata": {},
   "outputs": [
    {
     "data": {
      "text/plain": [
       "array([6518.54553216, 7055.67740572, 7543.17971765, 7954.41165391,\n",
       "       8565.83509926])"
      ]
     },
     "execution_count": 52,
     "metadata": {},
     "output_type": "execute_result"
    }
   ],
   "source": [
    "np.quantile(simulacao_monte_carlo, q= [0.05, 0.25, 0.5, 0.75, 0.95])"
   ]
  },
  {
   "cell_type": "markdown",
   "metadata": {},
   "source": [
    "## Case Completo"
   ]
  },
  {
   "cell_type": "code",
   "execution_count": 2,
   "metadata": {},
   "outputs": [],
   "source": [
    "# Parâmetros Observáveis (medido)\n",
    "NUM_MINUTOS = 180 # Minutos\n",
    "MEDIA_CHEGADA = 50/60 # Clientes/Minuto\n",
    "TEMPO_DESISTE = 15 # Minutos\n",
    "TEMPO_ESTADIA = 30 # Minutos\n",
    "TAMANHO_BALCAO = 10 # Número de Cadeiras\n",
    "# Distribuição Geométrica\n",
    "# Número de lances até primeira cara\n",
    "# Qual a probabilidade de você jogar X moedas antes de tirar uma cara.\n",
    "# Cada lance é um minuto do clienta na fila\n",
    "# Média de Minutos = 1 / probabilidade do cliente desistir\n",
    "# probabilidade = 1 / Média de Minutos\n",
    "p_desiste_minuto = 1/TEMPO_DESISTE\n",
    "\n",
    "# Variáveis Aleatórias\n",
    "# Número de clientes chegando no bar (R.V. média = 50/60)\n",
    "# Tempo balcao (R.V. média = 30m)\n",
    "# Abandono de file (R.V., teste bernoulli, com p = 1/15)\n",
    "rv_chegada = sp.stats.poisson(MEDIA_CHEGADA)\n",
    "rv_tempo_balcao = sp.stats.expon(TEMPO_ESTADIA)\n",
    "rv_abandono = sp.stats.bernoulli(p_desiste_minuto)\n",
    "\n",
    "# Estados\n",
    "balcao_bar = []\n",
    "fila = []\n",
    "\n",
    "# Observaveis\n",
    "n_cliente = 0\n",
    "n_abandono = 0\n",
    "n_cliente_atendido = 0\n",
    "tx_ocup = []"
   ]
  },
  {
   "cell_type": "code",
   "execution_count": null,
   "metadata": {},
   "outputs": [],
   "source": [
    "for i in range(NUM_MINUTOS):\n",
    "    # MODELANDO CHEGADA DE CLIENTES\n",
    "    num_clientes = rv_chegada.rvs()\n",
    "    if num_clientes > 0:\n",
    "        for cliente in range(num_clientes):\n",
    "            n_cliente += 1\n",
    "            tempo_estadia = int(rv_tempo_balcao.rvs())\n",
    "            minuto_saida = i + tempo_estadia\n",
    "            fila.append((n_cliente, i, minuto_saida))\n",
    "\n",
    "    # MODELANDO CLIENTES SAINDO DA FILA P/ BALCAO\n",
    "    while len(balcao_bar) < TAMANHO_BALCAO and len(fila) > 0:\n",
    "        cliente_atendido = fila.pop(0)\n",
    "        balcao_bar.append(cliente_atendido)\n",
    "        \n",
    "    # MODELANDO SAIDA DE CLIENTES DO BALCAO\n",
    "    if len(balcao_bar) > 0:\n",
    "        lista_saida = []\n",
    "        for cliente in balcao_bar:\n",
    "            if i >= cliente[2]:\n",
    "                lista_saida.append(cliente)\n",
    "        for cliente in lista_saida:\n",
    "            n_cliente_atendido += 1\n",
    "            balcao_bar.pop(balcao_bar.index(cliente))\n",
    "\n",
    "    # MODELANDO DESISTENCIA DA FILA\n",
    "    if len(fila) > 0:\n",
    "        lista_desiste = []\n",
    "        for cliente in fila:\n",
    "            if rv_abandono.rvs() == 1:\n",
    "                lista_desiste.append(cliente)\n",
    "        for cliente in lista_desiste:\n",
    "            n_abandono += 1\n",
    "            fila.pop(fila.index(cliente))\n",
    "\n",
    "    tx_ocup.append(len(balcao_bar)/TAMANHO_BALCAO)\n"
   ]
  },
  {
   "cell_type": "code",
   "execution_count": 53,
   "metadata": {},
   "outputs": [],
   "source": [
    "def simular_bar(tam_balcao):\n",
    "    NUM_MINUTOS = 180\n",
    "    MEDIA_CHEGADA = 50/60\n",
    "    TEMPO_DESISTE = 15\n",
    "    TEMPO_ESTADIA = 30\n",
    "    TAMANHO_BALCAO = tam_balcao\n",
    "\n",
    "    balcao_bar = []\n",
    "    fila = []\n",
    "    p_desiste_minuto = 1/TEMPO_DESISTE\n",
    "\n",
    "    rv_chegada = sp.stats.poisson(MEDIA_CHEGADA)\n",
    "    rv_tempo_balcao = sp.stats.expon(TEMPO_ESTADIA)\n",
    "    rv_abandono = sp.stats.bernoulli(p_desiste_minuto)\n",
    "\n",
    "    n_cliente = 0\n",
    "    n_abandono = 0\n",
    "    n_cliente_atendido = 0\n",
    "    tx_ocup = []\n",
    "    for i in range(NUM_MINUTOS):\n",
    "        # MODELANDO CHEGADA DE CLIENTES\n",
    "        num_clientes = rv_chegada.rvs()\n",
    "        if num_clientes > 0:\n",
    "            for cliente in range(num_clientes):\n",
    "                n_cliente += 1\n",
    "                tempo_estadia = int(rv_tempo_balcao.rvs())\n",
    "                minuto_saida = i + tempo_estadia\n",
    "                fila.append((n_cliente, i, minuto_saida))\n",
    "\n",
    "        # MODELANDO CLIENTES SAINDO DA FILA P/ BALCAO\n",
    "        while len(balcao_bar) < TAMANHO_BALCAO and len(fila) > 0:\n",
    "            cliente_atendido = fila.pop(0)\n",
    "            balcao_bar.append(cliente_atendido)\n",
    "            \n",
    "        # MODELANDO SAIDA DE CLIENTES DO BALCAO\n",
    "        if len(balcao_bar) > 0:\n",
    "            lista_saida = []\n",
    "            for cliente in balcao_bar:\n",
    "                if i >= cliente[2]:\n",
    "                    lista_saida.append(cliente)\n",
    "            for cliente in lista_saida:\n",
    "                n_cliente_atendido += 1\n",
    "                balcao_bar.pop(balcao_bar.index(cliente))\n",
    "\n",
    "        # MODELANDO DESISTENCIA DA FILA\n",
    "        if len(fila) > 0:\n",
    "            lista_desiste = []\n",
    "            for cliente in fila:\n",
    "                if rv_abandono.rvs() == 1:\n",
    "                    lista_desiste.append(cliente)\n",
    "            for cliente in lista_desiste:\n",
    "                n_abandono += 1\n",
    "                fila.pop(fila.index(cliente))\n",
    "\n",
    "        tx_ocup.append(len(balcao_bar)/TAMANHO_BALCAO)\n",
    "        \n",
    "    return (n_cliente, n_cliente_atendido, n_abandono, np.mean(tx_ocup), tam_balcao)"
   ]
  },
  {
   "cell_type": "code",
   "execution_count": 54,
   "metadata": {},
   "outputs": [],
   "source": [
    "lista_resultados = []\n",
    "for it in range(500):\n",
    "    lista_resultados.append(simular_bar(10))\n",
    "\n"
   ]
  },
  {
   "cell_type": "code",
   "execution_count": 55,
   "metadata": {},
   "outputs": [
    {
     "data": {
      "text/html": [
       "<div>\n",
       "<style scoped>\n",
       "    .dataframe tbody tr th:only-of-type {\n",
       "        vertical-align: middle;\n",
       "    }\n",
       "\n",
       "    .dataframe tbody tr th {\n",
       "        vertical-align: top;\n",
       "    }\n",
       "\n",
       "    .dataframe thead th {\n",
       "        text-align: right;\n",
       "    }\n",
       "</style>\n",
       "<table border=\"1\" class=\"dataframe\">\n",
       "  <thead>\n",
       "    <tr style=\"text-align: right;\">\n",
       "      <th></th>\n",
       "      <th>n_clientes</th>\n",
       "      <th>n_atendido</th>\n",
       "      <th>n_abandono</th>\n",
       "      <th>tx_ocup</th>\n",
       "      <th>tam_balcao</th>\n",
       "    </tr>\n",
       "  </thead>\n",
       "  <tbody>\n",
       "    <tr>\n",
       "      <th>0</th>\n",
       "      <td>160</td>\n",
       "      <td>78</td>\n",
       "      <td>68</td>\n",
       "      <td>0.936667</td>\n",
       "      <td>10</td>\n",
       "    </tr>\n",
       "    <tr>\n",
       "      <th>1</th>\n",
       "      <td>145</td>\n",
       "      <td>70</td>\n",
       "      <td>60</td>\n",
       "      <td>0.915556</td>\n",
       "      <td>10</td>\n",
       "    </tr>\n",
       "    <tr>\n",
       "      <th>2</th>\n",
       "      <td>145</td>\n",
       "      <td>68</td>\n",
       "      <td>64</td>\n",
       "      <td>0.930000</td>\n",
       "      <td>10</td>\n",
       "    </tr>\n",
       "    <tr>\n",
       "      <th>3</th>\n",
       "      <td>157</td>\n",
       "      <td>68</td>\n",
       "      <td>73</td>\n",
       "      <td>0.931667</td>\n",
       "      <td>10</td>\n",
       "    </tr>\n",
       "    <tr>\n",
       "      <th>4</th>\n",
       "      <td>164</td>\n",
       "      <td>77</td>\n",
       "      <td>76</td>\n",
       "      <td>0.943333</td>\n",
       "      <td>10</td>\n",
       "    </tr>\n",
       "  </tbody>\n",
       "</table>\n",
       "</div>"
      ],
      "text/plain": [
       "   n_clientes  n_atendido  n_abandono   tx_ocup  tam_balcao\n",
       "0         160          78          68  0.936667          10\n",
       "1         145          70          60  0.915556          10\n",
       "2         145          68          64  0.930000          10\n",
       "3         157          68          73  0.931667          10\n",
       "4         164          77          76  0.943333          10"
      ]
     },
     "execution_count": 55,
     "metadata": {},
     "output_type": "execute_result"
    }
   ],
   "source": [
    "tb_resultados = pd.DataFrame(lista_resultados, columns = ['n_clientes', 'n_atendido', 'n_abandono', 'tx_ocup', 'tam_balcao'])\n",
    "tb_resultados.head()"
   ]
  },
  {
   "cell_type": "code",
   "execution_count": 56,
   "metadata": {},
   "outputs": [
    {
     "data": {
      "text/plain": [
       "<AxesSubplot: ylabel='tx_ocup'>"
      ]
     },
     "execution_count": 56,
     "metadata": {},
     "output_type": "execute_result"
    },
    {
     "data": {
      "image/png": "[encoded data removed]",
      "text/plain": [
       "<Figure size 1000x1000 with 4 Axes>"
      ]
     },
     "metadata": {},
     "output_type": "display_data"
    }
   ],
   "source": [
    "fig, ax = plt.subplots(2, 2, figsize=(10,10))\n",
    "sns.boxplot(data = tb_resultados, y = 'n_clientes', ax = ax[0][0])\n",
    "sns.boxplot(data = tb_resultados, y = 'n_atendido', ax = ax[0][1])\n",
    "sns.boxplot(data = tb_resultados, y = 'n_abandono', ax = ax[1][0])\n",
    "sns.boxplot(data = tb_resultados, y = 'tx_ocup', ax = ax[1][1])\n"
   ]
  },
  {
   "cell_type": "code",
   "execution_count": 64,
   "metadata": {},
   "outputs": [],
   "source": [
    "pool = Pool(processes=cpu_count() - 1)\n",
    "lista_balcoes = [10] * 100 + [15] * 100 + [20] * 100 + [25] * 100 + [30] * 100\n",
    "lista_resultados = pool.map(simular_bar, lista_balcoes)"
   ]
  },
  {
   "cell_type": "code",
   "execution_count": 65,
   "metadata": {},
   "outputs": [
    {
     "data": {
      "text/html": [
       "<div>\n",
       "<style scoped>\n",
       "    .dataframe tbody tr th:only-of-type {\n",
       "        vertical-align: middle;\n",
       "    }\n",
       "\n",
       "    .dataframe tbody tr th {\n",
       "        vertical-align: top;\n",
       "    }\n",
       "\n",
       "    .dataframe thead th {\n",
       "        text-align: right;\n",
       "    }\n",
       "</style>\n",
       "<table border=\"1\" class=\"dataframe\">\n",
       "  <thead>\n",
       "    <tr style=\"text-align: right;\">\n",
       "      <th></th>\n",
       "      <th>n_clientes</th>\n",
       "      <th>n_atendido</th>\n",
       "      <th>n_abandono</th>\n",
       "      <th>tx_ocup</th>\n",
       "      <th>tam_balcao</th>\n",
       "    </tr>\n",
       "  </thead>\n",
       "  <tbody>\n",
       "    <tr>\n",
       "      <th>495</th>\n",
       "      <td>148</td>\n",
       "      <td>121</td>\n",
       "      <td>2</td>\n",
       "      <td>0.758333</td>\n",
       "      <td>30</td>\n",
       "    </tr>\n",
       "    <tr>\n",
       "      <th>496</th>\n",
       "      <td>161</td>\n",
       "      <td>124</td>\n",
       "      <td>9</td>\n",
       "      <td>0.769815</td>\n",
       "      <td>30</td>\n",
       "    </tr>\n",
       "    <tr>\n",
       "      <th>497</th>\n",
       "      <td>130</td>\n",
       "      <td>101</td>\n",
       "      <td>3</td>\n",
       "      <td>0.650741</td>\n",
       "      <td>30</td>\n",
       "    </tr>\n",
       "    <tr>\n",
       "      <th>498</th>\n",
       "      <td>124</td>\n",
       "      <td>106</td>\n",
       "      <td>0</td>\n",
       "      <td>0.658704</td>\n",
       "      <td>30</td>\n",
       "    </tr>\n",
       "    <tr>\n",
       "      <th>499</th>\n",
       "      <td>127</td>\n",
       "      <td>102</td>\n",
       "      <td>0</td>\n",
       "      <td>0.661481</td>\n",
       "      <td>30</td>\n",
       "    </tr>\n",
       "  </tbody>\n",
       "</table>\n",
       "</div>"
      ],
      "text/plain": [
       "     n_clientes  n_atendido  n_abandono   tx_ocup  tam_balcao\n",
       "495         148         121           2  0.758333          30\n",
       "496         161         124           9  0.769815          30\n",
       "497         130         101           3  0.650741          30\n",
       "498         124         106           0  0.658704          30\n",
       "499         127         102           0  0.661481          30"
      ]
     },
     "execution_count": 65,
     "metadata": {},
     "output_type": "execute_result"
    }
   ],
   "source": [
    "tb_resultados = pd.DataFrame(lista_resultados, columns = ['n_clientes', 'n_atendido', 'n_abandono', 'tx_ocup', 'tam_balcao'])\n",
    "tb_resultados.tail()"
   ]
  },
  {
   "cell_type": "code",
   "execution_count": 66,
   "metadata": {},
   "outputs": [
    {
     "data": {
      "text/plain": [
       "<AxesSubplot: xlabel='tam_balcao', ylabel='tx_ocup'>"
      ]
     },
     "execution_count": 66,
     "metadata": {},
     "output_type": "execute_result"
    },
    {
     "data": {
      "image/png": "[encoded data removed]",
      "text/plain": [
       "<Figure size 1000x1000 with 4 Axes>"
      ]
     },
     "metadata": {},
     "output_type": "display_data"
    }
   ],
   "source": [
    "fig, ax = plt.subplots(2, 2, figsize=(10,10))\n",
    "sns.boxplot(data = tb_resultados, y = 'n_clientes', x = 'tam_balcao', ax = ax[0][0])\n",
    "sns.boxplot(data = tb_resultados, y = 'n_atendido', x = 'tam_balcao', ax = ax[0][1])\n",
    "sns.boxplot(data = tb_resultados, y = 'n_abandono', x = 'tam_balcao', ax = ax[1][0])\n",
    "sns.boxplot(data = tb_resultados, y = 'tx_ocup', x = 'tam_balcao', ax = ax[1][1])\n"
   ]
  },
  {
   "cell_type": "markdown",
   "metadata": {},
   "source": [
    "# Case II - Planejamento de Plantio\n",
    "\n",
    "**Você trabalha em uma indústria de sementes multi-nacional e foi encarregado de estimar o risco da produção de sementes de uma variedade específica para safra 2023.**\n",
    "\n",
    "A última etapa da produção de sementes é terceirizada: as diferentes variedades são enviadas para fazendeiros, que realizam o plantio, multiplicação e colheita do produto final.\n",
    "\n",
    "Todo ano é necessário **alocar a produção das diferentes variedades entre os diferentes produtores**. Infelizmente, a **produção agrícola é repleta de riscos** - o que leva a produção de sementes a ser, muitos anos, menor que a demanda por sementes!\n",
    "\n",
    "O **time de agronomia trabalhou para construir estimativas** de risco de produção levando em conta fatores qualitativos (localização do produtor, capital por ha., capacidade técnica...). Os **riscos estimados por produtos contém as informações abaixo**:\n",
    "\n",
    "- Média e desvio padrão da produtividade (em sacas de semente/ha);\n",
    "- Risco de Perda (probabilidade de perder toda produção);\n",
    "- Área Disponível para Plantio (em ha);\n",
    "\n",
    "**A meta para Safra de 2023 é 2000 Sacas de Semente de Soja**.\n",
    "\n",
    "Você foi encarregado de simular diferentes cenários para diferentes alocações de produção e calcular o risco associado a cada cenário - precisamos saber qual a **probabilidade de cada alocação produzir 20% a mais ou a menos que a meta** (2000 sacas)."
   ]
  },
  {
   "cell_type": "code",
   "execution_count": 67,
   "metadata": {},
   "outputs": [
    {
     "data": {
      "text/html": [
       "<div>\n",
       "<style scoped>\n",
       "    .dataframe tbody tr th:only-of-type {\n",
       "        vertical-align: middle;\n",
       "    }\n",
       "\n",
       "    .dataframe tbody tr th {\n",
       "        vertical-align: top;\n",
       "    }\n",
       "\n",
       "    .dataframe thead th {\n",
       "        text-align: right;\n",
       "    }\n",
       "</style>\n",
       "<table border=\"1\" class=\"dataframe\">\n",
       "  <thead>\n",
       "    <tr style=\"text-align: right;\">\n",
       "      <th></th>\n",
       "      <th>mu_prod</th>\n",
       "      <th>sd_prod</th>\n",
       "      <th>per_perda</th>\n",
       "      <th>area_disp</th>\n",
       "    </tr>\n",
       "  </thead>\n",
       "  <tbody>\n",
       "    <tr>\n",
       "      <th>0</th>\n",
       "      <td>25</td>\n",
       "      <td>2</td>\n",
       "      <td>0.050</td>\n",
       "      <td>5</td>\n",
       "    </tr>\n",
       "    <tr>\n",
       "      <th>1</th>\n",
       "      <td>40</td>\n",
       "      <td>15</td>\n",
       "      <td>0.100</td>\n",
       "      <td>25</td>\n",
       "    </tr>\n",
       "    <tr>\n",
       "      <th>2</th>\n",
       "      <td>12</td>\n",
       "      <td>1</td>\n",
       "      <td>0.005</td>\n",
       "      <td>50</td>\n",
       "    </tr>\n",
       "    <tr>\n",
       "      <th>3</th>\n",
       "      <td>50</td>\n",
       "      <td>3</td>\n",
       "      <td>0.150</td>\n",
       "      <td>30</td>\n",
       "    </tr>\n",
       "  </tbody>\n",
       "</table>\n",
       "</div>"
      ],
      "text/plain": [
       "   mu_prod  sd_prod  per_perda  area_disp\n",
       "0       25        2      0.050          5\n",
       "1       40       15      0.100         25\n",
       "2       12        1      0.005         50\n",
       "3       50        3      0.150         30"
      ]
     },
     "execution_count": 67,
     "metadata": {},
     "output_type": "execute_result"
    }
   ],
   "source": [
    "produtor_a = [25, 2, 0.05, 5]\n",
    "produtor_b = [40, 15, 0.1, 25]\n",
    "produtor_c = [12, 1, 0.005, 50]\n",
    "produtor_d = [50, 3, 0.15, 30]\n",
    "produtores = [produtor_a, produtor_b, produtor_c, produtor_d]\n",
    "tb_produtores = pd.DataFrame(produtores, columns=['mu_prod', 'sd_prod', 'per_perda', 'area_disp'])\n",
    "tb_produtores"
   ]
  },
  {
   "cell_type": "code",
   "execution_count": 68,
   "metadata": {},
   "outputs": [
    {
     "data": {
      "text/html": [
       "<div>\n",
       "<style scoped>\n",
       "    .dataframe tbody tr th:only-of-type {\n",
       "        vertical-align: middle;\n",
       "    }\n",
       "\n",
       "    .dataframe tbody tr th {\n",
       "        vertical-align: top;\n",
       "    }\n",
       "\n",
       "    .dataframe thead th {\n",
       "        text-align: right;\n",
       "    }\n",
       "</style>\n",
       "<table border=\"1\" class=\"dataframe\">\n",
       "  <thead>\n",
       "    <tr style=\"text-align: right;\">\n",
       "      <th></th>\n",
       "      <th>aloc_A</th>\n",
       "      <th>aloc_B</th>\n",
       "      <th>aloc_C</th>\n",
       "      <th>aloc_D</th>\n",
       "    </tr>\n",
       "  </thead>\n",
       "  <tbody>\n",
       "    <tr>\n",
       "      <th>0</th>\n",
       "      <td>5</td>\n",
       "      <td>20</td>\n",
       "      <td>5</td>\n",
       "      <td>20</td>\n",
       "    </tr>\n",
       "    <tr>\n",
       "      <th>1</th>\n",
       "      <td>1</td>\n",
       "      <td>25</td>\n",
       "      <td>50</td>\n",
       "      <td>8</td>\n",
       "    </tr>\n",
       "    <tr>\n",
       "      <th>2</th>\n",
       "      <td>3</td>\n",
       "      <td>22</td>\n",
       "      <td>40</td>\n",
       "      <td>12</td>\n",
       "    </tr>\n",
       "    <tr>\n",
       "      <th>3</th>\n",
       "      <td>2</td>\n",
       "      <td>15</td>\n",
       "      <td>50</td>\n",
       "      <td>15</td>\n",
       "    </tr>\n",
       "  </tbody>\n",
       "</table>\n",
       "</div>"
      ],
      "text/plain": [
       "   aloc_A  aloc_B  aloc_C  aloc_D\n",
       "0       5      20       5      20\n",
       "1       1      25      50       8\n",
       "2       3      22      40      12\n",
       "3       2      15      50      15"
      ]
     },
     "execution_count": 68,
     "metadata": {},
     "output_type": "execute_result"
    }
   ],
   "source": [
    "cenario_a = [5, 20, 5, 20]\n",
    "cenario_b = [1, 25, 50, 8]\n",
    "cenario_c = [3, 22, 40, 12]\n",
    "cenario_d = [2, 15, 50, 15]\n",
    "cenarios = [cenario_a, cenario_b, cenario_c, cenario_d]\n",
    "tb_cenarios = pd.DataFrame(cenarios, columns = ['aloc_A', 'aloc_B', 'aloc_C', 'aloc_D'])\n",
    "tb_cenarios"
   ]
  },
  {
   "cell_type": "code",
   "execution_count": null,
   "metadata": {},
   "outputs": [],
   "source": [
    "# SEU CÓDIGO AQUI!"
   ]
  },
  {
   "cell_type": "markdown",
   "metadata": {},
   "source": [
    "## Desafio\n",
    "\n",
    "Encontre a alocação com menor risco possível, respeitando o limite de produtividade de cada agricultor."
   ]
  },
  {
   "cell_type": "code",
   "execution_count": null,
   "metadata": {},
   "outputs": [],
   "source": [
    "# SEU CÓDIGO AQUI!"
   ]
  }
 ],
 "metadata": {
  "kernelspec": {
   "display_name": "Python 3 (ipykernel)",
   "language": "python",
   "name": "python3"
  },
  "language_info": {
   "codemirror_mode": {
    "name": "ipython",
    "version": 3
   },
   "file_extension": ".py",
   "mimetype": "text/x-python",
   "name": "python",
   "nbconvert_exporter": "python",
   "pygments_lexer": "ipython3",
   "version": "3.9.13"
  },
  "toc": {
   "base_numbering": 1,
   "nav_menu": {},
   "number_sections": true,
   "sideBar": true,
   "skip_h1_title": false,
   "title_cell": "Table of Contents",
   "title_sidebar": "Contents",
   "toc_cell": false,
   "toc_position": {},
   "toc_section_display": true,
   "toc_window_display": false
  },
  "vscode": {
   "interpreter": {
    "hash": "014f4a4a5af8f0104b12c029e500f4146d6d785e8cf714d2a35b7a9514230cd3"
   }
  }
 },
 "nbformat": 4,
 "nbformat_minor": 2
}
