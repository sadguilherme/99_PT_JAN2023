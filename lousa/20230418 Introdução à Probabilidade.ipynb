{
 "cells": [
  {
   "cell_type": "code",
   "execution_count": 1,
   "id": "ac996f6f",
   "metadata": {},
   "outputs": [],
   "source": [
    "import numpy as np"
   ]
  },
  {
   "cell_type": "code",
   "execution_count": 7,
   "id": "040456c5",
   "metadata": {},
   "outputs": [
    {
     "data": {
      "text/plain": [
       "0.3486459979766062"
      ]
     },
     "execution_count": 7,
     "metadata": {},
     "output_type": "execute_result"
    }
   ],
   "source": [
    "np.random.random()"
   ]
  },
  {
   "cell_type": "markdown",
   "id": "cabbdfed",
   "metadata": {},
   "source": [
    "# SIMULAÇÃO DE MONTE CARLO"
   ]
  },
  {
   "cell_type": "code",
   "execution_count": 32,
   "id": "a6b4c072",
   "metadata": {},
   "outputs": [
    {
     "data": {
      "text/plain": [
       "'Cara'"
      ]
     },
     "execution_count": 32,
     "metadata": {},
     "output_type": "execute_result"
    }
   ],
   "source": [
    "jogar_moeda()"
   ]
  },
  {
   "cell_type": "code",
   "execution_count": 33,
   "id": "71870840",
   "metadata": {},
   "outputs": [],
   "source": [
    "lances_moeda = [jogar_moeda() for i in range(10000)]"
   ]
  },
  {
   "cell_type": "code",
   "execution_count": 34,
   "id": "2c41f39b",
   "metadata": {},
   "outputs": [
    {
     "data": {
      "text/plain": [
       "['Cara',\n",
       " 'Cara',\n",
       " 'Coroa',\n",
       " 'Cara',\n",
       " 'Coroa',\n",
       " 'Cara',\n",
       " 'Cara',\n",
       " 'Cara',\n",
       " 'Cara',\n",
       " 'Cara']"
      ]
     },
     "execution_count": 34,
     "metadata": {},
     "output_type": "execute_result"
    }
   ],
   "source": [
    "lances_moeda[0:10]"
   ]
  },
  {
   "cell_type": "code",
   "execution_count": 45,
   "id": "3a32e322",
   "metadata": {},
   "outputs": [],
   "source": [
    "def jogar_moeda():\n",
    "    if np.random.random() > 0.5:\n",
    "        return \"Cara\"\n",
    "    else:\n",
    "        return \"Coroa\"\n",
    "    \n",
    "def jogar_varias_moedas(n):\n",
    "    return [jogar_moeda() for i in range(n)]\n",
    "\n",
    "def jogar_varias_moedas_varias_vezes(n, i):\n",
    "    lista_lances = [jogar_varias_moedas(n) for j in range(i)]\n",
    "    lista_resultados = [(lista.count('Cara'), lista.count('Coroa')) for lista in lista_lances]\n",
    "    return lista_resultados"
   ]
  },
  {
   "cell_type": "code",
   "execution_count": 46,
   "id": "59518193",
   "metadata": {},
   "outputs": [
    {
     "data": {
      "text/plain": [
       "2"
      ]
     },
     "execution_count": 46,
     "metadata": {},
     "output_type": "execute_result"
    }
   ],
   "source": [
    "jogar_varias_moedas(3).count('Cara')"
   ]
  },
  {
   "cell_type": "code",
   "execution_count": 68,
   "id": "8f3d618e",
   "metadata": {},
   "outputs": [],
   "source": [
    "res = jogar_varias_moedas_varias_vezes(3,10)"
   ]
  },
  {
   "cell_type": "code",
   "execution_count": 69,
   "id": "c13aa7ff",
   "metadata": {},
   "outputs": [
    {
     "data": {
      "text/plain": [
       "1255"
      ]
     },
     "execution_count": 69,
     "metadata": {},
     "output_type": "execute_result"
    }
   ],
   "source": [
    "len([(cara, coroa) for cara, coroa in res if cara == 0])"
   ]
  },
  {
   "cell_type": "code",
   "execution_count": null,
   "id": "fe8a670f",
   "metadata": {},
   "outputs": [],
   "source": []
  }
 ],
 "metadata": {
  "kernelspec": {
   "display_name": "Python 3 (ipykernel)",
   "language": "python",
   "name": "python3"
  },
  "language_info": {
   "codemirror_mode": {
    "name": "ipython",
    "version": 3
   },
   "file_extension": ".py",
   "mimetype": "text/x-python",
   "name": "python",
   "nbconvert_exporter": "python",
   "pygments_lexer": "ipython3",
   "version": "3.9.13"
  },
  "toc": {
   "base_numbering": 1,
   "nav_menu": {},
   "number_sections": true,
   "sideBar": true,
   "skip_h1_title": false,
   "title_cell": "Table of Contents",
   "title_sidebar": "Contents",
   "toc_cell": false,
   "toc_position": {},
   "toc_section_display": true,
   "toc_window_display": false
  }
 },
 "nbformat": 4,
 "nbformat_minor": 5
}
