{
  "nbformat": 4,
  "nbformat_minor": 0,
  "metadata": {
    "colab": {
      "provenance": [],
      "authorship_tag": "ABX9TyOojcPwcBR1YagwR7hxsRnF",
      "include_colab_link": true
    },
    "kernelspec": {
      "name": "python3",
      "display_name": "Python 3"
    },
    "language_info": {
      "name": "python"
    }
  },
  "cells": [
    {
      "cell_type": "markdown",
      "metadata": {
        "id": "view-in-github",
        "colab_type": "text"
      },
      "source": [
        "<a href=\"https://colab.research.google.com/github/pedroteche-ih/99_PT_JAN2023/blob/main/projeto/Exemplo%20Colab.ipynb\" target=\"_parent\"><img src=\"https://colab.research.google.com/assets/colab-badge.svg\" alt=\"Open In Colab\"/></a>"
      ]
    },
    {
      "cell_type": "markdown",
      "source": [
        "# Conectando Colab ao Google Drive"
      ],
      "metadata": {
        "id": "UQaLCqV-6zUZ"
      }
    },
    {
      "cell_type": "code",
      "execution_count": 1,
      "metadata": {
        "colab": {
          "base_uri": "https://localhost:8080/"
        },
        "id": "ULcM8QkW6eVA",
        "outputId": "2d92f2cc-f812-418a-ce3f-96a841f57910"
      },
      "outputs": [
        {
          "output_type": "stream",
          "name": "stdout",
          "text": [
            "Mounted at /content/drive\n"
          ]
        }
      ],
      "source": [
        "from google.colab import drive\n",
        "\n",
        "drive.mount(\"/content/drive\")"
      ]
    },
    {
      "cell_type": "markdown",
      "source": [
        "# Copiando o arquivo `.zip` do Drive para VM"
      ],
      "metadata": {
        "id": "ZGMr0vrE8qbQ"
      }
    },
    {
      "cell_type": "code",
      "source": [
        "!mkdir 'data'\n",
        "!cp -r 'caminho_para_sua_pasta_no_drive/nome_do_arquivo.zip' 'data'"
      ],
      "metadata": {
        "id": "gII5EDFu82tY"
      },
      "execution_count": null,
      "outputs": []
    },
    {
      "cell_type": "markdown",
      "source": [
        "# Extrair arquivo `.zip`"
      ],
      "metadata": {
        "id": "e0sRsoc57eoN"
      }
    },
    {
      "cell_type": "code",
      "source": [
        "%cd 'data'\n",
        "!unzip seu_nome_arquivo.zip"
      ],
      "metadata": {
        "id": "bruXSwsr60i3"
      },
      "execution_count": null,
      "outputs": []
    }
  ]
}